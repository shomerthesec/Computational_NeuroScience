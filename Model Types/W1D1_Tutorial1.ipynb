{
  "nbformat": 4,
  "nbformat_minor": 0,
  "metadata": {
    "colab": {
      "name": "W1D1_Tutorial1",
      "provenance": [],
      "collapsed_sections": []
    },
    "kernel": {
      "display_name": "Python 3",
      "language": "python",
      "name": "python3"
    },
    "kernelspec": {
      "display_name": "Python 3",
      "name": "python3"
    },
    "language_info": {
      "codemirror_mode": {
        "name": "ipython",
        "version": 3
      },
      "file_extension": ".py",
      "mimetype": "text/x-python",
      "name": "python",
      "nbconvert_exporter": "python",
      "pygments_lexer": "ipython3",
      "version": "3.7.10"
    },
    "widgets": {
      "application/vnd.jupyter.widget-state+json": {
        "8d3c9244feb7439abf33f462159784d3": {
          "model_module": "@jupyter-widgets/controls",
          "model_name": "TabModel",
          "state": {
            "_view_name": "TabView",
            "_dom_classes": [],
            "_titles": {
              "0": "Youtube",
              "1": "Bilibili"
            },
            "_model_name": "TabModel",
            "_view_module": "@jupyter-widgets/controls",
            "selected_index": 0,
            "_model_module_version": "1.5.0",
            "_view_count": null,
            "_view_module_version": "1.5.0",
            "box_style": "",
            "layout": "IPY_MODEL_fa0f409725154d09a35a26cf50d105ea",
            "_model_module": "@jupyter-widgets/controls",
            "children": [
              "IPY_MODEL_1ca41d1e23054f87ae0acf819327951d",
              "IPY_MODEL_f9da1382c2af4c22a8855128d51b5dcf"
            ]
          }
        },
        "fa0f409725154d09a35a26cf50d105ea": {
          "model_module": "@jupyter-widgets/base",
          "model_name": "LayoutModel",
          "state": {
            "_view_name": "LayoutView",
            "grid_template_rows": null,
            "right": null,
            "justify_content": null,
            "_view_module": "@jupyter-widgets/base",
            "overflow": null,
            "_model_module_version": "1.2.0",
            "_view_count": null,
            "flex_flow": null,
            "width": null,
            "min_width": null,
            "border": null,
            "align_items": null,
            "bottom": null,
            "_model_module": "@jupyter-widgets/base",
            "top": null,
            "grid_column": null,
            "overflow_y": null,
            "overflow_x": null,
            "grid_auto_flow": null,
            "grid_area": null,
            "grid_template_columns": null,
            "flex": null,
            "_model_name": "LayoutModel",
            "justify_items": null,
            "grid_row": null,
            "max_height": null,
            "align_content": null,
            "visibility": null,
            "align_self": null,
            "height": null,
            "min_height": null,
            "padding": null,
            "grid_auto_rows": null,
            "grid_gap": null,
            "max_width": null,
            "order": null,
            "_view_module_version": "1.2.0",
            "grid_template_areas": null,
            "object_position": null,
            "object_fit": null,
            "grid_auto_columns": null,
            "margin": null,
            "display": null,
            "left": null
          }
        },
        "1ca41d1e23054f87ae0acf819327951d": {
          "model_module": "@jupyter-widgets/output",
          "model_name": "OutputModel",
          "state": {
            "_view_name": "OutputView",
            "msg_id": "",
            "_dom_classes": [],
            "_model_name": "OutputModel",
            "outputs": [
              {
                "output_type": "stream",
                "metadata": {
                  "tags": []
                },
                "text": "Video available at https://youtube.com/watch?v=KgqR_jbjMQg\n",
                "stream": "stdout"
              },
              {
                "output_type": "display_data",
                "metadata": {
                  "tags": []
                },
                "text/html": "\n        <iframe\n            width=\"854\"\n            height=\"480\"\n            src=\"https://www.youtube.com/embed/KgqR_jbjMQg?fs=1&rel=0\"\n            frameborder=\"0\"\n            allowfullscreen\n        ></iframe>\n        ",
                "text/plain": "<IPython.lib.display.YouTubeVideo at 0x7f2d4d8bf810>",
                "image/jpeg": "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\n"
              }
            ],
            "_view_module": "@jupyter-widgets/output",
            "_model_module_version": "1.0.0",
            "_view_count": null,
            "_view_module_version": "1.0.0",
            "layout": "IPY_MODEL_b7d8a197028b4f2593b71b9512a90282",
            "_model_module": "@jupyter-widgets/output"
          }
        },
        "f9da1382c2af4c22a8855128d51b5dcf": {
          "model_module": "@jupyter-widgets/output",
          "model_name": "OutputModel",
          "state": {
            "_view_name": "OutputView",
            "msg_id": "",
            "_dom_classes": [],
            "_model_name": "OutputModel",
            "outputs": [
              {
                "output_type": "stream",
                "metadata": {
                  "tags": []
                },
                "text": "Video available at https://www.bilibili.com/video/BV1mz4y1X7ot\n",
                "stream": "stdout"
              },
              {
                "output_type": "display_data",
                "metadata": {
                  "tags": []
                },
                "text/html": "\n        <iframe\n            width=\"854\"\n            height=\"480\"\n            src=\"https://player.bilibili.com/player.html?bvid=BV1mz4y1X7ot&page=1?fs=1\"\n            frameborder=\"0\"\n            allowfullscreen\n        ></iframe>\n        ",
                "text/plain": "<__main__.BiliVideo at 0x7f2d4d866fd0>"
              }
            ],
            "_view_module": "@jupyter-widgets/output",
            "_model_module_version": "1.0.0",
            "_view_count": null,
            "_view_module_version": "1.0.0",
            "layout": "IPY_MODEL_e1980045f98640d69c73934e49b0ddde",
            "_model_module": "@jupyter-widgets/output"
          }
        },
        "b7d8a197028b4f2593b71b9512a90282": {
          "model_module": "@jupyter-widgets/base",
          "model_name": "LayoutModel",
          "state": {
            "_view_name": "LayoutView",
            "grid_template_rows": null,
            "right": null,
            "justify_content": null,
            "_view_module": "@jupyter-widgets/base",
            "overflow": null,
            "_model_module_version": "1.2.0",
            "_view_count": null,
            "flex_flow": null,
            "width": null,
            "min_width": null,
            "border": null,
            "align_items": null,
            "bottom": null,
            "_model_module": "@jupyter-widgets/base",
            "top": null,
            "grid_column": null,
            "overflow_y": null,
            "overflow_x": null,
            "grid_auto_flow": null,
            "grid_area": null,
            "grid_template_columns": null,
            "flex": null,
            "_model_name": "LayoutModel",
            "justify_items": null,
            "grid_row": null,
            "max_height": null,
            "align_content": null,
            "visibility": null,
            "align_self": null,
            "height": null,
            "min_height": null,
            "padding": null,
            "grid_auto_rows": null,
            "grid_gap": null,
            "max_width": null,
            "order": null,
            "_view_module_version": "1.2.0",
            "grid_template_areas": null,
            "object_position": null,
            "object_fit": null,
            "grid_auto_columns": null,
            "margin": null,
            "display": null,
            "left": null
          }
        },
        "e1980045f98640d69c73934e49b0ddde": {
          "model_module": "@jupyter-widgets/base",
          "model_name": "LayoutModel",
          "state": {
            "_view_name": "LayoutView",
            "grid_template_rows": null,
            "right": null,
            "justify_content": null,
            "_view_module": "@jupyter-widgets/base",
            "overflow": null,
            "_model_module_version": "1.2.0",
            "_view_count": null,
            "flex_flow": null,
            "width": null,
            "min_width": null,
            "border": null,
            "align_items": null,
            "bottom": null,
            "_model_module": "@jupyter-widgets/base",
            "top": null,
            "grid_column": null,
            "overflow_y": null,
            "overflow_x": null,
            "grid_auto_flow": null,
            "grid_area": null,
            "grid_template_columns": null,
            "flex": null,
            "_model_name": "LayoutModel",
            "justify_items": null,
            "grid_row": null,
            "max_height": null,
            "align_content": null,
            "visibility": null,
            "align_self": null,
            "height": null,
            "min_height": null,
            "padding": null,
            "grid_auto_rows": null,
            "grid_gap": null,
            "max_width": null,
            "order": null,
            "_view_module_version": "1.2.0",
            "grid_template_areas": null,
            "object_position": null,
            "object_fit": null,
            "grid_auto_columns": null,
            "margin": null,
            "display": null,
            "left": null
          }
        },
        "8688ce3d1c9a43f8b4939680d61d1387": {
          "model_module": "@jupyter-widgets/controls",
          "model_name": "TabModel",
          "state": {
            "_view_name": "TabView",
            "_dom_classes": [],
            "_titles": {
              "0": "Youtube",
              "1": "Bilibili"
            },
            "_model_name": "TabModel",
            "_view_module": "@jupyter-widgets/controls",
            "selected_index": 0,
            "_model_module_version": "1.5.0",
            "_view_count": null,
            "_view_module_version": "1.5.0",
            "box_style": "",
            "layout": "IPY_MODEL_31d5ba1de87d4361b636b13ee871628f",
            "_model_module": "@jupyter-widgets/controls",
            "children": [
              "IPY_MODEL_71a46a440a904f64920635b112061191",
              "IPY_MODEL_5ae402fb5a03492cabf295e47374c717"
            ]
          }
        },
        "31d5ba1de87d4361b636b13ee871628f": {
          "model_module": "@jupyter-widgets/base",
          "model_name": "LayoutModel",
          "state": {
            "_view_name": "LayoutView",
            "grid_template_rows": null,
            "right": null,
            "justify_content": null,
            "_view_module": "@jupyter-widgets/base",
            "overflow": null,
            "_model_module_version": "1.2.0",
            "_view_count": null,
            "flex_flow": null,
            "width": null,
            "min_width": null,
            "border": null,
            "align_items": null,
            "bottom": null,
            "_model_module": "@jupyter-widgets/base",
            "top": null,
            "grid_column": null,
            "overflow_y": null,
            "overflow_x": null,
            "grid_auto_flow": null,
            "grid_area": null,
            "grid_template_columns": null,
            "flex": null,
            "_model_name": "LayoutModel",
            "justify_items": null,
            "grid_row": null,
            "max_height": null,
            "align_content": null,
            "visibility": null,
            "align_self": null,
            "height": null,
            "min_height": null,
            "padding": null,
            "grid_auto_rows": null,
            "grid_gap": null,
            "max_width": null,
            "order": null,
            "_view_module_version": "1.2.0",
            "grid_template_areas": null,
            "object_position": null,
            "object_fit": null,
            "grid_auto_columns": null,
            "margin": null,
            "display": null,
            "left": null
          }
        },
        "71a46a440a904f64920635b112061191": {
          "model_module": "@jupyter-widgets/output",
          "model_name": "OutputModel",
          "state": {
            "_view_name": "OutputView",
            "msg_id": "",
            "_dom_classes": [],
            "_model_name": "OutputModel",
            "outputs": [
              {
                "output_type": "stream",
                "metadata": {
                  "tags": []
                },
                "text": "Video available at https://youtube.com/watch?v=oHwYWUI_o1U\n",
                "stream": "stdout"
              },
              {
                "output_type": "display_data",
                "metadata": {
                  "tags": []
                },
                "text/html": "\n        <iframe\n            width=\"854\"\n            height=\"480\"\n            src=\"https://www.youtube.com/embed/oHwYWUI_o1U?fs=1&rel=0\"\n            frameborder=\"0\"\n            allowfullscreen\n        ></iframe>\n        ",
                "text/plain": "<IPython.lib.display.YouTubeVideo at 0x7f2d534386d0>",
                "image/jpeg": "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\n"
              }
            ],
            "_view_module": "@jupyter-widgets/output",
            "_model_module_version": "1.0.0",
            "_view_count": null,
            "_view_module_version": "1.0.0",
            "layout": "IPY_MODEL_572bd3efc65543a08972d6f82109c3c6",
            "_model_module": "@jupyter-widgets/output"
          }
        },
        "5ae402fb5a03492cabf295e47374c717": {
          "model_module": "@jupyter-widgets/output",
          "model_name": "OutputModel",
          "state": {
            "_view_name": "OutputView",
            "msg_id": "",
            "_dom_classes": [],
            "_model_name": "OutputModel",
            "outputs": [
              {
                "output_type": "stream",
                "metadata": {
                  "tags": []
                },
                "text": "Video available at https://www.bilibili.com/video/BV1Hp4y1S7Au\n",
                "stream": "stdout"
              },
              {
                "output_type": "display_data",
                "metadata": {
                  "tags": []
                },
                "text/html": "\n        <iframe\n            width=\"854\"\n            height=\"480\"\n            src=\"https://player.bilibili.com/player.html?bvid=BV1Hp4y1S7Au&page=1?fs=1\"\n            frameborder=\"0\"\n            allowfullscreen\n        ></iframe>\n        ",
                "text/plain": "<__main__.BiliVideo at 0x7f2d4d139a90>"
              }
            ],
            "_view_module": "@jupyter-widgets/output",
            "_model_module_version": "1.0.0",
            "_view_count": null,
            "_view_module_version": "1.0.0",
            "layout": "IPY_MODEL_87146e67006c4859abdc5f12a455a716",
            "_model_module": "@jupyter-widgets/output"
          }
        },
        "572bd3efc65543a08972d6f82109c3c6": {
          "model_module": "@jupyter-widgets/base",
          "model_name": "LayoutModel",
          "state": {
            "_view_name": "LayoutView",
            "grid_template_rows": null,
            "right": null,
            "justify_content": null,
            "_view_module": "@jupyter-widgets/base",
            "overflow": null,
            "_model_module_version": "1.2.0",
            "_view_count": null,
            "flex_flow": null,
            "width": null,
            "min_width": null,
            "border": null,
            "align_items": null,
            "bottom": null,
            "_model_module": "@jupyter-widgets/base",
            "top": null,
            "grid_column": null,
            "overflow_y": null,
            "overflow_x": null,
            "grid_auto_flow": null,
            "grid_area": null,
            "grid_template_columns": null,
            "flex": null,
            "_model_name": "LayoutModel",
            "justify_items": null,
            "grid_row": null,
            "max_height": null,
            "align_content": null,
            "visibility": null,
            "align_self": null,
            "height": null,
            "min_height": null,
            "padding": null,
            "grid_auto_rows": null,
            "grid_gap": null,
            "max_width": null,
            "order": null,
            "_view_module_version": "1.2.0",
            "grid_template_areas": null,
            "object_position": null,
            "object_fit": null,
            "grid_auto_columns": null,
            "margin": null,
            "display": null,
            "left": null
          }
        },
        "87146e67006c4859abdc5f12a455a716": {
          "model_module": "@jupyter-widgets/base",
          "model_name": "LayoutModel",
          "state": {
            "_view_name": "LayoutView",
            "grid_template_rows": null,
            "right": null,
            "justify_content": null,
            "_view_module": "@jupyter-widgets/base",
            "overflow": null,
            "_model_module_version": "1.2.0",
            "_view_count": null,
            "flex_flow": null,
            "width": null,
            "min_width": null,
            "border": null,
            "align_items": null,
            "bottom": null,
            "_model_module": "@jupyter-widgets/base",
            "top": null,
            "grid_column": null,
            "overflow_y": null,
            "overflow_x": null,
            "grid_auto_flow": null,
            "grid_area": null,
            "grid_template_columns": null,
            "flex": null,
            "_model_name": "LayoutModel",
            "justify_items": null,
            "grid_row": null,
            "max_height": null,
            "align_content": null,
            "visibility": null,
            "align_self": null,
            "height": null,
            "min_height": null,
            "padding": null,
            "grid_auto_rows": null,
            "grid_gap": null,
            "max_width": null,
            "order": null,
            "_view_module_version": "1.2.0",
            "grid_template_areas": null,
            "object_position": null,
            "object_fit": null,
            "grid_auto_columns": null,
            "margin": null,
            "display": null,
            "left": null
          }
        },
        "d8be890f32eb4d689940af3c832cd5f7": {
          "model_module": "@jupyter-widgets/controls",
          "model_name": "TabModel",
          "state": {
            "_view_name": "TabView",
            "_dom_classes": [],
            "_titles": {
              "0": "Youtube",
              "1": "Bilibili"
            },
            "_model_name": "TabModel",
            "_view_module": "@jupyter-widgets/controls",
            "selected_index": 0,
            "_model_module_version": "1.5.0",
            "_view_count": null,
            "_view_module_version": "1.5.0",
            "box_style": "",
            "layout": "IPY_MODEL_bd9392a0a6de426c8577803a0133499c",
            "_model_module": "@jupyter-widgets/controls",
            "children": [
              "IPY_MODEL_afba835e968648efb508527417fe406c",
              "IPY_MODEL_8137ac64c2f04ecfb6b472d18094c437"
            ]
          }
        },
        "bd9392a0a6de426c8577803a0133499c": {
          "model_module": "@jupyter-widgets/base",
          "model_name": "LayoutModel",
          "state": {
            "_view_name": "LayoutView",
            "grid_template_rows": null,
            "right": null,
            "justify_content": null,
            "_view_module": "@jupyter-widgets/base",
            "overflow": null,
            "_model_module_version": "1.2.0",
            "_view_count": null,
            "flex_flow": null,
            "width": null,
            "min_width": null,
            "border": null,
            "align_items": null,
            "bottom": null,
            "_model_module": "@jupyter-widgets/base",
            "top": null,
            "grid_column": null,
            "overflow_y": null,
            "overflow_x": null,
            "grid_auto_flow": null,
            "grid_area": null,
            "grid_template_columns": null,
            "flex": null,
            "_model_name": "LayoutModel",
            "justify_items": null,
            "grid_row": null,
            "max_height": null,
            "align_content": null,
            "visibility": null,
            "align_self": null,
            "height": null,
            "min_height": null,
            "padding": null,
            "grid_auto_rows": null,
            "grid_gap": null,
            "max_width": null,
            "order": null,
            "_view_module_version": "1.2.0",
            "grid_template_areas": null,
            "object_position": null,
            "object_fit": null,
            "grid_auto_columns": null,
            "margin": null,
            "display": null,
            "left": null
          }
        },
        "afba835e968648efb508527417fe406c": {
          "model_module": "@jupyter-widgets/output",
          "model_name": "OutputModel",
          "state": {
            "_view_name": "OutputView",
            "msg_id": "",
            "_dom_classes": [],
            "_model_name": "OutputModel",
            "outputs": [
              {
                "output_type": "stream",
                "metadata": {
                  "tags": []
                },
                "text": "Video available at https://youtube.com/watch?v=QGA5FCW7kkA\n",
                "stream": "stdout"
              },
              {
                "output_type": "display_data",
                "metadata": {
                  "tags": []
                },
                "text/html": "\n        <iframe\n            width=\"854\"\n            height=\"480\"\n            src=\"https://www.youtube.com/embed/QGA5FCW7kkA?fs=1&rel=0\"\n            frameborder=\"0\"\n            allowfullscreen\n        ></iframe>\n        ",
                "text/plain": "<IPython.lib.display.YouTubeVideo at 0x7f2d4d173fd0>",
                "image/jpeg": "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\n"
              }
            ],
            "_view_module": "@jupyter-widgets/output",
            "_model_module_version": "1.0.0",
            "_view_count": null,
            "_view_module_version": "1.0.0",
            "layout": "IPY_MODEL_ca2a01057d0b499db780a9098984925b",
            "_model_module": "@jupyter-widgets/output"
          }
        },
        "8137ac64c2f04ecfb6b472d18094c437": {
          "model_module": "@jupyter-widgets/output",
          "model_name": "OutputModel",
          "state": {
            "_view_name": "OutputView",
            "msg_id": "",
            "_dom_classes": [],
            "_model_name": "OutputModel",
            "outputs": [
              {
                "output_type": "stream",
                "metadata": {
                  "tags": []
                },
                "text": "Video available at https://www.bilibili.com/video/BV1dt4y1Q7C5\n",
                "stream": "stdout"
              },
              {
                "output_type": "display_data",
                "metadata": {
                  "tags": []
                },
                "text/html": "\n        <iframe\n            width=\"854\"\n            height=\"480\"\n            src=\"https://player.bilibili.com/player.html?bvid=BV1dt4y1Q7C5&page=1?fs=1\"\n            frameborder=\"0\"\n            allowfullscreen\n        ></iframe>\n        ",
                "text/plain": "<__main__.BiliVideo at 0x7f2d4460a250>"
              }
            ],
            "_view_module": "@jupyter-widgets/output",
            "_model_module_version": "1.0.0",
            "_view_count": null,
            "_view_module_version": "1.0.0",
            "layout": "IPY_MODEL_ca78336e35ef44db884776c84752c7b2",
            "_model_module": "@jupyter-widgets/output"
          }
        },
        "ca2a01057d0b499db780a9098984925b": {
          "model_module": "@jupyter-widgets/base",
          "model_name": "LayoutModel",
          "state": {
            "_view_name": "LayoutView",
            "grid_template_rows": null,
            "right": null,
            "justify_content": null,
            "_view_module": "@jupyter-widgets/base",
            "overflow": null,
            "_model_module_version": "1.2.0",
            "_view_count": null,
            "flex_flow": null,
            "width": null,
            "min_width": null,
            "border": null,
            "align_items": null,
            "bottom": null,
            "_model_module": "@jupyter-widgets/base",
            "top": null,
            "grid_column": null,
            "overflow_y": null,
            "overflow_x": null,
            "grid_auto_flow": null,
            "grid_area": null,
            "grid_template_columns": null,
            "flex": null,
            "_model_name": "LayoutModel",
            "justify_items": null,
            "grid_row": null,
            "max_height": null,
            "align_content": null,
            "visibility": null,
            "align_self": null,
            "height": null,
            "min_height": null,
            "padding": null,
            "grid_auto_rows": null,
            "grid_gap": null,
            "max_width": null,
            "order": null,
            "_view_module_version": "1.2.0",
            "grid_template_areas": null,
            "object_position": null,
            "object_fit": null,
            "grid_auto_columns": null,
            "margin": null,
            "display": null,
            "left": null
          }
        },
        "ca78336e35ef44db884776c84752c7b2": {
          "model_module": "@jupyter-widgets/base",
          "model_name": "LayoutModel",
          "state": {
            "_view_name": "LayoutView",
            "grid_template_rows": null,
            "right": null,
            "justify_content": null,
            "_view_module": "@jupyter-widgets/base",
            "overflow": null,
            "_model_module_version": "1.2.0",
            "_view_count": null,
            "flex_flow": null,
            "width": null,
            "min_width": null,
            "border": null,
            "align_items": null,
            "bottom": null,
            "_model_module": "@jupyter-widgets/base",
            "top": null,
            "grid_column": null,
            "overflow_y": null,
            "overflow_x": null,
            "grid_auto_flow": null,
            "grid_area": null,
            "grid_template_columns": null,
            "flex": null,
            "_model_name": "LayoutModel",
            "justify_items": null,
            "grid_row": null,
            "max_height": null,
            "align_content": null,
            "visibility": null,
            "align_self": null,
            "height": null,
            "min_height": null,
            "padding": null,
            "grid_auto_rows": null,
            "grid_gap": null,
            "max_width": null,
            "order": null,
            "_view_module_version": "1.2.0",
            "grid_template_areas": null,
            "object_position": null,
            "object_fit": null,
            "grid_auto_columns": null,
            "margin": null,
            "display": null,
            "left": null
          }
        },
        "f57a2c2e7d9b4a5c8aea0d7123e794b6": {
          "model_module": "@jupyter-widgets/controls",
          "model_name": "TabModel",
          "state": {
            "_view_name": "TabView",
            "_dom_classes": [],
            "_titles": {
              "0": "Youtube",
              "1": "Bilibili"
            },
            "_model_name": "TabModel",
            "_view_module": "@jupyter-widgets/controls",
            "selected_index": 0,
            "_model_module_version": "1.5.0",
            "_view_count": null,
            "_view_module_version": "1.5.0",
            "box_style": "",
            "layout": "IPY_MODEL_31357b3dd4be415f84ed7124157f2bda",
            "_model_module": "@jupyter-widgets/controls",
            "children": [
              "IPY_MODEL_c2512afc8aaf456f831abaca5b0bf096",
              "IPY_MODEL_e0b4f018668b4c29964a53fcc1035952"
            ]
          }
        },
        "31357b3dd4be415f84ed7124157f2bda": {
          "model_module": "@jupyter-widgets/base",
          "model_name": "LayoutModel",
          "state": {
            "_view_name": "LayoutView",
            "grid_template_rows": null,
            "right": null,
            "justify_content": null,
            "_view_module": "@jupyter-widgets/base",
            "overflow": null,
            "_model_module_version": "1.2.0",
            "_view_count": null,
            "flex_flow": null,
            "width": null,
            "min_width": null,
            "border": null,
            "align_items": null,
            "bottom": null,
            "_model_module": "@jupyter-widgets/base",
            "top": null,
            "grid_column": null,
            "overflow_y": null,
            "overflow_x": null,
            "grid_auto_flow": null,
            "grid_area": null,
            "grid_template_columns": null,
            "flex": null,
            "_model_name": "LayoutModel",
            "justify_items": null,
            "grid_row": null,
            "max_height": null,
            "align_content": null,
            "visibility": null,
            "align_self": null,
            "height": null,
            "min_height": null,
            "padding": null,
            "grid_auto_rows": null,
            "grid_gap": null,
            "max_width": null,
            "order": null,
            "_view_module_version": "1.2.0",
            "grid_template_areas": null,
            "object_position": null,
            "object_fit": null,
            "grid_auto_columns": null,
            "margin": null,
            "display": null,
            "left": null
          }
        },
        "c2512afc8aaf456f831abaca5b0bf096": {
          "model_module": "@jupyter-widgets/output",
          "model_name": "OutputModel",
          "state": {
            "_view_name": "OutputView",
            "msg_id": "",
            "_dom_classes": [],
            "_model_name": "OutputModel",
            "outputs": [
              {
                "output_type": "stream",
                "metadata": {
                  "tags": []
                },
                "text": "Video available at https://youtube.com/watch?v=DHhM80MOTe8\n",
                "stream": "stdout"
              },
              {
                "output_type": "display_data",
                "metadata": {
                  "tags": []
                },
                "text/html": "\n        <iframe\n            width=\"854\"\n            height=\"480\"\n            src=\"https://www.youtube.com/embed/DHhM80MOTe8?fs=1&rel=0\"\n            frameborder=\"0\"\n            allowfullscreen\n        ></iframe>\n        ",
                "text/plain": "<IPython.lib.display.YouTubeVideo at 0x7f2d4d173fd0>",
                "image/jpeg": "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\n"
              }
            ],
            "_view_module": "@jupyter-widgets/output",
            "_model_module_version": "1.0.0",
            "_view_count": null,
            "_view_module_version": "1.0.0",
            "layout": "IPY_MODEL_c8980d48221345dfb048ca35aa072af1",
            "_model_module": "@jupyter-widgets/output"
          }
        },
        "e0b4f018668b4c29964a53fcc1035952": {
          "model_module": "@jupyter-widgets/output",
          "model_name": "OutputModel",
          "state": {
            "_view_name": "OutputView",
            "msg_id": "",
            "_dom_classes": [],
            "_model_name": "OutputModel",
            "outputs": [
              {
                "output_type": "stream",
                "metadata": {
                  "tags": []
                },
                "text": "Video available at https://www.bilibili.com/video/BV1ov411B7Pm\n",
                "stream": "stdout"
              },
              {
                "output_type": "display_data",
                "metadata": {
                  "tags": []
                },
                "text/html": "\n        <iframe\n            width=\"854\"\n            height=\"480\"\n            src=\"https://player.bilibili.com/player.html?bvid=BV1ov411B7Pm&page=1?fs=1\"\n            frameborder=\"0\"\n            allowfullscreen\n        ></iframe>\n        ",
                "text/plain": "<__main__.BiliVideo at 0x7f2d44a47a10>"
              }
            ],
            "_view_module": "@jupyter-widgets/output",
            "_model_module_version": "1.0.0",
            "_view_count": null,
            "_view_module_version": "1.0.0",
            "layout": "IPY_MODEL_275a6ba83c254cd7bc8519a1cd8d95a7",
            "_model_module": "@jupyter-widgets/output"
          }
        },
        "c8980d48221345dfb048ca35aa072af1": {
          "model_module": "@jupyter-widgets/base",
          "model_name": "LayoutModel",
          "state": {
            "_view_name": "LayoutView",
            "grid_template_rows": null,
            "right": null,
            "justify_content": null,
            "_view_module": "@jupyter-widgets/base",
            "overflow": null,
            "_model_module_version": "1.2.0",
            "_view_count": null,
            "flex_flow": null,
            "width": null,
            "min_width": null,
            "border": null,
            "align_items": null,
            "bottom": null,
            "_model_module": "@jupyter-widgets/base",
            "top": null,
            "grid_column": null,
            "overflow_y": null,
            "overflow_x": null,
            "grid_auto_flow": null,
            "grid_area": null,
            "grid_template_columns": null,
            "flex": null,
            "_model_name": "LayoutModel",
            "justify_items": null,
            "grid_row": null,
            "max_height": null,
            "align_content": null,
            "visibility": null,
            "align_self": null,
            "height": null,
            "min_height": null,
            "padding": null,
            "grid_auto_rows": null,
            "grid_gap": null,
            "max_width": null,
            "order": null,
            "_view_module_version": "1.2.0",
            "grid_template_areas": null,
            "object_position": null,
            "object_fit": null,
            "grid_auto_columns": null,
            "margin": null,
            "display": null,
            "left": null
          }
        },
        "275a6ba83c254cd7bc8519a1cd8d95a7": {
          "model_module": "@jupyter-widgets/base",
          "model_name": "LayoutModel",
          "state": {
            "_view_name": "LayoutView",
            "grid_template_rows": null,
            "right": null,
            "justify_content": null,
            "_view_module": "@jupyter-widgets/base",
            "overflow": null,
            "_model_module_version": "1.2.0",
            "_view_count": null,
            "flex_flow": null,
            "width": null,
            "min_width": null,
            "border": null,
            "align_items": null,
            "bottom": null,
            "_model_module": "@jupyter-widgets/base",
            "top": null,
            "grid_column": null,
            "overflow_y": null,
            "overflow_x": null,
            "grid_auto_flow": null,
            "grid_area": null,
            "grid_template_columns": null,
            "flex": null,
            "_model_name": "LayoutModel",
            "justify_items": null,
            "grid_row": null,
            "max_height": null,
            "align_content": null,
            "visibility": null,
            "align_self": null,
            "height": null,
            "min_height": null,
            "padding": null,
            "grid_auto_rows": null,
            "grid_gap": null,
            "max_width": null,
            "order": null,
            "_view_module_version": "1.2.0",
            "grid_template_areas": null,
            "object_position": null,
            "object_fit": null,
            "grid_auto_columns": null,
            "margin": null,
            "display": null,
            "left": null
          }
        },
        "61e3866ecdc646da82968d49a161a924": {
          "model_module": "@jupyter-widgets/controls",
          "model_name": "VBoxModel",
          "state": {
            "_view_name": "VBoxView",
            "_dom_classes": [
              "widget-interact"
            ],
            "_model_name": "VBoxModel",
            "_view_module": "@jupyter-widgets/controls",
            "_model_module_version": "1.5.0",
            "_view_count": null,
            "_view_module_version": "1.5.0",
            "box_style": "",
            "layout": "IPY_MODEL_8ba51ad80ae44f9e9330eab7a4fbb7a9",
            "_model_module": "@jupyter-widgets/controls",
            "children": [
              "IPY_MODEL_66ffa643d36344a3ba81144a351def4c",
              "IPY_MODEL_437d1d21b21c466a81151bc8f8650f06",
              "IPY_MODEL_9aaceaa198664929aa364786ff71e14a",
              "IPY_MODEL_103d68ca18a644a6be626c9798f06d97",
              "IPY_MODEL_f54be492cf6047c88d06553733e55450",
              "IPY_MODEL_061c8d339c1242aaa871181c906776a2",
              "IPY_MODEL_81e7fe92589a4fa69872c98662f31884",
              "IPY_MODEL_e42fbe27ca614dd0994ea3b4211df144"
            ]
          }
        },
        "8ba51ad80ae44f9e9330eab7a4fbb7a9": {
          "model_module": "@jupyter-widgets/base",
          "model_name": "LayoutModel",
          "state": {
            "_view_name": "LayoutView",
            "grid_template_rows": null,
            "right": null,
            "justify_content": null,
            "_view_module": "@jupyter-widgets/base",
            "overflow": null,
            "_model_module_version": "1.2.0",
            "_view_count": null,
            "flex_flow": null,
            "width": null,
            "min_width": null,
            "border": null,
            "align_items": null,
            "bottom": null,
            "_model_module": "@jupyter-widgets/base",
            "top": null,
            "grid_column": null,
            "overflow_y": null,
            "overflow_x": null,
            "grid_auto_flow": null,
            "grid_area": null,
            "grid_template_columns": null,
            "flex": null,
            "_model_name": "LayoutModel",
            "justify_items": null,
            "grid_row": null,
            "max_height": null,
            "align_content": null,
            "visibility": null,
            "align_self": null,
            "height": null,
            "min_height": null,
            "padding": null,
            "grid_auto_rows": null,
            "grid_gap": null,
            "max_width": null,
            "order": null,
            "_view_module_version": "1.2.0",
            "grid_template_areas": null,
            "object_position": null,
            "object_fit": null,
            "grid_auto_columns": null,
            "margin": null,
            "display": null,
            "left": null
          }
        },
        "66ffa643d36344a3ba81144a351def4c": {
          "model_module": "@jupyter-widgets/controls",
          "model_name": "FloatSliderModel",
          "state": {
            "_view_name": "FloatSliderView",
            "style": "IPY_MODEL_d7df9db0432e4486b269912c1ac108fd",
            "_dom_classes": [],
            "description": "exp_scale",
            "step": 250,
            "_model_name": "FloatSliderModel",
            "orientation": "horizontal",
            "max": 20000,
            "_view_module": "@jupyter-widgets/controls",
            "_model_module_version": "1.5.0",
            "value": 1250,
            "_view_count": null,
            "disabled": false,
            "_view_module_version": "1.5.0",
            "min": 0,
            "continuous_update": true,
            "readout_format": ".2f",
            "description_tooltip": null,
            "readout": true,
            "_model_module": "@jupyter-widgets/controls",
            "layout": "IPY_MODEL_647a4417860c4dc28d8b0b78fbdd0c5b"
          }
        },
        "437d1d21b21c466a81151bc8f8650f06": {
          "model_module": "@jupyter-widgets/controls",
          "model_name": "FloatSliderModel",
          "state": {
            "_view_name": "FloatSliderView",
            "style": "IPY_MODEL_dd2c151db27a4980b347674bbc52278d",
            "_dom_classes": [],
            "description": "exp_rate",
            "step": 1,
            "_model_name": "FloatSliderModel",
            "orientation": "horizontal",
            "max": 50,
            "_view_module": "@jupyter-widgets/controls",
            "_model_module_version": "1.5.0",
            "value": -52,
            "_view_count": null,
            "disabled": false,
            "_view_module_version": "1.5.0",
            "min": -200,
            "continuous_update": true,
            "readout_format": ".2f",
            "description_tooltip": null,
            "readout": true,
            "_model_module": "@jupyter-widgets/controls",
            "layout": "IPY_MODEL_cf95b7d4ce9d4e6ca48d49fd8ecf240c"
          }
        },
        "9aaceaa198664929aa364786ff71e14a": {
          "model_module": "@jupyter-widgets/controls",
          "model_name": "FloatSliderModel",
          "state": {
            "_view_name": "FloatSliderView",
            "style": "IPY_MODEL_b6d3883579084ea7b4c0a0bf368a87d6",
            "_dom_classes": [],
            "description": "exp_x0",
            "step": 0.005,
            "_model_name": "FloatSliderModel",
            "orientation": "horizontal",
            "max": 0.5,
            "_view_module": "@jupyter-widgets/controls",
            "_model_module_version": "1.5.0",
            "value": 0.07,
            "_view_count": null,
            "disabled": false,
            "_view_module_version": "1.5.0",
            "min": -0.5,
            "continuous_update": true,
            "readout_format": ".2f",
            "description_tooltip": null,
            "readout": true,
            "_model_module": "@jupyter-widgets/controls",
            "layout": "IPY_MODEL_e9732ef35e324a3ba6c3e19c4030f527"
          }
        },
        "103d68ca18a644a6be626c9798f06d97": {
          "model_module": "@jupyter-widgets/controls",
          "model_name": "FloatSliderModel",
          "state": {
            "_view_name": "FloatSliderView",
            "style": "IPY_MODEL_6ac751bf6c6a40eca9eb0fda4a3b4a54",
            "_dom_classes": [],
            "description": "inv_scale",
            "step": 10,
            "_model_name": "FloatSliderModel",
            "orientation": "horizontal",
            "max": 300,
            "_view_module": "@jupyter-widgets/controls",
            "_model_module_version": "1.5.0",
            "value": 210,
            "_view_count": null,
            "disabled": false,
            "_view_module_version": "1.5.0",
            "min": 0,
            "continuous_update": true,
            "readout_format": ".2f",
            "description_tooltip": null,
            "readout": true,
            "_model_module": "@jupyter-widgets/controls",
            "layout": "IPY_MODEL_5e9145e6243b46629ec5018ffb009c30"
          }
        },
        "f54be492cf6047c88d06553733e55450": {
          "model_module": "@jupyter-widgets/controls",
          "model_name": "FloatSliderModel",
          "state": {
            "_view_name": "FloatSliderView",
            "style": "IPY_MODEL_f98ba0f4fb8841baa245626103f7e9bd",
            "_dom_classes": [],
            "description": "inv_x0",
            "step": 0.01,
            "_model_name": "FloatSliderModel",
            "orientation": "horizontal",
            "max": 0.2,
            "_view_module": "@jupyter-widgets/controls",
            "_model_module_version": "1.5.0",
            "value": -0.05,
            "_view_count": null,
            "disabled": false,
            "_view_module_version": "1.5.0",
            "min": -0.2,
            "continuous_update": true,
            "readout_format": ".2f",
            "description_tooltip": null,
            "readout": true,
            "_model_module": "@jupyter-widgets/controls",
            "layout": "IPY_MODEL_e41ae164e4c440b2aaf3183669615797"
          }
        },
        "061c8d339c1242aaa871181c906776a2": {
          "model_module": "@jupyter-widgets/controls",
          "model_name": "FloatSliderModel",
          "state": {
            "_view_name": "FloatSliderView",
            "style": "IPY_MODEL_f5c8e64eb24c4a159b69d6e502cd35a9",
            "_dom_classes": [],
            "description": "lin_slope",
            "step": 10000,
            "_model_name": "FloatSliderModel",
            "orientation": "horizontal",
            "max": 100000,
            "_view_module": "@jupyter-widgets/controls",
            "_model_module_version": "1.5.0",
            "value": -100000,
            "_view_count": null,
            "disabled": false,
            "_view_module_version": "1.5.0",
            "min": -600000,
            "continuous_update": true,
            "readout_format": ".2f",
            "description_tooltip": null,
            "readout": true,
            "_model_module": "@jupyter-widgets/controls",
            "layout": "IPY_MODEL_0c2a13af60ed4fdf941d41366987f20a"
          }
        },
        "81e7fe92589a4fa69872c98662f31884": {
          "model_module": "@jupyter-widgets/controls",
          "model_name": "FloatSliderModel",
          "state": {
            "_view_name": "FloatSliderView",
            "style": "IPY_MODEL_5f30b8a73ee44436a0bf58c3517cae27",
            "_dom_classes": [],
            "description": "lin_y0",
            "step": 1000,
            "_model_name": "FloatSliderModel",
            "orientation": "horizontal",
            "max": 40000,
            "_view_module": "@jupyter-widgets/controls",
            "_model_module_version": "1.5.0",
            "value": 10000,
            "_view_count": null,
            "disabled": false,
            "_view_module_version": "1.5.0",
            "min": 0,
            "continuous_update": true,
            "readout_format": ".2f",
            "description_tooltip": null,
            "readout": true,
            "_model_module": "@jupyter-widgets/controls",
            "layout": "IPY_MODEL_f92e071c4f90411ca14df3fda7fbc6e2"
          }
        },
        "e42fbe27ca614dd0994ea3b4211df144": {
          "model_module": "@jupyter-widgets/output",
          "model_name": "OutputModel",
          "state": {
            "_view_name": "OutputView",
            "msg_id": "",
            "_dom_classes": [],
            "_model_name": "OutputModel",
            "outputs": [
              {
                "output_type": "display_data",
                "metadata": {
                  "tags": [],
                  "image/png": {
                    "width": 558,
                    "height": 413
                  },
                  "needs_background": "light"
                },
                "image/png": "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\n",
                "text/plain": "<Figure size 576x432 with 1 Axes>"
              }
            ],
            "_view_module": "@jupyter-widgets/output",
            "_model_module_version": "1.0.0",
            "_view_count": null,
            "_view_module_version": "1.0.0",
            "layout": "IPY_MODEL_48ec94aae5834a1f8ac4dd4404970711",
            "_model_module": "@jupyter-widgets/output"
          }
        },
        "d7df9db0432e4486b269912c1ac108fd": {
          "model_module": "@jupyter-widgets/controls",
          "model_name": "SliderStyleModel",
          "state": {
            "_view_name": "StyleView",
            "handle_color": null,
            "_model_name": "SliderStyleModel",
            "description_width": "",
            "_view_module": "@jupyter-widgets/base",
            "_model_module_version": "1.5.0",
            "_view_count": null,
            "_view_module_version": "1.2.0",
            "_model_module": "@jupyter-widgets/controls"
          }
        },
        "647a4417860c4dc28d8b0b78fbdd0c5b": {
          "model_module": "@jupyter-widgets/base",
          "model_name": "LayoutModel",
          "state": {
            "_view_name": "LayoutView",
            "grid_template_rows": null,
            "right": null,
            "justify_content": null,
            "_view_module": "@jupyter-widgets/base",
            "overflow": null,
            "_model_module_version": "1.2.0",
            "_view_count": null,
            "flex_flow": null,
            "width": null,
            "min_width": null,
            "border": null,
            "align_items": null,
            "bottom": null,
            "_model_module": "@jupyter-widgets/base",
            "top": null,
            "grid_column": null,
            "overflow_y": null,
            "overflow_x": null,
            "grid_auto_flow": null,
            "grid_area": null,
            "grid_template_columns": null,
            "flex": null,
            "_model_name": "LayoutModel",
            "justify_items": null,
            "grid_row": null,
            "max_height": null,
            "align_content": null,
            "visibility": null,
            "align_self": null,
            "height": null,
            "min_height": null,
            "padding": null,
            "grid_auto_rows": null,
            "grid_gap": null,
            "max_width": null,
            "order": null,
            "_view_module_version": "1.2.0",
            "grid_template_areas": null,
            "object_position": null,
            "object_fit": null,
            "grid_auto_columns": null,
            "margin": null,
            "display": null,
            "left": null
          }
        },
        "dd2c151db27a4980b347674bbc52278d": {
          "model_module": "@jupyter-widgets/controls",
          "model_name": "SliderStyleModel",
          "state": {
            "_view_name": "StyleView",
            "handle_color": null,
            "_model_name": "SliderStyleModel",
            "description_width": "",
            "_view_module": "@jupyter-widgets/base",
            "_model_module_version": "1.5.0",
            "_view_count": null,
            "_view_module_version": "1.2.0",
            "_model_module": "@jupyter-widgets/controls"
          }
        },
        "cf95b7d4ce9d4e6ca48d49fd8ecf240c": {
          "model_module": "@jupyter-widgets/base",
          "model_name": "LayoutModel",
          "state": {
            "_view_name": "LayoutView",
            "grid_template_rows": null,
            "right": null,
            "justify_content": null,
            "_view_module": "@jupyter-widgets/base",
            "overflow": null,
            "_model_module_version": "1.2.0",
            "_view_count": null,
            "flex_flow": null,
            "width": null,
            "min_width": null,
            "border": null,
            "align_items": null,
            "bottom": null,
            "_model_module": "@jupyter-widgets/base",
            "top": null,
            "grid_column": null,
            "overflow_y": null,
            "overflow_x": null,
            "grid_auto_flow": null,
            "grid_area": null,
            "grid_template_columns": null,
            "flex": null,
            "_model_name": "LayoutModel",
            "justify_items": null,
            "grid_row": null,
            "max_height": null,
            "align_content": null,
            "visibility": null,
            "align_self": null,
            "height": null,
            "min_height": null,
            "padding": null,
            "grid_auto_rows": null,
            "grid_gap": null,
            "max_width": null,
            "order": null,
            "_view_module_version": "1.2.0",
            "grid_template_areas": null,
            "object_position": null,
            "object_fit": null,
            "grid_auto_columns": null,
            "margin": null,
            "display": null,
            "left": null
          }
        },
        "b6d3883579084ea7b4c0a0bf368a87d6": {
          "model_module": "@jupyter-widgets/controls",
          "model_name": "SliderStyleModel",
          "state": {
            "_view_name": "StyleView",
            "handle_color": null,
            "_model_name": "SliderStyleModel",
            "description_width": "",
            "_view_module": "@jupyter-widgets/base",
            "_model_module_version": "1.5.0",
            "_view_count": null,
            "_view_module_version": "1.2.0",
            "_model_module": "@jupyter-widgets/controls"
          }
        },
        "e9732ef35e324a3ba6c3e19c4030f527": {
          "model_module": "@jupyter-widgets/base",
          "model_name": "LayoutModel",
          "state": {
            "_view_name": "LayoutView",
            "grid_template_rows": null,
            "right": null,
            "justify_content": null,
            "_view_module": "@jupyter-widgets/base",
            "overflow": null,
            "_model_module_version": "1.2.0",
            "_view_count": null,
            "flex_flow": null,
            "width": null,
            "min_width": null,
            "border": null,
            "align_items": null,
            "bottom": null,
            "_model_module": "@jupyter-widgets/base",
            "top": null,
            "grid_column": null,
            "overflow_y": null,
            "overflow_x": null,
            "grid_auto_flow": null,
            "grid_area": null,
            "grid_template_columns": null,
            "flex": null,
            "_model_name": "LayoutModel",
            "justify_items": null,
            "grid_row": null,
            "max_height": null,
            "align_content": null,
            "visibility": null,
            "align_self": null,
            "height": null,
            "min_height": null,
            "padding": null,
            "grid_auto_rows": null,
            "grid_gap": null,
            "max_width": null,
            "order": null,
            "_view_module_version": "1.2.0",
            "grid_template_areas": null,
            "object_position": null,
            "object_fit": null,
            "grid_auto_columns": null,
            "margin": null,
            "display": null,
            "left": null
          }
        },
        "6ac751bf6c6a40eca9eb0fda4a3b4a54": {
          "model_module": "@jupyter-widgets/controls",
          "model_name": "SliderStyleModel",
          "state": {
            "_view_name": "StyleView",
            "handle_color": null,
            "_model_name": "SliderStyleModel",
            "description_width": "",
            "_view_module": "@jupyter-widgets/base",
            "_model_module_version": "1.5.0",
            "_view_count": null,
            "_view_module_version": "1.2.0",
            "_model_module": "@jupyter-widgets/controls"
          }
        },
        "5e9145e6243b46629ec5018ffb009c30": {
          "model_module": "@jupyter-widgets/base",
          "model_name": "LayoutModel",
          "state": {
            "_view_name": "LayoutView",
            "grid_template_rows": null,
            "right": null,
            "justify_content": null,
            "_view_module": "@jupyter-widgets/base",
            "overflow": null,
            "_model_module_version": "1.2.0",
            "_view_count": null,
            "flex_flow": null,
            "width": null,
            "min_width": null,
            "border": null,
            "align_items": null,
            "bottom": null,
            "_model_module": "@jupyter-widgets/base",
            "top": null,
            "grid_column": null,
            "overflow_y": null,
            "overflow_x": null,
            "grid_auto_flow": null,
            "grid_area": null,
            "grid_template_columns": null,
            "flex": null,
            "_model_name": "LayoutModel",
            "justify_items": null,
            "grid_row": null,
            "max_height": null,
            "align_content": null,
            "visibility": null,
            "align_self": null,
            "height": null,
            "min_height": null,
            "padding": null,
            "grid_auto_rows": null,
            "grid_gap": null,
            "max_width": null,
            "order": null,
            "_view_module_version": "1.2.0",
            "grid_template_areas": null,
            "object_position": null,
            "object_fit": null,
            "grid_auto_columns": null,
            "margin": null,
            "display": null,
            "left": null
          }
        },
        "f98ba0f4fb8841baa245626103f7e9bd": {
          "model_module": "@jupyter-widgets/controls",
          "model_name": "SliderStyleModel",
          "state": {
            "_view_name": "StyleView",
            "handle_color": null,
            "_model_name": "SliderStyleModel",
            "description_width": "",
            "_view_module": "@jupyter-widgets/base",
            "_model_module_version": "1.5.0",
            "_view_count": null,
            "_view_module_version": "1.2.0",
            "_model_module": "@jupyter-widgets/controls"
          }
        },
        "e41ae164e4c440b2aaf3183669615797": {
          "model_module": "@jupyter-widgets/base",
          "model_name": "LayoutModel",
          "state": {
            "_view_name": "LayoutView",
            "grid_template_rows": null,
            "right": null,
            "justify_content": null,
            "_view_module": "@jupyter-widgets/base",
            "overflow": null,
            "_model_module_version": "1.2.0",
            "_view_count": null,
            "flex_flow": null,
            "width": null,
            "min_width": null,
            "border": null,
            "align_items": null,
            "bottom": null,
            "_model_module": "@jupyter-widgets/base",
            "top": null,
            "grid_column": null,
            "overflow_y": null,
            "overflow_x": null,
            "grid_auto_flow": null,
            "grid_area": null,
            "grid_template_columns": null,
            "flex": null,
            "_model_name": "LayoutModel",
            "justify_items": null,
            "grid_row": null,
            "max_height": null,
            "align_content": null,
            "visibility": null,
            "align_self": null,
            "height": null,
            "min_height": null,
            "padding": null,
            "grid_auto_rows": null,
            "grid_gap": null,
            "max_width": null,
            "order": null,
            "_view_module_version": "1.2.0",
            "grid_template_areas": null,
            "object_position": null,
            "object_fit": null,
            "grid_auto_columns": null,
            "margin": null,
            "display": null,
            "left": null
          }
        },
        "f5c8e64eb24c4a159b69d6e502cd35a9": {
          "model_module": "@jupyter-widgets/controls",
          "model_name": "SliderStyleModel",
          "state": {
            "_view_name": "StyleView",
            "handle_color": null,
            "_model_name": "SliderStyleModel",
            "description_width": "",
            "_view_module": "@jupyter-widgets/base",
            "_model_module_version": "1.5.0",
            "_view_count": null,
            "_view_module_version": "1.2.0",
            "_model_module": "@jupyter-widgets/controls"
          }
        },
        "0c2a13af60ed4fdf941d41366987f20a": {
          "model_module": "@jupyter-widgets/base",
          "model_name": "LayoutModel",
          "state": {
            "_view_name": "LayoutView",
            "grid_template_rows": null,
            "right": null,
            "justify_content": null,
            "_view_module": "@jupyter-widgets/base",
            "overflow": null,
            "_model_module_version": "1.2.0",
            "_view_count": null,
            "flex_flow": null,
            "width": null,
            "min_width": null,
            "border": null,
            "align_items": null,
            "bottom": null,
            "_model_module": "@jupyter-widgets/base",
            "top": null,
            "grid_column": null,
            "overflow_y": null,
            "overflow_x": null,
            "grid_auto_flow": null,
            "grid_area": null,
            "grid_template_columns": null,
            "flex": null,
            "_model_name": "LayoutModel",
            "justify_items": null,
            "grid_row": null,
            "max_height": null,
            "align_content": null,
            "visibility": null,
            "align_self": null,
            "height": null,
            "min_height": null,
            "padding": null,
            "grid_auto_rows": null,
            "grid_gap": null,
            "max_width": null,
            "order": null,
            "_view_module_version": "1.2.0",
            "grid_template_areas": null,
            "object_position": null,
            "object_fit": null,
            "grid_auto_columns": null,
            "margin": null,
            "display": null,
            "left": null
          }
        },
        "5f30b8a73ee44436a0bf58c3517cae27": {
          "model_module": "@jupyter-widgets/controls",
          "model_name": "SliderStyleModel",
          "state": {
            "_view_name": "StyleView",
            "handle_color": null,
            "_model_name": "SliderStyleModel",
            "description_width": "",
            "_view_module": "@jupyter-widgets/base",
            "_model_module_version": "1.5.0",
            "_view_count": null,
            "_view_module_version": "1.2.0",
            "_model_module": "@jupyter-widgets/controls"
          }
        },
        "f92e071c4f90411ca14df3fda7fbc6e2": {
          "model_module": "@jupyter-widgets/base",
          "model_name": "LayoutModel",
          "state": {
            "_view_name": "LayoutView",
            "grid_template_rows": null,
            "right": null,
            "justify_content": null,
            "_view_module": "@jupyter-widgets/base",
            "overflow": null,
            "_model_module_version": "1.2.0",
            "_view_count": null,
            "flex_flow": null,
            "width": null,
            "min_width": null,
            "border": null,
            "align_items": null,
            "bottom": null,
            "_model_module": "@jupyter-widgets/base",
            "top": null,
            "grid_column": null,
            "overflow_y": null,
            "overflow_x": null,
            "grid_auto_flow": null,
            "grid_area": null,
            "grid_template_columns": null,
            "flex": null,
            "_model_name": "LayoutModel",
            "justify_items": null,
            "grid_row": null,
            "max_height": null,
            "align_content": null,
            "visibility": null,
            "align_self": null,
            "height": null,
            "min_height": null,
            "padding": null,
            "grid_auto_rows": null,
            "grid_gap": null,
            "max_width": null,
            "order": null,
            "_view_module_version": "1.2.0",
            "grid_template_areas": null,
            "object_position": null,
            "object_fit": null,
            "grid_auto_columns": null,
            "margin": null,
            "display": null,
            "left": null
          }
        },
        "48ec94aae5834a1f8ac4dd4404970711": {
          "model_module": "@jupyter-widgets/base",
          "model_name": "LayoutModel",
          "state": {
            "_view_name": "LayoutView",
            "grid_template_rows": null,
            "right": null,
            "justify_content": null,
            "_view_module": "@jupyter-widgets/base",
            "overflow": null,
            "_model_module_version": "1.2.0",
            "_view_count": null,
            "flex_flow": null,
            "width": null,
            "min_width": null,
            "border": null,
            "align_items": null,
            "bottom": null,
            "_model_module": "@jupyter-widgets/base",
            "top": null,
            "grid_column": null,
            "overflow_y": null,
            "overflow_x": null,
            "grid_auto_flow": null,
            "grid_area": null,
            "grid_template_columns": null,
            "flex": null,
            "_model_name": "LayoutModel",
            "justify_items": null,
            "grid_row": null,
            "max_height": null,
            "align_content": null,
            "visibility": null,
            "align_self": null,
            "height": null,
            "min_height": null,
            "padding": null,
            "grid_auto_rows": null,
            "grid_gap": null,
            "max_width": null,
            "order": null,
            "_view_module_version": "1.2.0",
            "grid_template_areas": null,
            "object_position": null,
            "object_fit": null,
            "grid_auto_columns": null,
            "margin": null,
            "display": null,
            "left": null
          }
        },
        "60731b36072a4c9dbaa73c154e8a740e": {
          "model_module": "@jupyter-widgets/controls",
          "model_name": "TabModel",
          "state": {
            "_view_name": "TabView",
            "_dom_classes": [],
            "_titles": {
              "0": "Youtube",
              "1": "Bilibili"
            },
            "_model_name": "TabModel",
            "_view_module": "@jupyter-widgets/controls",
            "selected_index": 0,
            "_model_module_version": "1.5.0",
            "_view_count": null,
            "_view_module_version": "1.5.0",
            "box_style": "",
            "layout": "IPY_MODEL_1cc468b8c50e47d0a014b065387ea62f",
            "_model_module": "@jupyter-widgets/controls",
            "children": [
              "IPY_MODEL_ccdc5b5268134eeb860ade1b5cf73bf8",
              "IPY_MODEL_580c9a3a2e444faf98bdbc2d5e379e81"
            ]
          }
        },
        "1cc468b8c50e47d0a014b065387ea62f": {
          "model_module": "@jupyter-widgets/base",
          "model_name": "LayoutModel",
          "state": {
            "_view_name": "LayoutView",
            "grid_template_rows": null,
            "right": null,
            "justify_content": null,
            "_view_module": "@jupyter-widgets/base",
            "overflow": null,
            "_model_module_version": "1.2.0",
            "_view_count": null,
            "flex_flow": null,
            "width": null,
            "min_width": null,
            "border": null,
            "align_items": null,
            "bottom": null,
            "_model_module": "@jupyter-widgets/base",
            "top": null,
            "grid_column": null,
            "overflow_y": null,
            "overflow_x": null,
            "grid_auto_flow": null,
            "grid_area": null,
            "grid_template_columns": null,
            "flex": null,
            "_model_name": "LayoutModel",
            "justify_items": null,
            "grid_row": null,
            "max_height": null,
            "align_content": null,
            "visibility": null,
            "align_self": null,
            "height": null,
            "min_height": null,
            "padding": null,
            "grid_auto_rows": null,
            "grid_gap": null,
            "max_width": null,
            "order": null,
            "_view_module_version": "1.2.0",
            "grid_template_areas": null,
            "object_position": null,
            "object_fit": null,
            "grid_auto_columns": null,
            "margin": null,
            "display": null,
            "left": null
          }
        },
        "ccdc5b5268134eeb860ade1b5cf73bf8": {
          "model_module": "@jupyter-widgets/output",
          "model_name": "OutputModel",
          "state": {
            "_view_name": "OutputView",
            "msg_id": "",
            "_dom_classes": [],
            "_model_name": "OutputModel",
            "outputs": [
              {
                "output_type": "stream",
                "metadata": {
                  "tags": []
                },
                "text": "Video available at https://youtube.com/watch?v=uW2HDk_4-wk\n",
                "stream": "stdout"
              },
              {
                "output_type": "display_data",
                "metadata": {
                  "tags": []
                },
                "text/html": "\n        <iframe\n            width=\"854\"\n            height=\"480\"\n            src=\"https://www.youtube.com/embed/uW2HDk_4-wk?fs=1&rel=0\"\n            frameborder=\"0\"\n            allowfullscreen\n        ></iframe>\n        ",
                "text/plain": "<IPython.lib.display.YouTubeVideo at 0x7f2d4d0c6410>",
                "image/jpeg": "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\n"
              }
            ],
            "_view_module": "@jupyter-widgets/output",
            "_model_module_version": "1.0.0",
            "_view_count": null,
            "_view_module_version": "1.0.0",
            "layout": "IPY_MODEL_c013b0221d22445a8327597cbad3279a",
            "_model_module": "@jupyter-widgets/output"
          }
        },
        "580c9a3a2e444faf98bdbc2d5e379e81": {
          "model_module": "@jupyter-widgets/output",
          "model_name": "OutputModel",
          "state": {
            "_view_name": "OutputView",
            "msg_id": "",
            "_dom_classes": [],
            "_model_name": "OutputModel",
            "outputs": [
              {
                "output_type": "stream",
                "metadata": {
                  "tags": []
                },
                "text": "Video available at https://www.bilibili.com/video/BV1w54y1S7Eb\n",
                "stream": "stdout"
              },
              {
                "output_type": "display_data",
                "metadata": {
                  "tags": []
                },
                "text/html": "\n        <iframe\n            width=\"854\"\n            height=\"480\"\n            src=\"https://player.bilibili.com/player.html?bvid=BV1w54y1S7Eb&page=1?fs=1\"\n            frameborder=\"0\"\n            allowfullscreen\n        ></iframe>\n        ",
                "text/plain": "<__main__.BiliVideo at 0x7f2d4d0c63d0>"
              }
            ],
            "_view_module": "@jupyter-widgets/output",
            "_model_module_version": "1.0.0",
            "_view_count": null,
            "_view_module_version": "1.0.0",
            "layout": "IPY_MODEL_89a8a10121cd4a0197987177e1ecee95",
            "_model_module": "@jupyter-widgets/output"
          }
        },
        "c013b0221d22445a8327597cbad3279a": {
          "model_module": "@jupyter-widgets/base",
          "model_name": "LayoutModel",
          "state": {
            "_view_name": "LayoutView",
            "grid_template_rows": null,
            "right": null,
            "justify_content": null,
            "_view_module": "@jupyter-widgets/base",
            "overflow": null,
            "_model_module_version": "1.2.0",
            "_view_count": null,
            "flex_flow": null,
            "width": null,
            "min_width": null,
            "border": null,
            "align_items": null,
            "bottom": null,
            "_model_module": "@jupyter-widgets/base",
            "top": null,
            "grid_column": null,
            "overflow_y": null,
            "overflow_x": null,
            "grid_auto_flow": null,
            "grid_area": null,
            "grid_template_columns": null,
            "flex": null,
            "_model_name": "LayoutModel",
            "justify_items": null,
            "grid_row": null,
            "max_height": null,
            "align_content": null,
            "visibility": null,
            "align_self": null,
            "height": null,
            "min_height": null,
            "padding": null,
            "grid_auto_rows": null,
            "grid_gap": null,
            "max_width": null,
            "order": null,
            "_view_module_version": "1.2.0",
            "grid_template_areas": null,
            "object_position": null,
            "object_fit": null,
            "grid_auto_columns": null,
            "margin": null,
            "display": null,
            "left": null
          }
        },
        "89a8a10121cd4a0197987177e1ecee95": {
          "model_module": "@jupyter-widgets/base",
          "model_name": "LayoutModel",
          "state": {
            "_view_name": "LayoutView",
            "grid_template_rows": null,
            "right": null,
            "justify_content": null,
            "_view_module": "@jupyter-widgets/base",
            "overflow": null,
            "_model_module_version": "1.2.0",
            "_view_count": null,
            "flex_flow": null,
            "width": null,
            "min_width": null,
            "border": null,
            "align_items": null,
            "bottom": null,
            "_model_module": "@jupyter-widgets/base",
            "top": null,
            "grid_column": null,
            "overflow_y": null,
            "overflow_x": null,
            "grid_auto_flow": null,
            "grid_area": null,
            "grid_template_columns": null,
            "flex": null,
            "_model_name": "LayoutModel",
            "justify_items": null,
            "grid_row": null,
            "max_height": null,
            "align_content": null,
            "visibility": null,
            "align_self": null,
            "height": null,
            "min_height": null,
            "padding": null,
            "grid_auto_rows": null,
            "grid_gap": null,
            "max_width": null,
            "order": null,
            "_view_module_version": "1.2.0",
            "grid_template_areas": null,
            "object_position": null,
            "object_fit": null,
            "grid_auto_columns": null,
            "margin": null,
            "display": null,
            "left": null
          }
        }
      }
    }
  },
  "cells": [
    {
      "cell_type": "markdown",
      "metadata": {
        "id": "a65oM-yI-wdt"
      },
      "source": [
        "# Tutorial 1: \"What\" models\n",
        "**Week 1, Day 1: Model Types**\n",
        "\n",
        "**By Neuromatch Academy**\n",
        "\n",
        "__Content creators:__ Matt Laporte, Byron Galbraith, Konrad Kording\n",
        "\n",
        "__Content reviewers:__ Dalin Guo, Aishwarya Balwani, Madineh Sarvestani, Maryam Vaziri-Pashkam, Michael Waskom, Ella Batty\n",
        "\n",
        "We would like to acknowledge [Steinmetz _et al._ (2019)](https://www.nature.com/articles/s41586-019-1787-x) for sharing their data, a subset of which is used here.\n"
      ]
    },
    {
      "cell_type": "markdown",
      "metadata": {
        "id": "BUQHevx3-wdz"
      },
      "source": [
        "**Our 2021 Sponsors, including Presenting Sponsor Facebook Reality Labs**\n",
        "\n",
        "<p align='center'><img src='https://github.com/NeuromatchAcademy/widgets/blob/master/sponsors.png?raw=True'/></p>"
      ]
    },
    {
      "cell_type": "markdown",
      "metadata": {
        "id": "eFp_q6JH-wd0"
      },
      "source": [
        "___\n",
        "# Tutorial Objectives\n",
        "\n",
        "*Estimated timing of tutorial: 50 minutes*\n",
        "\n",
        "This is tutorial 1 of a 3-part series on different flavors of models used to understand neural data. In this tutorial we will explore 'What' models, used to describe the data. To understand what our data looks like, we will visualize it in different ways. Then we will compare it to simple mathematical models. Specifically, we will:\n",
        "\n",
        "- Load a dataset with spiking activity from hundreds of neurons and understand how it is organized\n",
        "- Make plots to visualize characteristics of the spiking activity across the population\n",
        "- Compute the distribution of \"inter-spike intervals\" (ISIs) for a single neuron\n",
        "- Consider several formal models of this distribution's shape and fit them to the data \"by hand\""
      ]
    },
    {
      "cell_type": "code",
      "metadata": {
        "cellView": "form",
        "execution": {
          "iopub.execute_input": "2021-07-03T17:54:16.068512Z",
          "iopub.status.busy": "2021-07-03T17:54:16.067851Z",
          "iopub.status.idle": "2021-07-03T17:54:16.078805Z",
          "shell.execute_reply": "2021-07-03T17:54:16.079308Z"
        },
        "id": "DMUoNJqc-wd1",
        "outputId": "67b97ee0-1ea1-4ee0-f7b3-a158251e6453",
        "colab": {
          "base_uri": "https://localhost:8080/",
          "height": 501
        }
      },
      "source": [
        "# @title Tutorial slides\n",
        "\n",
        "# @markdown These are the slides for the videos in all tutorials today\n",
        "from IPython.display import IFrame\n",
        "IFrame(src=f\"https://mfr.ca-1.osf.io/render?url=https://osf.io/6dxwe/?direct%26mode=render%26action=download%26mode=render\", width=854, height=480)"
      ],
      "execution_count": 3,
      "outputs": [
        {
          "output_type": "execute_result",
          "data": {
            "text/html": [
              "\n",
              "        <iframe\n",
              "            width=\"854\"\n",
              "            height=\"480\"\n",
              "            src=\"https://mfr.ca-1.osf.io/render?url=https://osf.io/6dxwe/?direct%26mode=render%26action=download%26mode=render\"\n",
              "            frameborder=\"0\"\n",
              "            allowfullscreen\n",
              "        ></iframe>\n",
              "        "
            ],
            "text/plain": [
              "<IPython.lib.display.IFrame at 0x7f2d4d857190>"
            ]
          },
          "metadata": {
            "tags": []
          },
          "execution_count": 3
        }
      ]
    },
    {
      "cell_type": "code",
      "metadata": {
        "cellView": "form",
        "execution": {
          "iopub.execute_input": "2021-07-03T17:54:16.087459Z",
          "iopub.status.busy": "2021-07-03T17:54:16.086818Z",
          "iopub.status.idle": "2021-07-03T17:54:16.200795Z",
          "shell.execute_reply": "2021-07-03T17:54:16.198330Z"
        },
        "id": "8iTi3RTJ-wd2",
        "outputId": "1dfed8d6-a4c3-4a7d-8709-bb5de90f0364",
        "colab": {
          "base_uri": "https://localhost:8080/",
          "height": 580,
          "referenced_widgets": [
            "8d3c9244feb7439abf33f462159784d3",
            "fa0f409725154d09a35a26cf50d105ea",
            "1ca41d1e23054f87ae0acf819327951d",
            "f9da1382c2af4c22a8855128d51b5dcf",
            "b7d8a197028b4f2593b71b9512a90282",
            "e1980045f98640d69c73934e49b0ddde"
          ]
        }
      },
      "source": [
        "# @title Video 1: \"What\" Models\n",
        "from ipywidgets import widgets\n",
        "\n",
        "out2 = widgets.Output()\n",
        "with out2:\n",
        "  from IPython.display import IFrame\n",
        "  class BiliVideo(IFrame):\n",
        "      def __init__(self, id, page=1, width=400, height=300, **kwargs):\n",
        "          self.id=id\n",
        "          src = 'https://player.bilibili.com/player.html?bvid={0}&page={1}'.format(id, page)\n",
        "          super(BiliVideo, self).__init__(src, width, height, **kwargs)\n",
        "\n",
        "  video = BiliVideo(id=\"BV1mz4y1X7ot\", width=854, height=480, fs=1)\n",
        "  print('Video available at https://www.bilibili.com/video/{0}'.format(video.id))\n",
        "  display(video)\n",
        "\n",
        "out1 = widgets.Output()\n",
        "with out1:\n",
        "  from IPython.display import YouTubeVideo\n",
        "  video = YouTubeVideo(id=\"KgqR_jbjMQg\", width=854, height=480, fs=1, rel=0)\n",
        "  print('Video available at https://youtube.com/watch?v=' + video.id)\n",
        "  display(video)\n",
        "\n",
        "out = widgets.Tab([out1, out2])\n",
        "out.set_title(0, 'Youtube')\n",
        "out.set_title(1, 'Bilibili')\n",
        "\n",
        "display(out)"
      ],
      "execution_count": 4,
      "outputs": [
        {
          "output_type": "display_data",
          "data": {
            "application/vnd.jupyter.widget-view+json": {
              "model_id": "8d3c9244feb7439abf33f462159784d3",
              "version_minor": 0,
              "version_major": 2
            },
            "text/plain": [
              "Tab(children=(Output(), Output()), _titles={'0': 'Youtube', '1': 'Bilibili'})"
            ]
          },
          "metadata": {
            "tags": []
          }
        }
      ]
    },
    {
      "cell_type": "markdown",
      "metadata": {
        "id": "FsET6I3l-wd4"
      },
      "source": [
        "# Setup\n",
        "\n"
      ]
    },
    {
      "cell_type": "markdown",
      "metadata": {
        "id": "XQJqfjw3-wd4"
      },
      "source": [
        "Python requires you to explictly \"import\" libraries before their functions are available to use. We will always specify our imports at the beginning of each notebook or script."
      ]
    },
    {
      "cell_type": "code",
      "metadata": {
        "execution": {
          "iopub.execute_input": "2021-07-03T17:54:16.207642Z",
          "iopub.status.busy": "2021-07-03T17:54:16.207031Z",
          "iopub.status.idle": "2021-07-03T17:54:18.019171Z",
          "shell.execute_reply": "2021-07-03T17:54:18.018238Z"
        },
        "pycharm": {
          "name": "#%%\n"
        },
        "id": "MZNb_O3j-wd5"
      },
      "source": [
        "import numpy as np\n",
        "import matplotlib.pyplot as plt"
      ],
      "execution_count": 5,
      "outputs": []
    },
    {
      "cell_type": "markdown",
      "metadata": {
        "id": "Dj9BcUoR-wd6"
      },
      "source": [
        "Tutorial notebooks typically begin with several set-up steps that are hidden from view by default.\n",
        "\n",
        "**Important:** Even though the code is hidden, you still need to run it so that the rest of the notebook can work properly. Step through each cell, either by pressing the play button in the upper-left-hand corner or with a keyboard shortcut (`Cmd-Return` on a Mac, `Ctrl-Enter` otherwise). A number will appear inside the brackets (e.g. `[3]`) to tell you that the cell was executed and what order that happened in.\n",
        "\n",
        "If you are curious to see what is going on inside each cell, you can double click to expand. Once expanded, double-click the white space to the right of the editor to collapse again."
      ]
    },
    {
      "cell_type": "code",
      "metadata": {
        "cellView": "form",
        "execution": {
          "iopub.execute_input": "2021-07-03T17:54:18.035304Z",
          "iopub.status.busy": "2021-07-03T17:54:18.031341Z",
          "iopub.status.idle": "2021-07-03T17:54:18.199819Z",
          "shell.execute_reply": "2021-07-03T17:54:18.200358Z"
        },
        "pycharm": {
          "name": "#%%\n"
        },
        "id": "2OXUFiE7-wd7"
      },
      "source": [
        "# @title Figure Settings\n",
        "import ipywidgets as widgets #interactive display\n",
        "\n",
        "%matplotlib inline\n",
        "%config InlineBackend.figure_format = 'retina'\n",
        "plt.style.use(\"https://raw.githubusercontent.com/NeuromatchAcademy/course-content/master/nma.mplstyle\")"
      ],
      "execution_count": 6,
      "outputs": []
    },
    {
      "cell_type": "code",
      "metadata": {
        "cellView": "form",
        "execution": {
          "iopub.execute_input": "2021-07-03T17:54:18.206360Z",
          "iopub.status.busy": "2021-07-03T17:54:18.202786Z",
          "iopub.status.idle": "2021-07-03T17:54:18.209079Z",
          "shell.execute_reply": "2021-07-03T17:54:18.209943Z"
        },
        "id": "-91W1sA8-wd7"
      },
      "source": [
        "# @title Plotting functions\n",
        "\n",
        "def plot_isis(single_neuron_isis):\n",
        "  plt.hist(single_neuron_isis, bins=50, histtype=\"stepfilled\")\n",
        "  plt.axvline(single_neuron_isis.mean(), color=\"orange\", label=\"Mean ISI\")\n",
        "  plt.xlabel(\"ISI duration (s)\")\n",
        "  plt.ylabel(\"Number of spikes\")\n",
        "  plt.legend()"
      ],
      "execution_count": 7,
      "outputs": []
    },
    {
      "cell_type": "code",
      "metadata": {
        "execution": {
          "iopub.execute_input": "2021-07-03T17:54:18.216099Z",
          "iopub.status.busy": "2021-07-03T17:54:18.215112Z",
          "iopub.status.idle": "2021-07-03T17:54:20.671000Z",
          "shell.execute_reply": "2021-07-03T17:54:20.671442Z"
        },
        "pycharm": {
          "name": "#%%\n"
        },
        "id": "J5gIdXzz-wd8"
      },
      "source": [
        "#@title Data retrieval\n",
        "#@markdown This cell downloads the example dataset that we will use in this tutorial.\n",
        "import io\n",
        "import requests\n",
        "r = requests.get('https://osf.io/sy5xt/download')\n",
        "if r.status_code != 200:\n",
        "  print('Failed to download data')\n",
        "else:\n",
        "  spike_times = np.load(io.BytesIO(r.content), allow_pickle=True)['spike_times']"
      ],
      "execution_count": 8,
      "outputs": []
    },
    {
      "cell_type": "markdown",
      "metadata": {
        "id": "Bp5alrMz-weA"
      },
      "source": [
        "---\n",
        "\n",
        "# Section 1: Exploring the Steinmetz dataset\n",
        "\n",
        "In this tutorial we will explore the structure of a neuroscience dataset.\n",
        "\n",
        "We consider a subset of data from a study of [Steinmetz _et al._ (2019)](https://www.nature.com/articles/s41586-019-1787-x). In this study, Neuropixels probes were implanted in the brains of mice. Electrical potentials were measured by hundreds of electrodes along the length of each probe. Each electrode's measurements captured local variations in the electric field due to nearby spiking neurons. A spike sorting algorithm was used to infer spike times and cluster spikes according to common origin: a single cluster of sorted spikes is causally attributed to a single neuron.\n",
        "\n",
        "In particular, a single recording session of spike times and neuron assignments was loaded and assigned to `spike_times` in the preceding setup.\n",
        "\n",
        "Typically a dataset comes with some information about its structure. However, this information may be incomplete. You might also apply some transformations or \"pre-processing\" to create a working representation of the data of interest, which might go partly undocumented depending on the circumstances. In any case it is important to be able to use the available tools to investigate unfamiliar aspects of a data structure.\n",
        "\n",
        "Let's see what our data looks like..."
      ]
    },
    {
      "cell_type": "markdown",
      "metadata": {
        "id": "JFpOV2_8-weC"
      },
      "source": [
        "## Section 1.1: Warming up with `spike_times`"
      ]
    },
    {
      "cell_type": "markdown",
      "metadata": {
        "id": "rUofksfl-weC"
      },
      "source": [
        "What is the Python type of our variable?"
      ]
    },
    {
      "cell_type": "code",
      "metadata": {
        "execution": {
          "iopub.execute_input": "2021-07-03T17:54:20.676871Z",
          "iopub.status.busy": "2021-07-03T17:54:20.676106Z",
          "iopub.status.idle": "2021-07-03T17:54:20.682191Z",
          "shell.execute_reply": "2021-07-03T17:54:20.681644Z"
        },
        "pycharm": {
          "name": "#%%\n"
        },
        "id": "j7i1hsDH-weD",
        "outputId": "2ae941f1-706e-4d7c-cc9c-e498ec0f9db8",
        "colab": {
          "base_uri": "https://localhost:8080/"
        }
      },
      "source": [
        "type(spike_times)"
      ],
      "execution_count": 9,
      "outputs": [
        {
          "output_type": "execute_result",
          "data": {
            "text/plain": [
              "numpy.ndarray"
            ]
          },
          "metadata": {
            "tags": []
          },
          "execution_count": 9
        }
      ]
    },
    {
      "cell_type": "markdown",
      "metadata": {
        "id": "Rlx69lzB-weE"
      },
      "source": [
        "You should see `numpy.ndarray`, which means that it's a normal NumPy array.\n",
        "\n",
        "If you see an error message, it probably means that you did not execute the set-up cells at the top of the notebook. So go ahead and make sure to do that.\n",
        "\n",
        "Once everything is running properly, we can ask the next question about the dataset: what's its shape?"
      ]
    },
    {
      "cell_type": "code",
      "metadata": {
        "execution": {
          "iopub.execute_input": "2021-07-03T17:54:20.686733Z",
          "iopub.status.busy": "2021-07-03T17:54:20.686101Z",
          "iopub.status.idle": "2021-07-03T17:54:20.691916Z",
          "shell.execute_reply": "2021-07-03T17:54:20.692367Z"
        },
        "pycharm": {
          "name": "#%%\n"
        },
        "id": "9UIpNmik-weE",
        "outputId": "8cfd91f5-82a4-4a11-9487-71d5e0653d4e",
        "colab": {
          "base_uri": "https://localhost:8080/"
        }
      },
      "source": [
        "spike_times.shape"
      ],
      "execution_count": 10,
      "outputs": [
        {
          "output_type": "execute_result",
          "data": {
            "text/plain": [
              "(734,)"
            ]
          },
          "metadata": {
            "tags": []
          },
          "execution_count": 10
        }
      ]
    },
    {
      "cell_type": "markdown",
      "metadata": {
        "id": "wcDkWEHx-weE"
      },
      "source": [
        "There are 734 entries in one dimension, and no other dimensions. What is the Python type of the first entry, and what is *its* shape?"
      ]
    },
    {
      "cell_type": "code",
      "metadata": {
        "execution": {
          "iopub.execute_input": "2021-07-03T17:54:20.697800Z",
          "iopub.status.busy": "2021-07-03T17:54:20.697199Z",
          "iopub.status.idle": "2021-07-03T17:54:20.701384Z",
          "shell.execute_reply": "2021-07-03T17:54:20.700890Z"
        },
        "pycharm": {
          "name": "#%%\n"
        },
        "id": "Op01qumE-weF",
        "outputId": "ad651d00-13e2-4c7b-a3ff-d2adcbaac660",
        "colab": {
          "base_uri": "https://localhost:8080/"
        }
      },
      "source": [
        "idx = 0\n",
        "print(\n",
        "  type(spike_times[idx]),\n",
        "  spike_times[idx].shape,\n",
        "  sep=\"\\n\",\n",
        ")"
      ],
      "execution_count": 11,
      "outputs": [
        {
          "output_type": "stream",
          "text": [
            "<class 'numpy.ndarray'>\n",
            "(826,)\n"
          ],
          "name": "stdout"
        }
      ]
    },
    {
      "cell_type": "markdown",
      "metadata": {
        "id": "mya8k35p-weF"
      },
      "source": [
        "It's also a NumPy array with a 1D shape! Why didn't this show up as a second dimension in the shape of `spike_times`? That is, why not `spike_times.shape == (734, 826)`?\n",
        "\n",
        "To investigate, let's check another entry."
      ]
    },
    {
      "cell_type": "code",
      "metadata": {
        "execution": {
          "iopub.execute_input": "2021-07-03T17:54:20.710021Z",
          "iopub.status.busy": "2021-07-03T17:54:20.707287Z",
          "iopub.status.idle": "2021-07-03T17:54:20.712941Z",
          "shell.execute_reply": "2021-07-03T17:54:20.712371Z"
        },
        "pycharm": {
          "name": "#%%\n"
        },
        "id": "oPjO5TLr-weG",
        "outputId": "ddcc7a59-349b-4760-d289-d485e0210d72",
        "colab": {
          "base_uri": "https://localhost:8080/"
        }
      },
      "source": [
        "idx = 321\n",
        "print(\n",
        "  type(spike_times[idx]),\n",
        "  spike_times[idx].shape,\n",
        "  sep=\"\\n\",\n",
        ")"
      ],
      "execution_count": 12,
      "outputs": [
        {
          "output_type": "stream",
          "text": [
            "<class 'numpy.ndarray'>\n",
            "(9723,)\n"
          ],
          "name": "stdout"
        }
      ]
    },
    {
      "cell_type": "markdown",
      "metadata": {
        "id": "TKGJvhJy-weG"
      },
      "source": [
        "It's also a 1D NumPy array, but it has a different shape. Checking the NumPy types of the values in these arrays, and their first few elements, we see they are composed of floating point numbers (not another level of `np.ndarray`):"
      ]
    },
    {
      "cell_type": "code",
      "metadata": {
        "execution": {
          "iopub.execute_input": "2021-07-03T17:54:20.722331Z",
          "iopub.status.busy": "2021-07-03T17:54:20.720941Z",
          "iopub.status.idle": "2021-07-03T17:54:20.724840Z",
          "shell.execute_reply": "2021-07-03T17:54:20.724270Z"
        },
        "pycharm": {
          "name": "#%%\n"
        },
        "id": "U6LUbNex-weG",
        "outputId": "224b09b2-295f-467c-8c37-9d10ed8c9585",
        "colab": {
          "base_uri": "https://localhost:8080/"
        }
      },
      "source": [
        "i_neurons = [0, 321]\n",
        "i_print = slice(0, 5)\n",
        "\n",
        "for i in i_neurons:\n",
        "  print(\n",
        "    \"Neuron {}:\".format(i),\n",
        "    spike_times[i].dtype,\n",
        "    spike_times[i][i_print],\n",
        "    \"\\n\",\n",
        "    sep=\"\\n\"\n",
        "  )"
      ],
      "execution_count": 13,
      "outputs": [
        {
          "output_type": "stream",
          "text": [
            "Neuron 0:\n",
            "float32\n",
            "[ 0.8149   14.822467 24.9646   25.1436   38.8709  ]\n",
            "\n",
            "\n",
            "Neuron 321:\n",
            "float32\n",
            "[1.0698667 1.1536334 1.2403667 1.7072    1.799    ]\n",
            "\n",
            "\n"
          ],
          "name": "stdout"
        }
      ]
    },
    {
      "cell_type": "markdown",
      "metadata": {
        "id": "062EFChg-weH"
      },
      "source": [
        "Note that this time we've checked the NumPy `dtype` rather than the Python variable type. These two arrays contain floating point numbers (\"floats\") with 32 bits of precision.\n",
        "\n",
        "The basic picture is coming together:\n",
        "- `spike_times` is 1D, its entries are NumPy arrays, and its length is the number of neurons (734): by indexing it, we select a subset of neurons.\n",
        "- An array in `spike_times` is also 1D and corresponds to a single neuron; its entries are floating point numbers, and its length is the number of spikes attributed to that neuron. By indexing it, we select a subset of spike times for that neuron.\n",
        "\n",
        "Visually, you can think of the data structure as looking something like this:\n",
        "\n",
        "```\n",
        "| . . . . . |\n",
        "| . . . . . . . . |\n",
        "| . . . |\n",
        "| . . . . . . . |\n",
        "```\n",
        "\n",
        "Before moving on, we'll calculate and store the number of neurons in the dataset and the number of spikes per neuron:"
      ]
    },
    {
      "cell_type": "code",
      "metadata": {
        "execution": {
          "iopub.execute_input": "2021-07-03T17:54:20.731464Z",
          "iopub.status.busy": "2021-07-03T17:54:20.730149Z",
          "iopub.status.idle": "2021-07-03T17:54:20.733629Z",
          "shell.execute_reply": "2021-07-03T17:54:20.733072Z"
        },
        "pycharm": {
          "name": "#%%\n"
        },
        "id": "8MI-kC4X-weI",
        "outputId": "a168aa71-cc6d-4bab-bfb9-16068b146501",
        "colab": {
          "base_uri": "https://localhost:8080/"
        }
      },
      "source": [
        "n_neurons = len(spike_times)\n",
        "total_spikes_per_neuron = [len(spike_times_i) for spike_times_i in spike_times]\n",
        "\n",
        "print(f\"Number of neurons: {n_neurons}\")\n",
        "print(f\"Number of spikes for first five neurons: {total_spikes_per_neuron[:5]}\")"
      ],
      "execution_count": 14,
      "outputs": [
        {
          "output_type": "stream",
          "text": [
            "Number of neurons: 734\n",
            "Number of spikes for first five neurons: [826, 2818, 3953, 646, 1115]\n"
          ],
          "name": "stdout"
        }
      ]
    },
    {
      "cell_type": "code",
      "metadata": {
        "cellView": "form",
        "execution": {
          "iopub.execute_input": "2021-07-03T17:54:20.748484Z",
          "iopub.status.busy": "2021-07-03T17:54:20.746673Z",
          "iopub.status.idle": "2021-07-03T17:54:20.806460Z",
          "shell.execute_reply": "2021-07-03T17:54:20.803939Z"
        },
        "id": "w-4iex_M-weI",
        "outputId": "8459cda3-5ada-4f5a-f84a-0b402965e50e",
        "colab": {
          "base_uri": "https://localhost:8080/",
          "height": 580,
          "referenced_widgets": [
            "8688ce3d1c9a43f8b4939680d61d1387",
            "31d5ba1de87d4361b636b13ee871628f",
            "71a46a440a904f64920635b112061191",
            "5ae402fb5a03492cabf295e47374c717",
            "572bd3efc65543a08972d6f82109c3c6",
            "87146e67006c4859abdc5f12a455a716"
          ]
        }
      },
      "source": [
        "# @title Video 2: Exploring the dataset\n",
        "from ipywidgets import widgets\n",
        "\n",
        "out2 = widgets.Output()\n",
        "with out2:\n",
        "  from IPython.display import IFrame\n",
        "  class BiliVideo(IFrame):\n",
        "      def __init__(self, id, page=1, width=400, height=300, **kwargs):\n",
        "          self.id=id\n",
        "          src = 'https://player.bilibili.com/player.html?bvid={0}&page={1}'.format(id, page)\n",
        "          super(BiliVideo, self).__init__(src, width, height, **kwargs)\n",
        "\n",
        "  video = BiliVideo(id=\"BV1Hp4y1S7Au\", width=854, height=480, fs=1)\n",
        "  print('Video available at https://www.bilibili.com/video/{0}'.format(video.id))\n",
        "  display(video)\n",
        "\n",
        "out1 = widgets.Output()\n",
        "with out1:\n",
        "  from IPython.display import YouTubeVideo\n",
        "  video = YouTubeVideo(id=\"oHwYWUI_o1U\", width=854, height=480, fs=1, rel=0)\n",
        "  print('Video available at https://youtube.com/watch?v=' + video.id)\n",
        "  display(video)\n",
        "\n",
        "out = widgets.Tab([out1, out2])\n",
        "out.set_title(0, 'Youtube')\n",
        "out.set_title(1, 'Bilibili')\n",
        "\n",
        "display(out)"
      ],
      "execution_count": 15,
      "outputs": [
        {
          "output_type": "display_data",
          "data": {
            "application/vnd.jupyter.widget-view+json": {
              "model_id": "8688ce3d1c9a43f8b4939680d61d1387",
              "version_minor": 0,
              "version_major": 2
            },
            "text/plain": [
              "Tab(children=(Output(), Output()), _titles={'0': 'Youtube', '1': 'Bilibili'})"
            ]
          },
          "metadata": {
            "tags": []
          }
        }
      ]
    },
    {
      "cell_type": "markdown",
      "metadata": {
        "id": "gf2HSlDP-weJ"
      },
      "source": [
        "## Section 1.2: Getting warmer: counting and plotting total spike counts\n",
        "\n",
        "As we've seen, the number of spikes over the entire recording is variable between neurons. More generally, some neurons tend to spike more than others in a given period. Lets explore what the distribution of spiking looks like across all the neurons in the dataset."
      ]
    },
    {
      "cell_type": "markdown",
      "metadata": {
        "id": "3qdfLBim-weJ"
      },
      "source": [
        "Are most neurons \"loud\" or \"quiet\", compared to the average? To see, we'll define bins of constant width in terms of total spikes and count the neurons that fall in each bin. This is known as a \"histogram\".\n",
        "\n",
        "You can plot a histogram with the matplotlib function `plt.hist`. If you just need to compute it, you can use the numpy function `np.histogram` instead."
      ]
    },
    {
      "cell_type": "code",
      "metadata": {
        "execution": {
          "iopub.execute_input": "2021-07-03T17:54:20.831106Z",
          "iopub.status.busy": "2021-07-03T17:54:20.830471Z",
          "iopub.status.idle": "2021-07-03T17:54:21.104468Z",
          "shell.execute_reply": "2021-07-03T17:54:21.103509Z"
        },
        "pycharm": {
          "name": "#%%\n"
        },
        "id": "nPudnpZF-weK",
        "outputId": "8d8d013f-7342-4332-cb94-2e54a585c94f",
        "colab": {
          "base_uri": "https://localhost:8080/",
          "height": 431
        }
      },
      "source": [
        "plt.hist(total_spikes_per_neuron, bins=50, histtype=\"stepfilled\")\n",
        "plt.xlabel(\"Total spikes per neuron\")\n",
        "plt.ylabel(\"Number of neurons\");"
      ],
      "execution_count": 16,
      "outputs": [
        {
          "output_type": "display_data",
          "data": {
            "image/png": "[encoded data removed]",
            "text/plain": [
              "<Figure size 576x432 with 1 Axes>"
            ]
          },
          "metadata": {
            "tags": [],
            "image/png": {
              "width": 558,
              "height": 414
            },
            "needs_background": "light"
          }
        }
      ]
    },
    {
      "cell_type": "markdown",
      "metadata": {
        "id": "IEWF_Et0-weK"
      },
      "source": [
        "Let's see what percentage of neurons have a below-average spike count:"
      ]
    },
    {
      "cell_type": "code",
      "metadata": {
        "execution": {
          "iopub.execute_input": "2021-07-03T17:54:21.109765Z",
          "iopub.status.busy": "2021-07-03T17:54:21.109111Z",
          "iopub.status.idle": "2021-07-03T17:54:21.113872Z",
          "shell.execute_reply": "2021-07-03T17:54:21.113384Z"
        },
        "pycharm": {
          "name": "#%%\n"
        },
        "id": "aczsRz-W-weK",
        "outputId": "1eb244d4-78c5-470b-93d7-789cc5d435ae",
        "colab": {
          "base_uri": "https://localhost:8080/"
        }
      },
      "source": [
        "mean_spike_count = np.mean(total_spikes_per_neuron)\n",
        "frac_below_mean = (total_spikes_per_neuron < mean_spike_count).mean()\n",
        "print(f\"{frac_below_mean:2.1%} of neurons are below the mean\")"
      ],
      "execution_count": 17,
      "outputs": [
        {
          "output_type": "stream",
          "text": [
            "68.0% of neurons are below the mean\n"
          ],
          "name": "stdout"
        }
      ]
    },
    {
      "cell_type": "markdown",
      "metadata": {
        "id": "20r-E4w2-weL"
      },
      "source": [
        "We can also see this by adding the average spike count to the histogram plot:"
      ]
    },
    {
      "cell_type": "code",
      "metadata": {
        "execution": {
          "iopub.execute_input": "2021-07-03T17:54:21.143165Z",
          "iopub.status.busy": "2021-07-03T17:54:21.142193Z",
          "iopub.status.idle": "2021-07-03T17:54:21.408641Z",
          "shell.execute_reply": "2021-07-03T17:54:21.408096Z"
        },
        "pycharm": {
          "name": "#%%\n"
        },
        "id": "RIZBHhZY-weL",
        "outputId": "fc2a1e33-3b8f-4c4d-eb79-c97c5f48efa7",
        "colab": {
          "base_uri": "https://localhost:8080/",
          "height": 431
        }
      },
      "source": [
        "plt.hist(total_spikes_per_neuron, bins=50, histtype=\"stepfilled\")\n",
        "plt.xlabel(\"Total spikes per neuron\")\n",
        "plt.ylabel(\"Number of neurons\")\n",
        "plt.axvline(mean_spike_count, color=\"orange\", label=\"Mean neuron\")\n",
        "plt.legend();"
      ],
      "execution_count": 18,
      "outputs": [
        {
          "output_type": "display_data",
          "data": {
            "image/png": "[encoded data removed]",
            "text/plain": [
              "<Figure size 576x432 with 1 Axes>"
            ]
          },
          "metadata": {
            "tags": [],
            "image/png": {
              "width": 558,
              "height": 414
            },
            "needs_background": "light"
          }
        }
      ]
    },
    {
      "cell_type": "markdown",
      "metadata": {
        "id": "_g0E2XFz-weL"
      },
      "source": [
        "This shows that the majority of neurons are relatively \"quiet\" compared to the mean, while a small number of neurons are exceptionally \"loud\": they must have spiked more often to reach a large count.\n",
        "\n",
        "### Coding Exercise 1.2: Comparing mean and median neurons\n",
        "\n",
        "If the mean neuron is more active than 68% of the population, what does that imply about the relationship between the mean neuron and the median neuron?\n",
        "\n",
        "*Exercise objective:* Reproduce the plot above, but add the median neuron.\n"
      ]
    },
    {
      "cell_type": "code",
      "metadata": {
        "execution": {
          "iopub.execute_input": "2021-07-03T17:54:21.417212Z",
          "iopub.status.busy": "2021-07-03T17:54:21.416528Z",
          "iopub.status.idle": "2021-07-03T17:54:21.534528Z",
          "shell.execute_reply": "2021-07-03T17:54:21.532642Z"
        },
        "pycharm": {
          "name": "#%%\n"
        },
        "id": "pNDgRxiO-weM",
        "outputId": "3b83012d-898b-47ea-a4b3-83553f39c97d",
        "colab": {
          "base_uri": "https://localhost:8080/",
          "height": 448
        }
      },
      "source": [
        "#################################################################################\n",
        "## TODO for students:\n",
        "# Fill out function and remove\n",
        "#raise NotImplementedError(\"Student exercise: complete histogram plotting with median\")\n",
        "#################################################################################\n",
        "\n",
        "# Compute median spike count\n",
        "median_spike_count = np.median(total_spikes_per_neuron)  # Hint: Try the function np.median\n",
        "\n",
        "# Visualize median, mean, and histogram\n",
        "plt.hist(total_spikes_per_neuron, bins=50, histtype=\"stepfilled\")\n",
        "plt.axvline( median_spike_count , color=\"limegreen\", label=\"Median neuron\")\n",
        "plt.axvline(mean_spike_count, color=\"orange\", label=\"Mean neuron\")\n",
        "plt.xlabel(\"Total spikes per neuron\")\n",
        "plt.ylabel(\"Number of neurons\")\n",
        "plt.legend()"
      ],
      "execution_count": 19,
      "outputs": [
        {
          "output_type": "execute_result",
          "data": {
            "text/plain": [
              "<matplotlib.legend.Legend at 0x7f2d44b59fd0>"
            ]
          },
          "metadata": {
            "tags": []
          },
          "execution_count": 19
        },
        {
          "output_type": "display_data",
          "data": {
            "image/png": "[encoded data removed]",
            "text/plain": [
              "<Figure size 576x432 with 1 Axes>"
            ]
          },
          "metadata": {
            "tags": [],
            "image/png": {
              "width": 558,
              "height": 414
            },
            "needs_background": "light"
          }
        }
      ]
    },
    {
      "cell_type": "markdown",
      "metadata": {
        "execution": {
          "iopub.execute_input": "2021-07-03T17:54:21.567423Z",
          "iopub.status.busy": "2021-07-03T17:54:21.566322Z",
          "iopub.status.idle": "2021-07-03T17:54:21.931828Z",
          "shell.execute_reply": "2021-07-03T17:54:21.932371Z"
        },
        "pycharm": {
          "name": "#%%\n"
        },
        "id": "Q8ul5LG_-weM"
      },
      "source": [
        "[*Click for solution*](https://github.com/NeuromatchAcademy/course-content/tree/master//tutorials/W1D1_ModelTypes/solutions/W1D1_Tutorial1_Solution_9af91fe0.py)\n",
        "\n",
        "*Example output:*\n",
        "\n",
        "<img alt='Solution hint' align='left' width=1116.0 height=827.0 src=https://raw.githubusercontent.com/NeuromatchAcademy/course-content/master/tutorials/W1D1_ModelTypes/static/W1D1_Tutorial1_Solution_9af91fe0_0.png>\n",
        "\n"
      ]
    },
    {
      "cell_type": "markdown",
      "metadata": {
        "id": "u6cXuJK2-weN"
      },
      "source": [
        "\n",
        "*Bonus:* The median is the 50th percentile. What about other percentiles? Can you show the interquartile range on the histogram?"
      ]
    },
    {
      "cell_type": "markdown",
      "metadata": {
        "id": "ybmvyLwu-weN"
      },
      "source": [
        "---\n",
        "\n",
        "# Section 2: Visualizing neuronal spiking activity\n",
        "\n",
        "*Estimated timing to here from start of tutorial: 15 min*"
      ]
    },
    {
      "cell_type": "markdown",
      "metadata": {
        "id": "S6Grslyg-weN"
      },
      "source": [
        "## Section 2.1: Getting a subset of the data\n",
        "\n",
        "Now we'll visualize trains of spikes. Because the recordings are long, we will first define a short time interval and restrict the visualization to only the spikes in this interval. We defined a helper function, `restrict_spike_times`, to do this for you. If you call `help()` on the function, it will tell you a little bit about itself:"
      ]
    },
    {
      "cell_type": "code",
      "metadata": {
        "cellView": "form",
        "execution": {
          "iopub.execute_input": "2021-07-03T17:54:21.939391Z",
          "iopub.status.busy": "2021-07-03T17:54:21.938026Z",
          "iopub.status.idle": "2021-07-03T17:54:21.940041Z",
          "shell.execute_reply": "2021-07-03T17:54:21.940561Z"
        },
        "id": "tZdFrle6-weO"
      },
      "source": [
        "# @markdown Execute this cell for helper function `restrict_spike_times`\n",
        "def restrict_spike_times(spike_times, interval):\n",
        "  \"\"\"Given a spike_time dataset, restrict to spikes within given interval.\n",
        "\n",
        "  Args:\n",
        "    spike_times (sequence of np.ndarray): List or array of arrays,\n",
        "      each inner array has spike times for a single neuron.\n",
        "    interval (tuple): Min, max time values; keep min <= t < max.\n",
        "\n",
        "  Returns:\n",
        "    np.ndarray: like `spike_times`, but only within `interval`\n",
        "  \"\"\"\n",
        "  interval_spike_times = []\n",
        "  for spikes in spike_times:\n",
        "    interval_mask = (spikes >= interval[0]) & (spikes < interval[1])\n",
        "    interval_spike_times.append(spikes[interval_mask])\n",
        "  return np.array(interval_spike_times, object)"
      ],
      "execution_count": 20,
      "outputs": []
    },
    {
      "cell_type": "code",
      "metadata": {
        "execution": {
          "iopub.execute_input": "2021-07-03T17:54:21.946273Z",
          "iopub.status.busy": "2021-07-03T17:54:21.944852Z",
          "iopub.status.idle": "2021-07-03T17:54:21.948195Z",
          "shell.execute_reply": "2021-07-03T17:54:21.947642Z"
        },
        "pycharm": {
          "name": "#%%\n"
        },
        "id": "nmfbKMNY-weO",
        "outputId": "12f92c3b-1187-4fae-bd01-79ce79e08814",
        "colab": {
          "base_uri": "https://localhost:8080/"
        }
      },
      "source": [
        "help(restrict_spike_times)"
      ],
      "execution_count": 21,
      "outputs": [
        {
          "output_type": "stream",
          "text": [
            "Help on function restrict_spike_times in module __main__:\n",
            "\n",
            "restrict_spike_times(spike_times, interval)\n",
            "    Given a spike_time dataset, restrict to spikes within given interval.\n",
            "    \n",
            "    Args:\n",
            "      spike_times (sequence of np.ndarray): List or array of arrays,\n",
            "        each inner array has spike times for a single neuron.\n",
            "      interval (tuple): Min, max time values; keep min <= t < max.\n",
            "    \n",
            "    Returns:\n",
            "      np.ndarray: like `spike_times`, but only within `interval`\n",
            "\n"
          ],
          "name": "stdout"
        }
      ]
    },
    {
      "cell_type": "code",
      "metadata": {
        "execution": {
          "iopub.execute_input": "2021-07-03T17:54:21.952491Z",
          "iopub.status.busy": "2021-07-03T17:54:21.951885Z",
          "iopub.status.idle": "2021-07-03T17:54:21.967180Z",
          "shell.execute_reply": "2021-07-03T17:54:21.966623Z"
        },
        "pycharm": {
          "name": "#%%\n"
        },
        "id": "FfiapVYI-weP"
      },
      "source": [
        "t_interval = (5, 15)  # units are seconds after start of recording\n",
        "interval_spike_times = restrict_spike_times(spike_times, t_interval)"
      ],
      "execution_count": 22,
      "outputs": []
    },
    {
      "cell_type": "markdown",
      "metadata": {
        "id": "u_wQ-Wf8-weP"
      },
      "source": [
        "Is this a representative interval? What fraction of the total spikes fall in this interval?"
      ]
    },
    {
      "cell_type": "code",
      "metadata": {
        "execution": {
          "iopub.execute_input": "2021-07-03T17:54:21.973917Z",
          "iopub.status.busy": "2021-07-03T17:54:21.972504Z",
          "iopub.status.idle": "2021-07-03T17:54:21.976061Z",
          "shell.execute_reply": "2021-07-03T17:54:21.975519Z"
        },
        "pycharm": {
          "name": "#%%\n"
        },
        "id": "IsxP2-yR-weQ",
        "outputId": "88ba2743-0b3a-42b2-c1ee-7b21a0934cb1",
        "colab": {
          "base_uri": "https://localhost:8080/"
        }
      },
      "source": [
        "original_counts = sum([len(spikes) for spikes in spike_times])\n",
        "interval_counts = sum([len(spikes) for spikes in interval_spike_times])\n",
        "frac_interval_spikes = interval_counts / original_counts\n",
        "print(f\"{frac_interval_spikes:.2%} of the total spikes are in the interval\")"
      ],
      "execution_count": 23,
      "outputs": [
        {
          "output_type": "stream",
          "text": [
            "0.33% of the total spikes are in the interval\n"
          ],
          "name": "stdout"
        }
      ]
    },
    {
      "cell_type": "markdown",
      "metadata": {
        "id": "YUvXCfJH-weQ"
      },
      "source": [
        "How does this compare to the ratio between the interval duration and the experiment duration? (What fraction of the total time is in this interval?)\n",
        "\n",
        "We can approximate the experiment duration by taking the minimum and maximum spike time in the whole dataset. To do that, we \"concatenate\" all of the neurons into one array and then use `np.ptp` (\"peak-to-peak\") to get the difference between the maximum and minimum value:"
      ]
    },
    {
      "cell_type": "code",
      "metadata": {
        "execution": {
          "iopub.execute_input": "2021-07-03T17:54:21.980602Z",
          "iopub.status.busy": "2021-07-03T17:54:21.980011Z",
          "iopub.status.idle": "2021-07-03T17:54:21.999935Z",
          "shell.execute_reply": "2021-07-03T17:54:22.000568Z"
        },
        "pycharm": {
          "name": "#%%\n"
        },
        "id": "eT7s1HKY-weR",
        "outputId": "24abbc87-4198-4b82-db6d-5138062732b3",
        "colab": {
          "base_uri": "https://localhost:8080/"
        }
      },
      "source": [
        "spike_times_flat = np.concatenate(spike_times)\n",
        "experiment_duration = np.ptp(spike_times_flat)\n",
        "interval_duration = t_interval[1] - t_interval[0]\n",
        "\n",
        "frac_interval_time = interval_duration / experiment_duration\n",
        "print(f\"{frac_interval_time:.2%} of the total time is in the interval\")"
      ],
      "execution_count": 24,
      "outputs": [
        {
          "output_type": "stream",
          "text": [
            "0.37% of the total time is in the interval\n"
          ],
          "name": "stdout"
        }
      ]
    },
    {
      "cell_type": "markdown",
      "metadata": {
        "id": "XidMED8d-weR"
      },
      "source": [
        "These two values—the fraction of total spikes and the fraction of total time—are similar. This suggests the average spike rate of the neuronal population is not very different in this interval compared to the entire recording.\n",
        "\n",
        "## Section 2.2: Plotting spike trains and rasters\n",
        "\n",
        "Now that we have a representative subset, we're ready to plot the spikes, using the matplotlib `plt.eventplot` function. Let's look at a single neuron first:"
      ]
    },
    {
      "cell_type": "code",
      "metadata": {
        "execution": {
          "iopub.execute_input": "2021-07-03T17:54:22.019853Z",
          "iopub.status.busy": "2021-07-03T17:54:22.019192Z",
          "iopub.status.idle": "2021-07-03T17:54:22.196514Z",
          "shell.execute_reply": "2021-07-03T17:54:22.195642Z"
        },
        "pycharm": {
          "name": "#%%\n"
        },
        "id": "q8YMEc73-weS",
        "outputId": "eae43189-eba6-4d79-8d46-d3485d374294",
        "colab": {
          "base_uri": "https://localhost:8080/",
          "height": 431
        }
      },
      "source": [
        "neuron_idx = 1\n",
        "plt.eventplot(interval_spike_times[neuron_idx], color=\".2\")\n",
        "plt.xlabel(\"Time (s)\")\n",
        "plt.yticks([]);"
      ],
      "execution_count": 25,
      "outputs": [
        {
          "output_type": "display_data",
          "data": {
            "image/png": "[encoded data removed]",
            "text/plain": [
              "<Figure size 576x432 with 1 Axes>"
            ]
          },
          "metadata": {
            "tags": [],
            "image/png": {
              "width": 557,
              "height": 414
            },
            "needs_background": "light"
          }
        }
      ]
    },
    {
      "cell_type": "markdown",
      "metadata": {
        "id": "tMzNiWM9-weT"
      },
      "source": [
        "We can also plot multiple neurons. Here are three:"
      ]
    },
    {
      "cell_type": "code",
      "metadata": {
        "execution": {
          "iopub.execute_input": "2021-07-03T17:54:22.270761Z",
          "iopub.status.busy": "2021-07-03T17:54:22.270162Z",
          "iopub.status.idle": "2021-07-03T17:54:22.424884Z",
          "shell.execute_reply": "2021-07-03T17:54:22.423869Z"
        },
        "pycharm": {
          "name": "#%%\n"
        },
        "id": "zLbIliuf-weU",
        "outputId": "3ea3a22b-3e58-420f-e665-00fc5ca46faa",
        "colab": {
          "base_uri": "https://localhost:8080/",
          "height": 430
        }
      },
      "source": [
        "neuron_idx = [1, 11, 51]\n",
        "plt.eventplot(interval_spike_times[neuron_idx], color=\".2\")\n",
        "plt.xlabel(\"Time (s)\")\n",
        "plt.yticks([]);"
      ],
      "execution_count": 26,
      "outputs": [
        {
          "output_type": "display_data",
          "data": {
            "image/png": "[encoded data removed]",
            "text/plain": [
              "<Figure size 576x432 with 1 Axes>"
            ]
          },
          "metadata": {
            "tags": [],
            "image/png": {
              "width": 557,
              "height": 413
            },
            "needs_background": "light"
          }
        }
      ]
    },
    {
      "cell_type": "markdown",
      "metadata": {
        "id": "YcbhZUxY-weU"
      },
      "source": [
        "This makes a \"raster\" plot, where the spikes from each neuron appear in a different row.\n",
        "\n",
        "Plotting a large number of neurons can give you a sense for the characteristics in the population. Let's show every 5th neuron that was recorded:"
      ]
    },
    {
      "cell_type": "code",
      "metadata": {
        "execution": {
          "iopub.execute_input": "2021-07-03T17:54:22.439900Z",
          "iopub.status.busy": "2021-07-03T17:54:22.438828Z",
          "iopub.status.idle": "2021-07-03T17:54:22.879608Z",
          "shell.execute_reply": "2021-07-03T17:54:22.878363Z"
        },
        "pycharm": {
          "name": "#%%\n"
        },
        "id": "lTaUCXED-weV",
        "outputId": "6088111a-a59a-44a3-f2a9-19aadd6dbe4f",
        "colab": {
          "base_uri": "https://localhost:8080/",
          "height": 430
        }
      },
      "source": [
        "neuron_idx = np.arange(0, len(spike_times), 5)\n",
        "plt.eventplot(interval_spike_times[neuron_idx], color=\".2\")\n",
        "plt.xlabel(\"Time (s)\")\n",
        "plt.yticks([]);"
      ],
      "execution_count": 27,
      "outputs": [
        {
          "output_type": "display_data",
          "data": {
            "image/png": "[encoded data removed]",
            "text/plain": [
              "<Figure size 576x432 with 1 Axes>"
            ]
          },
          "metadata": {
            "tags": [],
            "image/png": {
              "width": 558,
              "height": 413
            },
            "needs_background": "light"
          }
        }
      ]
    },
    {
      "cell_type": "markdown",
      "metadata": {
        "id": "0s1HLaXw-weV"
      },
      "source": [
        "*Question*: How does the information in this plot relate to the histogram of total spike counts that you saw above?"
      ]
    },
    {
      "cell_type": "markdown",
      "metadata": {
        "execution": {
          "iopub.execute_input": "2021-07-03T17:54:22.884637Z",
          "iopub.status.busy": "2021-07-03T17:54:22.883994Z",
          "iopub.status.idle": "2021-07-03T17:54:22.889216Z",
          "shell.execute_reply": "2021-07-03T17:54:22.890231Z"
        },
        "id": "WSJyV8lq-weW"
      },
      "source": [
        "[*Click for solution*](https://github.com/NeuromatchAcademy/course-content/tree/master//tutorials/W1D1_ModelTypes/solutions/W1D1_Tutorial1_Solution_b01195c9.py)\n",
        "\n"
      ]
    },
    {
      "cell_type": "code",
      "metadata": {
        "cellView": "form",
        "execution": {
          "iopub.execute_input": "2021-07-03T17:54:22.903300Z",
          "iopub.status.busy": "2021-07-03T17:54:22.902309Z",
          "iopub.status.idle": "2021-07-03T17:54:22.968449Z",
          "shell.execute_reply": "2021-07-03T17:54:22.967927Z"
        },
        "id": "eB_pB1Ay-weW",
        "outputId": "87f40290-d754-4d88-f59d-b302264559e2",
        "colab": {
          "base_uri": "https://localhost:8080/",
          "height": 580,
          "referenced_widgets": [
            "d8be890f32eb4d689940af3c832cd5f7",
            "bd9392a0a6de426c8577803a0133499c",
            "afba835e968648efb508527417fe406c",
            "8137ac64c2f04ecfb6b472d18094c437",
            "ca2a01057d0b499db780a9098984925b",
            "ca78336e35ef44db884776c84752c7b2"
          ]
        }
      },
      "source": [
        "# @title Video 3: Visualizing activity\n",
        "from ipywidgets import widgets\n",
        "\n",
        "out2 = widgets.Output()\n",
        "with out2:\n",
        "  from IPython.display import IFrame\n",
        "  class BiliVideo(IFrame):\n",
        "      def __init__(self, id, page=1, width=400, height=300, **kwargs):\n",
        "          self.id=id\n",
        "          src = 'https://player.bilibili.com/player.html?bvid={0}&page={1}'.format(id, page)\n",
        "          super(BiliVideo, self).__init__(src, width, height, **kwargs)\n",
        "\n",
        "  video = BiliVideo(id=\"BV1dt4y1Q7C5\", width=854, height=480, fs=1)\n",
        "  print('Video available at https://www.bilibili.com/video/{0}'.format(video.id))\n",
        "  display(video)\n",
        "\n",
        "out1 = widgets.Output()\n",
        "with out1:\n",
        "  from IPython.display import YouTubeVideo\n",
        "  video = YouTubeVideo(id=\"QGA5FCW7kkA\", width=854, height=480, fs=1, rel=0)\n",
        "  print('Video available at https://youtube.com/watch?v=' + video.id)\n",
        "  display(video)\n",
        "\n",
        "out = widgets.Tab([out1, out2])\n",
        "out.set_title(0, 'Youtube')\n",
        "out.set_title(1, 'Bilibili')\n",
        "\n",
        "display(out)"
      ],
      "execution_count": 28,
      "outputs": [
        {
          "output_type": "display_data",
          "data": {
            "application/vnd.jupyter.widget-view+json": {
              "model_id": "d8be890f32eb4d689940af3c832cd5f7",
              "version_minor": 0,
              "version_major": 2
            },
            "text/plain": [
              "Tab(children=(Output(), Output()), _titles={'0': 'Youtube', '1': 'Bilibili'})"
            ]
          },
          "metadata": {
            "tags": []
          }
        }
      ]
    },
    {
      "cell_type": "markdown",
      "metadata": {
        "id": "qXvJguCZ-weX"
      },
      "source": [
        "---\n",
        "\n",
        "# Section 3: Inter-spike intervals and their distributions\n",
        "\n",
        "*Estimated timing to here from start of tutorial: 25 min*"
      ]
    },
    {
      "cell_type": "markdown",
      "metadata": {
        "id": "r2WDIJ3g-weX"
      },
      "source": [
        "Given the ordered arrays of spike times for each neuron in `spike_times`, which we've just visualized, what can we ask next?\n",
        "\n",
        "Scientific questions are informed by existing models. So, what knowledge do we already have that can inform questions about this data?\n",
        "\n",
        "We know that there are physical constraints on neuron spiking. Spiking costs energy, which the neuron's cellular machinery can only obtain at a finite rate. Therefore neurons should have a refractory period: they can only fire as quickly as their metabolic processes can support, and there is a minimum delay between consecutive spikes of the same neuron.\n",
        "\n",
        "More generally, we can ask \"how long does a neuron wait to spike again?\" or \"what is the longest a neuron will wait?\" Can we transform spike times into something else, to address questions like these more directly?\n",
        "\n",
        "We can consider the inter-spike times (or interspike intervals: ISIs). These are simply the time differences between consecutive spikes of the same neuron.\n",
        "\n",
        "### Exercise 3: Plot the distribution of ISIs for a single neuron\n",
        "\n",
        "*Exercise objective:* make a histogram, like we did for spike counts, to show the distribution of ISIs for one of the neurons in the dataset.\n",
        "\n",
        "Do this in three steps:\n",
        "\n",
        "1. Extract the spike times for one of the neurons\n",
        "2. Compute the ISIs (the amount of time between spikes, or equivalently, the difference between adjacent spike times)\n",
        "3. Plot a histogram with the array of individual ISIs"
      ]
    },
    {
      "cell_type": "code",
      "metadata": {
        "execution": {
          "iopub.execute_input": "2021-07-03T17:54:22.982203Z",
          "iopub.status.busy": "2021-07-03T17:54:22.981593Z",
          "iopub.status.idle": "2021-07-03T17:54:22.989786Z",
          "shell.execute_reply": "2021-07-03T17:54:22.989137Z"
        },
        "pycharm": {
          "name": "#%%\n"
        },
        "id": "i7LWI8CT-weY",
        "outputId": "0b46d7e1-699b-4fc1-a1d1-75845cfd32d5",
        "colab": {
          "base_uri": "https://localhost:8080/",
          "height": 430
        }
      },
      "source": [
        "def compute_single_neuron_isis(spike_times, neuron_idx):\n",
        "  \"\"\"Compute a vector of ISIs for a single neuron given spike times.\n",
        "\n",
        "  Args:\n",
        "    spike_times (list of 1D arrays): Spike time dataset, with the first\n",
        "      dimension corresponding to different neurons.\n",
        "    neuron_idx (int): Index of the unit to compute ISIs for.\n",
        "\n",
        "  Returns:\n",
        "    isis (1D array): Duration of time between each spike from one neuron.\n",
        "  \"\"\"\n",
        "  #############################################################################\n",
        "  # Students: Fill in missing code (...) and comment or remove the next line\n",
        "  #raise NotImplementedError(\"Exercise: compute single neuron ISIs\")\n",
        "  #############################################################################\n",
        "\n",
        "  # Extract the spike times for the specified neuron\n",
        "  single_neuron_spikes = spike_times[neuron_idx]\n",
        "\n",
        "  # Compute the ISIs for this set of spikes\n",
        "  # Hint: the function np.diff computes discrete differences along an array\n",
        "  isis = np.diff(single_neuron_spikes)\n",
        "\n",
        "  return isis\n",
        "\n",
        "# Compute ISIs\n",
        "single_neuron_isis = compute_single_neuron_isis(spike_times, neuron_idx=283)\n",
        "\n",
        "# Visualize ISIs\n",
        "plot_isis(single_neuron_isis)"
      ],
      "execution_count": 29,
      "outputs": [
        {
          "output_type": "display_data",
          "data": {
            "image/png": "[encoded data removed]",
            "text/plain": [
              "<Figure size 576x432 with 1 Axes>"
            ]
          },
          "metadata": {
            "tags": [],
            "image/png": {
              "width": 558,
              "height": 413
            },
            "needs_background": "light"
          }
        }
      ]
    },
    {
      "cell_type": "markdown",
      "metadata": {
        "execution": {
          "iopub.execute_input": "2021-07-03T17:54:22.998186Z",
          "iopub.status.busy": "2021-07-03T17:54:22.997577Z",
          "iopub.status.idle": "2021-07-03T17:54:23.356486Z",
          "shell.execute_reply": "2021-07-03T17:54:23.355980Z"
        },
        "pycharm": {
          "name": "#%%\n"
        },
        "id": "RUlnwAIF-weZ"
      },
      "source": [
        "[*Click for solution*](https://github.com/NeuromatchAcademy/course-content/tree/master//tutorials/W1D1_ModelTypes/solutions/W1D1_Tutorial1_Solution_2972c168.py)\n",
        "\n",
        "*Example output:*\n",
        "\n",
        "<img alt='Solution hint' align='left' width=1116.0 height=828.0 src=https://raw.githubusercontent.com/NeuromatchAcademy/course-content/master/tutorials/W1D1_ModelTypes/static/W1D1_Tutorial1_Solution_2972c168_0.png>\n",
        "\n"
      ]
    },
    {
      "cell_type": "markdown",
      "metadata": {
        "id": "zUH5zapR-weZ"
      },
      "source": [
        "---\n",
        "\n",
        "In general, the shorter ISIs are predominant, with counts decreasing rapidly (and smoothly, more or less) with increasing ISI. However, counts also rapidly decrease to zero with _decreasing_ ISI below the maximum of the distribution (8-11 ms). The absence of these very low ISIs agrees with the refractory period hypothesis: the neuron cannot fire quickly enough to populate this region of the ISI distribution.\n",
        "\n",
        "Check the distributions of some other neurons. To resolve various features of the distributions, you might need to play with the value of `n_bins`. Using too few bins might smooth over interesting details, but if you use too many bins, the random variability will start to dominate.\n",
        "\n",
        "You might also want to restrict the range to see the shape of the distribution when focusing on relatively short or long ISIs. *Hint:* `plt.hist` takes a `range` argument"
      ]
    },
    {
      "cell_type": "markdown",
      "metadata": {
        "id": "YmZ3hrnE-wea"
      },
      "source": [
        "---\n",
        "\n",
        "# Section 4: What is the functional form of an ISI distribution?\n",
        "\n",
        "*Estimated timing to here from start of tutorial: 35 min*"
      ]
    },
    {
      "cell_type": "code",
      "metadata": {
        "cellView": "form",
        "execution": {
          "iopub.execute_input": "2021-07-03T17:54:23.369679Z",
          "iopub.status.busy": "2021-07-03T17:54:23.369060Z",
          "iopub.status.idle": "2021-07-03T17:54:23.429414Z",
          "shell.execute_reply": "2021-07-03T17:54:23.428823Z"
        },
        "id": "gTIMbKZi-wea",
        "outputId": "607b5c2f-6db1-4a3b-d71a-8810dfb3e9e4",
        "colab": {
          "base_uri": "https://localhost:8080/",
          "height": 580,
          "referenced_widgets": [
            "f57a2c2e7d9b4a5c8aea0d7123e794b6",
            "31357b3dd4be415f84ed7124157f2bda",
            "c2512afc8aaf456f831abaca5b0bf096",
            "e0b4f018668b4c29964a53fcc1035952",
            "c8980d48221345dfb048ca35aa072af1",
            "275a6ba83c254cd7bc8519a1cd8d95a7"
          ]
        }
      },
      "source": [
        "# @title Video 4: ISI distribution\n",
        "from ipywidgets import widgets\n",
        "\n",
        "out2 = widgets.Output()\n",
        "with out2:\n",
        "  from IPython.display import IFrame\n",
        "  class BiliVideo(IFrame):\n",
        "      def __init__(self, id, page=1, width=400, height=300, **kwargs):\n",
        "          self.id=id\n",
        "          src = 'https://player.bilibili.com/player.html?bvid={0}&page={1}'.format(id, page)\n",
        "          super(BiliVideo, self).__init__(src, width, height, **kwargs)\n",
        "\n",
        "  video = BiliVideo(id=\"BV1ov411B7Pm\", width=854, height=480, fs=1)\n",
        "  print('Video available at https://www.bilibili.com/video/{0}'.format(video.id))\n",
        "  display(video)\n",
        "\n",
        "out1 = widgets.Output()\n",
        "with out1:\n",
        "  from IPython.display import YouTubeVideo\n",
        "  video = YouTubeVideo(id=\"DHhM80MOTe8\", width=854, height=480, fs=1, rel=0)\n",
        "  print('Video available at https://youtube.com/watch?v=' + video.id)\n",
        "  display(video)\n",
        "\n",
        "out = widgets.Tab([out1, out2])\n",
        "out.set_title(0, 'Youtube')\n",
        "out.set_title(1, 'Bilibili')\n",
        "\n",
        "display(out)"
      ],
      "execution_count": 30,
      "outputs": [
        {
          "output_type": "display_data",
          "data": {
            "application/vnd.jupyter.widget-view+json": {
              "model_id": "f57a2c2e7d9b4a5c8aea0d7123e794b6",
              "version_minor": 0,
              "version_major": 2
            },
            "text/plain": [
              "Tab(children=(Output(), Output()), _titles={'0': 'Youtube', '1': 'Bilibili'})"
            ]
          },
          "metadata": {
            "tags": []
          }
        }
      ]
    },
    {
      "cell_type": "markdown",
      "metadata": {
        "id": "LPWTAdkO-web"
      },
      "source": [
        "The ISI histograms seem to follow continuous, monotonically decreasing functions above their maxima. The function is clearly non-linear. Could it belong to a single family of functions?\n",
        "\n",
        "To motivate the idea of using a mathematical function to explain physiological phenomena, let's define a few different function forms that we might expect the relationship to follow: exponential, inverse, and linear."
      ]
    },
    {
      "cell_type": "code",
      "metadata": {
        "execution": {
          "iopub.execute_input": "2021-07-03T17:54:23.445271Z",
          "iopub.status.busy": "2021-07-03T17:54:23.443840Z",
          "iopub.status.idle": "2021-07-03T17:54:23.446205Z",
          "shell.execute_reply": "2021-07-03T17:54:23.446819Z"
        },
        "pycharm": {
          "name": "#%%\n"
        },
        "id": "cnnZ5Mdv-web"
      },
      "source": [
        "def exponential(xs, scale, rate, x0):\n",
        "  \"\"\"A simple parametrized exponential function, applied element-wise.\n",
        "\n",
        "  Args:\n",
        "    xs (np.ndarray or float): Input(s) to the function.\n",
        "    scale (float): Linear scaling factor.\n",
        "    rate (float): Exponential growth (positive) or decay (negative) rate.\n",
        "    x0 (float): Horizontal offset.\n",
        "\n",
        "  \"\"\"\n",
        "  ys = scale * np.exp(rate * (xs - x0))\n",
        "  return ys\n",
        "\n",
        "def inverse(xs, scale, x0):\n",
        "  \"\"\"A simple parametrized inverse function (`1/x`), applied element-wise.\n",
        "\n",
        "  Args:\n",
        "    xs (np.ndarray or float): Input(s) to the function.\n",
        "    scale (float): Linear scaling factor.\n",
        "    x0 (float): Horizontal offset.\n",
        "\n",
        "  \"\"\"\n",
        "  ys = scale / (xs - x0)\n",
        "  return ys\n",
        "\n",
        "def linear(xs, slope, y0):\n",
        "  \"\"\"A simple linear function, applied element-wise.\n",
        "\n",
        "  Args:\n",
        "    xs (np.ndarray or float): Input(s) to the function.\n",
        "    slope (float): Slope of the line.\n",
        "    y0 (float): y-intercept of the line.\n",
        "\n",
        "  \"\"\"\n",
        "  ys = slope * xs + y0\n",
        "  return ys"
      ],
      "execution_count": 31,
      "outputs": []
    },
    {
      "cell_type": "markdown",
      "metadata": {
        "id": "xvYSQU0h-wec"
      },
      "source": [
        "### Interactive Demo 4: ISI functions explorer\n",
        "\n",
        "Here is an interactive demo where you can vary the parameters of these functions and see how well the resulting outputs correspond to the data. Adjust the parameters by moving the sliders and see how close you can get the lines to follow the falling curve of the histogram. This will give you a taste of what you're trying to do when you *fit a model* to data.\n",
        "\n",
        "\"Interactive demo\" cells have hidden code that defines an interface where you can play with the parameters of some function using sliders. You don't need to worry about how the code works – but you do need to **run the cell** to enable the sliders.\n",
        "\n",
        "- Which type of function (exponential/inverse/linear) can you make match the data best?\n"
      ]
    },
    {
      "cell_type": "code",
      "metadata": {
        "cellView": "form",
        "execution": {
          "iopub.execute_input": "2021-07-03T17:54:23.458648Z",
          "iopub.status.busy": "2021-07-03T17:54:23.454106Z",
          "iopub.status.idle": "2021-07-03T17:54:23.875898Z",
          "shell.execute_reply": "2021-07-03T17:54:23.876365Z"
        },
        "pycharm": {
          "name": "#%%\n"
        },
        "id": "4E47XqI5-wec",
        "outputId": "0c03d10d-2140-4af3-d3d5-fa30abe4533f",
        "colab": {
          "base_uri": "https://localhost:8080/",
          "height": 654,
          "referenced_widgets": [
            "61e3866ecdc646da82968d49a161a924",
            "8ba51ad80ae44f9e9330eab7a4fbb7a9",
            "66ffa643d36344a3ba81144a351def4c",
            "437d1d21b21c466a81151bc8f8650f06",
            "9aaceaa198664929aa364786ff71e14a",
            "103d68ca18a644a6be626c9798f06d97",
            "f54be492cf6047c88d06553733e55450",
            "061c8d339c1242aaa871181c906776a2",
            "81e7fe92589a4fa69872c98662f31884",
            "e42fbe27ca614dd0994ea3b4211df144",
            "d7df9db0432e4486b269912c1ac108fd",
            "647a4417860c4dc28d8b0b78fbdd0c5b",
            "dd2c151db27a4980b347674bbc52278d",
            "cf95b7d4ce9d4e6ca48d49fd8ecf240c",
            "b6d3883579084ea7b4c0a0bf368a87d6",
            "e9732ef35e324a3ba6c3e19c4030f527",
            "6ac751bf6c6a40eca9eb0fda4a3b4a54",
            "5e9145e6243b46629ec5018ffb009c30",
            "f98ba0f4fb8841baa245626103f7e9bd",
            "e41ae164e4c440b2aaf3183669615797",
            "f5c8e64eb24c4a159b69d6e502cd35a9",
            "0c2a13af60ed4fdf941d41366987f20a",
            "5f30b8a73ee44436a0bf58c3517cae27",
            "f92e071c4f90411ca14df3fda7fbc6e2",
            "48ec94aae5834a1f8ac4dd4404970711"
          ]
        }
      },
      "source": [
        "#@title\n",
        "\n",
        "#@markdown Be sure to run this cell to enable the demo\n",
        "# Don't worry about understanding this code! It's to setup an interactive plot.\n",
        "single_neuron_idx = 283\n",
        "single_neuron_spikes = spike_times[single_neuron_idx]\n",
        "single_neuron_isis = np.diff(single_neuron_spikes)\n",
        "\n",
        "counts, edges = np.histogram(\n",
        "  single_neuron_isis,\n",
        "  bins=50,\n",
        "  range=(0, single_neuron_isis.max())\n",
        ")\n",
        "\n",
        "functions = dict(\n",
        "  exponential=exponential,\n",
        "  inverse=inverse,\n",
        "  linear=linear,\n",
        ")\n",
        "\n",
        "colors = dict(\n",
        "  exponential=\"C1\",\n",
        "  inverse=\"C2\",\n",
        "  linear=\"C4\",\n",
        ")\n",
        "\n",
        "@widgets.interact(\n",
        "  exp_scale=widgets.FloatSlider(1000, min=0, max=20000, step=250),\n",
        "  exp_rate=widgets.FloatSlider(-10, min=-200, max=50, step=1),\n",
        "  exp_x0=widgets.FloatSlider(0.1, min=-0.5, max=0.5, step=0.005),\n",
        "  inv_scale=widgets.FloatSlider(1000, min=0, max=3e2, step=10),\n",
        "  inv_x0=widgets.FloatSlider(0, min=-0.2, max=0.2, step=0.01),\n",
        "  lin_slope=widgets.FloatSlider(-1e5, min=-6e5, max=1e5, step=10000),\n",
        "  lin_y0=widgets.FloatSlider(10000, min=0, max=4e4, step=1000),\n",
        ")\n",
        "def fit_plot(\n",
        "  exp_scale=1000, exp_rate=-10, exp_x0=0.1,\n",
        "  inv_scale=1000, inv_x0=0,\n",
        "  lin_slope=-1e5, lin_y0=2000,\n",
        "):\n",
        "  \"\"\"Helper function for plotting function fits with interactive sliders.\"\"\"\n",
        "  func_params = dict(\n",
        "    exponential=(exp_scale, exp_rate, exp_x0),\n",
        "    inverse=(inv_scale, inv_x0),\n",
        "    linear=(lin_slope, lin_y0),\n",
        "  )\n",
        "  f, ax = plt.subplots()\n",
        "  ax.fill_between(edges[:-1], counts, step=\"post\", alpha=.5)\n",
        "  xs = np.linspace(1e-10, edges.max())\n",
        "  for name, function in functions.items():\n",
        "    ys = function(xs, *func_params[name])\n",
        "    ax.plot(xs, ys, lw=3, color=colors[name], label=name);\n",
        "  ax.set(\n",
        "      xlim=(edges.min(), edges.max()),\n",
        "      ylim=(0, counts.max() * 1.1),\n",
        "      xlabel=\"ISI (s)\",\n",
        "      ylabel=\"Number of spikes\",\n",
        "  )\n",
        "  ax.legend()"
      ],
      "execution_count": 32,
      "outputs": [
        {
          "output_type": "display_data",
          "data": {
            "application/vnd.jupyter.widget-view+json": {
              "model_id": "61e3866ecdc646da82968d49a161a924",
              "version_minor": 0,
              "version_major": 2
            },
            "text/plain": [
              "interactive(children=(FloatSlider(value=1000.0, description='exp_scale', max=20000.0, step=250.0), FloatSlider…"
            ]
          },
          "metadata": {
            "tags": []
          }
        }
      ]
    },
    {
      "cell_type": "markdown",
      "metadata": {
        "execution": {
          "iopub.execute_input": "2021-07-03T17:54:23.881204Z",
          "iopub.status.busy": "2021-07-03T17:54:23.880570Z",
          "iopub.status.idle": "2021-07-03T17:54:23.884239Z",
          "shell.execute_reply": "2021-07-03T17:54:23.884689Z"
        },
        "id": "v-tmelpL-wed"
      },
      "source": [
        "[*Click for solution*](https://github.com/NeuromatchAcademy/course-content/tree/master//tutorials/W1D1_ModelTypes/solutions/W1D1_Tutorial1_Solution_b6cd7761.py)\n",
        "\n"
      ]
    },
    {
      "cell_type": "code",
      "metadata": {
        "cellView": "form",
        "execution": {
          "iopub.execute_input": "2021-07-03T17:54:23.896459Z",
          "iopub.status.busy": "2021-07-03T17:54:23.892167Z",
          "iopub.status.idle": "2021-07-03T17:54:23.957580Z",
          "shell.execute_reply": "2021-07-03T17:54:23.958179Z"
        },
        "id": "rSfLf3C6-wed",
        "outputId": "402735ad-fe2e-45c2-cd59-3a778c1e41c1",
        "colab": {
          "base_uri": "https://localhost:8080/",
          "height": 580,
          "referenced_widgets": [
            "60731b36072a4c9dbaa73c154e8a740e",
            "1cc468b8c50e47d0a014b065387ea62f",
            "ccdc5b5268134eeb860ade1b5cf73bf8",
            "580c9a3a2e444faf98bdbc2d5e379e81",
            "c013b0221d22445a8327597cbad3279a",
            "89a8a10121cd4a0197987177e1ecee95"
          ]
        }
      },
      "source": [
        "# @title Video 5: Fitting models by hand\n",
        "from ipywidgets import widgets\n",
        "\n",
        "out2 = widgets.Output()\n",
        "with out2:\n",
        "  from IPython.display import IFrame\n",
        "  class BiliVideo(IFrame):\n",
        "      def __init__(self, id, page=1, width=400, height=300, **kwargs):\n",
        "          self.id=id\n",
        "          src = 'https://player.bilibili.com/player.html?bvid={0}&page={1}'.format(id, page)\n",
        "          super(BiliVideo, self).__init__(src, width, height, **kwargs)\n",
        "\n",
        "  video = BiliVideo(id=\"BV1w54y1S7Eb\", width=854, height=480, fs=1)\n",
        "  print('Video available at https://www.bilibili.com/video/{0}'.format(video.id))\n",
        "  display(video)\n",
        "\n",
        "out1 = widgets.Output()\n",
        "with out1:\n",
        "  from IPython.display import YouTubeVideo\n",
        "  video = YouTubeVideo(id=\"uW2HDk_4-wk\", width=854, height=480, fs=1, rel=0)\n",
        "  print('Video available at https://youtube.com/watch?v=' + video.id)\n",
        "  display(video)\n",
        "\n",
        "out = widgets.Tab([out1, out2])\n",
        "out.set_title(0, 'Youtube')\n",
        "out.set_title(1, 'Bilibili')\n",
        "\n",
        "display(out)"
      ],
      "execution_count": 33,
      "outputs": [
        {
          "output_type": "display_data",
          "data": {
            "application/vnd.jupyter.widget-view+json": {
              "model_id": "60731b36072a4c9dbaa73c154e8a740e",
              "version_minor": 0,
              "version_major": 2
            },
            "text/plain": [
              "Tab(children=(Output(), Output()), _titles={'0': 'Youtube', '1': 'Bilibili'})"
            ]
          },
          "metadata": {
            "tags": []
          }
        }
      ]
    },
    {
      "cell_type": "markdown",
      "metadata": {
        "id": "aHMgBzZQ-wed"
      },
      "source": [
        "---\n",
        "# Section 5: Reflecting on what models\n",
        "\n",
        "*Estimated timing to here from start of tutorial: 40 min*"
      ]
    },
    {
      "cell_type": "markdown",
      "metadata": {
        "id": "_LM1_Xl0-wee"
      },
      "source": [
        "## Think! 5: Reflecting on what models\n",
        "\n",
        "Please discuss the following questions for around 10 minutes with your group:\n",
        "- Have you seen what models before?\n",
        "- Have you ever done one?\n",
        "- Why are what models useful?\n",
        "- When are they possible? Does your field have what models?\n",
        "- What do we learn from constructing them?"
      ]
    },
    {
      "cell_type": "markdown",
      "metadata": {
        "id": "ojJEB9nk-wee"
      },
      "source": [
        "---\n",
        "# Summary\n",
        "\n",
        "*Estimated timing of tutorial: 50 minutes*\n",
        "\n",
        "In this tutorial, we loaded some neural data and poked at it to understand how the dataset is organized. Then we made some basic plots to visualize (1) the average level of activity across the population and (2) the distribution of ISIs for an individual neuron. In the very last bit, we started to think about using mathematical formalisms to understand or explain some physiological phenomenon. All of this only allowed us to understand \"What\" the data looks like.\n",
        "\n",
        "This is the first step towards developing models that can tell us something about the brain. That's what we'll focus on in the next two tutorials."
      ]
    }
  ]
}