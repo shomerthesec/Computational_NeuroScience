{
  "nbformat": 4,
  "nbformat_minor": 0,
  "metadata": {
    "colab": {
      "name": "W1D5_Intro",
      "provenance": [],
      "collapsed_sections": []
    },
    "kernel": {
      "display_name": "Python 3",
      "language": "python",
      "name": "python3"
    },
    "kernelspec": {
      "display_name": "Python 3",
      "language": "python",
      "name": "python3"
    },
    "language_info": {
      "codemirror_mode": {
        "name": "ipython",
        "version": 3
      },
      "file_extension": ".py",
      "mimetype": "text/x-python",
      "name": "python",
      "nbconvert_exporter": "python",
      "pygments_lexer": "ipython3",
      "version": "3.7.10"
    },
    "widgets": {
      "application/vnd.jupyter.widget-state+json": {
        "75de5516b54e4c1fb9fe0cf327ea276f": {
          "model_module": "@jupyter-widgets/controls",
          "model_name": "TabModel",
          "state": {
            "_view_name": "TabView",
            "_dom_classes": [],
            "_titles": {
              "0": "Youtube",
              "1": "Bilibili"
            },
            "_model_name": "TabModel",
            "_view_module": "@jupyter-widgets/controls",
            "selected_index": 0,
            "_model_module_version": "1.5.0",
            "_view_count": null,
            "_view_module_version": "1.5.0",
            "box_style": "",
            "layout": "IPY_MODEL_66e6f17c10b646128848bc8940e27fef",
            "_model_module": "@jupyter-widgets/controls",
            "children": [
              "IPY_MODEL_5795337c5fba47be871af4a6305269bb",
              "IPY_MODEL_15cf98f7339745ec951cf1262b3d677f"
            ]
          }
        },
        "66e6f17c10b646128848bc8940e27fef": {
          "model_module": "@jupyter-widgets/base",
          "model_name": "LayoutModel",
          "state": {
            "_view_name": "LayoutView",
            "grid_template_rows": null,
            "right": null,
            "justify_content": null,
            "_view_module": "@jupyter-widgets/base",
            "overflow": null,
            "_model_module_version": "1.2.0",
            "_view_count": null,
            "flex_flow": null,
            "width": null,
            "min_width": null,
            "border": null,
            "align_items": null,
            "bottom": null,
            "_model_module": "@jupyter-widgets/base",
            "top": null,
            "grid_column": null,
            "overflow_y": null,
            "overflow_x": null,
            "grid_auto_flow": null,
            "grid_area": null,
            "grid_template_columns": null,
            "flex": null,
            "_model_name": "LayoutModel",
            "justify_items": null,
            "grid_row": null,
            "max_height": null,
            "align_content": null,
            "visibility": null,
            "align_self": null,
            "height": null,
            "min_height": null,
            "padding": null,
            "grid_auto_rows": null,
            "grid_gap": null,
            "max_width": null,
            "order": null,
            "_view_module_version": "1.2.0",
            "grid_template_areas": null,
            "object_position": null,
            "object_fit": null,
            "grid_auto_columns": null,
            "margin": null,
            "display": null,
            "left": null
          }
        },
        "5795337c5fba47be871af4a6305269bb": {
          "model_module": "@jupyter-widgets/output",
          "model_name": "OutputModel",
          "state": {
            "_view_name": "OutputView",
            "msg_id": "",
            "_dom_classes": [],
            "_model_name": "OutputModel",
            "outputs": [
              {
                "output_type": "stream",
                "metadata": {
                  "tags": []
                },
                "text": "Video available at https://youtube.com/watch?v=zeBFyRaoVnQ\n",
                "stream": "stdout"
              },
              {
                "output_type": "display_data",
                "metadata": {
                  "tags": []
                },
                "text/html": "\n        <iframe\n            width=\"854\"\n            height=\"480\"\n            src=\"https://www.youtube.com/embed/zeBFyRaoVnQ?fs=1&rel=0\"\n            frameborder=\"0\"\n            allowfullscreen\n        ></iframe>\n        ",
                "text/plain": "<IPython.lib.display.YouTubeVideo at 0x7fcc838f5f90>",
                "image/jpeg": "/9j/4AAQSkZJRgABAQAAAQABAAD/2wCEAAUDBAkICAgICAgICAgKCAgICggICQoICAgICAgICAgICAgIChALCAgOCggKDRUNDhERExMTCgsWGBYSGBASExIBBQUFCAcIDwkJDhIPEBASEhISEhUVEhISEhISFRISEhUSEhISEhISEhISFRIVEhISEhISEhISFRIVEhISEhIVFf/AABEIAWgB4AMBIgACEQEDEQH/xAAdAAEAAQUBAQEAAAAAAAAAAAAABgMEBQcIAgEJ/8QAXhAAAgEDAgIDCQcOCgcGBgMAAQIDAAQRBRIGIQcTMRQWIkFRUmGS0ggyU3GBk9EVGCMzNEJUVXKRlKGy4iQ2YnN0gqKxs7RDY3V2g6PwCRclN7XCJjXBxOHxhIWk/8QAGwEBAQADAQEBAAAAAAAAAAAAAAECAwYFBAf/xAAwEQEAAQMCBAQFBAIDAAAAAAAAAQIDETHwBBIhUQVBYZFxgaHB0RNSseEUMiIzQv/aAAwDAQACEQMRAD8A4ypSlApSlApSlApSlApSlApSlApSlApSlApSlApSlApSlApSlApSlApSlApSlApSlApSlApSlApSlApSlApSlApSlApSlApSlApSlApSlApSlApSlApSlApSlApSlApSlApSlApSlApSlApSlApSlApSlApSlApSlApSlApSlApSlApSlApSlApSlApSlApSlApSlApSlApSlApSlApSlApSlApSlApSlApSlApSlApSlApSlApWf71J/Ph9Z/Yp3qT+fD6z+xQYClZ/vUn8+H1n9inepP58PrP7FBgKVn+9Sfz4fWf2Kd6k/nw+s/sUGApWf71J/Ph9Z/Yp3qT+fD6z+xQYClZ/vUn8+H1n9inepP58PrP7FBgKVn+9Sfz4fWf2Kd6k/nw+s/sUGApWf71J/Ph9Z/Yp3qT+fD6z+xQYClZ/vUn8+H1n9inepP58PrP7FBgKVn+9Sfz4fWf2Kd6k/nw+s/sUGApWf71J/Ph9Z/Yp3qT+fD6z+xQYClZ/vUn8+H1n9inepP58PrP7FBgKVn+9Sfz4fWf2Kd6k/nw+s/sUGApWf71J/Ph9Z/Yp3qT+fD6z+xQYClZ/vUn8+H1n9inepP58PrP7FBgKVn+9Sfz4fWf2Kd6k/nw+s/sUGApWf71J/Ph9Z/Yp3qT+fD6z+xQYClZ/vUn8+H1n9inepP58PrP7FBgKVn+9Sfz4fWf2Kd6k/nw+s/sUGApWf71J/Ph9Z/Yp3qT+fD6z+xQYClZ/vUn8+H1n9inepP58PrP7FBgKVn+9Sfz4fWf2Kd6k/nw+s/sUGApWf71J/Ph9Z/Yp3qT+fD6z+xQYClZ/vUn8+H1n9inepP58PrP7FBgKVn+9Sfz4fWf2Kd6k/nw+s/sUGApWf71J/Ph9Z/Yp3qT+fD6z+xQYClZ/vUn8+H1n9inepP58PrP7FBgKVn+9Sfz4fWf2Kd6k/nw+s/sUGApWf71J/Ph9Z/Yp3qT+fD6z+xQYClZ/vUn8+H1n9inepP58PrP7FBgKVn+9Sfz4fWf2Kd6k/nw+s/sUEzpSlZMSlKUClKUClKUClKUClKUClKUClKUClKUClKUClKUClKUClKUClKUClKUClKUClKUClKUClKUClKUClKUClKUClKUClKUClKUClKUClKUClKUClKUClKUClKUClKjUvFYVmXqCcEjPWeQ48yoqS0qL99w/Bz87+5TvuH4Ofnf3KGEopUX77h+Dn539ynfcPwc/O/uUMJRSov33D8HPzv7lO+4fg5+d/coYSilRfvuH4Ofnf3Kd9w/Bz87+5QwlFKi/fcPwc/O/uU77h+Dn539yhhKKVF++4fg5+d/cp33D8HPzv7lDCUUqL99w/Bz87+5TvuH4Ofnf3KGEopUX77h+Dn539ynfcPwc/O/uUMJRSov33D8HPzv7lO+4fg5+d/coYSilRfvuH4Ofnf3Kd9w/Bz87+5QwlFKi/fcPwc/O/uU77h+Dn539yhhKKVF++4fg5+d/cp33D8HPzv7lDCUUqL99w/Bz87+5TvuH4Ofnf3KGEopUX77h+Dn539ynfcPwc/O/uUMJRSov33D8HPzv7lO+4fg5+d/coYSilRyz4oEkkcfUEb3RM9ZnG5gucbOfbUjoFKUqoUpSgUpSgUpSgUpSgUpSgUpSgUpSgUpSgUpSgUpSgUpSgUpSgCtZXf2x/wAtv2jWzRWsrv7Y/wCW37RqSsKVKUqK2r0OdBt/xPYXupW1/pVja2c3UzPqU00AU9UspkLxwOixhWHNmHjqW2vuUNXuQ3cGt8L6g6ru6q01KWSVseQC12j4ywFSj3OP/lrx38Vx/kIq5e0u/mtZorm2mlt7iJ1kimhdo5YpFOVeORCGRgfGDQX/ABlwxfaPeS6fqdrJZ3cRG+GXBODzV0dCUljI5h0JU+Ims/0jdGt1odjod/c3FnNHrFkL63jtnkeWCIw2swS6WSJQkm27QYUsMq/Pszv33X7prXB3B/FMyIuozLDaTyIoTre6LWWeUYHPq1uLWRkXOF65/LWtfdD8Aabo+i8E3thC8VxquireXrNLJKJbg2mmS71WRiIhvuZThcDwh5BQaVpXVuu9F/BukcP8K8QawbtBdaXHNPptpM73etX9xbWMq9V1kgW1tId07SMpQfZYRuyVVrvVeijgnUtC0/i+1e94f0ZJpkv7KSV7q5uBE80KwWhmkmPdjzpGBhivVyMxClCKDkeldRapwNwhxFwlres8Nadf6PeaOescXVzLP3VEqCQiVJLiVAHi6zGwqVdBnK9sJ6B+jXTJ9I1Xi3iVrhtD011tksrQlLjUL1zCBEZAQ0cINzCvgkZMhJZBG24NJ0ro3UeCuGeKOHNZ1jhfT7zRNR0RFubqwnupby3urJ1kkaUTXDOyyCO3nYbSADGyspDq6+PcxdEuj8Q6BxFd6o4tZrN4xFqMk0iQ2MPUtLNcSRK6pMEVS2H5HAGR20HOtK616MeCOj/iuW+4f0ay1i31CCxlng1y7nbNx1EkUPXtbCfqgGeZG2GGMlC/2tsCtU+5U6L7bifX5LDUXmS1tLKe/mityFmuOont4BbK/PYrPcAllGcKQCpYMA1BU56PujO71rTdb1S3ubOGHR7YXNxHcvIk06GK5mC2yxxMrvi2YYYqMsvPtxK+k3X+DJbG/tNL4W1TR9Xjkjjt57i9nnCNFdRi5W8tri5bqZOpWVdoVsOR2YzV10BdH2m6tw5xrqN9A8t3penJcWTrNJGIpTa6jKWZEYLKN1vGcMD2ek0GkaVuv3OfRTY6pZ6txDxBNPBoGkrmVLYqs97cKglNsjnmgCtGCBgsZ4wrLzImXAmicB8Y3Mmh6bpWpcOapLDO9jeveS30U8kEbSlJ4Z53AbYrOUXGVjcCRTtyHMVK3d7nPoutr7jKfh3XoDKtsuoxTxRSyRDuizOzcksZVmj3AkHsIINT3TuGejvTdbj4avLbUdb1C41AWcl9BcSQ6fptzc3HUw2UPU3MbziEsiPIwkOQx7cxoHKlK2R0v8DWXD/F11os09w2lwXtnvnUKbpLC6itrp9vgFXuI4bgru24Zkzt54ravRvJ0c6zqtpocPDerxm7c28Op3WozCcTFGMZltoLkwpuIxkBgCR4OM0GgOjrRE1PWNJ02V3jjvdTsLF5I8b40u7qKB3TcMbwJCRnlkVLeljo0TS+L5eGLK5Mi91abaQ3N5hPD1C3s5A85hTwY1e6IJVSdq9hNZXS+EhoPSPpukJI00dpxVpMUcjY3vC2oWkkJk2gDrOrdd2ABnOKkfukNNivelOazuFLQXOqcPW0qhihaGey0qKVQy81JRyMjmKDU/SlwJc8PatNo9zLb3NzEICXs2eSF+6IY5kVDJGjlsSAY29tYDVtLuLSTqru3ntZSofq7iJ4ZCjZ2vskUHacHB9BrfXG3DOgcN9Io06SwupdJibT+ptobh+uS7uLa2khlM8kgYos77iC3Zyweyp/7uHV+G49UuoL7Sb6415tMtzbXyXLJZRgtJ1KywLMpYAh84XJ3dvkDjqlb490/wBGmmadY8Pa/wAPQyxaRqtmC0ckr3BguyguEV5JWLB2jd02jkDaydmatL7o+03TOj+HXNRgkfW9Wv8AqtMzLJGttZRsC88luHCyhkt5SGII/hNucY7Q0lSlKC70f7ot/wCei/bWtj1rjR/ui3/nov21rY9WEkpSlVClKUClKUClKUClKUClKUClKUClKUClKUClKUClKUClKUClKUAVrK7+2P8Alt+0a2aK1ld/bH/Lb9o1JWFKlKVFdYe5itJbjo643hgiknmkMyRwwo0ssjtYxBUSNAWdifEBWkOE+hXiXU7mO1g0PUoi7BTPeWs1naxKTgvNcXEaoqgZOBljg4BPKrHgDpT1zQIZbfSNSlsoZZBNIkaQuHkChA5MsbEHaAOXkrL61088V3kTQz8Qah1bcmEDrasR41MlqiPtPYRnBHI0G0/dncQ2dlp/D/BVhcJdfUiCNr2ZMYF3Fbi2iQ4JCzYaeR0+962MduQLX3Xf8WujT/dtf8holc2scnJ5k88ntJrP8U8aajqlvp9rf3b3Nvp1uLWyiZY1FtAEhj6tDGgLDZbxDLEnwB6aDenutP4qdGX+wp/8loVXeof+TNp/txv85c1oDifjTUdTttOs767e4ttOha3somWNRbQskMZjQogZhtt4h4RPvB6a9vxxqbaSuhG8c6Ss3dC2W2PqxNvZ9+/Z1mdzscbsc6DfnuaP/L/pB/o3/wBnNUu9ynxReycBavY6CtrLr+nXj3UdlcIJhdWszQSlhEcbpGVbiNQCfDjjBI3iuVeHuONT0+xvtNs7x4LG/XZd26rGVuF2FMMzoWXwWI8Ejtqx4V4jvdKukvdNu57K6T3s1u5jfaSCUbHKSM4GUbKnsINBvriHpw43vLHVbCbRkjt5LG8t74xaNcRPb2klvLHcySuD9gCRM7b35Lgk9lZD3N3/AJe9IH8x/wDaPWseJvdBcV6lazWV5rcslrNE8EsSW9pb9bDKpSSN3trdHZGVipGeYJqI8P8AHGp2FjfaZZ3jwWN8Nt3bqsZW4G0phmdCy+CSPBIoN3f9nb/Gy5/2Jef5uwrVfRrNr1tqtzqPDcd495ZGWWQ2cRuWW3kl6p+utgrddbksAwKkDkTjGRguBOM9R0K6a80m7eyuWhaAyosbkwuyOyYlRlwWjQ9n3tVOBuOtU0O6e90q+msrmRSkkkexhKhYOVkjkVo5BuUHDKaDqq8vE474S4i1LiPh9NM1bSLKS4ttZhhe0F3LDBcTR2yNON7qDCsbws0i/wAIQrsYriE+5S/id0lf7Ij/AMlq9am6QembiLX7cWmq6tPc2u5WNuscFrC7KQyGWOzijWbDAEb84IBHOsDwzxtqWm2moWNjePb2uoxCC9hVY2W5iCSxhGLoWUbZ5B4JHvvioOgfc+2h1vo44w4csT1mqrexaolqATJPAv1NlRYV/wBI7NpcseBnDPHn3y5jvuM+A9Tfi+wu5LG7t7XTzdT3VxPBJBHFi1mhSJnlUDrmklUbM7tokOMKcaU4V4jvdKuo73Tbueyuo/ezW7mN8EgsjY5SRnAyjAqw5EGptxh088U6tayWV/rVxJayKUkiiit7QSxkYaOVrOGNpY2BwVYkEdoNBu3oB16HU+lnVb61ZXtpjq3VSIcpLFGqRJMhHasgjDj0MK0pov8AH+3/AN8Iv/WlqHcE8W3+i3YvtLuntLsI8YmRUdgkgw64lVlwQPJVpFrdyl8upLMwvVuhei4wu4XSzdeJsY27usG7GMeig6Y6U+ELbXumGTSr5mW0nksjMFbY0iW3D8F11Icc16wwCPIwfD5EHFTfhXVNZt+N49E0vhGy0jQrXUzE9xb6QOslsYMquoT6pKm3dKiB1ZSGwyJl2GW494g4w1G/1I6xdXsz6mXgk7tQiCdZLZI44JI2gC9XIixJhlwRtB7edSrizp14p1SBLa91y7aFHSQLAIrIs8ZDRmWSyjjebawDDeWwyq3aAQGxuky3ePpft96Mm7ifh+RdwI3I02nFXXPap8or706f+bq/7c4Y/wAtpFap4u6W9e1a706+1DUnuLvTpFlspuotomt5VkimVwsEKrI2+GNsuG978dYXWeMtRvNUGtXN28uqCa3uO6yqB+utFiW3faqhMoIYwPBx4Izmg3N7reZY+kiWSRgiJPobs7HCqi21kzMxPIAAE5rJ/wDaC6Hd986XYtbhrVtKtcXKxO0GYpLhZFMqjarLkZBOQGU9jDPP/GXE97rF5JqGpXLXd5II1ed1RWYRRrFGCsaqowiAch4qld7028ST6U2iTavNNprQi3aCWK3kdoVxiNrp4TcFRtA9/wBgxQbx9zVYx8Z8F6pwbPIsV1YXcF/YTuobqIridpHMa5yWWTupWPLwbxRUC92txTDc67DotiQumaDaRaVBEhBjSdETurZjmGXZFbkHsNrWS9x9rFjw/b8RcUXd9aR3NtpstlYaZJdxxXF/cSdXcMO5t3XPF1kVsgYKV+ySntj5c/ajeSXM01xO7SzTSyTSyN76SWVy8jt/KLMT8tBb0pSgu9H+6Lf+ei/bWtj1rjR/ui3/AJ6L9ta2PVhJKUpVQpSlApSlApSlApVpqOoxwDLnnjIUe+P0fLUZvtdmlyExGvPsODgeVs9lYzLKIS9mA7SB8tUDfRA7TKgPk3CoC8pJwWJHlznn5a8M/o/Of1UzJhsdJFPYwPxEHtr3Wt0cqcqxB9BIPZ5RWc0ziJ1IWbw17Nw98PSccmpk5UspVK1nWVA6HKnx/wD0PkNVayQpSlEKUpQKUpQKUpQKUpQBWsrv7Y/5bftGtmitZXf2x/y2/aNSVhSpSlRSlKUClKUEg4D4L1LXbl7PSbR725SFrhoo2jQrCjxxtJmV1XAaVB258IVLdW6AOLLWJ55eH77q0GW6nqrlwB2kRW0jyMPiFbI/7Oj+Nd5/sK7/AM9ptXnuQ+JeJ77i2JY7/Vb3SUku1vu6bie6sI7fq5THuM7Mkc/WCLYVw/PzS9By9StndOdrHqvG2r2+iRrcd1au1vbpBtCz3cjrFMY2JCFXuesbfnaQ27OOdbGToA4dtbyHQNV4xWDiabqUFtbWMktjb3NwimG2kuGwsjsWGNzwkhk8FSwyHNdKl3EvR3qNjr8nDbQibU1vI7OOOJgVuHn2NbSRs2AsUkcscgL7dqv4W3Bxt3iHoO4Y0iRdJ1njRLTiBkhMkcVhNPp1pJOqskVxOo8FTuB3u8ZCsrsigjIav6Uei2+4dttHur2azlj1W0N5bravK7xxCO3k23AmgQJJi5TkpYcm59mYJXU/u77FrWw4GtmeKRoNIngaSBushkaGHS4y8MmBviJXIbAyCDWpumXorXh7TuGb9b5rs61povzEYBCLUmCym6oOJW64fwsjdhfednPkGsaVtOXolVeCo+Lu72LtfGz7g7nG0ATvD1ndPW5z4GcbPHj01lehjoLOsaXc8QavqkOhaBbsVN5NH1slwyOqOsEZZQF3sIg2WLSEKqOcgBpelbc4+4O4Qit4Z9F4rnvH7st4Li3utNnikjtpmYSXkTOkfWrEEJMaqxO5fe8s7w6V+jXg5OF+GGl1q10mFo8x61b8PzPc639gXw7mO3UTxHB3/ZiffGg5U4X4K1LU7bUbywtHuLbToRcXsqtGotoSk8gkcO4ZhstpT4IJ8A+jMerd3QZwnd3mjcdT6fr1zYWlhpwlngghzHrVv3PqzJFcBpVMCFIHHY2BcNy5c410FdElzxRNdt3VBpul2MBuL/VbkbobSLa7ABC6iRysbucsiqsbksPBDBraldF6T0G8N6911rwpxab3VooXmWy1Cxls47wJ74QTSIhT5BIR2kAeENd9CnRc+v8AEXe/dTyaZMovBKxg6+SGazVushaIyJ4W9Cp8Llig1xSumNO9zpolpfR6Tr3FkVnq93OYbLTra362VRI5Fm99IGaO3lmQxsIWKc2ADuSMaS6XOB5+HNZvdHuXWWS2dNs6KVSeGaNJoJlVvelo5FyuTtbcuTjNBFKUpQKUpQKUpQXej/dFv/PRftrWx61xo/3Rb/z0X7a1serCSUpSqhSlKBSlKBVrqd4IIy55nsVfOarknHM9nl8gqO6huuZARyRSQny4y+PGTg4+KsK6uWGdNOZYW8keVyXOWP6hzOMj0VbqpOQDy5ZH/XYB/wDX46mmmcDXM6FkiYDG4E58Ik8gB4/j/v5Vey9GF2o9724yQOY9Cr2mvkq4u1TOJmH108LcqjMRLXjrnAA9HKhh8QyTy/6+Opr/AN3t7vKCBioByR2nGcc/SfzZqrD0f3rzBBEwXIHoUecfl3eqav8Al2+8H+Jc/bKCmPAz8efRgHP94/XXggnkPzf/AI8tS7iPhK5tdu+EqQDzwSHBG4Z8hAb5awHcuWwVwOw48TBfIezPo9NbKLtNUZiWq5aqpnExh90TVmtzjG5GIyM9nlI+ipvBKrqGU5UjINa6uIipwfKf1VneENQIfqGPgtkrnxPnmvy1viWiYSulKVkxKUpQKUpQKUpQKUpQBWsrv7Y/5bftGtmitZXf2x/y2/aNSVhSpSlRSlKUClKUHSv/AGdH8a7z/YV3/ntNrYvRF0v3HG8OucIaxe/U/UbqK4Gm6hY7rUt1QO+2dIpFMm3q97Rg/ZYjcKSuBnl/oU6T73hPUJdS0+G0nmktJLMpeJK8QillgmZlEEsbdZut1GSSMFuXYRFdP1i4tryO/tpDBdRXC3UUsfIxTpJ1qOm7PYwHI59OaDcHudNGk0HpG0vT9XRbee2vrm0dXOENxNY3MNmY2YDekss0Jjb74SRkdorYnTZ0i6Fo3E+ox6hwDFcajDfd0jUG1q5ie63Ms9teqnchWPcpRtikhTlcnbWkemTpdvOKLqzv7uzsLO/tkEYvNOW4gmlVWEkXWmW4k8KN9zKy7SN7czyxN4fdM3F1bwRcQcO6BxFPbx9XDe6haKbkL2nrSVZGyQCdgQHAyCedBJui/pKi4q6UtD1d7FdODQ3FuYDcd1BpYdK1BYpOt6mPwizRgDbyKjma1B7oyzuhxjxDFOkjXD6zdmNMFneGeYyWIRQMsGt5IdoHiK1juNOka71HVrfWI4LLSrm2W2W1j0qE2tva9xtvgaKJnbDBufbjl2Y5Vti/91nqc0aTNoug/VpIWgj1s2u+6hQ5G+FJCdj/AH2Nxj3c9mPBoMv7uS1kg0zgOCZGimi0WSKSJxteOSO30pHR1PvWVgQR6Ks/dhD/AOHejY+I8OjB8RxY6KTg+PtH5xWqul3pb1HiiLSotSjtgdNt3t45oRN11wJFt1eW6eaZ+smJt1YsoXmzeUYmnB3ulb6y0iz0q90fRtaWwCDT59TgMz2ZiUpAdmcOY0IRWTq2CjG49tBOOIdKuLToatEuYZIHl1WO5RJBtZoJ7uZ4Zdp5hHTDDPapUjkQTV6S42uuh7hx9OVjbW19Gb5YvBEe2TUoJXnUYyhvZYzzzlpY29Nan6QPdAa1rukTaPqQs5opr0XrXIjlS5VlctHDHibqUgQYQKI84AySSWNl0J9NmqcKi4gtVtrzTrk7rjTb5DJbSMyrG8qbWDRStEoQnmrALuVtq4DWVdQe6SU/93nR+cHAhwT4gTaIQCfL4J/Ma1x0ndNA1fT5NLs+HdA0O0lmhnlOm2ghuZZICxQNLHsQx+F2FCeXbWQ6P/dBXOn6NFoOo6PpOv6fbuZbSPVIetNsxaRgPC3LIimV9vghlDsu7bhQEt9yP/FTpN/2DF/kdeq+6DN03RXxtBaMO7Eu2uJlXm4sRBpzyFgOYQw214M9nJ/Ia0zwF0qXmi2XENha21i0GuW3ctz1scubeLq7yIdxiOZVjIW9kxvDjwU5cjm16Iuk3U+Fr1r3S5UHWR9VPa3CmW0u4s5VJ4lZSdrcwysrDLAHDMCEq9xvbTScbaH1CsSktzJIyg4SBbK5ErOR71SrbefaXA8YrcvRdcQy9MuqtblTH1uqISvZ10doI7ns7T16yZPlzWt7n3TFxbwXCaDw9oHD1zcxmOe+060VboqTn7CwCqmDzG4OAeYweda16J+kS84b1ZNZtI7e4ulSdMXokkjfuhCkjP1UqOX55zu7fLQZ6ad5OP8AfI7O54vGXdizHGsADLHnyAA+QVKvd5/x0vP6Hp/+WWtRjiib6sfVrZD3T9Uvqp1eH7n6/uruvZt37+p38sbs48eedZLpd6QLribVJdWvoraG4kihiMdosiQhYEEakCaR23EDn4VBEKUpQKUpQKUpQXej/dFv/PRftrWx61xo/wB0W/8APRftrWx6sJJSlKqFKUoFKUoLfUX2xSH+Qf18qyHRPw99UNQjVwSiHcQByCqME+T/APNWN6m6N18qkVs/oAtlghvL5xhV2xqccy7H3q+Unly9IrzvEa5ptzj4e77uAoiq5ET8W1rHSooQFCryGMeIAdnyVfwWCOfer+aoOekK0hm2XCsGPPA8LA9O3lU94U4isb1cwSqTjJBVkPl5bgM/JXH3bV2JzMTh19m5amMRMTKvbaLEMkqBy8ny1dQaREuTtTPi5DP93bWTlhUgbWHPn/1iqc8ttEoaWeOPyl2C8/lNaqeeW6Yp1lEOJ+GYblCroD6cdmAQP1GtKcd9F20M8K8zkgD/AK9Nb5v9ds/9HcRuf5DhsE9meYrHXU6TLnkw54I5+UEfqPKt9nibtmfOGi9w9q9T5S4u4i06S3YrIuGVgOzGVwe35MfmrEWkux1cZyrbuXo5kfKPHW0+lOPr55FCgbWPYOfLPy55H+7yVquaEo5B8HB8f/Xkrs+Fuc9HXVx3EURTViNGx1OQD5QDX2vMXvV+If3V6r7HyFKUoFKUoFKUoFKUoArWV39sf8tv2jWzRWsrv7Y/5bftGpKwpUpSopSlKBSlKBSlKBSlKBWR0HQrzUJGhsLO6vZVjaZorSCS5kSJSqtKyQqzLGGdQWIwCy+WsdXSP/Z5/wAZdT/3cvv89plBzdStq9AHQ1LxemsC3vVtbiwtY5oYXgEiXk0wnEcLzGZBaqWhAMmHwHJxywZf/wBwOk3mnaq2hcWW+saxpVq15d2kNpJHZyxors6Wd4zbZ+SMFlQurNsB6veCA57pXTPua+AeHdQ4V4ovNRv4DdpaQ9dJLpc1xJw4u7UFiuoHDfw5pkQPti2lOpAPaKg/Rf0O2fEfEd7oul68Z7OCwa9h1X6myRm7KCzWSHuG4uI3gxLcum5nOeqzjDDAaepW1eP+jLTrDuPTNP12PWuJpb+CwudMs7eRbWCadSnVQahIBDcutwUiJDLzY5VdrYl2q9CPDel3KaRrfGkdnrjCESxwadNcafYyzqhSK4uy6qV8IEuxi2qwZgo5kOfKVLelrgG84a1WfSr8KZYwsiSx5MVxbyAmKeIsAdpwQQeYZXHiqJUClKUClKUClKUClKUClKUF3o/3Rb/z0X7a1setcaP90W/89F+2tbHqwklKUqoUpSgUpSg+N2Gt49BmnRNpCyyyCKNJZmyWCoTkozsGP3qg8/SagPRposd13RI8UUxSS2hEcudoWcymRhtIxJiMAN97ljg1v3o24Yis7BbXIljS4nKMwDEq8zyRnwhgMFZRnyiue8Y4uP8Arp1iY/h7/hfB1Ri5OlUTj5ThDdT4w0WyjLixubqHrlhNx1EcUReTl1glvZYQ0PLnMuUHlrIcNTWl6sV1ZRyQI+DskVVZclgrZQsjo3VthkZlO04PI4n2qacWAAlJXkNhRZFx/WBP66tYbGOLwgiB8AEooXIUkgHb5CTj468C5epmnEROfjn7Pet2aqZzMxjthcQ2EpUYk8Xp7edRXiTSLcKWu3ZowfegE7iTjCqoLMT4lAJqZ2Vwypz7CfH/AH1S1vRFu1RvB3KQRuUMoIBBOPEcHGfpNaLdeKoh9F2jp1av0XT+GbhwtleRW96XeIRSSNC7yRMUkj7nuQpchgexT5fHWdudGntHGUDQluZH3pY9vPy5/UfLUij4Xi2tDLb2Ukcmd/8ABky5btZi2d58ue2qt/o3c9v1KSytGo8BZGE2wD3qrI43lRjlk59Nb71+J6RmY9ev1fLbs8vb5dPo0R0z6IsMi3SLylJU47Q6js+WtG6xbiUttADjIPiz4s10P0+yZtoxg5EsYUKM+EQcD4/FWA4O6IpJokurxJA/J+5YmEbBSuQZ5WB2nPMIAT25r2uB4ym3ZiqufT16PH4vgq7t+abcfhr1BgAeQAfmFeqznG+gnTrrqfC2MiypvxvClmQq+ORIdGGR2jB5ZxWDro7dym5TFVOk9XgXbVVquaKtYnElKUrNrKUpQKUpQKUpQBWsrv7Y/wCW37RrZorWV39sf8tv2jUlYUqUpUUpSlApSlApSlApSlArpH/s8/4y6n/u5ff57TK5urN8HcWaho88lzpd5NZTyQtbvLA212gd45HiJI96WiQ/1RQbw9ySxXQOkYgkEcMykEHBB7k1PmCOyvvuHft3Fn+697+2laN4e4qv9Phvbeyu5raG+gNtdxxNhbm3KyIYpRjmm2Vx/WNOFeKr/SjcNp15NaG4ga1nMJ29dbvgvE+RzU4oN6+5Ss5bnhbpHtreN5riTStP6uCMF5ZSserkiONfCduzkASSQPGK9+4GtpIOKtQjmjkhlXh+9JSRWjkXdcaeykqwBGVII9BFaK4J4v1HRLruzSr2exudjRmSBsB42wTHLGwKTR5Aba4IyqntAIySdJutrqdzrK6pcpqlzEIJ7xCqSywhIUEbbFChNtvEMAD3i0GS9zfrVvp/FehXd4yx20d/GskjkBIuuV4Fldm5KiNIrFj2BSfFUt90Z0ba3JxpqsMWnX1099qMk9pJHBI0U8N0wki2Tber2RhxGzEgJ1bbiMGtI1sPRum7iezs1sLbXr+O1ROrROsDvFGBtVIp5FM0SqOShWG0AYxig2L7vm+ifiOxtEkSaex0Oys7qRWJIuOtup+rbyERzI/l+y8653qrd3DzSPLK7yyyO0kkkjF5JJHYs7u7El3ZiSSeZJNUqBSlKBSlKBSlKBSlKBSlKC70f7ot/wCei/bWtj1rjR/ui3/n4v21rY9WEkpSlVClKUClKUG0fc/J9kvm80WzD0Mq3bKQPGd2PzVvnhnDWxO4sR1bZLHLEqCzHPMknnXMPRXri2V+gmlEVrP9jnZs4XaC8MmRzUiQAbvEHb5N922rqlvNLCyvEyl1aMhkZFycoQcEcq5Lxe1VTfmqdKojHth1nhV6mqxTTGtMzn3z90q1TVIYoyHYZIOFHafL8Q9NWMKSsA7IVXbv+IEjGc/GKiOmb597Sje7rls9gBHJB5FAJ7P7zVG7trpZFkjubneq7AkrFoynLwSi43HkPCOTy+PPkxb65l7PPHk2Lcw4iiZee4cgPEfSO2rYX3UjEoI8ee3A8eR5BUOgtdQmB6277mC4INuoeTyqAZkKqOXPwT8YrK2O9cNcTSXMijALIsa+MElV5M2M8+Q9ArXXZ65iWyLkTGEo0lOsbfuyh5+Irz55+Ll+uvHEB5YB5HwfRz7OVQyHWWsLjZnFrM3LyQSE8h6IyT8h9B5ZTWL1nKY7Mhjj0Hl2dgrKuMU4a6qszlH9UtVnvEjKhsOrcxkAjmMZ9NSrTNLlt4ZC03WCWNpeYGY5AoBVSBnZlRgGsHoaF7/PLd1vLPYNqrj+6qvSdxZHodqPfSzyrshjY7iZEzlpGPZGuVJ9PZ21jboquVRRTGZnRhF2m3E11TiI13/DSfTvch9YdAc9VBFGwH3rM0k5U+kCYCoHVW7uHmkkllYvJI7SO57WdyWZj8pqlX6Bw9r9K1TR2iIcJxN79a7Vc/dMyUpSt7QUpSgUpSgUpSgV46lfMX1R9Fe6VFU+pTzF9UfRVaytEklijKqA8kaZCjIDuFz+uvNXWkfdNv8A0iD/ABUoOpvrRLD8b3f6Nb0+tEsPxvd/o1vXS1KiuafrRLD8b3f6Nb0+tEsPxvd/o1vXS1KDmn60Sw/G93+jW9PrRLD8b3f6Nb10tSg5p+tEsPxvd/o1vT60Sw/G93+jW9dLUoOafrRLD8b3f6Nb0+tEsPxvd/o1vXS1KDmn60Sw/G93+jW9PrRLD8b3f6Nb10tSg5p+tEsPxvd/o1vT60Sw/G93+jW9dLUoOafrRLD8b3f6Nb0+tEsPxvd/o1vXS1KDmn60Sw/G93+jW9PrRLD8b3f6Nb10tSg5p+tEsPxvd/o1vT60Sw/G93+jW9dLUoOafrRLD8b3f6Nb0+tEsPxvd/o1vXS1KDmn60Sw/G93+jW9PrRLD8b3f6Nb10tSg5p+tEsPxvd/o1vVtqfuTbCGCaYatdMY4pJADbQYJRCwBx4uVdP1YcSfcV3/AEW4/wAJ6D8w441IB2LzAPvR4x8VfepTzF9UfRS394v5K/3CqlVHgRKPvV/MK90pVQpSlApSlApSlArenQffrcaeLZ8Hq2kt2B8SSEyRn4sOV+PFaLqY9EmuCzvwjttiuAIifEsoOYX+PcSPjYV5vivDzd4eYjWOsfL+noeG3/0r8Z0npv5tjcVvqVpZSXGnEEocTRspbaI8h2UL4RAweQx46mHDvCepXltb3Ud9DJ1kcchwz7VMjspAOTuAC55geMeKswgjIL4wkvhkDsDnlIPW8L+sKwrAWMgSK4mWI5+xxStF1ZLs2cKwRzuYtkjJyc5rl6KueiI6Zjv5usppq5v+FWJ+jO96msYTEtso64wZ3NnwQ2ZiAv2vwT6ezlWB4gtNatkV+qtbhOrEjqZNpXIkYIDsG59sfxZZR46v49YYp913Zk3llTJbwiWyxYYGMMRjmMHsr7Y28jlTKzckRcO7SMFj3BBliQuA7c+058lYVRyzmeXfww3cl3/1VHtLBmylubfddQCF2RiIdwZl5EAORyznxfFWQuGCRjBJ2hELHtLAf38s1m7pMc8DOQq58bEDmfIB2n4h5ajHEdyvvFPgrnn5xz4TH0k9noFfLVVz1YYzHLCA9JWvy21viCVopppwQ8bFXRUIdirDmMlVHxE1q7WNWubxxJdXEtw4XaGlYsVXyDxAfFWV6QtQM966/eRYjUeIHALH8/L5Kjtdr4bwtNqzTOIzPXPn1/px/iHE1XbtURM4jpjy6enxKUpXpPPKUpQKUpQKUpQKUpQKUpQKutI+6bf+kQf4qVa1daR902/9Ig/xUoP08pSlYsilKUClKUGr/dXzvFwbr0kTvHItrGVeNijqe6rfmrKQQfirn3jzhFdE4N0DibSda1qy1+4tNDljt11GadNUu76K1knhW0lZjIR1jydWuUKqysrBhjfvuuP4lcQf0SP/ADVvWldV6NrLReDtI410i5fTNctNC0i8664lN5bXT3Nta9bbGC/MiwtI0zBFh2AF9oAB5B0JadI8EWr6bw7fxXEGr3mmLfo3Vp3FK6I5ubeKYSFjOhhlOwr71c55jOQ4649s9HudIs7hLia61W9FlaQWqJJIWAUzXEoeRdlrEHQu4ztDA4rR/T5d3F/wvwvx7bQdXqWlNp2sPDGXCtaXwt+7rcYyzQGTqjubOIhKTyJrMdFmoR8XcaX/ABJC3W6RotjFpWmOfeS317F19/coOxJUjkaFvKskRzyxQSvinp90bT9Q1HSpYtSm1KyktYVsrS1Fzc6hLd27XSJp8Ucm6XZEpLtII1XwRnLLnL8XdLum6Tpmnajfx30EuopF3HpHcxfWLieVEfuRbJW8G4UyKjbmCqzIpbLqDAeh+yibpG49uGiRp4otEjjlKgyRxz2KGZEbtVXMMecduxfJVDpEwOlXhRrvItTol6tkXOIfql/4j14Xxdb1DQjn4zFjnigm3BnTdp9/qEOl3VhrWhX9wrPa2+vWBsDehRlhbOJHR2A+9JU55DJq/wCkbph0jh+/ttP1WWW2a4s7m9W5KK1rHFbLIzLIwfrDM5j2IiIxdnRRzatd+7WYGPhFICv1UbizTjZgY67AWUSGP77b1zWmceMx+iqfS3YQ3PSfwTHcRRzRiw1KYJIodRLbwX08Em1uW9JY0dT4mVT2igmnAXTrpmraqmjmy1nS72aF57RNYsu4l1CGMOzPafZGZhsjdxuC5CnHMEC+90ZwLPr+hXFvYzS22pwEXljNDK8D90wgnqC8bqdkqFo+ZwrNG+DsFQ3ptH/x70eHx7tfGfHgWUXLPk5n85rfNBztonuiA/BY1VozJxEsy6GNN6tutm4gZQkIFuArGJwROVXHZJGDuXFSnhkR8BcJzalrk13f3QkivtVuI27pnlvtQuYLdlgE0ir1EbzIoAKghXcLucg674e4K09emDUGFuvgaOdbRP8ARpqcz2tvJciMcmYi4mk8LOJJC4wQMT73bX8RNd//AKz/ANY0+g2JxRxhbado82tzrMbOK0W9ZY1Vp+qZVYBUZwpfDjlux286yHCmtRalYWOo24kWC8s7a9iWUBZViuoUnjEiqxVZAsgyASM55mtQ+6D1u1tuju5M9xFH3Vo9pbW+5hm5uJ4YjFFCo5yMVDNyzhVdjgKSJ70E/wAVeGv939G/9OtqCZ0pSgUpSgVYcSfcV3/Rbj/Cer+rDiT7iu/6Lcf4T0H5iW/vF/JX+4VUqnb+8X8lf7hVSsmJSlKBSlKBSlKBSlKBSlKDpDok4g+qFigdgZo8JIM896AKWx/KUq35/JUj1LQ45Ww+GzjkR8nlFae6DopY1uZh4COU6s+NmhysrY8afZVXPlz5Kn91xG8DjrAcg9uMjHlBriuP4WaL9UW++fu7DgOK5rVM19ks0/hWGIAoAp7PHz+Pnzq/W02Y5jH6vj51DrXjuPsZgoPlqjqPGfXDq4efiJHYa+G5YuVavvjiKY0wkOtakpBCEdhUYPvVzlm+M1Grm3LDs7QTmqum2zyeE/ve3Hl8nyVl57fCHl4v1VqnFHSFiJrcycQ2sqXE7yQyxq88pVpEZVYF2I2sww3LyVja6V4J6P8Au43hnX+BTW/UhVffvlcpO0qfZHCFFiwG5ENPGMDPPnjiDS5LG7uLOb7ZBK8THxNtPguP5LKVYehhX6Bw9zmjHZw1+jlnPdY0pSvoaClKUClKUClKUClKUClKUCrrSPum3/pEH+KlWtXOkfdFv/SIP8VKD9PaVR7qj+Ej9dfpp3VH8JH66/TWLJWpVHuqP4SP11+mndUfwkfrr9NBWpVHuqP4SP11+mndUfwkfrr9NBiuOuGLbWtOutLvg7WlyixyiNzG5VZEkAVxzXwkFa0i9zPw2eoW4j1K+ht9nVWt5qd3NbRiNdsarCJAAgXltHLHLGOVbg7qj+Ej9dfpp3VH8JH66/TQQfp0u47DhbVlisDdqdOlsYNPt4HkEhuY+5IYVgtxuEC9YCdmNqI2MYq19zVwL3u8M6bYPHsumi7svMgB+7boCWVHK8maMFIc+SFa2F3VH8JH66/TTuqP4SP11+mgj/D/AAPZWOqaprECyi91PuUXTNIWjbuOPqoerjxiPC9uO2qfSV0fabxDbxW+pwM/Uyie3uIZGgu7ScYxLbXERDxtyHLmDtXIO0YkndUfwkfrr9NO6o/hI/XX6aDXfBXQrpem38eqSTapq+pRI0cF7rd9JqM1rG+dy24fCR8mI3bdwBOCMnMi1fgOxuta0/X5llOoafDPBbMshWJY7mOaKXfEOTkrO/M9nLyVIu6o/hI/XX6ad1R/CR+uv00Ef4i4Hsr/AFPStWuFlN5pZuTaFJCsam7jWObrIwMSZVRjPZUmqj3VH8JH66/TTuqP4SP11+mgjltwFYx67NxEqy/VKaxGnOxkJh7mDxSBRFjAbdCvhfHWX4p0K11OyudPvoVntLmJoZomJXejjnhlIZHBwQykFSAQQQKvO6o/hI/XX6ad1R/CR+uv00Gn9J9zVw9DDLBKNRvw1tLaQtf3r3DafbTY6yLTl2iO1yqhd4UvtyN3M52tw1pEOn2VnYWwYW9pa29nCHbe4htokhiDMffNsQZPjq67qj+Ej9dfpp3VH8JH66/TQVqVR7qj+Ej9dfpp3VH8JH66/TQVqVR7qj+Ej9dfpp3VH8JH66/TQVqsOJPuK7/otx/hPVz3VH8JH66/TVhxHdR9x3f2SP7mn++X4J/TQfmVb+8X8lf7hVSvFv7xfyV/uFe6yYlKUoFKUoFKUoFKrWVrJPIkMEUk0znakUSNJI58iogLMfiFbM4Z6CdZusPcpFp0PaWuW3zBezIghJ8vY7JWM1RGqxEy1bV7oukXN9KILK3luZj95Eu7HLOXb3sa+liBXUHB3QPpVoVe6WTU5gwH2ZwtvnHigh8EjxlXZzjngVsyy0eC1AhhigtoRGxCQKttGpbPVElNvILDKTnGCV8ta5vR5M4o7uftZtY9E1bRtN34iTSZIHHIKbm5aC5kmfn4TMyL4uQb01JdT0uOXkw8Xb2Y+Oo/7oWCK7nsNZtRJsjuZbCUujRk9fb272bqrcwrQWueYBG4ZFZThm/M0ao3NtmA3lwOWfkrmPEqZi5zR83SeHzE28MXNwfGWyGOPk+iszo/DKReLPyDPy1lIbcgkEc/Jg1lbSPkM8v+vIK8q5eqmMZerRapjrh4sdNPyduBVWTTpZ5FtbdQ80hwPNQcgXcjsQFgM+UgdpFX6SnkiKWdvBVF5lm8QAHjqd8P6H3HFtOGu5gTK69sa5w0aNnwVGWQNkczK33gxnwHBVcRXmf9Y1/Hxlo47jY4ejEf7TpH3n0h94S0GKzgitbfPVRJsWTkXfL9ZNcc+Qkmmy4PvQscJ7FIrTnuhOiZtTUX+lIkl5EER4UKKt1A+XRRLIwG+GIxEMxG5ZQMnC1vkopjPZ1G3mAOU+eQAAGTbkgAKBmU7QAEADUhyidXyJFTrpCDyUyddJJhuxgDCyAHI2xx9oNdhRTyYxv+nI1Vc2r88Nc0e6sZepvbaa1l7Qk8bRlh5yFhiRf5Skj01Y1+hmt8PW92ncl5bQ3UcgLbZo0kRWBjQ9YpAG7fIoDIFzg8kxuOo+Kvc7aVcAtZyz2EjHKdW3dFrIWwVCJMd2TkYQOp8mV8Ovoi93a5o7OT6VsrjPoT1rTiSkC38PMh7Q5m2jxtat9kP/D6wcu2tbzxtG7RyK0cinDRupR1PkZGAKn462xVE6MJiY1eaUpWSFKUoFKUoFKUoFKUoKXc0fwaeqPop3NH8Gnqj6Kq0oKXc0fwaeqPop3NH8Gnqj6Kq0oKXc0fwaeqPop3NH8Gnqj6Kq0oKXc0fwaeqPop3NH8Gnqj6Kq0oKXc0fwaeqPop3NH8Gnqj6Kq0oKXc0fwaeqPop3NH8Gnqj6Kq0oKXc0fwaeqPop3NH8Gnqj6Kq0oKXc0fwaeqPop3NH8Gnqj6Kq0oKXc0fwaeqPop3NH8Gnqj6Kq0oKXc0fwaeqPop3NH8Gnqj6Kq0oKXc0fwaeqPop3NH8Gnqj6Kq0oKXc0fwaeqPop3NH8Gnqj6Kq0oKXc0fwaeqPooLdPg09UfRVWlApSlApSlApSlArYHRl0U3+tFJiO4tOJ53s6EiRVBLC2j7Zjge/OEHnZGKuvc/8AR8NcvnkuEL6fZqs06DI7pkOTDaA9mGK5bn70Y++BHZ1vYpEqABTt7mj8EAIPs8cbqijkqdWQAo5AKorTXcx0hnTT5yhXR9wBp+iRBLGArK21ZLycq11O7MFjieQriJGYrlFwBvXHjNTR7NWBzliDgE/fYj35I8RzyOPGlV2iBB3DI3SORnHKMG2Py7Avy1QVmiyreFtRyT58ztvwB+Vv+fiHOtEtsSsri1aInGMEMN3JfBGBLKx7A+TgHsGQeSlwLTU71SjMTtzukkVvA+xBdm1sjMatsVyD2BJweatUimTduAw3hMhz2EGNGI+Ijb8jVi9Q06OYHdy5PK/LwtqbVUEHt8Eo+OwmIg8iwLBlrXpd0Rbqw1OGPa08cmn3YjjAJdYQY+tRASR9juJOWchY0rXPCkTFDtOHQj9Q5fqroC2snF7AG6vIspIJMlsKUmikSLcVIwDld2CTtzjJGIhxVwU9jdveW0f8Fl+3xIQ3c0vwiqOYt29KjafFg8vK8Ss1VU88dcavV8Nv001ck9M6I7ZXEjdo5+X/APdZmyLyMqKhaRiFVFGWYnsAA8dUJ7UK2cY5Z5cq+6TctFeWrqrMBModVzuMTeBJyVlJ8Bm5bgD4+VeBTbiuqI8pmHu11zTRMxrESl9vosttavcRsO7fBPWMwFvbussZSDfhlmYuuCE3ZKhQVPvpeFLNulxhsL1CBn61xzEZLYMkaj7zC58Jn2hiKxF7P3RcW1qiqVAacxMoIhhQKkZZCNu5ixXkMBVdF5Bi+dLqj7IxukbKNKyllQKpcqQOXIKT1S4HYWIZ1VuwtWqLdMU09Ijfzcheu1XKpqq1lWDAyL1rAyFXkjiBzhVwrSEjtc7wu/kBuCpgElqcx3LIMg9bL1A8X2MYgcr4sBIrmQeg1QRCm9wd0uWjRnwzSTbgXZ9uMqsiqCAMBbRsYFepPBVtoPVW8bKEPvmIhjK4/ldUVT47h/Jz3b39Wl6muCrTSAZZVRVQ+OXw5gg+OS6t0+MVbDYCqcjDFCUYkZXYREgJ7QQILWVyD4pE8tXEdqN8ced7Lvld/F1rs0YJXsCmV7iQDxdSvmiiYZFOMLO4kbHwO0SFWXxfwaCKM+mSpMTO9+eF6LWK2YbMrmSRGd4pDuC7UVioZgxysk0MQHNffHaTWK4g4N0/U0PdlhBdKC6kTqpkUq7xloLjO6PJRseFg4H2qpDJI26V1wXysEfjUyB8FsdoHdMxz6Lc+SvA2J2ZEMEfb74j7F2+XetsPTlrqpFODMuY+k73OjxCS60KYyx8z3BcnbKuBzjiuHx4Y5DZNg8xl+YB5/uYHikkilRo5Y3eKSNwVeOSNikkbqeaurKQQewg1+juG8DeAkrKxZQAyBVwDEfPRGlSJceFndjwdyn8/Okkf+Oa5yx/41q4wOYH/iNzyBwMj5B8Q7K326pnpLCqIYGlKVuYFKUoFKUoFKUoFKUoFKUoFKUoFKUoFKUoFKUoFKUoFKUoFKUoFKUoFKUoFKUoFKUoFKUoFKUoFKVVsrUzyxQL76WWOFfypXWNf1sKiu2Pc88NLpugWACgTTxm/nJADNJOLa4UEj3wSERx8/g/TWwok54HYZ2A9HURvEMfLZ7v61WdhGI+stUUhYrYxrjkFUsY4x28mMSMRgeLn4qv7TBNv4x1XWZ8rN3Nlvl7olPy18s9ZbXxhlWI7SkuPSbl2ZR6yIK9yxh3x4jOpz//AB1KH4w4Rh6UFeYj4CeXEC/LFtmPy4U1Uj5EeiSZvkjmaIf2XT81SBaxeCFc+92G4cDtAZDtQeUCPrVH8zFX2eLKMG5OsPhEdhkKyAqD4xvjbl5HXy1UC+AQfweBfl/hS4/PVRxzf+kQn1VsXH6x+ukDG3gdHdyfCVkUShQSyrsnkjIA5hkOAPK7Yxyqm+pFNwmgdYxsXrbZutgO9Ycg27giNcysPBVuSMcisqE7fTM4+bhZB+q1H56t54AQyKdok7qixy7N00cbDPZsXGPjqzEb36kSwF1wlDcBpY7pI48nAEfvR418KQbcHPI8xy+KqejWkMSKlgBdTSAFrp1PV7MpuKtyMgHWJtRcKWdMn3xEgvtO34dgH3zRqEXwQschXfyJxu2tN4Xb9rP3teUjl2Slf4O+Yok5Aje0aNGQOwKLm9Of5seSvlt8JZoq5qKcb+j6rnF3a6eWqrMb93jSrPqZeu3EmWVoy/axjjwF25YLtPUSvvwfsajABOavri+G6RoxuZB1UaqORllKOASOW1pWhQk8gY5c9hqmtnFG2SGaK3hBAZi424LAbTy3LBbooPbiZvOObm3gKmCLADKGkcr2dbzQnHpmuJX/AOGa+qKcb36vkmVFQQQOSxRR7i7nLEuhBc4+/EMcrHPjuF9NekgY9Ush8NnM8i+IMrLKUB8YE8kCfkxEeWvSkMinxTSdYcfAhRIAV9MEMMZ/nTX2Rm+zOD4ZYQRsOY3huqDEf0meQn0RDyVcRvfbCZeCoZXwT9mcRI2cERBWi3q382lxMPyxXuSXaZZduRFHtCDkSxVZ3QeUEdzRj5RXpEQOByWKKLx81Cv4IPoK29ufnvTXhclYVYeGz90Oh7QVIuWUH0TSW6fEKuN79Qhiw0cRIJjTLv2Eu++HrPjP8Lf1apwDesORnrG7pZTybG4XCx/IzWkePICK9SruSUAk9bJ3Op++VMiz3DygBbiX+tXu8Y7ZGXkxCxofNkmZBHjyYM8HzVTe/lCqcm4lmU4Z2SGN/IFD/ZfIdv8ACJ+fbmKvz76SUC65riKNqrrWroq+aq6jcqq/IAB8lfoRNIqOzKMrChjSMci7ERHYueRJBtoh+XIK/PjpKBGua6GO5hresBmAwGcaldB2A8QLZOPFmtlvVjUwFKUrcwKUpQKVn+B+HU1OW7hN5HaSQ6dfX8SvE87XkljC072kSxkFZGijlbd4RAibCt2C20HhjUdQTrLHTdQvY+f2W0tJ7mIFeRHWwxlNwPizmgxNKuNRsZraUw3ME9tOAGMNzE9vMoJIBaKZQ4BIPMjxGregUpSgUpSgUpSgUpSgUpSgUpTNApSri1sJ5kmkignljgQSTyRRPJHbxsdqyTuilYUJ5BmIGaC3pSlApSlApSlApSlApSlApSlApSlApSlAqTdE9p1+vaNFjIOp2bkeVYp0mYfFiM1Ga2D7nGEPxTo+7kqTTyt8UVncyc/R4NSdFjV2lp5PW3MmfA65oyT4zCkdqIwSOzrI2Y4xzaMZ8IirrT4tsar4lgSEH4mkQY9RCfkrF6W7qXSQMcLFMiLyZ7mYZlUZ7W61jtzgKWZz7wEZXTHGFzt2qXc7SSoUCNcAnmV6tw3PyV8sNsrlF3Oo8skjeqptj/iKapDnGGHvjASPyroKw/5kYHy19TcFXz1tmJ/LKQt+3btXthg7R2CREH5Marcr+yaI+ye+OPHLGB+TGO6h/dIvy0QZKjyyyEnxbYw1srfqhavgcKVbtCi4k+RHjYf8uRhXkx4XqyfexRQ59Mh7nkP51Rvkpv7/AJH1JcKHI7Eecr/KlLSKvx4M6fmr5BAeuVT4SpDs3ZwSzusUpP5SBWHpDV6c5JOO24t1+QSW7EY8m7rR8tUxKVE0gz4NtEeXnpBcufl5x/qqxG9/CBUs3BjtgeSi3WRie0Hq4FH9iWQ/IK9tkmBDyfBlYeIuqgt8vX3MZ/q15mhA61fEsAjX5VljP+Cn569XchVp5F5lIfB/KBnkx8pEH6qRGN77JPVTGCvkEs+fQYUII+RrezHzlepST17Dk7bbdGHnfa93yT3UvzdfQFjcKeSQQ49G0sV/OI7Jh/XNeYUINvG3J9rysR45cIjZ/wCLeu39UVd/b8j28iq7yY+xwxeLyH7M64/moIPXrxHEymCMnw1VpGYdjShRESR6Z7p2/qeivIwyKTyE027PiaLeZQCPIbW1Rf61epZGHXuOUmBEnjVpAPB//wBN2V/4dXf3/A8EBoyOwXE2MeIwkiPI8mbS1Zv61VJZyDPLjLRrgIfG+3uhgPjeaBP6gr0ka9YkS+8jjxg+IORbxsD6IoJz/WqjC26OAkH7JJ3Qw++UZe+x8hECfmpje/WUVEhCtFDnKxRnLHkQQBaIx+MG5b5K87xiN3yBl7pxj7xIzJt/KVp4wP5oV5lG4TePfJHagjt25W3c/GJJrlv6te7k7mXlkMdxUdvVQsbhseIhpHgjI8jUx23vCqFz9iEPWcypaeQqNwzGQ8pAz2Cebfgc9tscZxX5/wDSV/8APNdxjH1b1jG3muPqlc42nxr5D5MV35ds6SSSoxYxlICgyOxQ5baf9MrzdaPE0bsADXAHSJGqa1rSJjYusaqi47Ni6hcKuMcsYArOjVKmDpSlbWBSlKDffRBx73FbWOq63Lp97a2YTQdMsreztZtetXwgNwsgVJYrJbUyK2XYyEoNu5gXsun3itHvNWtZhr+m6pa3cNtZW0eoBtFNnFJ91raokbWxmtsSKF35Lx+EAGFQzgW2jvdE1+xjtLaXUohZ6tbTdSGv2tbWXZqcNvN74BImSURrzYNPyPLER6y51C6TdJPe3lzLDCrzStNPcTSFIIEM0zEuxJRBuPZtHYKKm3BXFj6i8Gia9PLe6fcyLbwXdwxnvdHu526u3vLS6kzL1HWMiyQuxQpnAGCGgutWElncXNrOAJ7aee2lUZwJbeR4pApIyV3IcHxjFbQ4c6L9RNleKmi36cR6fq2nSIbgrHYSWUqyeChl/g10I57fc7KxGyVCCQGUxHpjuEn1m/nj1G01YzFJXvbG3a0tJZmhQOsETSSZRSuN4dg/Nskk0Eu17op07SjZNrHEkVnFeWVtdRLFp091cb5VJm6yKGQiG1jJTEzHMhLgKuwk4686H71OIG0Fbi3cLbDUG1Fsx2yaZty99Im4sgDeBsBPh48Lad4re6bvobm+0lreaKdRwtpUZaF1lVZOsv2MZKEgPtdTt7cMvlraWpcbWFrxUBLe2sdrf8HWmmd3/Yrm2tLmSSeaFrkNuiMO0jcrgr4ce7wSTRGn73gTT57K/u9D1z6qvp8Aubu2l0+bTpDabisl7aNNIwmiTtZDhlXBJyVVsT0hcHHSINHmNwLj6paRb6ptEXVdzmddxgzvbrQoI8Pwc8/BFbJ4ii12ysNQe91nhS0t5rC6ttunxaYbrVY5o8NZ2Ys7JZiko5byU2+CxAxlfPGXD68SaRw3dWOp6RAlhokOmagL+9W1exmtkjVnkjZSzRnDkdhICFQwbIKwtr0MtJrthog1EbrvRI9Y7o7lyIzIs47mEXXjf4cH2zcvJve8udrpvRZBeXcWnWGu2t3exrNNqjLazx6dpVtbqvXzLqEhCX4WVhGOrC7iwJ2AMRty31uwXjvR54r+1ezXhCGFbozRpGSvd8iq7M2I5TEVfYeYDDlWmfc863aW76lp2oXCWVvq2iXOl92yeDHaTyx7Y3mY8kiIZwWJABCZwCSAuJOjawvLW9m0DXl1e4sbdrq4spNPn0+aW2jOJbiyMzt16r5gGea88sob1D0ZWUOlaTrOqa8lhZ38czdWlhNeXSypJiOKCKByZkMYZ3lIUIQi4cuMSbo90LvPbUNX1a/0p3bSrqysrKwvFvZr+4uWhKsiooK2q9UuXYcg+SF284z0pXkL8M8EQxTRSSQ2erpKiOrvExuLJVEqKcxkmNsbsZ2t5KIvte6JNP0uaL6rcTW1tZXaxyafcQWM9zNdwSIjG5ngjfbY26GRRvZ2DcyNuDjHp0OXn1fvNDkuYIo7O3N7capIpFrHp4jSQXRj3ZDHeF6ssMMsnhbVL090VexT23DIgmimKcJ6fG4idZDHIEcGNwhOyTIPgnnyravF/EunTcTcQ6bNqFtBb6zw5babFqPWJJawXXUSmJZ5UbaiMtwSSSByQffig1zw/wBFGnasbxtH4kS7jtLKe5mWbTZ7S5DxpmHq4p5AJbaRgwMgOYyEBVt4IztpwtoT8FRu+txRI2uq7ar9RLqSaO4awAbTOoVuvdFU7utDdWcdmau+hrhEcP3eqy6rqmjpcSaDqEEFtbX8dw0kbGKWa4kbCiKMdQgQNhn3SHaOrNRvo/tU1jg+fQre7soNUh1xNSW3vbhLTui1azjgLQPJydlctkeLaM43LkMNpnR3Zw6fbanrmtLpVvetN3BDHYzX95eQxEA3bQRODb2/NW555PHzBZQZx0T8MwR2vGthbavYXdrLounONVXdDaxQynUGke7jbL28kSqzPHliBt8ZwLLXtGXijSNATT77TYtQ0ixOk3theXcds+IOqiju7Z8lJ4H6gtvUlSHXnlSKt+DrG30nTuNrFtU028lfQ7ECSznDwPcs96stpbyPt7qeNnjUsgxmRRyOQAjmrdHlk+kXmraLrY1ZLB4FvoJNPn06WJLhgkdxCtw5LxZJ5EDkknPKla11Wz+ie+hi4d42jlmijklstJWJHkVHmYXF4CIlY5kILpkLn3y+WtYUClKUClKUClKUClKUClKUClKUClKUCtv+5K0vujXpJCOUNhcDPmvdvDZg/HsnkPyVqCujvcVacc6rdY981rbIf5SpcSH+1LCfzVhXoyp1b6vHIujKFLZ5BB999jZ9qn7xnOoKmfID5Kr6YOdzFvDu0ZLMM8zcB0DAfeoWVtq+JFSrfWclY2jYqWleXI7TDuZVA+MXFt6oqhwVcSuJpJgg3y20yhFIwJgkiq5PaURkj8XKMVonq2JRO3hufFmAfJ10khHqTLSEeEn8+/8AZM9v/divGO0+IyuPm4kh/vt2r7G3hKfIbh/zXER/95pO/dFuDmHPj7jX88luc/nMdV5+bv6ZWX1Ye6F/WKpxL4AX/U2iH4i88R/vr1M2Np8ZM/544Z1/ZWpG/wCCX1D73+mP/Zu7vH7Aqlb5McgPY8kEf9WRNOiYf23/ADmqccpGOXIXs3+dvk/94r3p7jq4Mj30/P8A4TTyD/KLVhJXjNlj6Zoh8Y328p/szNVGTmO339xD8ojMDSD0graSfnNVIvF2fbX/AOVHJED61un5qpKNxhUeW4mHxMCi/wCeFXWd78x8nG5bgHtdo7cH+cjtoT+Z7mX9dVbmUq80nmQb1/rPdTkfmhj/AFV4D8o88w1zLJ/VSS8uU/wY/wBVfJh4M6nmHlSAH0FLW0I9eST9dXf8yK0EQDxx/exxbSPjaKBT8eyCb85qjbvuS38rHullPl2NdH809xD+YVR1O8WMXDlgGMWxB2ln6m5mGAOZH8JTJ7B2mrl4cXEezsRHQj+S1zZRr/ZtnpvfsPEy5jnwT9kk7nU/fINyWCn4g3XP8pqs0qiV3bkkUIbcOzbK7SuD8UVrF61WWmzb0tfE4QTt/KPc27Pxma9U/JXuaVAsikgdfPJHtPiiiKWsjZ8SiG1lbJ5cwO0gFnpnff7mHoKV6hX5OqSzv5DIIsSf86/J/q1VhB3O2eSDq843AGLMkzgA/Duikf6g1Qurnw3kUbiNqKh5BpjIzmPPiVppIYyfEYmz2V5faAtv1mJQolEwXmNjN9nODhmaUySMn3yNJ2gGplVtdl32mPak5PUOhPJZhzjBPaQkkgCnluiuc88CuCOkaQPretuAVVtZ1ZwpGCofULlgpH3pAOMeLFd4XdxhwxGwxLi4jBzsVS0eASM4iWZ5kbALR7eXZXCPSXn6ua5u999W9Xzjs3fVG53Y9Gc1nb1lKtGApSlbmspSlBd6Nqc9lcQ3dpM9vdQSCWGeMgPG4BGRkEMCCVKsCrKzKQQSDMpeKdEvX6/UNDntbwsJJLjQb4WUM8ucl+4LqCWK1YnmTCwBJJwKgVKK6A6KelxxcnSLBbbSLO4g1F1v9a1G41GaLUe45HtLqa6u3WCOIyxRhoFjCkuxBLE7tPcW8Rrfx2aDTdKsZbdZ0ln0y1jsxfNK6Msk8cIEeUCYXaAPDfGAQowFKD4BQCvtKI+BQOwAUKjtwM19pQfMDyV9pSg+BQOwAfFTFfaUGa0rhPULq3N1b2cssH2Yh12BpeoXdOYImYSXWwe+MSttwc4xVNeGL7uM6gLSXuIRtMZvBH2BZOqa4EW7rWthJ4JmC7AcgtyNTvo74m0uyXSZJpY4ZLcXiXQk01r+8aS5kuljms7yRiljZrDPCWSAJLuin8GQy7qwepX+nTW9vM19epPBoVroxsbWJoXne0t1sizXbgxfUyaJTK8TDeTI6bee6gwmqcHahaQrNcWE0UbPFH2KzpLOpeCOaCNjLbyuAdqSKrNjkDWQ1To/v7az7oubeWOZtStNMitBGs0k811BeylVaGRttyjWiRm3K78zpnbyDTrv40q1kup7aSGVTq2janb2seltbzvBpmom5a2vtSmd57zUDFIPskrtFujdg+ZNoxfDXE2l6O0LQ3dzqX/j8GpODaNAVs/qbrFg7YnfEmoI2oI7DkjFUAc8yoQ244J1JZ4bVrCZp5knkhjj2T9ctsjPciJ4WZJJI1UlkB3LyBAJANW/4E1WCKSeWwlWGKFrhpQ8LoYI13yzwmOQ90RIvN2i3BBndtxUpHF1nbRx2sM1u0a2+vOX07TPqXarc6hoc2l2gWJszyTs5XrJDtRVEQG/aWrGaNxNaxNpBdnC2nD+uadLiMnbdah3wdQqD75D9UbfLDkMtn3poqL3WgXcUl1HJbSJJaRJNcq2P4PFI0CRu5zjaxuYQME56xcZrHVsfjbUer0LTUkjmh1LULazjvFmQo0mn6DJdW2lzlZMPtuFkhO8jwvqcpBIIzriiFKUoFKUoFKUoFKUoFKUoFKUoFKUoFdce5KtO5+H2uAPDmub25HpMASBB61sPz1yPXcPQZYC20HSoiMEW1vMw/n5Vu5M/GGNarujOhLdYj2I6JzMcASPPnDrY4/7dvB+qrHQJQkk0eSVVY2LN98esnAIPxQk/KKyF9nnnmeujGfKYI4pmHzltKPlNYfTYx192CTgoNv5FrJPCQPygCf69a506b30ZpUnvYx/rJyR6Al+2fzutfJTgMfJHe/2ZIT/AO2qGjy5kVG7RuX5XKKT+YOaqsd0e7z7e6kH/F6px+pxU8t+guSo3keLcI/lTfMv7VWkzZWD0yTZ+W11DP60q5kbwy3lkZ/Vt3B/Yq2x9r/k3NwvybtUjH7Qqxv3hHtlxkYz/CLh/Va6mH/MVPz16tMbYAA27Msy4AIIIkyDnt8G6Y4r1ajLjPZuuM+jN3CM/mL180wH+CZB+5lznnzI05T8vvv11jy5jG/IzhUVgvPOfBuJfzziTl8QmA+WvlvhHG7/AEMEfP0dY5f+zYrVCIloUBxk2qKceWaKEH87IfzV9u/Cjux98w6pT6ZLeFU/5l41WN+39D1ZoQLWNu0Qc/y+rtIT/mJP119jcFIT2rJP1/xKXub9f1JH+qvdxNsklfxRxbx8XWXUn91sn6q+Qw7Wgh8SQMnxNi0tVP5jL+usvTflCNM2Ul8vH18BDJLZTafaW4d7jZFFDHPp9vcSRwoG3fwi3niCuFOesO7BXO5Xn2NPN2hIY2I/lIl3dn/ESra3gjVoZxGgeWaWUyBRvKP3bdqC3bt8CL8y1VuF+x3SeJ36lfjaKys/2mapHfeg8PbGKS2RfvItvxiJ9Mh2/KQfzVap9ktrdgcOYY9zjbuXMcdxIy7/AAd5aQEbuQIDnPV4OTaQdfI7e9SNHB8gNxdzN/Zt0/VWEgtztjtXHMWjEgnCl4k0qMBvEVyzduR25B5ilW/oypVIblI4xMQwjjX7HsVnYAjb1qKPCYlCQoOSxeEnm5qP6txEVkCQhO6nlR2K+F3LImEEJK+CzJCVQAe+zPkAOCauqm5it7hhkGMSyCVvCAdVfDqnPmrE4BLNuO85IVmjfBNmABLINrRdeHDMHJeLuiVPsg5MAke7PInrMkA8hIjoyymdnO0siuQAWiKuU7EaBJXjwCciMr3TEc5IxGPFmuHek4517Xj5dd1k/n1O6ruDQ4ikrOfeN3U6gnJQF4TcRN5QHkdlP+twMDt4d6Sv/nmuZ7fq3q/5/qjc5rbba62ApSlbWspUM765/Mh9V/bp31z+ZD6r+3UXCZ0qGd9c/mQ+q/t0765/Mh9V/boYTOlQzvrn8yH1X9unfXP5kPqv7dDCZ0qGd9c/mQ+q/t0765/Mh9V/boYTOlQzvrn8yH1X9unfXP5kPqv7dDCZ0qGd9c/mQ+q/t0765/Mh9V/boYTOlQzvrn8yH1X9unfXP5kPqv7dDCZ0qGd9c/mQ+q/t0765/Mh9V/boYTOlQzvrn8yH1X9unfXP5kPqv7dDCZ0qGd9c/mQ+q/t0765/Mh9V/boYTRiSckknAGScnAAUDJ8QAA+ICvlQzvrn8yH1X9unfXP5kPqv7dDCZ0qGd9c/mQ+q/t0765/Mh9V/boYTOlQzvrn8yH1X9unfXP5kPqv7dDCZ0qGd9c/mQ+q/t0765/Mh9V/boYTOlQzvrn8yH1X9unfXP5kPqv7dDCZ0qGd9c/mQ+q/t0765/Mh9V/boYTOlQzvrn8yH1X9unfXP5kPqv7dDCZ0qGd9c/mQ+q/t0765/Mh9V/boYTJuw/FXeHRtcx/U/TgZIxmzskI3qMA2a8sZr83e+ufzIfVf26pniWU9sNv6je3WNVPMsdH6jC6icQnrI/DzORvX/AEsgcjt8l7j5KjtpeqtzZ4kjO6NVbLrgloY1Tdz8cquT8Rr82++SX4G29Rvb9Nfe+WX4K39RvbrGKGXM/TSS8WJ1ZZU3KeR3rlmiPgk8/vlUfOVnu6IgsSCaPAt3TO9eXgW0Y8f+ravys75Zfgbb1G9unfHJ8DbfNt7dT9OO5NT9UJbyP7EOtj5yzr79eQ6nUVHj8qCvsl1EB9ti5XMze/XsNzM2e3yS1+V3fJJ8DbfNt7dO+SX4G2+bb26vJ6pl+p73sai4xLHyg3Dw198xvXPj8safqq4lvI0aUiSL7HANvhr4numx2/6hK/Kjvjk+Btvm29uvnfHJ8DbfNt7dIoMv1VnuYkJQSRjaLZffr2LLcL5fJGPz15W6iKopljBN0nPev+huXkJ7fMsxX5W98cnwNt823t075JPgbb5tvbp+mZfqhLdxlLhTLHltkIO9ex4LWLy+fcyfrqudSiWaVzLHhY0f36+KS+mI7fJGn6q/Kjvjk+Btvm29v0075JPgbb5tvbq8hl+qkE0adzwmWLwYGXO9SMpFZ2/M5/1z/rryl3EyoDLH4V4XB3r70X090PH5lutflZ3xyfA23zbe3X3vjk+Btvm29v0U5DL9Tp7qMxXamWPdsEI8NfwKJRjn5901J7mLusnrY8BU571xia7ldvH5lmv6q/LHvkl+Btvm29v0075JPgbb5tvb9FTkMv1HudRhEAzNHh4rVtpdS2WMnWdp7cbPVqIaZLH1KAvHhrtm27lw0MdrdQPHjPjC+PygdmBX5zjiSX4G29Rvbr73yy/BW/qN7dItwvM/UGzMaQqpnikZba4+yb1Bkzb2pVjz5s21c+muFek8g69rxBBB13WSCOYIOp3RBB8Ywa1P3yS/A23zbe3XscVTjkEgx+S/t1lTThJnKaUqGd9c/mQ+q/t0765/Mh9V/brJjhgKUpUUpSlApSlApSlApSlApSlApSlApSlApSlApSlApSlApSlApSlApSlApSlApSlApSlApSlApSlApSlApSlApSlApSlApSlApSlApSlApSlApSlApSlApSlApSlApSlApSlApSlApSlApSlApSlApSlApSlApSlApSlApSlApSlApSlApSlApSlApSlApSlApSlApSlApSlApSlApSlApSlApSlApSlApSlApSlApSlApSlApSlApSlApSlApSlApSlApSlApSlApSlApSlApSlApSlApSlApSlApSlApSlApSlApSlApSlApSlApSlApSlApSlApSlApSlApSlApSlApSlApSlApSlApSlB/9k=\n"
              }
            ],
            "_view_module": "@jupyter-widgets/output",
            "_model_module_version": "1.0.0",
            "_view_count": null,
            "_view_module_version": "1.0.0",
            "layout": "IPY_MODEL_6994e7eac2f24667accdd40cdcfb93ba",
            "_model_module": "@jupyter-widgets/output"
          }
        },
        "15cf98f7339745ec951cf1262b3d677f": {
          "model_module": "@jupyter-widgets/output",
          "model_name": "OutputModel",
          "state": {
            "_view_name": "OutputView",
            "msg_id": "",
            "_dom_classes": [],
            "_model_name": "OutputModel",
            "outputs": [
              {
                "output_type": "stream",
                "metadata": {
                  "tags": []
                },
                "text": "Video available at https://www.bilibili.com/video/BV1Cf4y117b6\n",
                "stream": "stdout"
              },
              {
                "output_type": "display_data",
                "metadata": {
                  "tags": []
                },
                "text/html": "\n        <iframe\n            width=\"854\"\n            height=\"480\"\n            src=\"https://player.bilibili.com/player.html?bvid=BV1Cf4y117b6&page=1?fs=1\"\n            frameborder=\"0\"\n            allowfullscreen\n        ></iframe>\n        ",
                "text/plain": "<__main__.BiliVideo at 0x7fcc838f5a90>"
              }
            ],
            "_view_module": "@jupyter-widgets/output",
            "_model_module_version": "1.0.0",
            "_view_count": null,
            "_view_module_version": "1.0.0",
            "layout": "IPY_MODEL_30290e02a33b47fe9fa718d911ebc84e",
            "_model_module": "@jupyter-widgets/output"
          }
        },
        "6994e7eac2f24667accdd40cdcfb93ba": {
          "model_module": "@jupyter-widgets/base",
          "model_name": "LayoutModel",
          "state": {
            "_view_name": "LayoutView",
            "grid_template_rows": null,
            "right": null,
            "justify_content": null,
            "_view_module": "@jupyter-widgets/base",
            "overflow": null,
            "_model_module_version": "1.2.0",
            "_view_count": null,
            "flex_flow": null,
            "width": null,
            "min_width": null,
            "border": null,
            "align_items": null,
            "bottom": null,
            "_model_module": "@jupyter-widgets/base",
            "top": null,
            "grid_column": null,
            "overflow_y": null,
            "overflow_x": null,
            "grid_auto_flow": null,
            "grid_area": null,
            "grid_template_columns": null,
            "flex": null,
            "_model_name": "LayoutModel",
            "justify_items": null,
            "grid_row": null,
            "max_height": null,
            "align_content": null,
            "visibility": null,
            "align_self": null,
            "height": null,
            "min_height": null,
            "padding": null,
            "grid_auto_rows": null,
            "grid_gap": null,
            "max_width": null,
            "order": null,
            "_view_module_version": "1.2.0",
            "grid_template_areas": null,
            "object_position": null,
            "object_fit": null,
            "grid_auto_columns": null,
            "margin": null,
            "display": null,
            "left": null
          }
        },
        "30290e02a33b47fe9fa718d911ebc84e": {
          "model_module": "@jupyter-widgets/base",
          "model_name": "LayoutModel",
          "state": {
            "_view_name": "LayoutView",
            "grid_template_rows": null,
            "right": null,
            "justify_content": null,
            "_view_module": "@jupyter-widgets/base",
            "overflow": null,
            "_model_module_version": "1.2.0",
            "_view_count": null,
            "flex_flow": null,
            "width": null,
            "min_width": null,
            "border": null,
            "align_items": null,
            "bottom": null,
            "_model_module": "@jupyter-widgets/base",
            "top": null,
            "grid_column": null,
            "overflow_y": null,
            "overflow_x": null,
            "grid_auto_flow": null,
            "grid_area": null,
            "grid_template_columns": null,
            "flex": null,
            "_model_name": "LayoutModel",
            "justify_items": null,
            "grid_row": null,
            "max_height": null,
            "align_content": null,
            "visibility": null,
            "align_self": null,
            "height": null,
            "min_height": null,
            "padding": null,
            "grid_auto_rows": null,
            "grid_gap": null,
            "max_width": null,
            "order": null,
            "_view_module_version": "1.2.0",
            "grid_template_areas": null,
            "object_position": null,
            "object_fit": null,
            "grid_auto_columns": null,
            "margin": null,
            "display": null,
            "left": null
          }
        }
      }
    }
  },
  "cells": [
    {
      "cell_type": "markdown",
      "metadata": {
        "execution": {},
        "pycharm": {
          "name": "#%% md\n"
        },
        "id": "YfcyCsAjNZTI"
      },
      "source": [
        "# Intro"
      ]
    },
    {
      "cell_type": "markdown",
      "metadata": {
        "execution": {},
        "id": "ELCSkPQcNZTN"
      },
      "source": [
        "**Our 2021 Sponsors, including Presenting Sponsor Facebook Reality Labs**\n",
        "\n",
        "<p align='center'><img src='https://github.com/NeuromatchAcademy/widgets/blob/master/sponsors.png?raw=True'/></p>"
      ]
    },
    {
      "cell_type": "markdown",
      "metadata": {
        "execution": {},
        "pycharm": {
          "name": "#%% md\n"
        },
        "id": "HwAv9D5wNZTP"
      },
      "source": [
        "## Overview\n",
        "\n",
        "Today, we'll learn all about dimensionality reduction, a machine learning technique which we use all the time in neuroscience! Dimensionality reduction means that we are transforming data from a high-dimensional space into a lower-dimensional space. In the intro, Byron Yu will introduce you to several ways to performing dimensionality reduction and discuss how they're used to investigate possible underlying low-dimensional structure of neural population activity. Tutorial 1 sets up the foundational knowledge for the main type of dimensionality reduction we'll cover: Principal Components Analysis (PCA). In particular, it will review key linear algebra components such as orthonormal bases, changing bases, and correlation. Tutorial 2 then covers the specific math behind PCA: how we compute it and project data onto the principal components. Tutorial 3 covers how we assess how many dimensions (or principal components) we need to accurately represent the data. Finally, in Tutorial 4 you will be briefly introduced to a second method of dimensionality reduction, a non-linear method called t-SNE. You'll hear from Byron Yu again in the outro, where he will connect dimensionality reduction to brain-computer interfaces.\n",
        "\n",
        "Dimensionality reduction is a core machine learning technique that is used constantly in neuroscience for a variety of reasons. Neuroscientists use it as a simple data analysis tool to compress data into a lower number of dimensions that is better suited for further analysis and modeling. For example, decoding all pixels of an image from neural data is difficult as that is 100s to 1000s of dimensions. We could instead compress to a lower dimensional version of those images and decode that using the methods and models we've already learned about (such as linear regression in *Model Fitting*). We can also visualize data better in lower dimensions - you'll use PCA to visualize the internal representations of a deep network and mouse brain in *Deep Learning*. We can also use dimensionality reduction to think about and investigate low-dimensional structure in the brain - whether it exists, how it is formed, and so on. You'll see more insight into this if you look through the bonus day materials on *Autoencoders* that will appear shortly in the jupyterbook."
      ]
    },
    {
      "cell_type": "markdown",
      "metadata": {
        "execution": {},
        "pycharm": {
          "name": "#%% md\n"
        },
        "id": "MojaW6whNZTR"
      },
      "source": [
        "## Video"
      ]
    },
    {
      "cell_type": "code",
      "metadata": {
        "cellView": "form",
        "execution": {},
        "pycharm": {
          "name": "#%%\n"
        },
        "id": "atakxrtCNZTS",
        "outputId": "8c1ff054-077c-4a03-a6bb-b992dc284a13",
        "colab": {
          "base_uri": "https://localhost:8080/",
          "height": 580,
          "referenced_widgets": [
            "75de5516b54e4c1fb9fe0cf327ea276f",
            "66e6f17c10b646128848bc8940e27fef",
            "5795337c5fba47be871af4a6305269bb",
            "15cf98f7339745ec951cf1262b3d677f",
            "6994e7eac2f24667accdd40cdcfb93ba",
            "30290e02a33b47fe9fa718d911ebc84e"
          ]
        }
      },
      "source": [
        "# @markdown\n",
        "from ipywidgets import widgets\n",
        "\n",
        "out2 = widgets.Output()\n",
        "with out2:\n",
        "  from IPython.display import IFrame\n",
        "  class BiliVideo(IFrame):\n",
        "      def __init__(self, id, page=1, width=400, height=300, **kwargs):\n",
        "          self.id=id\n",
        "          src = \"https://player.bilibili.com/player.html?bvid={0}&page={1}\".format(id, page)\n",
        "          super(BiliVideo, self).__init__(src, width, height, **kwargs)\n",
        "\n",
        "  video = BiliVideo(id=f\"BV1Cf4y117b6\", width=854, height=480, fs=1)\n",
        "  print(\"Video available at https://www.bilibili.com/video/{0}\".format(video.id))\n",
        "  display(video)\n",
        "\n",
        "out1 = widgets.Output()\n",
        "with out1:\n",
        "  from IPython.display import YouTubeVideo\n",
        "  video = YouTubeVideo(id=f\"zeBFyRaoVnQ\", width=854, height=480, fs=1, rel=0)\n",
        "  print(\"Video available at https://youtube.com/watch?v=\" + video.id)\n",
        "  display(video)\n",
        "\n",
        "out = widgets.Tab([out1, out2])\n",
        "out.set_title(0, 'Youtube')\n",
        "out.set_title(1, 'Bilibili')\n",
        "\n",
        "display(out)"
      ],
      "execution_count": 1,
      "outputs": [
        {
          "output_type": "display_data",
          "data": {
            "application/vnd.jupyter.widget-view+json": {
              "model_id": "75de5516b54e4c1fb9fe0cf327ea276f",
              "version_minor": 0,
              "version_major": 2
            },
            "text/plain": [
              "Tab(children=(Output(), Output()), _titles={'0': 'Youtube', '1': 'Bilibili'})"
            ]
          },
          "metadata": {
            "tags": []
          }
        }
      ]
    },
    {
      "cell_type": "markdown",
      "metadata": {
        "execution": {},
        "pycharm": {
          "name": "#%% md\n"
        },
        "id": "fM4OzyhHNZTU"
      },
      "source": [
        "## Slides"
      ]
    },
    {
      "cell_type": "code",
      "metadata": {
        "cellView": "form",
        "execution": {},
        "pycharm": {
          "name": "#%%\n"
        },
        "id": "dTj0VTRyNZTU",
        "outputId": "89b930d2-3d26-44b1-8960-0c4c61d8c463",
        "colab": {
          "base_uri": "https://localhost:8080/",
          "height": 501
        }
      },
      "source": [
        "# @markdown\n",
        "from IPython.display import IFrame\n",
        "IFrame(src=f\"https://mfr.ca-1.osf.io/render?url=https://osf.io/khbwu/?direct%26mode=render%26action=download%26mode=render\", width=854, height=480)"
      ],
      "execution_count": 2,
      "outputs": [
        {
          "output_type": "execute_result",
          "data": {
            "text/html": [
              "\n",
              "        <iframe\n",
              "            width=\"854\"\n",
              "            height=\"480\"\n",
              "            src=\"https://mfr.ca-1.osf.io/render?url=https://osf.io/khbwu/?direct%26mode=render%26action=download%26mode=render\"\n",
              "            frameborder=\"0\"\n",
              "            allowfullscreen\n",
              "        ></iframe>\n",
              "        "
            ],
            "text/plain": [
              "<IPython.lib.display.IFrame at 0x7fcc838f5a90>"
            ]
          },
          "metadata": {
            "tags": []
          },
          "execution_count": 2
        }
      ]
    }
  ]
}