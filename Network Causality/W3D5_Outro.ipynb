{
  "nbformat": 4,
  "nbformat_minor": 0,
  "metadata": {
    "colab": {
      "name": "W3D5_Outro",
      "provenance": [],
      "collapsed_sections": [],
      "toc_visible": true
    },
    "kernel": {
      "display_name": "Python 3",
      "language": "python",
      "name": "python3"
    },
    "kernelspec": {
      "display_name": "Python 3",
      "language": "python",
      "name": "python3"
    },
    "language_info": {
      "codemirror_mode": {
        "name": "ipython",
        "version": 3
      },
      "file_extension": ".py",
      "mimetype": "text/x-python",
      "name": "python",
      "nbconvert_exporter": "python",
      "pygments_lexer": "ipython3",
      "version": "3.7.11"
    },
    "widgets": {
      "application/vnd.jupyter.widget-state+json": {
        "f202fc0e19804c3ba47ad8691c86901b": {
          "model_module": "@jupyter-widgets/controls",
          "model_name": "TabModel",
          "state": {
            "_view_name": "TabView",
            "_dom_classes": [],
            "_titles": {
              "0": "Youtube",
              "1": "Bilibili"
            },
            "_model_name": "TabModel",
            "_view_module": "@jupyter-widgets/controls",
            "selected_index": 0,
            "_model_module_version": "1.5.0",
            "_view_count": null,
            "_view_module_version": "1.5.0",
            "box_style": "",
            "layout": "IPY_MODEL_255596c8ed624308a3b05185ed7f395f",
            "_model_module": "@jupyter-widgets/controls",
            "children": [
              "IPY_MODEL_2cb64e4c42bf4697b7003df690871451",
              "IPY_MODEL_143cd17d1d6143008caa97dd5f4c864f"
            ]
          }
        },
        "255596c8ed624308a3b05185ed7f395f": {
          "model_module": "@jupyter-widgets/base",
          "model_name": "LayoutModel",
          "state": {
            "_view_name": "LayoutView",
            "grid_template_rows": null,
            "right": null,
            "justify_content": null,
            "_view_module": "@jupyter-widgets/base",
            "overflow": null,
            "_model_module_version": "1.2.0",
            "_view_count": null,
            "flex_flow": null,
            "width": null,
            "min_width": null,
            "border": null,
            "align_items": null,
            "bottom": null,
            "_model_module": "@jupyter-widgets/base",
            "top": null,
            "grid_column": null,
            "overflow_y": null,
            "overflow_x": null,
            "grid_auto_flow": null,
            "grid_area": null,
            "grid_template_columns": null,
            "flex": null,
            "_model_name": "LayoutModel",
            "justify_items": null,
            "grid_row": null,
            "max_height": null,
            "align_content": null,
            "visibility": null,
            "align_self": null,
            "height": null,
            "min_height": null,
            "padding": null,
            "grid_auto_rows": null,
            "grid_gap": null,
            "max_width": null,
            "order": null,
            "_view_module_version": "1.2.0",
            "grid_template_areas": null,
            "object_position": null,
            "object_fit": null,
            "grid_auto_columns": null,
            "margin": null,
            "display": null,
            "left": null
          }
        },
        "2cb64e4c42bf4697b7003df690871451": {
          "model_module": "@jupyter-widgets/output",
          "model_name": "OutputModel",
          "state": {
            "_view_name": "OutputView",
            "msg_id": "",
            "_dom_classes": [],
            "_model_name": "OutputModel",
            "outputs": [
              {
                "output_type": "stream",
                "metadata": {
                  "tags": []
                },
                "text": "Video available at https://youtube.com/watch?v=P2pfapZ5no0\n",
                "stream": "stdout"
              },
              {
                "output_type": "display_data",
                "metadata": {
                  "tags": []
                },
                "text/html": "\n        <iframe\n            width=\"854\"\n            height=\"480\"\n            src=\"https://www.youtube.com/embed/P2pfapZ5no0?fs=1&rel=0\"\n            frameborder=\"0\"\n            allowfullscreen\n        ></iframe>\n        ",
                "text/plain": "<IPython.lib.display.YouTubeVideo at 0x7f755648a610>",
                "image/jpeg": "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\n"
              }
            ],
            "_view_module": "@jupyter-widgets/output",
            "_model_module_version": "1.0.0",
            "_view_count": null,
            "_view_module_version": "1.0.0",
            "layout": "IPY_MODEL_de3ad996407246a0ac692ea5560a7896",
            "_model_module": "@jupyter-widgets/output"
          }
        },
        "143cd17d1d6143008caa97dd5f4c864f": {
          "model_module": "@jupyter-widgets/output",
          "model_name": "OutputModel",
          "state": {
            "_view_name": "OutputView",
            "msg_id": "",
            "_dom_classes": [],
            "_model_name": "OutputModel",
            "outputs": [
              {
                "output_type": "stream",
                "metadata": {
                  "tags": []
                },
                "text": "Video available at https://www.bilibili.com/video/BV1cz4y1Q7LL\n",
                "stream": "stdout"
              },
              {
                "output_type": "display_data",
                "metadata": {
                  "tags": []
                },
                "text/html": "\n        <iframe\n            width=\"854\"\n            height=\"480\"\n            src=\"https://player.bilibili.com/player.html?bvid=BV1cz4y1Q7LL&page=1?fs=1\"\n            frameborder=\"0\"\n            allowfullscreen\n        ></iframe>\n        ",
                "text/plain": "<__main__.BiliVideo at 0x7f755360a910>"
              }
            ],
            "_view_module": "@jupyter-widgets/output",
            "_model_module_version": "1.0.0",
            "_view_count": null,
            "_view_module_version": "1.0.0",
            "layout": "IPY_MODEL_0565f2bfbd004d4eb02a5509711be0eb",
            "_model_module": "@jupyter-widgets/output"
          }
        },
        "de3ad996407246a0ac692ea5560a7896": {
          "model_module": "@jupyter-widgets/base",
          "model_name": "LayoutModel",
          "state": {
            "_view_name": "LayoutView",
            "grid_template_rows": null,
            "right": null,
            "justify_content": null,
            "_view_module": "@jupyter-widgets/base",
            "overflow": null,
            "_model_module_version": "1.2.0",
            "_view_count": null,
            "flex_flow": null,
            "width": null,
            "min_width": null,
            "border": null,
            "align_items": null,
            "bottom": null,
            "_model_module": "@jupyter-widgets/base",
            "top": null,
            "grid_column": null,
            "overflow_y": null,
            "overflow_x": null,
            "grid_auto_flow": null,
            "grid_area": null,
            "grid_template_columns": null,
            "flex": null,
            "_model_name": "LayoutModel",
            "justify_items": null,
            "grid_row": null,
            "max_height": null,
            "align_content": null,
            "visibility": null,
            "align_self": null,
            "height": null,
            "min_height": null,
            "padding": null,
            "grid_auto_rows": null,
            "grid_gap": null,
            "max_width": null,
            "order": null,
            "_view_module_version": "1.2.0",
            "grid_template_areas": null,
            "object_position": null,
            "object_fit": null,
            "grid_auto_columns": null,
            "margin": null,
            "display": null,
            "left": null
          }
        },
        "0565f2bfbd004d4eb02a5509711be0eb": {
          "model_module": "@jupyter-widgets/base",
          "model_name": "LayoutModel",
          "state": {
            "_view_name": "LayoutView",
            "grid_template_rows": null,
            "right": null,
            "justify_content": null,
            "_view_module": "@jupyter-widgets/base",
            "overflow": null,
            "_model_module_version": "1.2.0",
            "_view_count": null,
            "flex_flow": null,
            "width": null,
            "min_width": null,
            "border": null,
            "align_items": null,
            "bottom": null,
            "_model_module": "@jupyter-widgets/base",
            "top": null,
            "grid_column": null,
            "overflow_y": null,
            "overflow_x": null,
            "grid_auto_flow": null,
            "grid_area": null,
            "grid_template_columns": null,
            "flex": null,
            "_model_name": "LayoutModel",
            "justify_items": null,
            "grid_row": null,
            "max_height": null,
            "align_content": null,
            "visibility": null,
            "align_self": null,
            "height": null,
            "min_height": null,
            "padding": null,
            "grid_auto_rows": null,
            "grid_gap": null,
            "max_width": null,
            "order": null,
            "_view_module_version": "1.2.0",
            "grid_template_areas": null,
            "object_position": null,
            "object_fit": null,
            "grid_auto_columns": null,
            "margin": null,
            "display": null,
            "left": null
          }
        }
      }
    }
  },
  "cells": [
    {
      "cell_type": "markdown",
      "metadata": {
        "execution": {},
        "pycharm": {
          "name": "#%% md\n"
        },
        "id": "tta-RORIA1-B"
      },
      "source": [
        "# Outro\n"
      ]
    },
    {
      "cell_type": "markdown",
      "metadata": {
        "execution": {},
        "id": "6VqDN2nIA1-G"
      },
      "source": [
        "**Our 2021 Sponsors, including Presenting Sponsor Facebook Reality Labs**\n",
        "\n",
        "<p align='center'><img src='https://github.com/NeuromatchAcademy/widgets/blob/master/sponsors.png?raw=True'/></p>"
      ]
    },
    {
      "cell_type": "markdown",
      "metadata": {
        "execution": {},
        "pycharm": {
          "name": "#%% md\n"
        },
        "id": "FeCz58XKA1-H"
      },
      "source": [
        "## Video"
      ]
    },
    {
      "cell_type": "code",
      "metadata": {
        "cellView": "form",
        "execution": {},
        "pycharm": {
          "name": "#%%\n"
        },
        "id": "tic_--DcA1-I",
        "outputId": "b17c9bd5-d07c-46a2-ea96-10c1bf029f21",
        "colab": {
          "base_uri": "https://localhost:8080/",
          "height": 580,
          "referenced_widgets": [
            "f202fc0e19804c3ba47ad8691c86901b",
            "255596c8ed624308a3b05185ed7f395f",
            "2cb64e4c42bf4697b7003df690871451",
            "143cd17d1d6143008caa97dd5f4c864f",
            "de3ad996407246a0ac692ea5560a7896",
            "0565f2bfbd004d4eb02a5509711be0eb"
          ]
        }
      },
      "source": [
        "# @markdown\n",
        "from ipywidgets import widgets\n",
        "\n",
        "out2 = widgets.Output()\n",
        "with out2:\n",
        "  from IPython.display import IFrame\n",
        "  class BiliVideo(IFrame):\n",
        "      def __init__(self, id, page=1, width=400, height=300, **kwargs):\n",
        "          self.id=id\n",
        "          src = \"https://player.bilibili.com/player.html?bvid={0}&page={1}\".format(id, page)\n",
        "          super(BiliVideo, self).__init__(src, width, height, **kwargs)\n",
        "\n",
        "  video = BiliVideo(id=f\"BV1cz4y1Q7LL\", width=854, height=480, fs=1)\n",
        "  print(\"Video available at https://www.bilibili.com/video/{0}\".format(video.id))\n",
        "  display(video)\n",
        "\n",
        "out1 = widgets.Output()\n",
        "with out1:\n",
        "  from IPython.display import YouTubeVideo\n",
        "  video = YouTubeVideo(id=f\"P2pfapZ5no0\", width=854, height=480, fs=1, rel=0)\n",
        "  print(\"Video available at https://youtube.com/watch?v=\" + video.id)\n",
        "  display(video)\n",
        "\n",
        "out = widgets.Tab([out1, out2])\n",
        "out.set_title(0, 'Youtube')\n",
        "out.set_title(1, 'Bilibili')\n",
        "\n",
        "display(out)"
      ],
      "execution_count": 1,
      "outputs": [
        {
          "output_type": "display_data",
          "data": {
            "application/vnd.jupyter.widget-view+json": {
              "model_id": "f202fc0e19804c3ba47ad8691c86901b",
              "version_minor": 0,
              "version_major": 2
            },
            "text/plain": [
              "Tab(children=(Output(), Output()), _titles={'0': 'Youtube', '1': 'Bilibili'})"
            ]
          },
          "metadata": {
            "tags": []
          }
        }
      ]
    },
    {
      "cell_type": "markdown",
      "metadata": {
        "execution": {},
        "id": "Bi3dtphiA1-J"
      },
      "source": [
        "## Daily survey\n",
        "\n",
        "Don't forget to complete your reflections and content check in the daily survey! Please be patient after logging in as there is\n",
        "a small delay before you will be redirected to the survey.\n",
        "\n",
        "<a href=\"https://portal.neuromatchacademy.org/api/redirect/to/11d4fa48-827a-494a-a8ac-ef398c182d72\"><img src=\"https://github.com/NeuromatchAcademy/course-content/blob/master/tutorials/static/button.png?raw=1\" alt=\"button link to survey\" style=\"width:410px\"></a>"
      ]
    },
    {
      "cell_type": "markdown",
      "metadata": {
        "execution": {},
        "pycharm": {
          "name": "#%% md\n"
        },
        "id": "euYGJyceA1-K"
      },
      "source": [
        "## Slides"
      ]
    },
    {
      "cell_type": "code",
      "metadata": {
        "cellView": "form",
        "execution": {},
        "pycharm": {
          "name": "#%%\n"
        },
        "id": "h7D8f7iLA1-L",
        "outputId": "81966113-139b-47d3-f701-dc923eb4c794",
        "colab": {
          "base_uri": "https://localhost:8080/",
          "height": 500
        }
      },
      "source": [
        "# @markdown\n",
        "from IPython.display import IFrame\n",
        "IFrame(src=f\"https://mfr.ca-1.osf.io/render?url=https://osf.io/acxqf/?direct%26mode=render%26action=download%26mode=render\", width=854, height=480)"
      ],
      "execution_count": 2,
      "outputs": [
        {
          "output_type": "execute_result",
          "data": {
            "text/html": [
              "\n",
              "        <iframe\n",
              "            width=\"854\"\n",
              "            height=\"480\"\n",
              "            src=\"https://mfr.ca-1.osf.io/render?url=https://osf.io/acxqf/?direct%26mode=render%26action=download%26mode=render\"\n",
              "            frameborder=\"0\"\n",
              "            allowfullscreen\n",
              "        ></iframe>\n",
              "        "
            ],
            "text/plain": [
              "<IPython.lib.display.IFrame at 0x7f755360a110>"
            ]
          },
          "metadata": {
            "tags": []
          },
          "execution_count": 2
        }
      ]
    }
  ]
}