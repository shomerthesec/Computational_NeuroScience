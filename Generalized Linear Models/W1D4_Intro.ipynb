{
  "nbformat": 4,
  "nbformat_minor": 0,
  "metadata": {
    "colab": {
      "name": "W1D4_Intro",
      "provenance": [],
      "collapsed_sections": []
    },
    "kernel": {
      "display_name": "Python 3",
      "language": "python",
      "name": "python3"
    },
    "kernelspec": {
      "display_name": "Python 3",
      "language": "python",
      "name": "python3"
    },
    "language_info": {
      "codemirror_mode": {
        "name": "ipython",
        "version": 3
      },
      "file_extension": ".py",
      "mimetype": "text/x-python",
      "name": "python",
      "nbconvert_exporter": "python",
      "pygments_lexer": "ipython3",
      "version": "3.7.10"
    },
    "widgets": {
      "application/vnd.jupyter.widget-state+json": {
        "0cbfcfd4a0ab454ba253faa0ba1ba844": {
          "model_module": "@jupyter-widgets/controls",
          "model_name": "TabModel",
          "state": {
            "_view_name": "TabView",
            "_dom_classes": [],
            "_titles": {
              "0": "Youtube",
              "1": "Bilibili"
            },
            "_model_name": "TabModel",
            "_view_module": "@jupyter-widgets/controls",
            "selected_index": 0,
            "_model_module_version": "1.5.0",
            "_view_count": null,
            "_view_module_version": "1.5.0",
            "box_style": "",
            "layout": "IPY_MODEL_1b309644ca7d45f797c6eea7ce6d18fe",
            "_model_module": "@jupyter-widgets/controls",
            "children": [
              "IPY_MODEL_c1765078affd48709f0d19ad5148123c",
              "IPY_MODEL_bc5075c567e842d2953f41a3d7bf194f"
            ]
          }
        },
        "1b309644ca7d45f797c6eea7ce6d18fe": {
          "model_module": "@jupyter-widgets/base",
          "model_name": "LayoutModel",
          "state": {
            "_view_name": "LayoutView",
            "grid_template_rows": null,
            "right": null,
            "justify_content": null,
            "_view_module": "@jupyter-widgets/base",
            "overflow": null,
            "_model_module_version": "1.2.0",
            "_view_count": null,
            "flex_flow": null,
            "width": null,
            "min_width": null,
            "border": null,
            "align_items": null,
            "bottom": null,
            "_model_module": "@jupyter-widgets/base",
            "top": null,
            "grid_column": null,
            "overflow_y": null,
            "overflow_x": null,
            "grid_auto_flow": null,
            "grid_area": null,
            "grid_template_columns": null,
            "flex": null,
            "_model_name": "LayoutModel",
            "justify_items": null,
            "grid_row": null,
            "max_height": null,
            "align_content": null,
            "visibility": null,
            "align_self": null,
            "height": null,
            "min_height": null,
            "padding": null,
            "grid_auto_rows": null,
            "grid_gap": null,
            "max_width": null,
            "order": null,
            "_view_module_version": "1.2.0",
            "grid_template_areas": null,
            "object_position": null,
            "object_fit": null,
            "grid_auto_columns": null,
            "margin": null,
            "display": null,
            "left": null
          }
        },
        "c1765078affd48709f0d19ad5148123c": {
          "model_module": "@jupyter-widgets/output",
          "model_name": "OutputModel",
          "state": {
            "_view_name": "OutputView",
            "msg_id": "",
            "_dom_classes": [],
            "_model_name": "OutputModel",
            "outputs": [
              {
                "output_type": "stream",
                "metadata": {
                  "tags": []
                },
                "text": "Video available at https://youtube.com/watch?v=m1w7oywzwpA\n",
                "stream": "stdout"
              },
              {
                "output_type": "display_data",
                "metadata": {
                  "tags": []
                },
                "text/html": "\n        <iframe\n            width=\"854\"\n            height=\"480\"\n            src=\"https://www.youtube.com/embed/m1w7oywzwpA?fs=1&rel=0\"\n            frameborder=\"0\"\n            allowfullscreen\n        ></iframe>\n        ",
                "text/plain": "<IPython.lib.display.YouTubeVideo at 0x7f9e28c646d0>",
                "image/jpeg": "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\n"
              }
            ],
            "_view_module": "@jupyter-widgets/output",
            "_model_module_version": "1.0.0",
            "_view_count": null,
            "_view_module_version": "1.0.0",
            "layout": "IPY_MODEL_17678eea636f40fc93b2f1b0d270ace0",
            "_model_module": "@jupyter-widgets/output"
          }
        },
        "bc5075c567e842d2953f41a3d7bf194f": {
          "model_module": "@jupyter-widgets/output",
          "model_name": "OutputModel",
          "state": {
            "_view_name": "OutputView",
            "msg_id": "",
            "_dom_classes": [],
            "_model_name": "OutputModel",
            "outputs": [
              {
                "output_type": "stream",
                "metadata": {
                  "tags": []
                },
                "text": "Video available at https://www.bilibili.com/video/BV1BK411H7ie\n",
                "stream": "stdout"
              },
              {
                "output_type": "display_data",
                "metadata": {
                  "tags": []
                },
                "text/html": "\n        <iframe\n            width=\"854\"\n            height=\"480\"\n            src=\"https://player.bilibili.com/player.html?bvid=BV1BK411H7ie&page=1?fs=1\"\n            frameborder=\"0\"\n            allowfullscreen\n        ></iframe>\n        ",
                "text/plain": "<__main__.BiliVideo at 0x7f9e2ccf7110>"
              }
            ],
            "_view_module": "@jupyter-widgets/output",
            "_model_module_version": "1.0.0",
            "_view_count": null,
            "_view_module_version": "1.0.0",
            "layout": "IPY_MODEL_48776b6ec59b41c1964ffd4bd8b935be",
            "_model_module": "@jupyter-widgets/output"
          }
        },
        "17678eea636f40fc93b2f1b0d270ace0": {
          "model_module": "@jupyter-widgets/base",
          "model_name": "LayoutModel",
          "state": {
            "_view_name": "LayoutView",
            "grid_template_rows": null,
            "right": null,
            "justify_content": null,
            "_view_module": "@jupyter-widgets/base",
            "overflow": null,
            "_model_module_version": "1.2.0",
            "_view_count": null,
            "flex_flow": null,
            "width": null,
            "min_width": null,
            "border": null,
            "align_items": null,
            "bottom": null,
            "_model_module": "@jupyter-widgets/base",
            "top": null,
            "grid_column": null,
            "overflow_y": null,
            "overflow_x": null,
            "grid_auto_flow": null,
            "grid_area": null,
            "grid_template_columns": null,
            "flex": null,
            "_model_name": "LayoutModel",
            "justify_items": null,
            "grid_row": null,
            "max_height": null,
            "align_content": null,
            "visibility": null,
            "align_self": null,
            "height": null,
            "min_height": null,
            "padding": null,
            "grid_auto_rows": null,
            "grid_gap": null,
            "max_width": null,
            "order": null,
            "_view_module_version": "1.2.0",
            "grid_template_areas": null,
            "object_position": null,
            "object_fit": null,
            "grid_auto_columns": null,
            "margin": null,
            "display": null,
            "left": null
          }
        },
        "48776b6ec59b41c1964ffd4bd8b935be": {
          "model_module": "@jupyter-widgets/base",
          "model_name": "LayoutModel",
          "state": {
            "_view_name": "LayoutView",
            "grid_template_rows": null,
            "right": null,
            "justify_content": null,
            "_view_module": "@jupyter-widgets/base",
            "overflow": null,
            "_model_module_version": "1.2.0",
            "_view_count": null,
            "flex_flow": null,
            "width": null,
            "min_width": null,
            "border": null,
            "align_items": null,
            "bottom": null,
            "_model_module": "@jupyter-widgets/base",
            "top": null,
            "grid_column": null,
            "overflow_y": null,
            "overflow_x": null,
            "grid_auto_flow": null,
            "grid_area": null,
            "grid_template_columns": null,
            "flex": null,
            "_model_name": "LayoutModel",
            "justify_items": null,
            "grid_row": null,
            "max_height": null,
            "align_content": null,
            "visibility": null,
            "align_self": null,
            "height": null,
            "min_height": null,
            "padding": null,
            "grid_auto_rows": null,
            "grid_gap": null,
            "max_width": null,
            "order": null,
            "_view_module_version": "1.2.0",
            "grid_template_areas": null,
            "object_position": null,
            "object_fit": null,
            "grid_auto_columns": null,
            "margin": null,
            "display": null,
            "left": null
          }
        }
      }
    }
  },
  "cells": [
    {
      "cell_type": "markdown",
      "metadata": {
        "id": "RtQOQmASEgoV"
      },
      "source": [
        "<a href=\"https://colab.research.google.com/github/NeuromatchAcademy/course-content/blob/master/tutorials/W1D4_GeneralizedLinearModels/W1D4_Intro.ipynb\" target=\"_parent\"><img src=\"https://colab.research.google.com/assets/colab-badge.svg\" alt=\"Open In Colab\"/></a>"
      ]
    },
    {
      "cell_type": "markdown",
      "metadata": {
        "pycharm": {
          "name": "#%% md\n"
        },
        "id": "0wzdC8bPEgoa"
      },
      "source": [
        "# Intro"
      ]
    },
    {
      "cell_type": "markdown",
      "metadata": {
        "id": "oOAklKVFEgob"
      },
      "source": [
        "**Our 2021 Sponsors, including Presenting Sponsor Facebook Reality Labs**\n",
        "\n",
        "<p align='center'><img src='https://github.com/NeuromatchAcademy/widgets/blob/master/sponsors.png?raw=True'/></p>"
      ]
    },
    {
      "cell_type": "markdown",
      "metadata": {
        "pycharm": {
          "name": "#%% md\n"
        },
        "id": "-4nuwCuYEgoc"
      },
      "source": [
        "## Overview\n",
        "\n",
        "Hi folks, welcome to the ‘GLM’ day, the highlight of neuromatch (really)!\n",
        "We will talk about generalized linear models, GLMs. The great thing about GLMs is that they provide a simple and elegant framework which unifies a number of useful ML algorithms, and allow you to tackle a wide range of data analysis questions in neuroscience.  Think of them as the Swiss Army Knife of Machine Learning algorithms.\n",
        "In particular, some algorithms you might know-- linear regression, logistic regression and Poisson regression, are all just special cases of GLMs.  They are very useful if you want to study encoding (i.e. predict neural activity from external covariates) or decoding (i.e. predict a behaviour or intention from neural activity).\n",
        "In addition, GLMs are great for teaching some general concepts in machine learning that are useful to know-- optimization of cost functions (and what is means for a cost function to be convex, and why that is useful), what overfitting is, how to spot it (cross-validation!) and how to protect against it (regularization!), what types of regularization exist (L1, L2), and how this connects to Reverend Bayes.\n",
        "Finally -- and just like a Swiss Army Knife’, GLMs have limitations, and sometimes we will need more powerful methods-- however, even in those cases, GLMs provide a baseline against which more complicated algorithms (e.g. deep nets) can be compared. In addition, GLMs can be used as building blocks for constructing more complicated algorithms.\n",
        "\n",
        "The day is structured as follows:\n",
        "In the ‘Intro’, Dr. Christina Savin will first give an overview over canonical analysis tasks in neuroscience, show what they have in common and how they can be tackled with GLMs. She will explain one task (receptive field fitting) as a running example, and use it to explain concepts like optimization, overfitting and regularization.\n",
        "In the first part of Tutorial 1, Dr. Anqi Qu (now assistant prof at Georgia Tech!) will delve deeper into our running example (receptive field estimation), and go through the details of the mathematics of this task, and show that spike-triggered averaging (a great but often heuristically motivated approach) is closely related to a special case of GLMs-- the good old linear regression. In the second part of Tutorial 2, she will show how ‘Poisson GLMs’ are a really powerful way to fit encoding models to spiking data.\n",
        "In Tutorial 3, she will turn to logistic regression (my favourite classification algorithm) and show how it can be used for decoding. She will also explain regularization, and the difference between different regularizers.\n",
        "In the ‘Outro’, Dr. Memming Park will first tell you about his cat, and go into much more detail  about applications of GLMs in neuroscience- after a general overview, he will talk about how GLMs can be used to model the dynamics of single neurons and neural population dynamics, and how they can be used to model the responses of neurons in decision-making tasks, and to decode behavioural choices from neurons. Finally-- but importantly-- he will talk about some potential pitfalls in interpreting GLMs, in particular when the danger of (falsely) interpreting their parameters in a causal manner. In the end, he will touch on some possible generalizations of GLMs.\n",
        "\n",
        "In terms of the overall course, the closest connections are with the day of ‘model fitting’, which will already introduce some of the basic ideas. Once you have been through the GLM day, you will then likely also notice the use of GLMs in many other days and tasks (even if they might not always be referred to as ‘GLMs’)-- e.g. for decoding behavioural data, or as building blocks as models of dynamics.\n",
        "\n",
        "So, enjoy the day!"
      ]
    },
    {
      "cell_type": "markdown",
      "metadata": {
        "id": "F1hLXD4lEgoe"
      },
      "source": [
        "## Prerequisite knowledge\n",
        "\n",
        "In today's tutorials, you will use matrix vector multiplication ([W0D3 T2](https://compneuro.neuromatch.io/tutorials/W0D3_LinearAlgebra/student/W0D3_Tutorial2.html)), probability distributions ([W0D5 T1](https://compneuro.neuromatch.io/tutorials/W0D5_Statistics/student/W0D5_Tutorial1.html)), and maximum likelihood estimates ([W0D5 T2](https://compneuro.neuromatch.io/tutorials/W0D3_LinearAlgebra/student/W0D3_Tutorial2.html) and [W1D3](https://compneuro.neuromatch.io/tutorials/W1D3_ModelFitting/chapter_title.html)).  You will also be looking at stimulus response pairings ([Neuro Video Series Stimulus Representation](https://compneuro.neuromatch.io/tutorials/W0D0_NeuroVideoSeries/student/W0D0_Tutorial10.html)) and decision making experiments in animals ([Neuro Video Series Behavioral Readouts](https://compneuro.neuromatch.io/tutorials/W0D0_NeuroVideoSeries/student/W0D0_Tutorial3.html)). You will use a new Python library called [sklearn](https://scikit-learn.org/stable/)."
      ]
    },
    {
      "cell_type": "markdown",
      "metadata": {
        "pycharm": {
          "name": "#%% md\n"
        },
        "id": "s6x2qwXiEgog"
      },
      "source": [
        "## Video"
      ]
    },
    {
      "cell_type": "code",
      "metadata": {
        "cellView": "form",
        "execution": {
          "iopub.execute_input": "2021-07-05T19:38:57.367520Z",
          "iopub.status.busy": "2021-07-05T19:38:57.366635Z",
          "iopub.status.idle": "2021-07-05T19:38:57.475427Z",
          "shell.execute_reply": "2021-07-05T19:38:57.473188Z"
        },
        "pycharm": {
          "name": "#%%\n"
        },
        "id": "7RtabavWEgoh",
        "outputId": "4a19ddb8-145a-4267-8593-fd49e88c15ff",
        "colab": {
          "base_uri": "https://localhost:8080/",
          "height": 580,
          "referenced_widgets": [
            "0cbfcfd4a0ab454ba253faa0ba1ba844",
            "1b309644ca7d45f797c6eea7ce6d18fe",
            "c1765078affd48709f0d19ad5148123c",
            "bc5075c567e842d2953f41a3d7bf194f",
            "17678eea636f40fc93b2f1b0d270ace0",
            "48776b6ec59b41c1964ffd4bd8b935be"
          ]
        }
      },
      "source": [
        "# @markdown\n",
        "from ipywidgets import widgets\n",
        "\n",
        "out2 = widgets.Output()\n",
        "with out2:\n",
        "  from IPython.display import IFrame\n",
        "  class BiliVideo(IFrame):\n",
        "      def __init__(self, id, page=1, width=400, height=300, **kwargs):\n",
        "          self.id=id\n",
        "          src = \"https://player.bilibili.com/player.html?bvid={0}&page={1}\".format(id, page)\n",
        "          super(BiliVideo, self).__init__(src, width, height, **kwargs)\n",
        "\n",
        "  video = BiliVideo(id=f\"BV1BK411H7ie\", width=854, height=480, fs=1)\n",
        "  print(\"Video available at https://www.bilibili.com/video/{0}\".format(video.id))\n",
        "  display(video)\n",
        "\n",
        "out1 = widgets.Output()\n",
        "with out1:\n",
        "  from IPython.display import YouTubeVideo\n",
        "  video = YouTubeVideo(id=f\"m1w7oywzwpA\", width=854, height=480, fs=1, rel=0)\n",
        "  print(\"Video available at https://youtube.com/watch?v=\" + video.id)\n",
        "  display(video)\n",
        "\n",
        "out = widgets.Tab([out1, out2])\n",
        "out.set_title(0, 'Youtube')\n",
        "out.set_title(1, 'Bilibili')\n",
        "\n",
        "display(out)"
      ],
      "execution_count": 1,
      "outputs": [
        {
          "output_type": "display_data",
          "data": {
            "application/vnd.jupyter.widget-view+json": {
              "model_id": "0cbfcfd4a0ab454ba253faa0ba1ba844",
              "version_minor": 0,
              "version_major": 2
            },
            "text/plain": [
              "Tab(children=(Output(), Output()), _titles={'0': 'Youtube', '1': 'Bilibili'})"
            ]
          },
          "metadata": {
            "tags": []
          }
        }
      ]
    },
    {
      "cell_type": "markdown",
      "metadata": {
        "pycharm": {
          "name": "#%% md\n"
        },
        "id": "5xY7MPn2Egoi"
      },
      "source": [
        "## Slides"
      ]
    },
    {
      "cell_type": "code",
      "metadata": {
        "cellView": "form",
        "execution": {
          "iopub.execute_input": "2021-07-05T19:38:57.486462Z",
          "iopub.status.busy": "2021-07-05T19:38:57.485303Z",
          "iopub.status.idle": "2021-07-05T19:38:57.489136Z",
          "shell.execute_reply": "2021-07-05T19:38:57.488459Z"
        },
        "pycharm": {
          "name": "#%%\n"
        },
        "id": "NIC9kbvREgoj",
        "outputId": "99190f88-16a5-4d3f-f26c-14050c1fdd9c",
        "colab": {
          "base_uri": "https://localhost:8080/",
          "height": 501
        }
      },
      "source": [
        "# @markdown\n",
        "from IPython.display import IFrame\n",
        "IFrame(src=f\"https://mfr.ca-1.osf.io/render?url=https://osf.io/qxfz9/?direct%26mode=render%26action=download%26mode=render\", width=854, height=480)"
      ],
      "execution_count": 2,
      "outputs": [
        {
          "output_type": "execute_result",
          "data": {
            "text/html": [
              "\n",
              "        <iframe\n",
              "            width=\"854\"\n",
              "            height=\"480\"\n",
              "            src=\"https://mfr.ca-1.osf.io/render?url=https://osf.io/qxfz9/?direct%26mode=render%26action=download%26mode=render\"\n",
              "            frameborder=\"0\"\n",
              "            allowfullscreen\n",
              "        ></iframe>\n",
              "        "
            ],
            "text/plain": [
              "<IPython.lib.display.IFrame at 0x7f9e28c65590>"
            ]
          },
          "metadata": {
            "tags": []
          },
          "execution_count": 2
        }
      ]
    }
  ]
}