{
  "nbformat": 4,
  "nbformat_minor": 0,
  "metadata": {
    "colab": {
      "name": "W1D4_Outro",
      "provenance": [],
      "collapsed_sections": [],
      "toc_visible": true
    },
    "kernel": {
      "display_name": "Python 3",
      "language": "python",
      "name": "python3"
    },
    "kernelspec": {
      "display_name": "Python 3",
      "language": "python",
      "name": "python3"
    },
    "language_info": {
      "codemirror_mode": {
        "name": "ipython",
        "version": 3
      },
      "file_extension": ".py",
      "mimetype": "text/x-python",
      "name": "python",
      "nbconvert_exporter": "python",
      "pygments_lexer": "ipython3",
      "version": "3.7.10"
    },
    "widgets": {
      "application/vnd.jupyter.widget-state+json": {
        "9ada013770f14898be42ac2fa9f89570": {
          "model_module": "@jupyter-widgets/controls",
          "model_name": "TabModel",
          "state": {
            "_view_name": "TabView",
            "_dom_classes": [],
            "_titles": {
              "0": "Youtube",
              "1": "Bilibili"
            },
            "_model_name": "TabModel",
            "_view_module": "@jupyter-widgets/controls",
            "selected_index": 0,
            "_model_module_version": "1.5.0",
            "_view_count": null,
            "_view_module_version": "1.5.0",
            "box_style": "",
            "layout": "IPY_MODEL_79854c4832c640e7be9ebc7911fa5dc9",
            "_model_module": "@jupyter-widgets/controls",
            "children": [
              "IPY_MODEL_5fc1dc10f1a24f3a808074bfe80c57eb",
              "IPY_MODEL_91fc9f93bd7f40428afa76ea94a2ce7e"
            ]
          }
        },
        "79854c4832c640e7be9ebc7911fa5dc9": {
          "model_module": "@jupyter-widgets/base",
          "model_name": "LayoutModel",
          "state": {
            "_view_name": "LayoutView",
            "grid_template_rows": null,
            "right": null,
            "justify_content": null,
            "_view_module": "@jupyter-widgets/base",
            "overflow": null,
            "_model_module_version": "1.2.0",
            "_view_count": null,
            "flex_flow": null,
            "width": null,
            "min_width": null,
            "border": null,
            "align_items": null,
            "bottom": null,
            "_model_module": "@jupyter-widgets/base",
            "top": null,
            "grid_column": null,
            "overflow_y": null,
            "overflow_x": null,
            "grid_auto_flow": null,
            "grid_area": null,
            "grid_template_columns": null,
            "flex": null,
            "_model_name": "LayoutModel",
            "justify_items": null,
            "grid_row": null,
            "max_height": null,
            "align_content": null,
            "visibility": null,
            "align_self": null,
            "height": null,
            "min_height": null,
            "padding": null,
            "grid_auto_rows": null,
            "grid_gap": null,
            "max_width": null,
            "order": null,
            "_view_module_version": "1.2.0",
            "grid_template_areas": null,
            "object_position": null,
            "object_fit": null,
            "grid_auto_columns": null,
            "margin": null,
            "display": null,
            "left": null
          }
        },
        "5fc1dc10f1a24f3a808074bfe80c57eb": {
          "model_module": "@jupyter-widgets/output",
          "model_name": "OutputModel",
          "state": {
            "_view_name": "OutputView",
            "msg_id": "",
            "_dom_classes": [],
            "_model_name": "OutputModel",
            "outputs": [
              {
                "output_type": "stream",
                "metadata": {
                  "tags": []
                },
                "text": "Video available at https://youtube.com/watch?v=NXVG9ORBYXQ\n",
                "stream": "stdout"
              },
              {
                "output_type": "display_data",
                "metadata": {
                  "tags": []
                },
                "text/html": "\n        <iframe\n            width=\"854\"\n            height=\"480\"\n            src=\"https://www.youtube.com/embed/NXVG9ORBYXQ?fs=1&rel=0\"\n            frameborder=\"0\"\n            allowfullscreen\n        ></iframe>\n        ",
                "text/plain": "<IPython.lib.display.YouTubeVideo at 0x7fc1418a9b10>",
                "image/jpeg": "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\n"
              }
            ],
            "_view_module": "@jupyter-widgets/output",
            "_model_module_version": "1.0.0",
            "_view_count": null,
            "_view_module_version": "1.0.0",
            "layout": "IPY_MODEL_59a16b67d2ed45a5883e202343512cf7",
            "_model_module": "@jupyter-widgets/output"
          }
        },
        "91fc9f93bd7f40428afa76ea94a2ce7e": {
          "model_module": "@jupyter-widgets/output",
          "model_name": "OutputModel",
          "state": {
            "_view_name": "OutputView",
            "msg_id": "",
            "_dom_classes": [],
            "_model_name": "OutputModel",
            "outputs": [
              {
                "output_type": "stream",
                "metadata": {
                  "tags": []
                },
                "text": "Video available at https://www.bilibili.com/video/BV1d5411Y7mN\n",
                "stream": "stdout"
              },
              {
                "output_type": "display_data",
                "metadata": {
                  "tags": []
                },
                "text/html": "\n        <iframe\n            width=\"854\"\n            height=\"480\"\n            src=\"https://player.bilibili.com/player.html?bvid=BV1d5411Y7mN&page=1?fs=1\"\n            frameborder=\"0\"\n            allowfullscreen\n        ></iframe>\n        ",
                "text/plain": "<__main__.BiliVideo at 0x7fc1471a7e10>"
              }
            ],
            "_view_module": "@jupyter-widgets/output",
            "_model_module_version": "1.0.0",
            "_view_count": null,
            "_view_module_version": "1.0.0",
            "layout": "IPY_MODEL_8088428b78584aa7bde265d175d7a474",
            "_model_module": "@jupyter-widgets/output"
          }
        },
        "59a16b67d2ed45a5883e202343512cf7": {
          "model_module": "@jupyter-widgets/base",
          "model_name": "LayoutModel",
          "state": {
            "_view_name": "LayoutView",
            "grid_template_rows": null,
            "right": null,
            "justify_content": null,
            "_view_module": "@jupyter-widgets/base",
            "overflow": null,
            "_model_module_version": "1.2.0",
            "_view_count": null,
            "flex_flow": null,
            "width": null,
            "min_width": null,
            "border": null,
            "align_items": null,
            "bottom": null,
            "_model_module": "@jupyter-widgets/base",
            "top": null,
            "grid_column": null,
            "overflow_y": null,
            "overflow_x": null,
            "grid_auto_flow": null,
            "grid_area": null,
            "grid_template_columns": null,
            "flex": null,
            "_model_name": "LayoutModel",
            "justify_items": null,
            "grid_row": null,
            "max_height": null,
            "align_content": null,
            "visibility": null,
            "align_self": null,
            "height": null,
            "min_height": null,
            "padding": null,
            "grid_auto_rows": null,
            "grid_gap": null,
            "max_width": null,
            "order": null,
            "_view_module_version": "1.2.0",
            "grid_template_areas": null,
            "object_position": null,
            "object_fit": null,
            "grid_auto_columns": null,
            "margin": null,
            "display": null,
            "left": null
          }
        },
        "8088428b78584aa7bde265d175d7a474": {
          "model_module": "@jupyter-widgets/base",
          "model_name": "LayoutModel",
          "state": {
            "_view_name": "LayoutView",
            "grid_template_rows": null,
            "right": null,
            "justify_content": null,
            "_view_module": "@jupyter-widgets/base",
            "overflow": null,
            "_model_module_version": "1.2.0",
            "_view_count": null,
            "flex_flow": null,
            "width": null,
            "min_width": null,
            "border": null,
            "align_items": null,
            "bottom": null,
            "_model_module": "@jupyter-widgets/base",
            "top": null,
            "grid_column": null,
            "overflow_y": null,
            "overflow_x": null,
            "grid_auto_flow": null,
            "grid_area": null,
            "grid_template_columns": null,
            "flex": null,
            "_model_name": "LayoutModel",
            "justify_items": null,
            "grid_row": null,
            "max_height": null,
            "align_content": null,
            "visibility": null,
            "align_self": null,
            "height": null,
            "min_height": null,
            "padding": null,
            "grid_auto_rows": null,
            "grid_gap": null,
            "max_width": null,
            "order": null,
            "_view_module_version": "1.2.0",
            "grid_template_areas": null,
            "object_position": null,
            "object_fit": null,
            "grid_auto_columns": null,
            "margin": null,
            "display": null,
            "left": null
          }
        }
      }
    }
  },
  "cells": [
    {
      "cell_type": "markdown",
      "metadata": {
        "id": "Z2cC0Llec-q3"
      },
      "source": [
        "<a href=\"https://colab.research.google.com/github/NeuromatchAcademy/course-content/blob/master/tutorials/W1D4_GeneralizedLinearModels/W1D4_Outro.ipynb\" target=\"_parent\"><img src=\"https://colab.research.google.com/assets/colab-badge.svg\" alt=\"Open In Colab\"/></a>"
      ]
    },
    {
      "cell_type": "markdown",
      "metadata": {
        "pycharm": {
          "name": "#%% md\n"
        },
        "id": "f1aEGw07c-q7"
      },
      "source": [
        "# Outro\n"
      ]
    },
    {
      "cell_type": "markdown",
      "metadata": {
        "id": "rFEXfPzrc-q9"
      },
      "source": [
        "**Our 2021 Sponsors, including Presenting Sponsor Facebook Reality Labs**\n",
        "\n",
        "<p align='center'><img src='https://github.com/NeuromatchAcademy/widgets/blob/master/sponsors.png?raw=True'/></p>"
      ]
    },
    {
      "cell_type": "markdown",
      "metadata": {
        "pycharm": {
          "name": "#%% md\n"
        },
        "id": "qnxQ0B_yc-q9"
      },
      "source": [
        "## Video"
      ]
    },
    {
      "cell_type": "code",
      "metadata": {
        "cellView": "form",
        "execution": {
          "iopub.execute_input": "2021-07-05T19:38:58.336776Z",
          "iopub.status.busy": "2021-07-05T19:38:58.333316Z",
          "iopub.status.idle": "2021-07-05T19:38:58.448671Z",
          "shell.execute_reply": "2021-07-05T19:38:58.447842Z"
        },
        "pycharm": {
          "name": "#%%\n"
        },
        "id": "TB-guKKCc-q-",
        "outputId": "5bb4bcd0-cad2-4cc6-9029-0d7d717d7dce",
        "colab": {
          "base_uri": "https://localhost:8080/",
          "height": 580,
          "referenced_widgets": [
            "9ada013770f14898be42ac2fa9f89570",
            "79854c4832c640e7be9ebc7911fa5dc9",
            "5fc1dc10f1a24f3a808074bfe80c57eb",
            "91fc9f93bd7f40428afa76ea94a2ce7e",
            "59a16b67d2ed45a5883e202343512cf7",
            "8088428b78584aa7bde265d175d7a474"
          ]
        }
      },
      "source": [
        "# @markdown\n",
        "from ipywidgets import widgets\n",
        "\n",
        "out2 = widgets.Output()\n",
        "with out2:\n",
        "  from IPython.display import IFrame\n",
        "  class BiliVideo(IFrame):\n",
        "      def __init__(self, id, page=1, width=400, height=300, **kwargs):\n",
        "          self.id=id\n",
        "          src = \"https://player.bilibili.com/player.html?bvid={0}&page={1}\".format(id, page)\n",
        "          super(BiliVideo, self).__init__(src, width, height, **kwargs)\n",
        "\n",
        "  video = BiliVideo(id=f\"BV1d5411Y7mN\", width=854, height=480, fs=1)\n",
        "  print(\"Video available at https://www.bilibili.com/video/{0}\".format(video.id))\n",
        "  display(video)\n",
        "\n",
        "out1 = widgets.Output()\n",
        "with out1:\n",
        "  from IPython.display import YouTubeVideo\n",
        "  video = YouTubeVideo(id=f\"NXVG9ORBYXQ\", width=854, height=480, fs=1, rel=0)\n",
        "  print(\"Video available at https://youtube.com/watch?v=\" + video.id)\n",
        "  display(video)\n",
        "\n",
        "out = widgets.Tab([out1, out2])\n",
        "out.set_title(0, 'Youtube')\n",
        "out.set_title(1, 'Bilibili')\n",
        "\n",
        "display(out)"
      ],
      "execution_count": 1,
      "outputs": [
        {
          "output_type": "display_data",
          "data": {
            "application/vnd.jupyter.widget-view+json": {
              "model_id": "9ada013770f14898be42ac2fa9f89570",
              "version_minor": 0,
              "version_major": 2
            },
            "text/plain": [
              "Tab(children=(Output(), Output()), _titles={'0': 'Youtube', '1': 'Bilibili'})"
            ]
          },
          "metadata": {
            "tags": []
          }
        }
      ]
    },
    {
      "cell_type": "markdown",
      "metadata": {
        "id": "KWkkY2pKc-rA"
      },
      "source": [
        "## Daily survey\n",
        "\n",
        "Don't forget to complete your reflections and content check in the daily survey! Please be patient after logging in as there is\n",
        "a small delay before you will be redirected to the survey.\n",
        "\n",
        "<a href=\"https://portal.neuromatchacademy.org/api/redirect/to/245cbea5-780c-443e-a870-469a423bbe58\"><img src=\"https://github.com/NeuromatchAcademy/course-content/blob/master/tutorials/static/button.png?raw=1\" alt=\"button link to survey\" style=\"width:410px\"></a>"
      ]
    },
    {
      "cell_type": "markdown",
      "metadata": {
        "pycharm": {
          "name": "#%% md\n"
        },
        "id": "KxVhlRAyc-rB"
      },
      "source": [
        "## Slides"
      ]
    },
    {
      "cell_type": "code",
      "metadata": {
        "cellView": "form",
        "execution": {
          "iopub.execute_input": "2021-07-05T19:38:58.459112Z",
          "iopub.status.busy": "2021-07-05T19:38:58.458463Z",
          "iopub.status.idle": "2021-07-05T19:38:58.461228Z",
          "shell.execute_reply": "2021-07-05T19:38:58.461690Z"
        },
        "pycharm": {
          "name": "#%%\n"
        },
        "id": "yM4bVrLLc-rC",
        "outputId": "b606495c-0cec-40ac-a291-c0fb284ed8b7",
        "colab": {
          "base_uri": "https://localhost:8080/",
          "height": 500
        }
      },
      "source": [
        "# @markdown\n",
        "from IPython.display import IFrame\n",
        "IFrame(src=f\"https://mfr.ca-1.osf.io/render?url=https://osf.io/pzw7s/?direct%26mode=render%26action=download%26mode=render\", width=854, height=480)"
      ],
      "execution_count": 2,
      "outputs": [
        {
          "output_type": "execute_result",
          "data": {
            "text/html": [
              "\n",
              "        <iframe\n",
              "            width=\"854\"\n",
              "            height=\"480\"\n",
              "            src=\"https://mfr.ca-1.osf.io/render?url=https://osf.io/pzw7s/?direct%26mode=render%26action=download%26mode=render\"\n",
              "            frameborder=\"0\"\n",
              "            allowfullscreen\n",
              "        ></iframe>\n",
              "        "
            ],
            "text/plain": [
              "<IPython.lib.display.IFrame at 0x7fc1418a5e90>"
            ]
          },
          "metadata": {
            "tags": []
          },
          "execution_count": 2
        }
      ]
    }
  ]
}