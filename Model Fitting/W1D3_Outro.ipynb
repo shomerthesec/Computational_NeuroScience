{
  "nbformat": 4,
  "nbformat_minor": 0,
  "metadata": {
    "colab": {
      "name": "W1D3_Outro",
      "provenance": [],
      "collapsed_sections": [],
      "toc_visible": true
    },
    "kernel": {
      "display_name": "Python 3",
      "language": "python",
      "name": "python3"
    },
    "kernelspec": {
      "display_name": "Python 3",
      "language": "python",
      "name": "python3"
    },
    "language_info": {
      "codemirror_mode": {
        "name": "ipython",
        "version": 3
      },
      "file_extension": ".py",
      "mimetype": "text/x-python",
      "name": "python",
      "nbconvert_exporter": "python",
      "pygments_lexer": "ipython3",
      "version": "3.7.10"
    },
    "widgets": {
      "application/vnd.jupyter.widget-state+json": {
        "e524f7213ac047d0b89d78266122456a": {
          "model_module": "@jupyter-widgets/controls",
          "model_name": "TabModel",
          "state": {
            "_view_name": "TabView",
            "_dom_classes": [],
            "_titles": {
              "0": "Youtube",
              "1": "Bilibili"
            },
            "_model_name": "TabModel",
            "_view_module": "@jupyter-widgets/controls",
            "selected_index": 0,
            "_model_module_version": "1.5.0",
            "_view_count": null,
            "_view_module_version": "1.5.0",
            "box_style": "",
            "layout": "IPY_MODEL_7739e7b91dbf4d4cb4beb6bc4b7d0392",
            "_model_module": "@jupyter-widgets/controls",
            "children": [
              "IPY_MODEL_5a1ffb2ff69f42ffb500971a2db99cc2",
              "IPY_MODEL_ace10338f0644f84ad12c0de09195ab9"
            ]
          }
        },
        "7739e7b91dbf4d4cb4beb6bc4b7d0392": {
          "model_module": "@jupyter-widgets/base",
          "model_name": "LayoutModel",
          "state": {
            "_view_name": "LayoutView",
            "grid_template_rows": null,
            "right": null,
            "justify_content": null,
            "_view_module": "@jupyter-widgets/base",
            "overflow": null,
            "_model_module_version": "1.2.0",
            "_view_count": null,
            "flex_flow": null,
            "width": null,
            "min_width": null,
            "border": null,
            "align_items": null,
            "bottom": null,
            "_model_module": "@jupyter-widgets/base",
            "top": null,
            "grid_column": null,
            "overflow_y": null,
            "overflow_x": null,
            "grid_auto_flow": null,
            "grid_area": null,
            "grid_template_columns": null,
            "flex": null,
            "_model_name": "LayoutModel",
            "justify_items": null,
            "grid_row": null,
            "max_height": null,
            "align_content": null,
            "visibility": null,
            "align_self": null,
            "height": null,
            "min_height": null,
            "padding": null,
            "grid_auto_rows": null,
            "grid_gap": null,
            "max_width": null,
            "order": null,
            "_view_module_version": "1.2.0",
            "grid_template_areas": null,
            "object_position": null,
            "object_fit": null,
            "grid_auto_columns": null,
            "margin": null,
            "display": null,
            "left": null
          }
        },
        "5a1ffb2ff69f42ffb500971a2db99cc2": {
          "model_module": "@jupyter-widgets/output",
          "model_name": "OutputModel",
          "state": {
            "_view_name": "OutputView",
            "msg_id": "",
            "_dom_classes": [],
            "_model_name": "OutputModel",
            "outputs": [
              {
                "output_type": "stream",
                "metadata": {
                  "tags": []
                },
                "text": "Video available at https://youtube.com/watch?v=cUAUL3efqpY\n",
                "stream": "stdout"
              },
              {
                "output_type": "display_data",
                "metadata": {
                  "tags": []
                },
                "text/html": "\n        <iframe\n            width=\"854\"\n            height=\"480\"\n            src=\"https://www.youtube.com/embed/cUAUL3efqpY?fs=1&rel=0\"\n            frameborder=\"0\"\n            allowfullscreen\n        ></iframe>\n        ",
                "text/plain": "<IPython.lib.display.YouTubeVideo at 0x7f20da8e2650>",
                "image/jpeg": "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\n"
              }
            ],
            "_view_module": "@jupyter-widgets/output",
            "_model_module_version": "1.0.0",
            "_view_count": null,
            "_view_module_version": "1.0.0",
            "layout": "IPY_MODEL_860320c5e1504517bd90201bda7c641b",
            "_model_module": "@jupyter-widgets/output"
          }
        },
        "ace10338f0644f84ad12c0de09195ab9": {
          "model_module": "@jupyter-widgets/output",
          "model_name": "OutputModel",
          "state": {
            "_view_name": "OutputView",
            "msg_id": "",
            "_dom_classes": [],
            "_model_name": "OutputModel",
            "outputs": [
              {
                "output_type": "stream",
                "metadata": {
                  "tags": []
                },
                "text": "Video available at https://www.bilibili.com/video/BV1vK4y1s7CR\n",
                "stream": "stdout"
              },
              {
                "output_type": "display_data",
                "metadata": {
                  "tags": []
                },
                "text/html": "\n        <iframe\n            width=\"854\"\n            height=\"480\"\n            src=\"https://player.bilibili.com/player.html?bvid=BV1vK4y1s7CR&page=1?fs=1\"\n            frameborder=\"0\"\n            allowfullscreen\n        ></iframe>\n        ",
                "text/plain": "<__main__.BiliVideo at 0x7f20da8e7fd0>"
              }
            ],
            "_view_module": "@jupyter-widgets/output",
            "_model_module_version": "1.0.0",
            "_view_count": null,
            "_view_module_version": "1.0.0",
            "layout": "IPY_MODEL_8a2dcc9a441d400bbda391a4cf879598",
            "_model_module": "@jupyter-widgets/output"
          }
        },
        "860320c5e1504517bd90201bda7c641b": {
          "model_module": "@jupyter-widgets/base",
          "model_name": "LayoutModel",
          "state": {
            "_view_name": "LayoutView",
            "grid_template_rows": null,
            "right": null,
            "justify_content": null,
            "_view_module": "@jupyter-widgets/base",
            "overflow": null,
            "_model_module_version": "1.2.0",
            "_view_count": null,
            "flex_flow": null,
            "width": null,
            "min_width": null,
            "border": null,
            "align_items": null,
            "bottom": null,
            "_model_module": "@jupyter-widgets/base",
            "top": null,
            "grid_column": null,
            "overflow_y": null,
            "overflow_x": null,
            "grid_auto_flow": null,
            "grid_area": null,
            "grid_template_columns": null,
            "flex": null,
            "_model_name": "LayoutModel",
            "justify_items": null,
            "grid_row": null,
            "max_height": null,
            "align_content": null,
            "visibility": null,
            "align_self": null,
            "height": null,
            "min_height": null,
            "padding": null,
            "grid_auto_rows": null,
            "grid_gap": null,
            "max_width": null,
            "order": null,
            "_view_module_version": "1.2.0",
            "grid_template_areas": null,
            "object_position": null,
            "object_fit": null,
            "grid_auto_columns": null,
            "margin": null,
            "display": null,
            "left": null
          }
        },
        "8a2dcc9a441d400bbda391a4cf879598": {
          "model_module": "@jupyter-widgets/base",
          "model_name": "LayoutModel",
          "state": {
            "_view_name": "LayoutView",
            "grid_template_rows": null,
            "right": null,
            "justify_content": null,
            "_view_module": "@jupyter-widgets/base",
            "overflow": null,
            "_model_module_version": "1.2.0",
            "_view_count": null,
            "flex_flow": null,
            "width": null,
            "min_width": null,
            "border": null,
            "align_items": null,
            "bottom": null,
            "_model_module": "@jupyter-widgets/base",
            "top": null,
            "grid_column": null,
            "overflow_y": null,
            "overflow_x": null,
            "grid_auto_flow": null,
            "grid_area": null,
            "grid_template_columns": null,
            "flex": null,
            "_model_name": "LayoutModel",
            "justify_items": null,
            "grid_row": null,
            "max_height": null,
            "align_content": null,
            "visibility": null,
            "align_self": null,
            "height": null,
            "min_height": null,
            "padding": null,
            "grid_auto_rows": null,
            "grid_gap": null,
            "max_width": null,
            "order": null,
            "_view_module_version": "1.2.0",
            "grid_template_areas": null,
            "object_position": null,
            "object_fit": null,
            "grid_auto_columns": null,
            "margin": null,
            "display": null,
            "left": null
          }
        }
      }
    }
  },
  "cells": [
    {
      "cell_type": "markdown",
      "metadata": {
        "id": "cVUPSLpZb9m2"
      },
      "source": [
        "<a href=\"https://colab.research.google.com/github/NeuromatchAcademy/course-content/blob/master/tutorials/W1D3_ModelFitting/W1D3_Outro.ipynb\" target=\"_parent\"><img src=\"https://colab.research.google.com/assets/colab-badge.svg\" alt=\"Open In Colab\"/></a>"
      ]
    },
    {
      "cell_type": "markdown",
      "metadata": {
        "pycharm": {
          "name": "#%% md\n"
        },
        "id": "BEVAatl6b9m8"
      },
      "source": [
        "# Outro\n"
      ]
    },
    {
      "cell_type": "markdown",
      "metadata": {
        "id": "r8M5mEPgb9m9"
      },
      "source": [
        "**Our 2021 Sponsors, including Presenting Sponsor Facebook Reality Labs**\n",
        "\n",
        "<p align='center'><img src='https://github.com/NeuromatchAcademy/widgets/blob/master/sponsors.png?raw=True'/></p>"
      ]
    },
    {
      "cell_type": "markdown",
      "metadata": {
        "pycharm": {
          "name": "#%% md\n"
        },
        "id": "41wwEb-Yb9m-"
      },
      "source": [
        "## Video"
      ]
    },
    {
      "cell_type": "code",
      "metadata": {
        "cellView": "form",
        "execution": {
          "iopub.execute_input": "2021-07-05T19:38:56.391242Z",
          "iopub.status.busy": "2021-07-05T19:38:56.390639Z",
          "iopub.status.idle": "2021-07-05T19:38:56.518837Z",
          "shell.execute_reply": "2021-07-05T19:38:56.518071Z"
        },
        "pycharm": {
          "name": "#%%\n"
        },
        "id": "7EaErI8db9m_",
        "outputId": "633e093f-8c7d-407f-9fea-88174285cf3f",
        "colab": {
          "base_uri": "https://localhost:8080/",
          "height": 597,
          "referenced_widgets": [
            "e524f7213ac047d0b89d78266122456a",
            "7739e7b91dbf4d4cb4beb6bc4b7d0392",
            "5a1ffb2ff69f42ffb500971a2db99cc2",
            "ace10338f0644f84ad12c0de09195ab9",
            "860320c5e1504517bd90201bda7c641b",
            "8a2dcc9a441d400bbda391a4cf879598"
          ]
        }
      },
      "source": [
        "# @markdown\n",
        "from ipywidgets import widgets\n",
        "\n",
        "out2 = widgets.Output()\n",
        "with out2:\n",
        "  from IPython.display import IFrame\n",
        "  class BiliVideo(IFrame):\n",
        "      def __init__(self, id, page=1, width=400, height=300, **kwargs):\n",
        "          self.id=id\n",
        "          src = \"https://player.bilibili.com/player.html?bvid={0}&page={1}\".format(id, page)\n",
        "          super(BiliVideo, self).__init__(src, width, height, **kwargs)\n",
        "\n",
        "  video = BiliVideo(id=f\"BV1vK4y1s7CR\", width=854, height=480, fs=1)\n",
        "  print(\"Video available at https://www.bilibili.com/video/{0}\".format(video.id))\n",
        "  display(video)\n",
        "\n",
        "out1 = widgets.Output()\n",
        "with out1:\n",
        "  from IPython.display import YouTubeVideo\n",
        "  video = YouTubeVideo(id=f\"cUAUL3efqpY\", width=854, height=480, fs=1, rel=0)\n",
        "  print(\"Video available at https://youtube.com/watch?v=\" + video.id)\n",
        "  display(video)\n",
        "\n",
        "out = widgets.Tab([out1, out2])\n",
        "out.set_title(0, 'Youtube')\n",
        "out.set_title(1, 'Bilibili')\n",
        "\n",
        "display(out)"
      ],
      "execution_count": 1,
      "outputs": [
        {
          "output_type": "display_data",
          "data": {
            "application/vnd.jupyter.widget-view+json": {
              "model_id": "e524f7213ac047d0b89d78266122456a",
              "version_minor": 0,
              "version_major": 2
            },
            "text/plain": [
              "Tab(children=(Output(), Output()), _titles={'0': 'Youtube', '1': 'Bilibili'})"
            ]
          },
          "metadata": {
            "tags": []
          }
        }
      ]
    },
    {
      "cell_type": "markdown",
      "metadata": {
        "id": "XdElHmLzb9nB"
      },
      "source": [
        "## Daily survey\n",
        "\n",
        "Don't forget to complete your reflections and content check in the daily survey! Please be patient after logging in as there is\n",
        "a small delay before you will be redirected to the survey.\n",
        "\n",
        "<a href=\"https://portal.neuromatchacademy.org/api/redirect/to/a29a2283-7e48-48a6-8edf-181f59a79cf3\"><img src=\"https://github.com/NeuromatchAcademy/course-content/blob/master/tutorials/static/button.png?raw=1\" alt=\"button link to survey\" style=\"width:410px\"></a>"
      ]
    },
    {
      "cell_type": "markdown",
      "metadata": {
        "pycharm": {
          "name": "#%% md\n"
        },
        "id": "km-TyTA8b9nC"
      },
      "source": [
        "## Slides"
      ]
    },
    {
      "cell_type": "code",
      "metadata": {
        "cellView": "form",
        "execution": {
          "iopub.execute_input": "2021-07-05T19:38:56.534507Z",
          "iopub.status.busy": "2021-07-05T19:38:56.533162Z",
          "iopub.status.idle": "2021-07-05T19:38:56.536931Z",
          "shell.execute_reply": "2021-07-05T19:38:56.536409Z"
        },
        "pycharm": {
          "name": "#%%\n"
        },
        "id": "Ot2sMdEzb9nD",
        "outputId": "8373dd31-22d0-43dc-9f1b-161bdc8e229a",
        "colab": {
          "base_uri": "https://localhost:8080/",
          "height": 520
        }
      },
      "source": [
        "# @markdown\n",
        "from IPython.display import IFrame\n",
        "IFrame(src=f\"https://mfr.ca-1.osf.io/render?url=https://osf.io/xq4av/?direct%26mode=render%26action=download%26mode=render\", width=854, height=480)"
      ],
      "execution_count": 2,
      "outputs": [
        {
          "output_type": "execute_result",
          "data": {
            "text/html": [
              "\n",
              "        <iframe\n",
              "            width=\"854\"\n",
              "            height=\"480\"\n",
              "            src=\"https://mfr.ca-1.osf.io/render?url=https://osf.io/xq4av/?direct%26mode=render%26action=download%26mode=render\"\n",
              "            frameborder=\"0\"\n",
              "            allowfullscreen\n",
              "        ></iframe>\n",
              "        "
            ],
            "text/plain": [
              "<IPython.lib.display.IFrame at 0x7f20da8ce8d0>"
            ]
          },
          "metadata": {
            "tags": []
          },
          "execution_count": 2
        }
      ]
    }
  ]
}