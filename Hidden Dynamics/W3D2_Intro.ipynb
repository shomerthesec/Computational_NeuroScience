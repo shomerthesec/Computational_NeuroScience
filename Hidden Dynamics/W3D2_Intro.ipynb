{
  "nbformat": 4,
  "nbformat_minor": 0,
  "metadata": {
    "colab": {
      "name": "W3D2_Intro",
      "provenance": [],
      "collapsed_sections": [],
      "toc_visible": true
    },
    "kernel": {
      "display_name": "Python 3",
      "language": "python",
      "name": "python3"
    },
    "kernelspec": {
      "display_name": "Python 3",
      "language": "python",
      "name": "python3"
    },
    "language_info": {
      "codemirror_mode": {
        "name": "ipython",
        "version": 3
      },
      "file_extension": ".py",
      "mimetype": "text/x-python",
      "name": "python",
      "nbconvert_exporter": "python",
      "pygments_lexer": "ipython3",
      "version": "3.7.10"
    },
    "widgets": {
      "application/vnd.jupyter.widget-state+json": {
        "a633ff5ae5c14f60b9896666663f6042": {
          "model_module": "@jupyter-widgets/controls",
          "model_name": "TabModel",
          "state": {
            "_view_name": "TabView",
            "_dom_classes": [],
            "_titles": {
              "0": "Youtube",
              "1": "Bilibili"
            },
            "_model_name": "TabModel",
            "_view_module": "@jupyter-widgets/controls",
            "selected_index": 0,
            "_model_module_version": "1.5.0",
            "_view_count": null,
            "_view_module_version": "1.5.0",
            "box_style": "",
            "layout": "IPY_MODEL_a8d225b11bc64c1988f69405cd1f4f48",
            "_model_module": "@jupyter-widgets/controls",
            "children": [
              "IPY_MODEL_c74492769c94405bbcac37c92826b9f9",
              "IPY_MODEL_d7526c73a57642f8825d485ca85ac1db"
            ]
          }
        },
        "a8d225b11bc64c1988f69405cd1f4f48": {
          "model_module": "@jupyter-widgets/base",
          "model_name": "LayoutModel",
          "state": {
            "_view_name": "LayoutView",
            "grid_template_rows": null,
            "right": null,
            "justify_content": null,
            "_view_module": "@jupyter-widgets/base",
            "overflow": null,
            "_model_module_version": "1.2.0",
            "_view_count": null,
            "flex_flow": null,
            "width": null,
            "min_width": null,
            "border": null,
            "align_items": null,
            "bottom": null,
            "_model_module": "@jupyter-widgets/base",
            "top": null,
            "grid_column": null,
            "overflow_y": null,
            "overflow_x": null,
            "grid_auto_flow": null,
            "grid_area": null,
            "grid_template_columns": null,
            "flex": null,
            "_model_name": "LayoutModel",
            "justify_items": null,
            "grid_row": null,
            "max_height": null,
            "align_content": null,
            "visibility": null,
            "align_self": null,
            "height": null,
            "min_height": null,
            "padding": null,
            "grid_auto_rows": null,
            "grid_gap": null,
            "max_width": null,
            "order": null,
            "_view_module_version": "1.2.0",
            "grid_template_areas": null,
            "object_position": null,
            "object_fit": null,
            "grid_auto_columns": null,
            "margin": null,
            "display": null,
            "left": null
          }
        },
        "c74492769c94405bbcac37c92826b9f9": {
          "model_module": "@jupyter-widgets/output",
          "model_name": "OutputModel",
          "state": {
            "_view_name": "OutputView",
            "msg_id": "",
            "_dom_classes": [],
            "_model_name": "OutputModel",
            "outputs": [
              {
                "output_type": "stream",
                "metadata": {
                  "tags": []
                },
                "text": "Video available at https://youtube.com/watch?v=bJIAWgycuVU\n",
                "stream": "stdout"
              },
              {
                "output_type": "display_data",
                "metadata": {
                  "tags": []
                },
                "text/html": "\n        <iframe\n            width=\"854\"\n            height=\"480\"\n            src=\"https://www.youtube.com/embed/bJIAWgycuVU?fs=1&rel=0\"\n            frameborder=\"0\"\n            allowfullscreen\n        ></iframe>\n        ",
                "text/plain": "<IPython.lib.display.YouTubeVideo at 0x7f2f13628810>",
                "image/jpeg": "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\n"
              }
            ],
            "_view_module": "@jupyter-widgets/output",
            "_model_module_version": "1.0.0",
            "_view_count": null,
            "_view_module_version": "1.0.0",
            "layout": "IPY_MODEL_dbbe424bebee4049baef1f5e579f47d0",
            "_model_module": "@jupyter-widgets/output"
          }
        },
        "d7526c73a57642f8825d485ca85ac1db": {
          "model_module": "@jupyter-widgets/output",
          "model_name": "OutputModel",
          "state": {
            "_view_name": "OutputView",
            "msg_id": "",
            "_dom_classes": [],
            "_model_name": "OutputModel",
            "outputs": [
              {
                "output_type": "stream",
                "metadata": {
                  "tags": []
                },
                "text": "Video available at https://www.bilibili.com/video/BV1bt4y1X7UX\n",
                "stream": "stdout"
              },
              {
                "output_type": "display_data",
                "metadata": {
                  "tags": []
                },
                "text/html": "\n        <iframe\n            width=\"854\"\n            height=\"480\"\n            src=\"https://player.bilibili.com/player.html?bvid=BV1bt4y1X7UX&page=1?fs=1\"\n            frameborder=\"0\"\n            allowfullscreen\n        ></iframe>\n        ",
                "text/plain": "<__main__.BiliVideo at 0x7f2f186be210>"
              }
            ],
            "_view_module": "@jupyter-widgets/output",
            "_model_module_version": "1.0.0",
            "_view_count": null,
            "_view_module_version": "1.0.0",
            "layout": "IPY_MODEL_4bc9269cc9724d7cac2865923754ae8b",
            "_model_module": "@jupyter-widgets/output"
          }
        },
        "dbbe424bebee4049baef1f5e579f47d0": {
          "model_module": "@jupyter-widgets/base",
          "model_name": "LayoutModel",
          "state": {
            "_view_name": "LayoutView",
            "grid_template_rows": null,
            "right": null,
            "justify_content": null,
            "_view_module": "@jupyter-widgets/base",
            "overflow": null,
            "_model_module_version": "1.2.0",
            "_view_count": null,
            "flex_flow": null,
            "width": null,
            "min_width": null,
            "border": null,
            "align_items": null,
            "bottom": null,
            "_model_module": "@jupyter-widgets/base",
            "top": null,
            "grid_column": null,
            "overflow_y": null,
            "overflow_x": null,
            "grid_auto_flow": null,
            "grid_area": null,
            "grid_template_columns": null,
            "flex": null,
            "_model_name": "LayoutModel",
            "justify_items": null,
            "grid_row": null,
            "max_height": null,
            "align_content": null,
            "visibility": null,
            "align_self": null,
            "height": null,
            "min_height": null,
            "padding": null,
            "grid_auto_rows": null,
            "grid_gap": null,
            "max_width": null,
            "order": null,
            "_view_module_version": "1.2.0",
            "grid_template_areas": null,
            "object_position": null,
            "object_fit": null,
            "grid_auto_columns": null,
            "margin": null,
            "display": null,
            "left": null
          }
        },
        "4bc9269cc9724d7cac2865923754ae8b": {
          "model_module": "@jupyter-widgets/base",
          "model_name": "LayoutModel",
          "state": {
            "_view_name": "LayoutView",
            "grid_template_rows": null,
            "right": null,
            "justify_content": null,
            "_view_module": "@jupyter-widgets/base",
            "overflow": null,
            "_model_module_version": "1.2.0",
            "_view_count": null,
            "flex_flow": null,
            "width": null,
            "min_width": null,
            "border": null,
            "align_items": null,
            "bottom": null,
            "_model_module": "@jupyter-widgets/base",
            "top": null,
            "grid_column": null,
            "overflow_y": null,
            "overflow_x": null,
            "grid_auto_flow": null,
            "grid_area": null,
            "grid_template_columns": null,
            "flex": null,
            "_model_name": "LayoutModel",
            "justify_items": null,
            "grid_row": null,
            "max_height": null,
            "align_content": null,
            "visibility": null,
            "align_self": null,
            "height": null,
            "min_height": null,
            "padding": null,
            "grid_auto_rows": null,
            "grid_gap": null,
            "max_width": null,
            "order": null,
            "_view_module_version": "1.2.0",
            "grid_template_areas": null,
            "object_position": null,
            "object_fit": null,
            "grid_auto_columns": null,
            "margin": null,
            "display": null,
            "left": null
          }
        }
      }
    }
  },
  "cells": [
    {
      "cell_type": "markdown",
      "metadata": {
        "id": "77xKlT1UmB36"
      },
      "source": [
        "<a href=\"https://colab.research.google.com/github/NeuromatchAcademy/course-content/blob/master/tutorials/W3D2_HiddenDynamics/W3D2_Intro.ipynb\" target=\"_parent\"><img src=\"https://colab.research.google.com/assets/colab-badge.svg\" alt=\"Open In Colab\"/></a>"
      ]
    },
    {
      "cell_type": "markdown",
      "metadata": {
        "pycharm": {
          "name": "#%% md\n"
        },
        "id": "YKOyChdOmB3-"
      },
      "source": [
        "# Intro"
      ]
    },
    {
      "cell_type": "markdown",
      "metadata": {
        "id": "PyKv4W4cmB3_"
      },
      "source": [
        "**Our 2021 Sponsors, including Presenting Sponsor Facebook Reality Labs**\n",
        "\n",
        "<p align='center'><img src='https://github.com/NeuromatchAcademy/widgets/blob/master/sponsors.png?raw=True'/></p>"
      ]
    },
    {
      "cell_type": "markdown",
      "metadata": {
        "pycharm": {
          "name": "#%% md\n"
        },
        "id": "5529ann7mB4A"
      },
      "source": [
        "## Overview\n",
        "\n",
        "Today you will learn about Hidden Markov Models (HMMs), which allow us to infer things in the world from a stream of data. Tutorials will continue our two running examples that help provide intuition: fishing (for a binary latent state) and tracking astrocat (for a gaussian latent state). In both examples, we've set up interactive visualizations to provide intuition, and then students will recreate the key inferences step by step. For the binary case, we start with a simple version where the latent state doesn't change, then we'll allow the latent state to change over time. There's plenty of bonus material, but your core learning objective is to understand and implement an algorithm to infer a changing hidden state from observations.\n",
        "\n",
        "The HMM combines ideas from the linear dynamics lessons (which used Markov models) with inferences described in the Bayes day (which used Hidden variables). It also connects directly to later lessons in Optimal Control and Reinforcement Learning, which often use the HMM to guide actions.\n",
        "\n",
        "The HMM is a pervasive model in neuroscience. It is used for data analysis, like inferring neural activity from fluorescence images. It is also a foundational model for what the brain should compute, as it interprets the physical world that is observed only through its senses."
      ]
    },
    {
      "cell_type": "markdown",
      "metadata": {
        "pycharm": {
          "name": "#%% md\n"
        },
        "id": "stI-shSkmB4B"
      },
      "source": [
        "## Video"
      ]
    },
    {
      "cell_type": "code",
      "metadata": {
        "cellView": "form",
        "execution": {
          "iopub.execute_input": "2021-06-25T15:15:59.315432Z",
          "iopub.status.busy": "2021-06-25T15:15:59.314909Z",
          "iopub.status.idle": "2021-06-25T15:15:59.448731Z",
          "shell.execute_reply": "2021-06-25T15:15:59.449202Z"
        },
        "pycharm": {
          "name": "#%%\n"
        },
        "id": "-Hoxq6yFmB4C",
        "outputId": "fd660fcf-de0f-481a-b891-45aa29f84a63",
        "colab": {
          "base_uri": "https://localhost:8080/",
          "height": 580,
          "referenced_widgets": [
            "a633ff5ae5c14f60b9896666663f6042",
            "a8d225b11bc64c1988f69405cd1f4f48",
            "c74492769c94405bbcac37c92826b9f9",
            "d7526c73a57642f8825d485ca85ac1db",
            "dbbe424bebee4049baef1f5e579f47d0",
            "4bc9269cc9724d7cac2865923754ae8b"
          ]
        }
      },
      "source": [
        "# @markdown\n",
        "from ipywidgets import widgets\n",
        "\n",
        "out2 = widgets.Output()\n",
        "with out2:\n",
        "  from IPython.display import IFrame\n",
        "  class BiliVideo(IFrame):\n",
        "      def __init__(self, id, page=1, width=400, height=300, **kwargs):\n",
        "          self.id=id\n",
        "          src = \"https://player.bilibili.com/player.html?bvid={0}&page={1}\".format(id, page)\n",
        "          super(BiliVideo, self).__init__(src, width, height, **kwargs)\n",
        "\n",
        "  video = BiliVideo(id=f\"BV1bt4y1X7UX\", width=854, height=480, fs=1)\n",
        "  print(\"Video available at https://www.bilibili.com/video/{0}\".format(video.id))\n",
        "  display(video)\n",
        "\n",
        "out1 = widgets.Output()\n",
        "with out1:\n",
        "  from IPython.display import YouTubeVideo\n",
        "  video = YouTubeVideo(id=f\"bJIAWgycuVU\", width=854, height=480, fs=1, rel=0)\n",
        "  print(\"Video available at https://youtube.com/watch?v=\" + video.id)\n",
        "  display(video)\n",
        "\n",
        "out = widgets.Tab([out1, out2])\n",
        "out.set_title(0, 'Youtube')\n",
        "out.set_title(1, 'Bilibili')\n",
        "\n",
        "display(out)"
      ],
      "execution_count": 1,
      "outputs": [
        {
          "output_type": "display_data",
          "data": {
            "application/vnd.jupyter.widget-view+json": {
              "model_id": "a633ff5ae5c14f60b9896666663f6042",
              "version_minor": 0,
              "version_major": 2
            },
            "text/plain": [
              "Tab(children=(Output(), Output()), _titles={'0': 'Youtube', '1': 'Bilibili'})"
            ]
          },
          "metadata": {
            "tags": []
          }
        }
      ]
    },
    {
      "cell_type": "markdown",
      "metadata": {
        "pycharm": {
          "name": "#%% md\n"
        },
        "id": "vgMCyRfimB4E"
      },
      "source": [
        "## Slides"
      ]
    },
    {
      "cell_type": "code",
      "metadata": {
        "cellView": "form",
        "execution": {
          "iopub.execute_input": "2021-06-25T15:15:59.460592Z",
          "iopub.status.busy": "2021-06-25T15:15:59.460059Z",
          "iopub.status.idle": "2021-06-25T15:15:59.462596Z",
          "shell.execute_reply": "2021-06-25T15:15:59.463019Z"
        },
        "pycharm": {
          "name": "#%%\n"
        },
        "id": "NoekW_7ZmB4E",
        "outputId": "786293a7-2bd6-44c2-94d6-9176ba392d16",
        "colab": {
          "base_uri": "https://localhost:8080/",
          "height": 500
        }
      },
      "source": [
        "# @markdown\n",
        "from IPython.display import IFrame\n",
        "IFrame(src=f\"https://mfr.ca-1.osf.io/render?url=https://osf.io/8u92f/?direct%26mode=render%26action=download%26mode=render\", width=854, height=480)"
      ],
      "execution_count": 2,
      "outputs": [
        {
          "output_type": "execute_result",
          "data": {
            "text/html": [
              "\n",
              "        <iframe\n",
              "            width=\"854\"\n",
              "            height=\"480\"\n",
              "            src=\"https://mfr.ca-1.osf.io/render?url=https://osf.io/8u92f/?direct%26mode=render%26action=download%26mode=render\"\n",
              "            frameborder=\"0\"\n",
              "            allowfullscreen\n",
              "        ></iframe>\n",
              "        "
            ],
            "text/plain": [
              "<IPython.lib.display.IFrame at 0x7f2f1361fc50>"
            ]
          },
          "metadata": {
            "tags": []
          },
          "execution_count": 2
        }
      ]
    }
  ]
}