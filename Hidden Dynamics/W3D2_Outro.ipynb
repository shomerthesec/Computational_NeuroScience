{
  "nbformat": 4,
  "nbformat_minor": 0,
  "metadata": {
    "colab": {
      "name": "W3D2_Outro",
      "provenance": [],
      "collapsed_sections": [],
      "toc_visible": true
    },
    "kernel": {
      "display_name": "Python 3",
      "language": "python",
      "name": "python3"
    },
    "kernelspec": {
      "display_name": "Python 3",
      "language": "python",
      "name": "python3"
    },
    "language_info": {
      "codemirror_mode": {
        "name": "ipython",
        "version": 3
      },
      "file_extension": ".py",
      "mimetype": "text/x-python",
      "name": "python",
      "nbconvert_exporter": "python",
      "pygments_lexer": "ipython3",
      "version": "3.7.11"
    },
    "widgets": {
      "application/vnd.jupyter.widget-state+json": {
        "31c9691183ae428e872c5c24a46ad3ce": {
          "model_module": "@jupyter-widgets/controls",
          "model_name": "TabModel",
          "state": {
            "_view_name": "TabView",
            "_dom_classes": [],
            "_titles": {
              "0": "Youtube",
              "1": "Bilibili"
            },
            "_model_name": "TabModel",
            "_view_module": "@jupyter-widgets/controls",
            "selected_index": 0,
            "_model_module_version": "1.5.0",
            "_view_count": null,
            "_view_module_version": "1.5.0",
            "box_style": "",
            "layout": "IPY_MODEL_cd7e926be6a94e87b703f81740cc5894",
            "_model_module": "@jupyter-widgets/controls",
            "children": [
              "IPY_MODEL_f057813cd6414967a0c5f609c655ff30",
              "IPY_MODEL_8068e6a310c544b7967526b573d272d7"
            ]
          }
        },
        "cd7e926be6a94e87b703f81740cc5894": {
          "model_module": "@jupyter-widgets/base",
          "model_name": "LayoutModel",
          "state": {
            "_view_name": "LayoutView",
            "grid_template_rows": null,
            "right": null,
            "justify_content": null,
            "_view_module": "@jupyter-widgets/base",
            "overflow": null,
            "_model_module_version": "1.2.0",
            "_view_count": null,
            "flex_flow": null,
            "width": null,
            "min_width": null,
            "border": null,
            "align_items": null,
            "bottom": null,
            "_model_module": "@jupyter-widgets/base",
            "top": null,
            "grid_column": null,
            "overflow_y": null,
            "overflow_x": null,
            "grid_auto_flow": null,
            "grid_area": null,
            "grid_template_columns": null,
            "flex": null,
            "_model_name": "LayoutModel",
            "justify_items": null,
            "grid_row": null,
            "max_height": null,
            "align_content": null,
            "visibility": null,
            "align_self": null,
            "height": null,
            "min_height": null,
            "padding": null,
            "grid_auto_rows": null,
            "grid_gap": null,
            "max_width": null,
            "order": null,
            "_view_module_version": "1.2.0",
            "grid_template_areas": null,
            "object_position": null,
            "object_fit": null,
            "grid_auto_columns": null,
            "margin": null,
            "display": null,
            "left": null
          }
        },
        "f057813cd6414967a0c5f609c655ff30": {
          "model_module": "@jupyter-widgets/output",
          "model_name": "OutputModel",
          "state": {
            "_view_name": "OutputView",
            "msg_id": "",
            "_dom_classes": [],
            "_model_name": "OutputModel",
            "outputs": [
              {
                "output_type": "stream",
                "metadata": {
                  "tags": []
                },
                "text": "Video available at https://youtube.com/watch?v=5yKREz2kchE\n",
                "stream": "stdout"
              },
              {
                "output_type": "display_data",
                "metadata": {
                  "tags": []
                },
                "text/html": "\n        <iframe\n            width=\"854\"\n            height=\"480\"\n            src=\"https://www.youtube.com/embed/5yKREz2kchE?fs=1&rel=0\"\n            frameborder=\"0\"\n            allowfullscreen\n        ></iframe>\n        ",
                "text/plain": "<IPython.lib.display.YouTubeVideo at 0x7faf28e8c310>",
                "image/jpeg": "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\n"
              }
            ],
            "_view_module": "@jupyter-widgets/output",
            "_model_module_version": "1.0.0",
            "_view_count": null,
            "_view_module_version": "1.0.0",
            "layout": "IPY_MODEL_2f9a3d83195e40e380a94607855121df",
            "_model_module": "@jupyter-widgets/output"
          }
        },
        "8068e6a310c544b7967526b573d272d7": {
          "model_module": "@jupyter-widgets/output",
          "model_name": "OutputModel",
          "state": {
            "_view_name": "OutputView",
            "msg_id": "",
            "_dom_classes": [],
            "_model_name": "OutputModel",
            "outputs": [
              {
                "output_type": "stream",
                "metadata": {
                  "tags": []
                },
                "text": "Video available at https://www.bilibili.com/video/BV1Qk4y127kB\n",
                "stream": "stdout"
              },
              {
                "output_type": "display_data",
                "metadata": {
                  "tags": []
                },
                "text/html": "\n        <iframe\n            width=\"854\"\n            height=\"480\"\n            src=\"https://player.bilibili.com/player.html?bvid=BV1Qk4y127kB&page=1?fs=1\"\n            frameborder=\"0\"\n            allowfullscreen\n        ></iframe>\n        ",
                "text/plain": "<__main__.BiliVideo at 0x7faf28e8c550>"
              }
            ],
            "_view_module": "@jupyter-widgets/output",
            "_model_module_version": "1.0.0",
            "_view_count": null,
            "_view_module_version": "1.0.0",
            "layout": "IPY_MODEL_8c464317e3ff454bb68794362d8e5417",
            "_model_module": "@jupyter-widgets/output"
          }
        },
        "2f9a3d83195e40e380a94607855121df": {
          "model_module": "@jupyter-widgets/base",
          "model_name": "LayoutModel",
          "state": {
            "_view_name": "LayoutView",
            "grid_template_rows": null,
            "right": null,
            "justify_content": null,
            "_view_module": "@jupyter-widgets/base",
            "overflow": null,
            "_model_module_version": "1.2.0",
            "_view_count": null,
            "flex_flow": null,
            "width": null,
            "min_width": null,
            "border": null,
            "align_items": null,
            "bottom": null,
            "_model_module": "@jupyter-widgets/base",
            "top": null,
            "grid_column": null,
            "overflow_y": null,
            "overflow_x": null,
            "grid_auto_flow": null,
            "grid_area": null,
            "grid_template_columns": null,
            "flex": null,
            "_model_name": "LayoutModel",
            "justify_items": null,
            "grid_row": null,
            "max_height": null,
            "align_content": null,
            "visibility": null,
            "align_self": null,
            "height": null,
            "min_height": null,
            "padding": null,
            "grid_auto_rows": null,
            "grid_gap": null,
            "max_width": null,
            "order": null,
            "_view_module_version": "1.2.0",
            "grid_template_areas": null,
            "object_position": null,
            "object_fit": null,
            "grid_auto_columns": null,
            "margin": null,
            "display": null,
            "left": null
          }
        },
        "8c464317e3ff454bb68794362d8e5417": {
          "model_module": "@jupyter-widgets/base",
          "model_name": "LayoutModel",
          "state": {
            "_view_name": "LayoutView",
            "grid_template_rows": null,
            "right": null,
            "justify_content": null,
            "_view_module": "@jupyter-widgets/base",
            "overflow": null,
            "_model_module_version": "1.2.0",
            "_view_count": null,
            "flex_flow": null,
            "width": null,
            "min_width": null,
            "border": null,
            "align_items": null,
            "bottom": null,
            "_model_module": "@jupyter-widgets/base",
            "top": null,
            "grid_column": null,
            "overflow_y": null,
            "overflow_x": null,
            "grid_auto_flow": null,
            "grid_area": null,
            "grid_template_columns": null,
            "flex": null,
            "_model_name": "LayoutModel",
            "justify_items": null,
            "grid_row": null,
            "max_height": null,
            "align_content": null,
            "visibility": null,
            "align_self": null,
            "height": null,
            "min_height": null,
            "padding": null,
            "grid_auto_rows": null,
            "grid_gap": null,
            "max_width": null,
            "order": null,
            "_view_module_version": "1.2.0",
            "grid_template_areas": null,
            "object_position": null,
            "object_fit": null,
            "grid_auto_columns": null,
            "margin": null,
            "display": null,
            "left": null
          }
        }
      }
    }
  },
  "cells": [
    {
      "cell_type": "markdown",
      "metadata": {
        "execution": {},
        "pycharm": {
          "name": "#%% md\n"
        },
        "id": "PaUyrkjN_6sw"
      },
      "source": [
        "# Outro\n"
      ]
    },
    {
      "cell_type": "markdown",
      "metadata": {
        "execution": {},
        "id": "3DMsPXRC_6s0"
      },
      "source": [
        "**Our 2021 Sponsors, including Presenting Sponsor Facebook Reality Labs**\n",
        "\n",
        "<p align='center'><img src='https://github.com/NeuromatchAcademy/widgets/blob/master/sponsors.png?raw=True'/></p>"
      ]
    },
    {
      "cell_type": "markdown",
      "metadata": {
        "execution": {},
        "pycharm": {
          "name": "#%% md\n"
        },
        "id": "pnXppsHE_6s1"
      },
      "source": [
        "## Video"
      ]
    },
    {
      "cell_type": "code",
      "metadata": {
        "cellView": "form",
        "execution": {},
        "pycharm": {
          "name": "#%%\n"
        },
        "colab": {
          "base_uri": "https://localhost:8080/",
          "height": 580,
          "referenced_widgets": [
            "31c9691183ae428e872c5c24a46ad3ce",
            "cd7e926be6a94e87b703f81740cc5894",
            "f057813cd6414967a0c5f609c655ff30",
            "8068e6a310c544b7967526b573d272d7",
            "2f9a3d83195e40e380a94607855121df",
            "8c464317e3ff454bb68794362d8e5417"
          ]
        },
        "id": "jw5EpAly_6s2",
        "outputId": "8323358f-2894-4eb8-adfd-adb097a6b9d9"
      },
      "source": [
        "# @markdown\n",
        "from ipywidgets import widgets\n",
        "\n",
        "out2 = widgets.Output()\n",
        "with out2:\n",
        "  from IPython.display import IFrame\n",
        "  class BiliVideo(IFrame):\n",
        "      def __init__(self, id, page=1, width=400, height=300, **kwargs):\n",
        "          self.id=id\n",
        "          src = \"https://player.bilibili.com/player.html?bvid={0}&page={1}\".format(id, page)\n",
        "          super(BiliVideo, self).__init__(src, width, height, **kwargs)\n",
        "\n",
        "  video = BiliVideo(id=f\"BV1Qk4y127kB\", width=854, height=480, fs=1)\n",
        "  print(\"Video available at https://www.bilibili.com/video/{0}\".format(video.id))\n",
        "  display(video)\n",
        "\n",
        "out1 = widgets.Output()\n",
        "with out1:\n",
        "  from IPython.display import YouTubeVideo\n",
        "  video = YouTubeVideo(id=f\"5yKREz2kchE\", width=854, height=480, fs=1, rel=0)\n",
        "  print(\"Video available at https://youtube.com/watch?v=\" + video.id)\n",
        "  display(video)\n",
        "\n",
        "out = widgets.Tab([out1, out2])\n",
        "out.set_title(0, 'Youtube')\n",
        "out.set_title(1, 'Bilibili')\n",
        "\n",
        "display(out)"
      ],
      "execution_count": 1,
      "outputs": [
        {
          "output_type": "display_data",
          "data": {
            "application/vnd.jupyter.widget-view+json": {
              "model_id": "31c9691183ae428e872c5c24a46ad3ce",
              "version_minor": 0,
              "version_major": 2
            },
            "text/plain": [
              "Tab(children=(Output(), Output()), _titles={'0': 'Youtube', '1': 'Bilibili'})"
            ]
          },
          "metadata": {
            "tags": []
          }
        }
      ]
    },
    {
      "cell_type": "markdown",
      "metadata": {
        "execution": {},
        "id": "_RqMHxll_6s4"
      },
      "source": [
        "## Daily survey\n",
        "\n",
        "Don't forget to complete your reflections and content check in the daily survey! Please be patient after logging in as there is\n",
        "a small delay before you will be redirected to the survey.\n",
        "\n",
        "<a href=\"https://portal.neuromatchacademy.org/api/redirect/to/04113280-f356-459e-bcc3-461780d2a54b\"><img src=\"https://github.com/NeuromatchAcademy/course-content/blob/master/tutorials/static/button.png?raw=1\" alt=\"button link to survey\" style=\"width:410px\"></a>"
      ]
    },
    {
      "cell_type": "markdown",
      "metadata": {
        "execution": {},
        "pycharm": {
          "name": "#%% md\n"
        },
        "id": "sRGZSMi3_6s5"
      },
      "source": [
        "## Slides"
      ]
    },
    {
      "cell_type": "code",
      "metadata": {
        "cellView": "form",
        "execution": {},
        "pycharm": {
          "name": "#%%\n"
        },
        "colab": {
          "base_uri": "https://localhost:8080/",
          "height": 500
        },
        "id": "g0jO7-bh_6s5",
        "outputId": "11c43a0a-32d0-4a31-9f5a-91cf099b5961"
      },
      "source": [
        "# @markdown\n",
        "from IPython.display import IFrame\n",
        "IFrame(src=f\"https://mfr.ca-1.osf.io/render?url=https://osf.io/nqcy3/?direct%26mode=render%26action=download%26mode=render\", width=854, height=480)"
      ],
      "execution_count": 2,
      "outputs": [
        {
          "output_type": "execute_result",
          "data": {
            "text/html": [
              "\n",
              "        <iframe\n",
              "            width=\"854\"\n",
              "            height=\"480\"\n",
              "            src=\"https://mfr.ca-1.osf.io/render?url=https://osf.io/nqcy3/?direct%26mode=render%26action=download%26mode=render\"\n",
              "            frameborder=\"0\"\n",
              "            allowfullscreen\n",
              "        ></iframe>\n",
              "        "
            ],
            "text/plain": [
              "<IPython.lib.display.IFrame at 0x7faf28e85e10>"
            ]
          },
          "metadata": {
            "tags": []
          },
          "execution_count": 2
        }
      ]
    }
  ]
}