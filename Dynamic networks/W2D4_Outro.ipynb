{
  "nbformat": 4,
  "nbformat_minor": 0,
  "metadata": {
    "colab": {
      "name": "W2D4_Outro",
      "provenance": [],
      "collapsed_sections": []
    },
    "kernel": {
      "display_name": "Python 3",
      "language": "python",
      "name": "python3"
    },
    "kernelspec": {
      "display_name": "Python 3",
      "language": "python",
      "name": "python3"
    },
    "language_info": {
      "codemirror_mode": {
        "name": "ipython",
        "version": 3
      },
      "file_extension": ".py",
      "mimetype": "text/x-python",
      "name": "python",
      "nbconvert_exporter": "python",
      "pygments_lexer": "ipython3",
      "version": "3.7.10"
    },
    "widgets": {
      "application/vnd.jupyter.widget-state+json": {
        "4d262e68a47449f7a862b770187c5817": {
          "model_module": "@jupyter-widgets/controls",
          "model_name": "TabModel",
          "state": {
            "_view_name": "TabView",
            "_dom_classes": [],
            "_titles": {
              "0": "Youtube",
              "1": "Bilibili"
            },
            "_model_name": "TabModel",
            "_view_module": "@jupyter-widgets/controls",
            "selected_index": 0,
            "_model_module_version": "1.5.0",
            "_view_count": null,
            "_view_module_version": "1.5.0",
            "box_style": "",
            "layout": "IPY_MODEL_afdda52febea4dafa083478183e56ca0",
            "_model_module": "@jupyter-widgets/controls",
            "children": [
              "IPY_MODEL_eec9a7b69ecd47f590ea2e1d3d37d0df",
              "IPY_MODEL_7961624bafe24c698ad43bcd4269077c"
            ]
          }
        },
        "afdda52febea4dafa083478183e56ca0": {
          "model_module": "@jupyter-widgets/base",
          "model_name": "LayoutModel",
          "state": {
            "_view_name": "LayoutView",
            "grid_template_rows": null,
            "right": null,
            "justify_content": null,
            "_view_module": "@jupyter-widgets/base",
            "overflow": null,
            "_model_module_version": "1.2.0",
            "_view_count": null,
            "flex_flow": null,
            "width": null,
            "min_width": null,
            "border": null,
            "align_items": null,
            "bottom": null,
            "_model_module": "@jupyter-widgets/base",
            "top": null,
            "grid_column": null,
            "overflow_y": null,
            "overflow_x": null,
            "grid_auto_flow": null,
            "grid_area": null,
            "grid_template_columns": null,
            "flex": null,
            "_model_name": "LayoutModel",
            "justify_items": null,
            "grid_row": null,
            "max_height": null,
            "align_content": null,
            "visibility": null,
            "align_self": null,
            "height": null,
            "min_height": null,
            "padding": null,
            "grid_auto_rows": null,
            "grid_gap": null,
            "max_width": null,
            "order": null,
            "_view_module_version": "1.2.0",
            "grid_template_areas": null,
            "object_position": null,
            "object_fit": null,
            "grid_auto_columns": null,
            "margin": null,
            "display": null,
            "left": null
          }
        },
        "eec9a7b69ecd47f590ea2e1d3d37d0df": {
          "model_module": "@jupyter-widgets/output",
          "model_name": "OutputModel",
          "state": {
            "_view_name": "OutputView",
            "msg_id": "",
            "_dom_classes": [],
            "_model_name": "OutputModel",
            "outputs": [
              {
                "output_type": "stream",
                "metadata": {
                  "tags": []
                },
                "text": "Video available at https://youtube.com/watch?v=hXlnBMHC65w\n",
                "stream": "stdout"
              },
              {
                "output_type": "display_data",
                "metadata": {
                  "tags": []
                },
                "text/html": "\n        <iframe\n            width=\"854\"\n            height=\"480\"\n            src=\"https://www.youtube.com/embed/hXlnBMHC65w?fs=1&rel=0\"\n            frameborder=\"0\"\n            allowfullscreen\n        ></iframe>\n        ",
                "text/plain": "<IPython.lib.display.YouTubeVideo at 0x7fb1f0bb1650>",
                "image/jpeg": "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\n"
              }
            ],
            "_view_module": "@jupyter-widgets/output",
            "_model_module_version": "1.0.0",
            "_view_count": null,
            "_view_module_version": "1.0.0",
            "layout": "IPY_MODEL_f69886e75b9d4b24bdaf417415e78102",
            "_model_module": "@jupyter-widgets/output"
          }
        },
        "7961624bafe24c698ad43bcd4269077c": {
          "model_module": "@jupyter-widgets/output",
          "model_name": "OutputModel",
          "state": {
            "_view_name": "OutputView",
            "msg_id": "",
            "_dom_classes": [],
            "_model_name": "OutputModel",
            "outputs": [
              {
                "output_type": "stream",
                "metadata": {
                  "tags": []
                },
                "text": "Video available at https://www.bilibili.com/video/BV1PV411z7eP\n",
                "stream": "stdout"
              },
              {
                "output_type": "display_data",
                "metadata": {
                  "tags": []
                },
                "text/html": "\n        <iframe\n            width=\"854\"\n            height=\"480\"\n            src=\"https://player.bilibili.com/player.html?bvid=BV1PV411z7eP&page=1?fs=1\"\n            frameborder=\"0\"\n            allowfullscreen\n        ></iframe>\n        ",
                "text/plain": "<__main__.BiliVideo at 0x7fb1f3a39210>"
              }
            ],
            "_view_module": "@jupyter-widgets/output",
            "_model_module_version": "1.0.0",
            "_view_count": null,
            "_view_module_version": "1.0.0",
            "layout": "IPY_MODEL_fb8d89c6a23246dea3aff99fd584b7e2",
            "_model_module": "@jupyter-widgets/output"
          }
        },
        "f69886e75b9d4b24bdaf417415e78102": {
          "model_module": "@jupyter-widgets/base",
          "model_name": "LayoutModel",
          "state": {
            "_view_name": "LayoutView",
            "grid_template_rows": null,
            "right": null,
            "justify_content": null,
            "_view_module": "@jupyter-widgets/base",
            "overflow": null,
            "_model_module_version": "1.2.0",
            "_view_count": null,
            "flex_flow": null,
            "width": null,
            "min_width": null,
            "border": null,
            "align_items": null,
            "bottom": null,
            "_model_module": "@jupyter-widgets/base",
            "top": null,
            "grid_column": null,
            "overflow_y": null,
            "overflow_x": null,
            "grid_auto_flow": null,
            "grid_area": null,
            "grid_template_columns": null,
            "flex": null,
            "_model_name": "LayoutModel",
            "justify_items": null,
            "grid_row": null,
            "max_height": null,
            "align_content": null,
            "visibility": null,
            "align_self": null,
            "height": null,
            "min_height": null,
            "padding": null,
            "grid_auto_rows": null,
            "grid_gap": null,
            "max_width": null,
            "order": null,
            "_view_module_version": "1.2.0",
            "grid_template_areas": null,
            "object_position": null,
            "object_fit": null,
            "grid_auto_columns": null,
            "margin": null,
            "display": null,
            "left": null
          }
        },
        "fb8d89c6a23246dea3aff99fd584b7e2": {
          "model_module": "@jupyter-widgets/base",
          "model_name": "LayoutModel",
          "state": {
            "_view_name": "LayoutView",
            "grid_template_rows": null,
            "right": null,
            "justify_content": null,
            "_view_module": "@jupyter-widgets/base",
            "overflow": null,
            "_model_module_version": "1.2.0",
            "_view_count": null,
            "flex_flow": null,
            "width": null,
            "min_width": null,
            "border": null,
            "align_items": null,
            "bottom": null,
            "_model_module": "@jupyter-widgets/base",
            "top": null,
            "grid_column": null,
            "overflow_y": null,
            "overflow_x": null,
            "grid_auto_flow": null,
            "grid_area": null,
            "grid_template_columns": null,
            "flex": null,
            "_model_name": "LayoutModel",
            "justify_items": null,
            "grid_row": null,
            "max_height": null,
            "align_content": null,
            "visibility": null,
            "align_self": null,
            "height": null,
            "min_height": null,
            "padding": null,
            "grid_auto_rows": null,
            "grid_gap": null,
            "max_width": null,
            "order": null,
            "_view_module_version": "1.2.0",
            "grid_template_areas": null,
            "object_position": null,
            "object_fit": null,
            "grid_auto_columns": null,
            "margin": null,
            "display": null,
            "left": null
          }
        }
      }
    }
  },
  "cells": [
    {
      "cell_type": "markdown",
      "metadata": {
        "execution": {},
        "pycharm": {
          "name": "#%% md\n"
        },
        "id": "honyZhiB8NUB"
      },
      "source": [
        "# Outro\n"
      ]
    },
    {
      "cell_type": "markdown",
      "metadata": {
        "execution": {},
        "id": "yPKFqKuA8NUF"
      },
      "source": [
        "**Our 2021 Sponsors, including Presenting Sponsor Facebook Reality Labs**\n",
        "\n",
        "<p align='center'><img src='https://github.com/NeuromatchAcademy/widgets/blob/master/sponsors.png?raw=True'/></p>"
      ]
    },
    {
      "cell_type": "markdown",
      "metadata": {
        "execution": {},
        "pycharm": {
          "name": "#%% md\n"
        },
        "id": "Alk0VSDy8NUH"
      },
      "source": [
        "## Video"
      ]
    },
    {
      "cell_type": "code",
      "metadata": {
        "cellView": "form",
        "execution": {},
        "pycharm": {
          "name": "#%%\n"
        },
        "id": "1Zajd2zm8NUI",
        "outputId": "3130277f-7e79-4fa2-9201-56105f62399e",
        "colab": {
          "base_uri": "https://localhost:8080/",
          "height": 580,
          "referenced_widgets": [
            "4d262e68a47449f7a862b770187c5817",
            "afdda52febea4dafa083478183e56ca0",
            "eec9a7b69ecd47f590ea2e1d3d37d0df",
            "7961624bafe24c698ad43bcd4269077c",
            "f69886e75b9d4b24bdaf417415e78102",
            "fb8d89c6a23246dea3aff99fd584b7e2"
          ]
        }
      },
      "source": [
        "# @markdown\n",
        "from ipywidgets import widgets\n",
        "\n",
        "out2 = widgets.Output()\n",
        "with out2:\n",
        "  from IPython.display import IFrame\n",
        "  class BiliVideo(IFrame):\n",
        "      def __init__(self, id, page=1, width=400, height=300, **kwargs):\n",
        "          self.id=id\n",
        "          src = \"https://player.bilibili.com/player.html?bvid={0}&page={1}\".format(id, page)\n",
        "          super(BiliVideo, self).__init__(src, width, height, **kwargs)\n",
        "\n",
        "  video = BiliVideo(id=f\"BV1PV411z7eP\", width=854, height=480, fs=1)\n",
        "  print(\"Video available at https://www.bilibili.com/video/{0}\".format(video.id))\n",
        "  display(video)\n",
        "\n",
        "out1 = widgets.Output()\n",
        "with out1:\n",
        "  from IPython.display import YouTubeVideo\n",
        "  video = YouTubeVideo(id=f\"hXlnBMHC65w\", width=854, height=480, fs=1, rel=0)\n",
        "  print(\"Video available at https://youtube.com/watch?v=\" + video.id)\n",
        "  display(video)\n",
        "\n",
        "out = widgets.Tab([out1, out2])\n",
        "out.set_title(0, 'Youtube')\n",
        "out.set_title(1, 'Bilibili')\n",
        "\n",
        "display(out)"
      ],
      "execution_count": 1,
      "outputs": [
        {
          "output_type": "display_data",
          "data": {
            "application/vnd.jupyter.widget-view+json": {
              "model_id": "4d262e68a47449f7a862b770187c5817",
              "version_minor": 0,
              "version_major": 2
            },
            "text/plain": [
              "Tab(children=(Output(), Output()), _titles={'0': 'Youtube', '1': 'Bilibili'})"
            ]
          },
          "metadata": {
            "tags": []
          }
        }
      ]
    },
    {
      "cell_type": "markdown",
      "metadata": {
        "execution": {},
        "id": "LKrVknEh8NUL"
      },
      "source": [
        "## Daily survey\n",
        "\n",
        "Don't forget to complete your reflections and content check in the daily survey! Please be patient after logging in as there is\n",
        "a small delay before you will be redirected to the survey.\n",
        "\n",
        "<a href=\"https://portal.neuromatchacademy.org/api/redirect/to/0f6120d4-3600-4a54-a464-c5a2845cee9c\"><img src=\"https://github.com/NeuromatchAcademy/course-content/blob/master/tutorials/static/button.png?raw=1\" alt=\"button link to survey\" style=\"width:410px\"></a>"
      ]
    },
    {
      "cell_type": "markdown",
      "metadata": {
        "execution": {},
        "pycharm": {
          "name": "#%% md\n"
        },
        "id": "o0xrV4sC8NUN"
      },
      "source": [
        "## Slides"
      ]
    },
    {
      "cell_type": "code",
      "metadata": {
        "cellView": "form",
        "execution": {},
        "pycharm": {
          "name": "#%%\n"
        },
        "id": "CAkHmQQA8NUO",
        "outputId": "a9007484-13e6-44ba-f139-5098d27bcc10",
        "colab": {
          "base_uri": "https://localhost:8080/",
          "height": 500
        }
      },
      "source": [
        "# @markdown\n",
        "from IPython.display import IFrame\n",
        "IFrame(src=f\"https://mfr.ca-1.osf.io/render?url=https://osf.io/6qtxn/?direct%26mode=render%26action=download%26mode=render\", width=854, height=480)"
      ],
      "execution_count": 2,
      "outputs": [
        {
          "output_type": "execute_result",
          "data": {
            "text/html": [
              "\n",
              "        <iframe\n",
              "            width=\"854\"\n",
              "            height=\"480\"\n",
              "            src=\"https://mfr.ca-1.osf.io/render?url=https://osf.io/6qtxn/?direct%26mode=render%26action=download%26mode=render\"\n",
              "            frameborder=\"0\"\n",
              "            allowfullscreen\n",
              "        ></iframe>\n",
              "        "
            ],
            "text/plain": [
              "<IPython.lib.display.IFrame at 0x7fb1f0ba8e50>"
            ]
          },
          "metadata": {
            "tags": []
          },
          "execution_count": 2
        }
      ]
    }
  ]
}