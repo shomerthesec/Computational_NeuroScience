{
  "nbformat": 4,
  "nbformat_minor": 0,
  "metadata": {
    "colab": {
      "name": "W2D4_Intro",
      "provenance": [],
      "collapsed_sections": []
    },
    "kernel": {
      "display_name": "Python 3",
      "language": "python",
      "name": "python3"
    },
    "kernelspec": {
      "display_name": "Python 3",
      "language": "python",
      "name": "python3"
    },
    "language_info": {
      "codemirror_mode": {
        "name": "ipython",
        "version": 3
      },
      "file_extension": ".py",
      "mimetype": "text/x-python",
      "name": "python",
      "nbconvert_exporter": "python",
      "pygments_lexer": "ipython3",
      "version": "3.7.10"
    },
    "widgets": {
      "application/vnd.jupyter.widget-state+json": {
        "56d9d3169778466ba230b1a027cceed4": {
          "model_module": "@jupyter-widgets/controls",
          "model_name": "TabModel",
          "state": {
            "_view_name": "TabView",
            "_dom_classes": [],
            "_titles": {
              "0": "Youtube",
              "1": "Bilibili"
            },
            "_model_name": "TabModel",
            "_view_module": "@jupyter-widgets/controls",
            "selected_index": 0,
            "_model_module_version": "1.5.0",
            "_view_count": null,
            "_view_module_version": "1.5.0",
            "box_style": "",
            "layout": "IPY_MODEL_a5b271e8c86a42cbb7366854fe66cd62",
            "_model_module": "@jupyter-widgets/controls",
            "children": [
              "IPY_MODEL_4af0777b370b4cc59520787f743d5a1c",
              "IPY_MODEL_c51e1b79285743948ab7ff9ad846fe5f"
            ]
          }
        },
        "a5b271e8c86a42cbb7366854fe66cd62": {
          "model_module": "@jupyter-widgets/base",
          "model_name": "LayoutModel",
          "state": {
            "_view_name": "LayoutView",
            "grid_template_rows": null,
            "right": null,
            "justify_content": null,
            "_view_module": "@jupyter-widgets/base",
            "overflow": null,
            "_model_module_version": "1.2.0",
            "_view_count": null,
            "flex_flow": null,
            "width": null,
            "min_width": null,
            "border": null,
            "align_items": null,
            "bottom": null,
            "_model_module": "@jupyter-widgets/base",
            "top": null,
            "grid_column": null,
            "overflow_y": null,
            "overflow_x": null,
            "grid_auto_flow": null,
            "grid_area": null,
            "grid_template_columns": null,
            "flex": null,
            "_model_name": "LayoutModel",
            "justify_items": null,
            "grid_row": null,
            "max_height": null,
            "align_content": null,
            "visibility": null,
            "align_self": null,
            "height": null,
            "min_height": null,
            "padding": null,
            "grid_auto_rows": null,
            "grid_gap": null,
            "max_width": null,
            "order": null,
            "_view_module_version": "1.2.0",
            "grid_template_areas": null,
            "object_position": null,
            "object_fit": null,
            "grid_auto_columns": null,
            "margin": null,
            "display": null,
            "left": null
          }
        },
        "4af0777b370b4cc59520787f743d5a1c": {
          "model_module": "@jupyter-widgets/output",
          "model_name": "OutputModel",
          "state": {
            "_view_name": "OutputView",
            "msg_id": "",
            "_dom_classes": [],
            "_model_name": "OutputModel",
            "outputs": [
              {
                "output_type": "stream",
                "metadata": {
                  "tags": []
                },
                "text": "Video available at https://youtube.com/watch?v=pheMShOHoIk\n",
                "stream": "stdout"
              },
              {
                "output_type": "display_data",
                "metadata": {
                  "tags": []
                },
                "text/html": "\n        <iframe\n            width=\"854\"\n            height=\"480\"\n            src=\"https://www.youtube.com/embed/pheMShOHoIk?fs=1&rel=0\"\n            frameborder=\"0\"\n            allowfullscreen\n        ></iframe>\n        ",
                "text/plain": "<IPython.lib.display.YouTubeVideo at 0x7f31d1874a10>",
                "image/jpeg": "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\n"
              }
            ],
            "_view_module": "@jupyter-widgets/output",
            "_model_module_version": "1.0.0",
            "_view_count": null,
            "_view_module_version": "1.0.0",
            "layout": "IPY_MODEL_377ea3cc42464468a72659017fec297c",
            "_model_module": "@jupyter-widgets/output"
          }
        },
        "c51e1b79285743948ab7ff9ad846fe5f": {
          "model_module": "@jupyter-widgets/output",
          "model_name": "OutputModel",
          "state": {
            "_view_name": "OutputView",
            "msg_id": "",
            "_dom_classes": [],
            "_model_name": "OutputModel",
            "outputs": [
              {
                "output_type": "stream",
                "metadata": {
                  "tags": []
                },
                "text": "Video available at https://www.bilibili.com/video/BV1Uz4y1D7Zs\n",
                "stream": "stdout"
              },
              {
                "output_type": "display_data",
                "metadata": {
                  "tags": []
                },
                "text/html": "\n        <iframe\n            width=\"854\"\n            height=\"480\"\n            src=\"https://player.bilibili.com/player.html?bvid=BV1Uz4y1D7Zs&page=1?fs=1\"\n            frameborder=\"0\"\n            allowfullscreen\n        ></iframe>\n        ",
                "text/plain": "<__main__.BiliVideo at 0x7f31db1c9f50>"
              }
            ],
            "_view_module": "@jupyter-widgets/output",
            "_model_module_version": "1.0.0",
            "_view_count": null,
            "_view_module_version": "1.0.0",
            "layout": "IPY_MODEL_2bff5abcfa8747b09454892456d99609",
            "_model_module": "@jupyter-widgets/output"
          }
        },
        "377ea3cc42464468a72659017fec297c": {
          "model_module": "@jupyter-widgets/base",
          "model_name": "LayoutModel",
          "state": {
            "_view_name": "LayoutView",
            "grid_template_rows": null,
            "right": null,
            "justify_content": null,
            "_view_module": "@jupyter-widgets/base",
            "overflow": null,
            "_model_module_version": "1.2.0",
            "_view_count": null,
            "flex_flow": null,
            "width": null,
            "min_width": null,
            "border": null,
            "align_items": null,
            "bottom": null,
            "_model_module": "@jupyter-widgets/base",
            "top": null,
            "grid_column": null,
            "overflow_y": null,
            "overflow_x": null,
            "grid_auto_flow": null,
            "grid_area": null,
            "grid_template_columns": null,
            "flex": null,
            "_model_name": "LayoutModel",
            "justify_items": null,
            "grid_row": null,
            "max_height": null,
            "align_content": null,
            "visibility": null,
            "align_self": null,
            "height": null,
            "min_height": null,
            "padding": null,
            "grid_auto_rows": null,
            "grid_gap": null,
            "max_width": null,
            "order": null,
            "_view_module_version": "1.2.0",
            "grid_template_areas": null,
            "object_position": null,
            "object_fit": null,
            "grid_auto_columns": null,
            "margin": null,
            "display": null,
            "left": null
          }
        },
        "2bff5abcfa8747b09454892456d99609": {
          "model_module": "@jupyter-widgets/base",
          "model_name": "LayoutModel",
          "state": {
            "_view_name": "LayoutView",
            "grid_template_rows": null,
            "right": null,
            "justify_content": null,
            "_view_module": "@jupyter-widgets/base",
            "overflow": null,
            "_model_module_version": "1.2.0",
            "_view_count": null,
            "flex_flow": null,
            "width": null,
            "min_width": null,
            "border": null,
            "align_items": null,
            "bottom": null,
            "_model_module": "@jupyter-widgets/base",
            "top": null,
            "grid_column": null,
            "overflow_y": null,
            "overflow_x": null,
            "grid_auto_flow": null,
            "grid_area": null,
            "grid_template_columns": null,
            "flex": null,
            "_model_name": "LayoutModel",
            "justify_items": null,
            "grid_row": null,
            "max_height": null,
            "align_content": null,
            "visibility": null,
            "align_self": null,
            "height": null,
            "min_height": null,
            "padding": null,
            "grid_auto_rows": null,
            "grid_gap": null,
            "max_width": null,
            "order": null,
            "_view_module_version": "1.2.0",
            "grid_template_areas": null,
            "object_position": null,
            "object_fit": null,
            "grid_auto_columns": null,
            "margin": null,
            "display": null,
            "left": null
          }
        }
      }
    }
  },
  "cells": [
    {
      "cell_type": "markdown",
      "metadata": {
        "id": "4W1wp2Zp5rHq"
      },
      "source": [
        "<a href=\"https://colab.research.google.com/github/NeuromatchAcademy/course-content/blob/master/tutorials/W2D4_DynamicNetworks/W2D4_Intro.ipynb\" target=\"_parent\"><img src=\"https://colab.research.google.com/assets/colab-badge.svg\" alt=\"Open In Colab\"/></a>"
      ]
    },
    {
      "cell_type": "markdown",
      "metadata": {
        "pycharm": {
          "name": "#%% md\n"
        },
        "id": "pMt5xUJs5rHv"
      },
      "source": [
        "# Intro"
      ]
    },
    {
      "cell_type": "markdown",
      "metadata": {
        "id": "uSa2AFsO5rHw"
      },
      "source": [
        "**Our 2021 Sponsors, including Presenting Sponsor Facebook Reality Labs**\n",
        "\n",
        "<p align='center'><img src='https://github.com/NeuromatchAcademy/widgets/blob/master/sponsors.png?raw=True'/></p>"
      ]
    },
    {
      "cell_type": "markdown",
      "metadata": {
        "pycharm": {
          "name": "#%% md\n"
        },
        "id": "VK1lUwpN5rHx"
      },
      "source": [
        "## Overview\n",
        "\n",
        "Today you will learn about dynamical properties of biological neuronal networks. At the start, Nicolas Brunel will introduce you to the building blocks of biological neuronal networks and various types of activity that may arise in such networks. He will start with a network of spiking neurons and zoom out to firing rate-based models. In the tutorials we will focus on firing rate-based network models only. In the first tutorial Juliana Georgieva will develop the notion of firing rate-based networks and introduce the idea of fixed-points and stability of a population of neurons. In the second tutorial she will extend this idea to a two-population network model (the Wilson-Cowan model). In this tutorial, you will learn how you can use phase plane analysis to comment about the dynamics that arises because of excitatory and inhibitory interactions e.g. oscillations and attractors etc. Finally, in the outro lecture Ken Miller will use the firing rate-based models to expose three very interesting modes of biological neuronal networks i.e. inhibition stabilized network, balanced amplification and stabilized supra linear networks. He will show how these modes can provide mechanisms underlying several biological phenomena such as surround suppression in the visual cortex.\n",
        "\n",
        "The networks we will use today are built on what you have learned about Linear Systems (W2D2) and Biological Neurons (W2D3). An understanding of the stability and dynamical states of the neuronal network will also help you appreciate the problem of causality (W3D5) better. Moreover, a theoretical understanding of the network activity dynamics will help you develop better statistical controls for data analysis and model fitting – something you will encounter throughout the course and in your projects.\n",
        "\n",
        "Information processing the brain is manifested in terms of changes in network activity. Large scale changes in the network activity e.g. transitions from non-oscillatory state to oscillatory state, do happen in the brain and have huge impact on computations. What are the mechanisms that lead to change in the dynamical state of network activity? What determines the stability of network activity state? How is a balanced neuronal network able to amplify small changes while rejecting average value? How multiple inputs may interact to shape the response? Such questions routinely arise in neuroscience. The contents of the tutorial today should give you a good starting point to start addressing such questions and identify mechanisms and causes of network activity changes."
      ]
    },
    {
      "cell_type": "markdown",
      "metadata": {
        "pycharm": {
          "name": "#%% md\n"
        },
        "id": "_n3i09ky5rHz"
      },
      "source": [
        "## Video"
      ]
    },
    {
      "cell_type": "code",
      "metadata": {
        "cellView": "form",
        "execution": {
          "iopub.execute_input": "2021-06-25T15:15:07.948011Z",
          "iopub.status.busy": "2021-06-25T15:15:07.947435Z",
          "iopub.status.idle": "2021-06-25T15:15:08.086845Z",
          "shell.execute_reply": "2021-06-25T15:15:08.084709Z"
        },
        "pycharm": {
          "name": "#%%\n"
        },
        "id": "XqfEJ0_D5rH0",
        "outputId": "ac314673-c1e1-4979-a963-39de9dc5c6e3",
        "colab": {
          "base_uri": "https://localhost:8080/",
          "height": 579,
          "referenced_widgets": [
            "56d9d3169778466ba230b1a027cceed4",
            "a5b271e8c86a42cbb7366854fe66cd62",
            "4af0777b370b4cc59520787f743d5a1c",
            "c51e1b79285743948ab7ff9ad846fe5f",
            "377ea3cc42464468a72659017fec297c",
            "2bff5abcfa8747b09454892456d99609"
          ]
        }
      },
      "source": [
        "# @markdown\n",
        "from ipywidgets import widgets\n",
        "\n",
        "out2 = widgets.Output()\n",
        "with out2:\n",
        "  from IPython.display import IFrame\n",
        "  class BiliVideo(IFrame):\n",
        "      def __init__(self, id, page=1, width=400, height=300, **kwargs):\n",
        "          self.id=id\n",
        "          src = \"https://player.bilibili.com/player.html?bvid={0}&page={1}\".format(id, page)\n",
        "          super(BiliVideo, self).__init__(src, width, height, **kwargs)\n",
        "\n",
        "  video = BiliVideo(id=f\"BV1Uz4y1D7Zs\", width=854, height=480, fs=1)\n",
        "  print(\"Video available at https://www.bilibili.com/video/{0}\".format(video.id))\n",
        "  display(video)\n",
        "\n",
        "out1 = widgets.Output()\n",
        "with out1:\n",
        "  from IPython.display import YouTubeVideo\n",
        "  video = YouTubeVideo(id=f\"pheMShOHoIk\", width=854, height=480, fs=1, rel=0)\n",
        "  print(\"Video available at https://youtube.com/watch?v=\" + video.id)\n",
        "  display(video)\n",
        "\n",
        "out = widgets.Tab([out1, out2])\n",
        "out.set_title(0, 'Youtube')\n",
        "out.set_title(1, 'Bilibili')\n",
        "\n",
        "display(out)"
      ],
      "execution_count": 1,
      "outputs": [
        {
          "output_type": "display_data",
          "data": {
            "application/vnd.jupyter.widget-view+json": {
              "model_id": "56d9d3169778466ba230b1a027cceed4",
              "version_minor": 0,
              "version_major": 2
            },
            "text/plain": [
              "Tab(children=(Output(), Output()), _titles={'0': 'Youtube', '1': 'Bilibili'})"
            ]
          },
          "metadata": {
            "tags": []
          }
        }
      ]
    },
    {
      "cell_type": "markdown",
      "metadata": {
        "pycharm": {
          "name": "#%% md\n"
        },
        "id": "w9jaHuvC5rH1"
      },
      "source": [
        "## Slides"
      ]
    },
    {
      "cell_type": "code",
      "metadata": {
        "cellView": "form",
        "execution": {
          "iopub.execute_input": "2021-06-25T15:15:08.095184Z",
          "iopub.status.busy": "2021-06-25T15:15:08.094723Z",
          "iopub.status.idle": "2021-06-25T15:15:08.097239Z",
          "shell.execute_reply": "2021-06-25T15:15:08.098003Z"
        },
        "pycharm": {
          "name": "#%%\n"
        },
        "id": "jzaDCGpT5rH2",
        "outputId": "f842a109-cd43-46c3-ebaa-783224d93e8f",
        "colab": {
          "base_uri": "https://localhost:8080/",
          "height": 500
        }
      },
      "source": [
        "# @markdown\n",
        "from IPython.display import IFrame\n",
        "IFrame(src=f\"https://mfr.ca-1.osf.io/render?url=https://osf.io/mdve5/?direct%26mode=render%26action=download%26mode=render\", width=854, height=480)"
      ],
      "execution_count": 2,
      "outputs": [
        {
          "output_type": "execute_result",
          "data": {
            "text/html": [
              "\n",
              "        <iframe\n",
              "            width=\"854\"\n",
              "            height=\"480\"\n",
              "            src=\"https://mfr.ca-1.osf.io/render?url=https://osf.io/mdve5/?direct%26mode=render%26action=download%26mode=render\"\n",
              "            frameborder=\"0\"\n",
              "            allowfullscreen\n",
              "        ></iframe>\n",
              "        "
            ],
            "text/plain": [
              "<IPython.lib.display.IFrame at 0x7f31d52f5cd0>"
            ]
          },
          "metadata": {
            "tags": []
          },
          "execution_count": 2
        }
      ]
    }
  ]
}