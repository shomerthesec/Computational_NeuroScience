{
  "nbformat": 4,
  "nbformat_minor": 0,
  "metadata": {
    "colab": {
      "name": "W3D1_Intro",
      "provenance": [],
      "collapsed_sections": [],
      "toc_visible": true
    },
    "kernel": {
      "display_name": "Python 3",
      "language": "python",
      "name": "python3"
    },
    "kernelspec": {
      "display_name": "Python 3",
      "language": "python",
      "name": "python3"
    },
    "language_info": {
      "codemirror_mode": {
        "name": "ipython",
        "version": 3
      },
      "file_extension": ".py",
      "mimetype": "text/x-python",
      "name": "python",
      "nbconvert_exporter": "python",
      "pygments_lexer": "ipython3",
      "version": "3.7.10"
    },
    "widgets": {
      "application/vnd.jupyter.widget-state+json": {
        "599b44552a014d8fb63752b396487523": {
          "model_module": "@jupyter-widgets/controls",
          "model_name": "TabModel",
          "state": {
            "_view_name": "TabView",
            "_dom_classes": [],
            "_titles": {
              "0": "Youtube",
              "1": "Bilibili"
            },
            "_model_name": "TabModel",
            "_view_module": "@jupyter-widgets/controls",
            "selected_index": 0,
            "_model_module_version": "1.5.0",
            "_view_count": null,
            "_view_module_version": "1.5.0",
            "box_style": "",
            "layout": "IPY_MODEL_fba5b134744e4bebb3b15e0cebfb2f21",
            "_model_module": "@jupyter-widgets/controls",
            "children": [
              "IPY_MODEL_035eb1d730514ae38f0d48889f2c155f",
              "IPY_MODEL_138faa1801984a6a9e816ce9958afad0"
            ]
          }
        },
        "fba5b134744e4bebb3b15e0cebfb2f21": {
          "model_module": "@jupyter-widgets/base",
          "model_name": "LayoutModel",
          "state": {
            "_view_name": "LayoutView",
            "grid_template_rows": null,
            "right": null,
            "justify_content": null,
            "_view_module": "@jupyter-widgets/base",
            "overflow": null,
            "_model_module_version": "1.2.0",
            "_view_count": null,
            "flex_flow": null,
            "width": null,
            "min_width": null,
            "border": null,
            "align_items": null,
            "bottom": null,
            "_model_module": "@jupyter-widgets/base",
            "top": null,
            "grid_column": null,
            "overflow_y": null,
            "overflow_x": null,
            "grid_auto_flow": null,
            "grid_area": null,
            "grid_template_columns": null,
            "flex": null,
            "_model_name": "LayoutModel",
            "justify_items": null,
            "grid_row": null,
            "max_height": null,
            "align_content": null,
            "visibility": null,
            "align_self": null,
            "height": null,
            "min_height": null,
            "padding": null,
            "grid_auto_rows": null,
            "grid_gap": null,
            "max_width": null,
            "order": null,
            "_view_module_version": "1.2.0",
            "grid_template_areas": null,
            "object_position": null,
            "object_fit": null,
            "grid_auto_columns": null,
            "margin": null,
            "display": null,
            "left": null
          }
        },
        "035eb1d730514ae38f0d48889f2c155f": {
          "model_module": "@jupyter-widgets/output",
          "model_name": "OutputModel",
          "state": {
            "_view_name": "OutputView",
            "msg_id": "",
            "_dom_classes": [],
            "_model_name": "OutputModel",
            "outputs": [
              {
                "output_type": "stream",
                "metadata": {
                  "tags": []
                },
                "text": "Video available at https://youtube.com/watch?v=w2GH1-Iqods\n",
                "stream": "stdout"
              },
              {
                "output_type": "display_data",
                "metadata": {
                  "tags": []
                },
                "text/html": "\n        <iframe\n            width=\"854\"\n            height=\"480\"\n            src=\"https://www.youtube.com/embed/w2GH1-Iqods?fs=1&rel=0\"\n            frameborder=\"0\"\n            allowfullscreen\n        ></iframe>\n        ",
                "text/plain": "<IPython.lib.display.YouTubeVideo at 0x7f7b57401590>",
                "image/jpeg": "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\n"
              }
            ],
            "_view_module": "@jupyter-widgets/output",
            "_model_module_version": "1.0.0",
            "_view_count": null,
            "_view_module_version": "1.0.0",
            "layout": "IPY_MODEL_08fe5c1f2b8d442aa016ef9a4f83df67",
            "_model_module": "@jupyter-widgets/output"
          }
        },
        "138faa1801984a6a9e816ce9958afad0": {
          "model_module": "@jupyter-widgets/output",
          "model_name": "OutputModel",
          "state": {
            "_view_name": "OutputView",
            "msg_id": "",
            "_dom_classes": [],
            "_model_name": "OutputModel",
            "outputs": [
              {
                "output_type": "stream",
                "metadata": {
                  "tags": []
                },
                "text": "Video available at https://www.bilibili.com/video/\n",
                "stream": "stdout"
              },
              {
                "output_type": "display_data",
                "metadata": {
                  "tags": []
                },
                "text/html": "\n        <iframe\n            width=\"854\"\n            height=\"480\"\n            src=\"https://player.bilibili.com/player.html?bvid=&page=1?fs=1\"\n            frameborder=\"0\"\n            allowfullscreen\n        ></iframe>\n        ",
                "text/plain": "<__main__.BiliVideo at 0x7f7b5ae3ec90>"
              }
            ],
            "_view_module": "@jupyter-widgets/output",
            "_model_module_version": "1.0.0",
            "_view_count": null,
            "_view_module_version": "1.0.0",
            "layout": "IPY_MODEL_f09f715d58234196a66fcde9a40dda28",
            "_model_module": "@jupyter-widgets/output"
          }
        },
        "08fe5c1f2b8d442aa016ef9a4f83df67": {
          "model_module": "@jupyter-widgets/base",
          "model_name": "LayoutModel",
          "state": {
            "_view_name": "LayoutView",
            "grid_template_rows": null,
            "right": null,
            "justify_content": null,
            "_view_module": "@jupyter-widgets/base",
            "overflow": null,
            "_model_module_version": "1.2.0",
            "_view_count": null,
            "flex_flow": null,
            "width": null,
            "min_width": null,
            "border": null,
            "align_items": null,
            "bottom": null,
            "_model_module": "@jupyter-widgets/base",
            "top": null,
            "grid_column": null,
            "overflow_y": null,
            "overflow_x": null,
            "grid_auto_flow": null,
            "grid_area": null,
            "grid_template_columns": null,
            "flex": null,
            "_model_name": "LayoutModel",
            "justify_items": null,
            "grid_row": null,
            "max_height": null,
            "align_content": null,
            "visibility": null,
            "align_self": null,
            "height": null,
            "min_height": null,
            "padding": null,
            "grid_auto_rows": null,
            "grid_gap": null,
            "max_width": null,
            "order": null,
            "_view_module_version": "1.2.0",
            "grid_template_areas": null,
            "object_position": null,
            "object_fit": null,
            "grid_auto_columns": null,
            "margin": null,
            "display": null,
            "left": null
          }
        },
        "f09f715d58234196a66fcde9a40dda28": {
          "model_module": "@jupyter-widgets/base",
          "model_name": "LayoutModel",
          "state": {
            "_view_name": "LayoutView",
            "grid_template_rows": null,
            "right": null,
            "justify_content": null,
            "_view_module": "@jupyter-widgets/base",
            "overflow": null,
            "_model_module_version": "1.2.0",
            "_view_count": null,
            "flex_flow": null,
            "width": null,
            "min_width": null,
            "border": null,
            "align_items": null,
            "bottom": null,
            "_model_module": "@jupyter-widgets/base",
            "top": null,
            "grid_column": null,
            "overflow_y": null,
            "overflow_x": null,
            "grid_auto_flow": null,
            "grid_area": null,
            "grid_template_columns": null,
            "flex": null,
            "_model_name": "LayoutModel",
            "justify_items": null,
            "grid_row": null,
            "max_height": null,
            "align_content": null,
            "visibility": null,
            "align_self": null,
            "height": null,
            "min_height": null,
            "padding": null,
            "grid_auto_rows": null,
            "grid_gap": null,
            "max_width": null,
            "order": null,
            "_view_module_version": "1.2.0",
            "grid_template_areas": null,
            "object_position": null,
            "object_fit": null,
            "grid_auto_columns": null,
            "margin": null,
            "display": null,
            "left": null
          }
        }
      }
    }
  },
  "cells": [
    {
      "cell_type": "markdown",
      "metadata": {
        "id": "bOZwUVikkSFK"
      },
      "source": [
        "<a href=\"https://colab.research.google.com/github/NeuromatchAcademy/course-content/blob/master/tutorials/W3D1_BayesianDecisions/W3D1_Intro.ipynb\" target=\"_parent\"><img src=\"https://colab.research.google.com/assets/colab-badge.svg\" alt=\"Open In Colab\"/></a>"
      ]
    },
    {
      "cell_type": "markdown",
      "metadata": {
        "pycharm": {
          "name": "#%% md\n"
        },
        "id": "xG2yPeDdkSFO"
      },
      "source": [
        "# Intro"
      ]
    },
    {
      "cell_type": "markdown",
      "metadata": {
        "id": "Ki2e4RF1kSFP"
      },
      "source": [
        "**Our 2021 Sponsors, including Presenting Sponsor Facebook Reality Labs**\n",
        "\n",
        "<p align='center'><img src='https://github.com/NeuromatchAcademy/widgets/blob/master/sponsors.png?raw=True'/></p>"
      ]
    },
    {
      "cell_type": "markdown",
      "metadata": {
        "pycharm": {
          "name": "#%% md\n"
        },
        "id": "ACot9n5MkSFQ"
      },
      "source": [
        "## Overview\n",
        "\n",
        "Today, we'll be learning about Bayesian Decisions."
      ]
    },
    {
      "cell_type": "markdown",
      "metadata": {
        "pycharm": {
          "name": "#%% md\n"
        },
        "id": "OV2atzNLkSFR"
      },
      "source": [
        "## Video"
      ]
    },
    {
      "cell_type": "code",
      "metadata": {
        "cellView": "form",
        "execution": {
          "iopub.execute_input": "2021-06-25T15:15:24.003562Z",
          "iopub.status.busy": "2021-06-25T15:15:24.003008Z",
          "iopub.status.idle": "2021-06-25T15:15:24.141297Z",
          "shell.execute_reply": "2021-06-25T15:15:24.140681Z"
        },
        "pycharm": {
          "name": "#%%\n"
        },
        "id": "h03ejFqlkSFR",
        "outputId": "215f0444-c586-4210-9012-ef67e88d7529",
        "colab": {
          "base_uri": "https://localhost:8080/",
          "height": 580,
          "referenced_widgets": [
            "599b44552a014d8fb63752b396487523",
            "fba5b134744e4bebb3b15e0cebfb2f21",
            "035eb1d730514ae38f0d48889f2c155f",
            "138faa1801984a6a9e816ce9958afad0",
            "08fe5c1f2b8d442aa016ef9a4f83df67",
            "f09f715d58234196a66fcde9a40dda28"
          ]
        }
      },
      "source": [
        "# @markdown\n",
        "from ipywidgets import widgets\n",
        "\n",
        "out2 = widgets.Output()\n",
        "with out2:\n",
        "  from IPython.display import IFrame\n",
        "  class BiliVideo(IFrame):\n",
        "      def __init__(self, id, page=1, width=400, height=300, **kwargs):\n",
        "          self.id=id\n",
        "          src = \"https://player.bilibili.com/player.html?bvid={0}&page={1}\".format(id, page)\n",
        "          super(BiliVideo, self).__init__(src, width, height, **kwargs)\n",
        "\n",
        "  video = BiliVideo(id=f\"\", width=854, height=480, fs=1)\n",
        "  print(\"Video available at https://www.bilibili.com/video/{0}\".format(video.id))\n",
        "  display(video)\n",
        "\n",
        "out1 = widgets.Output()\n",
        "with out1:\n",
        "  from IPython.display import YouTubeVideo\n",
        "  video = YouTubeVideo(id=f\"w2GH1-Iqods\", width=854, height=480, fs=1, rel=0)\n",
        "  print(\"Video available at https://youtube.com/watch?v=\" + video.id)\n",
        "  display(video)\n",
        "\n",
        "out = widgets.Tab([out1, out2])\n",
        "out.set_title(0, 'Youtube')\n",
        "out.set_title(1, 'Bilibili')\n",
        "\n",
        "display(out)"
      ],
      "execution_count": 1,
      "outputs": [
        {
          "output_type": "display_data",
          "data": {
            "application/vnd.jupyter.widget-view+json": {
              "model_id": "599b44552a014d8fb63752b396487523",
              "version_minor": 0,
              "version_major": 2
            },
            "text/plain": [
              "Tab(children=(Output(), Output()), _titles={'0': 'Youtube', '1': 'Bilibili'})"
            ]
          },
          "metadata": {
            "tags": []
          }
        }
      ]
    },
    {
      "cell_type": "markdown",
      "metadata": {
        "pycharm": {
          "name": "#%% md\n"
        },
        "id": "pNqjphvAkSFT"
      },
      "source": [
        "## Slides"
      ]
    },
    {
      "cell_type": "code",
      "metadata": {
        "cellView": "form",
        "execution": {
          "iopub.execute_input": "2021-06-25T15:15:24.151627Z",
          "iopub.status.busy": "2021-06-25T15:15:24.151065Z",
          "iopub.status.idle": "2021-06-25T15:15:24.153804Z",
          "shell.execute_reply": "2021-06-25T15:15:24.154218Z"
        },
        "pycharm": {
          "name": "#%%\n"
        },
        "id": "iLoqBW9LkSFU",
        "outputId": "0e2c9fe9-2a42-4f67-f83a-901620ab180f",
        "colab": {
          "base_uri": "https://localhost:8080/",
          "height": 500
        }
      },
      "source": [
        "# @markdown\n",
        "from IPython.display import IFrame\n",
        "IFrame(src=f\"https://mfr.ca-1.osf.io/render?url=https://osf.io/xam4w/?direct%26mode=render%26action=download%26mode=render\", width=854, height=480)"
      ],
      "execution_count": 2,
      "outputs": [
        {
          "output_type": "execute_result",
          "data": {
            "text/html": [
              "\n",
              "        <iframe\n",
              "            width=\"854\"\n",
              "            height=\"480\"\n",
              "            src=\"https://mfr.ca-1.osf.io/render?url=https://osf.io/xam4w/?direct%26mode=render%26action=download%26mode=render\"\n",
              "            frameborder=\"0\"\n",
              "            allowfullscreen\n",
              "        ></iframe>\n",
              "        "
            ],
            "text/plain": [
              "<IPython.lib.display.IFrame at 0x7f7b573f4d10>"
            ]
          },
          "metadata": {
            "tags": []
          },
          "execution_count": 2
        }
      ]
    }
  ]
}