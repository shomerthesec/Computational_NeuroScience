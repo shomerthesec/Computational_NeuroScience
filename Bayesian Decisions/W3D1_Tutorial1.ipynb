{
  "nbformat": 4,
  "nbformat_minor": 0,
  "metadata": {
    "colab": {
      "name": "W3D1_Tutorial1",
      "provenance": [],
      "collapsed_sections": [
        "jWmfLbhzBpfz"
      ]
    },
    "kernel": {
      "display_name": "Python 3",
      "language": "python",
      "name": "python3"
    },
    "kernelspec": {
      "display_name": "Python 3",
      "name": "python3"
    },
    "language_info": {
      "codemirror_mode": {
        "name": "ipython",
        "version": 3
      },
      "file_extension": ".py",
      "mimetype": "text/x-python",
      "name": "python",
      "nbconvert_exporter": "python",
      "pygments_lexer": "ipython3",
      "version": "3.7.10"
    },
    "widgets": {
      "application/vnd.jupyter.widget-state+json": {
        "2fef00b7831c42cbb1ead64507c02332": {
          "model_module": "@jupyter-widgets/controls",
          "model_name": "TabModel",
          "state": {
            "_view_name": "TabView",
            "_dom_classes": [],
            "_titles": {
              "0": "Youtube",
              "1": "Bilibili"
            },
            "_model_name": "TabModel",
            "_view_module": "@jupyter-widgets/controls",
            "selected_index": 0,
            "_model_module_version": "1.5.0",
            "_view_count": null,
            "_view_module_version": "1.5.0",
            "box_style": "",
            "layout": "IPY_MODEL_a0ed18d60c944b9d93a79b322d9868a7",
            "_model_module": "@jupyter-widgets/controls",
            "children": [
              "IPY_MODEL_35f13a16dfb24f24a9d38a1617f37194",
              "IPY_MODEL_04fed379fecf4310968b2a5d248c653d"
            ]
          }
        },
        "a0ed18d60c944b9d93a79b322d9868a7": {
          "model_module": "@jupyter-widgets/base",
          "model_name": "LayoutModel",
          "state": {
            "_view_name": "LayoutView",
            "grid_template_rows": null,
            "right": null,
            "justify_content": null,
            "_view_module": "@jupyter-widgets/base",
            "overflow": null,
            "_model_module_version": "1.2.0",
            "_view_count": null,
            "flex_flow": null,
            "width": null,
            "min_width": null,
            "border": null,
            "align_items": null,
            "bottom": null,
            "_model_module": "@jupyter-widgets/base",
            "top": null,
            "grid_column": null,
            "overflow_y": null,
            "overflow_x": null,
            "grid_auto_flow": null,
            "grid_area": null,
            "grid_template_columns": null,
            "flex": null,
            "_model_name": "LayoutModel",
            "justify_items": null,
            "grid_row": null,
            "max_height": null,
            "align_content": null,
            "visibility": null,
            "align_self": null,
            "height": null,
            "min_height": null,
            "padding": null,
            "grid_auto_rows": null,
            "grid_gap": null,
            "max_width": null,
            "order": null,
            "_view_module_version": "1.2.0",
            "grid_template_areas": null,
            "object_position": null,
            "object_fit": null,
            "grid_auto_columns": null,
            "margin": null,
            "display": null,
            "left": null
          }
        },
        "35f13a16dfb24f24a9d38a1617f37194": {
          "model_module": "@jupyter-widgets/output",
          "model_name": "OutputModel",
          "state": {
            "_view_name": "OutputView",
            "msg_id": "",
            "_dom_classes": [],
            "_model_name": "OutputModel",
            "outputs": [
              {
                "output_type": "stream",
                "metadata": {
                  "tags": []
                },
                "text": "Video available at https://youtube.com/watch?v=JiEIn9QsrFg\n",
                "stream": "stdout"
              },
              {
                "output_type": "display_data",
                "metadata": {
                  "tags": []
                },
                "text/html": "\n        <iframe\n            width=\"854\"\n            height=\"480\"\n            src=\"https://www.youtube.com/embed/JiEIn9QsrFg?fs=1&rel=0\"\n            frameborder=\"0\"\n            allowfullscreen\n        ></iframe>\n        ",
                "text/plain": "<IPython.lib.display.YouTubeVideo at 0x7f0d2a480850>",
                "image/jpeg": "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\n"
              }
            ],
            "_view_module": "@jupyter-widgets/output",
            "_model_module_version": "1.0.0",
            "_view_count": null,
            "_view_module_version": "1.0.0",
            "layout": "IPY_MODEL_6b629ae79c27405b83e3daf1cb1200d2",
            "_model_module": "@jupyter-widgets/output"
          }
        },
        "04fed379fecf4310968b2a5d248c653d": {
          "model_module": "@jupyter-widgets/output",
          "model_name": "OutputModel",
          "state": {
            "_view_name": "OutputView",
            "msg_id": "",
            "_dom_classes": [],
            "_model_name": "OutputModel",
            "outputs": [
              {
                "output_type": "stream",
                "metadata": {
                  "tags": []
                },
                "text": "Video available at https://www.bilibili.com/video/\n",
                "stream": "stdout"
              },
              {
                "output_type": "display_data",
                "metadata": {
                  "tags": []
                },
                "text/html": "\n        <iframe\n            width=\"854\"\n            height=\"480\"\n            src=\"https://player.bilibili.com/player.html?bvid=&page=1?fs=1\"\n            frameborder=\"0\"\n            allowfullscreen\n        ></iframe>\n        ",
                "text/plain": "<__main__.BiliVideo at 0x7f0d2a4807d0>"
              }
            ],
            "_view_module": "@jupyter-widgets/output",
            "_model_module_version": "1.0.0",
            "_view_count": null,
            "_view_module_version": "1.0.0",
            "layout": "IPY_MODEL_0e4d6f8a37ac4525ad3d8bfdbef1dff5",
            "_model_module": "@jupyter-widgets/output"
          }
        },
        "6b629ae79c27405b83e3daf1cb1200d2": {
          "model_module": "@jupyter-widgets/base",
          "model_name": "LayoutModel",
          "state": {
            "_view_name": "LayoutView",
            "grid_template_rows": null,
            "right": null,
            "justify_content": null,
            "_view_module": "@jupyter-widgets/base",
            "overflow": null,
            "_model_module_version": "1.2.0",
            "_view_count": null,
            "flex_flow": null,
            "width": null,
            "min_width": null,
            "border": null,
            "align_items": null,
            "bottom": null,
            "_model_module": "@jupyter-widgets/base",
            "top": null,
            "grid_column": null,
            "overflow_y": null,
            "overflow_x": null,
            "grid_auto_flow": null,
            "grid_area": null,
            "grid_template_columns": null,
            "flex": null,
            "_model_name": "LayoutModel",
            "justify_items": null,
            "grid_row": null,
            "max_height": null,
            "align_content": null,
            "visibility": null,
            "align_self": null,
            "height": null,
            "min_height": null,
            "padding": null,
            "grid_auto_rows": null,
            "grid_gap": null,
            "max_width": null,
            "order": null,
            "_view_module_version": "1.2.0",
            "grid_template_areas": null,
            "object_position": null,
            "object_fit": null,
            "grid_auto_columns": null,
            "margin": null,
            "display": null,
            "left": null
          }
        },
        "0e4d6f8a37ac4525ad3d8bfdbef1dff5": {
          "model_module": "@jupyter-widgets/base",
          "model_name": "LayoutModel",
          "state": {
            "_view_name": "LayoutView",
            "grid_template_rows": null,
            "right": null,
            "justify_content": null,
            "_view_module": "@jupyter-widgets/base",
            "overflow": null,
            "_model_module_version": "1.2.0",
            "_view_count": null,
            "flex_flow": null,
            "width": null,
            "min_width": null,
            "border": null,
            "align_items": null,
            "bottom": null,
            "_model_module": "@jupyter-widgets/base",
            "top": null,
            "grid_column": null,
            "overflow_y": null,
            "overflow_x": null,
            "grid_auto_flow": null,
            "grid_area": null,
            "grid_template_columns": null,
            "flex": null,
            "_model_name": "LayoutModel",
            "justify_items": null,
            "grid_row": null,
            "max_height": null,
            "align_content": null,
            "visibility": null,
            "align_self": null,
            "height": null,
            "min_height": null,
            "padding": null,
            "grid_auto_rows": null,
            "grid_gap": null,
            "max_width": null,
            "order": null,
            "_view_module_version": "1.2.0",
            "grid_template_areas": null,
            "object_position": null,
            "object_fit": null,
            "grid_auto_columns": null,
            "margin": null,
            "display": null,
            "left": null
          }
        },
        "7f106a352e98482bb2207e07dd3cd44e": {
          "model_module": "@jupyter-widgets/controls",
          "model_name": "TabModel",
          "state": {
            "_view_name": "TabView",
            "_dom_classes": [],
            "_titles": {
              "0": "Youtube",
              "1": "Bilibili"
            },
            "_model_name": "TabModel",
            "_view_module": "@jupyter-widgets/controls",
            "selected_index": 0,
            "_model_module_version": "1.5.0",
            "_view_count": null,
            "_view_module_version": "1.5.0",
            "box_style": "",
            "layout": "IPY_MODEL_f4a3fef32faf451eba7723306a120453",
            "_model_module": "@jupyter-widgets/controls",
            "children": [
              "IPY_MODEL_f05accaddd2f47e6adbe69461d89488e",
              "IPY_MODEL_caa79ef2271b4afbab28c07ff9ff2cba"
            ]
          }
        },
        "f4a3fef32faf451eba7723306a120453": {
          "model_module": "@jupyter-widgets/base",
          "model_name": "LayoutModel",
          "state": {
            "_view_name": "LayoutView",
            "grid_template_rows": null,
            "right": null,
            "justify_content": null,
            "_view_module": "@jupyter-widgets/base",
            "overflow": null,
            "_model_module_version": "1.2.0",
            "_view_count": null,
            "flex_flow": null,
            "width": null,
            "min_width": null,
            "border": null,
            "align_items": null,
            "bottom": null,
            "_model_module": "@jupyter-widgets/base",
            "top": null,
            "grid_column": null,
            "overflow_y": null,
            "overflow_x": null,
            "grid_auto_flow": null,
            "grid_area": null,
            "grid_template_columns": null,
            "flex": null,
            "_model_name": "LayoutModel",
            "justify_items": null,
            "grid_row": null,
            "max_height": null,
            "align_content": null,
            "visibility": null,
            "align_self": null,
            "height": null,
            "min_height": null,
            "padding": null,
            "grid_auto_rows": null,
            "grid_gap": null,
            "max_width": null,
            "order": null,
            "_view_module_version": "1.2.0",
            "grid_template_areas": null,
            "object_position": null,
            "object_fit": null,
            "grid_auto_columns": null,
            "margin": null,
            "display": null,
            "left": null
          }
        },
        "f05accaddd2f47e6adbe69461d89488e": {
          "model_module": "@jupyter-widgets/output",
          "model_name": "OutputModel",
          "state": {
            "_view_name": "OutputView",
            "msg_id": "",
            "_dom_classes": [],
            "_model_name": "OutputModel",
            "outputs": [
              {
                "output_type": "stream",
                "metadata": {
                  "tags": []
                },
                "text": "Video available at https://youtube.com/watch?v=McALsTzb494\n",
                "stream": "stdout"
              },
              {
                "output_type": "display_data",
                "metadata": {
                  "tags": []
                },
                "text/html": "\n        <iframe\n            width=\"854\"\n            height=\"480\"\n            src=\"https://www.youtube.com/embed/McALsTzb494?fs=1&rel=0\"\n            frameborder=\"0\"\n            allowfullscreen\n        ></iframe>\n        ",
                "text/plain": "<IPython.lib.display.YouTubeVideo at 0x7f0d30fee3d0>",
                "image/jpeg": "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\n"
              }
            ],
            "_view_module": "@jupyter-widgets/output",
            "_model_module_version": "1.0.0",
            "_view_count": null,
            "_view_module_version": "1.0.0",
            "layout": "IPY_MODEL_660e8570ff74430bbe4ab15c40433ce7",
            "_model_module": "@jupyter-widgets/output"
          }
        },
        "caa79ef2271b4afbab28c07ff9ff2cba": {
          "model_module": "@jupyter-widgets/output",
          "model_name": "OutputModel",
          "state": {
            "_view_name": "OutputView",
            "msg_id": "",
            "_dom_classes": [],
            "_model_name": "OutputModel",
            "outputs": [
              {
                "output_type": "stream",
                "metadata": {
                  "tags": []
                },
                "text": "Video available at https://www.bilibili.com/video/\n",
                "stream": "stdout"
              },
              {
                "output_type": "display_data",
                "metadata": {
                  "tags": []
                },
                "text/html": "\n        <iframe\n            width=\"854\"\n            height=\"480\"\n            src=\"https://player.bilibili.com/player.html?bvid=&page=1?fs=1\"\n            frameborder=\"0\"\n            allowfullscreen\n        ></iframe>\n        ",
                "text/plain": "<__main__.BiliVideo at 0x7f0d1ebb2550>"
              }
            ],
            "_view_module": "@jupyter-widgets/output",
            "_model_module_version": "1.0.0",
            "_view_count": null,
            "_view_module_version": "1.0.0",
            "layout": "IPY_MODEL_b3f8f8fb8d144a59a17a8bc4cafa786c",
            "_model_module": "@jupyter-widgets/output"
          }
        },
        "660e8570ff74430bbe4ab15c40433ce7": {
          "model_module": "@jupyter-widgets/base",
          "model_name": "LayoutModel",
          "state": {
            "_view_name": "LayoutView",
            "grid_template_rows": null,
            "right": null,
            "justify_content": null,
            "_view_module": "@jupyter-widgets/base",
            "overflow": null,
            "_model_module_version": "1.2.0",
            "_view_count": null,
            "flex_flow": null,
            "width": null,
            "min_width": null,
            "border": null,
            "align_items": null,
            "bottom": null,
            "_model_module": "@jupyter-widgets/base",
            "top": null,
            "grid_column": null,
            "overflow_y": null,
            "overflow_x": null,
            "grid_auto_flow": null,
            "grid_area": null,
            "grid_template_columns": null,
            "flex": null,
            "_model_name": "LayoutModel",
            "justify_items": null,
            "grid_row": null,
            "max_height": null,
            "align_content": null,
            "visibility": null,
            "align_self": null,
            "height": null,
            "min_height": null,
            "padding": null,
            "grid_auto_rows": null,
            "grid_gap": null,
            "max_width": null,
            "order": null,
            "_view_module_version": "1.2.0",
            "grid_template_areas": null,
            "object_position": null,
            "object_fit": null,
            "grid_auto_columns": null,
            "margin": null,
            "display": null,
            "left": null
          }
        },
        "b3f8f8fb8d144a59a17a8bc4cafa786c": {
          "model_module": "@jupyter-widgets/base",
          "model_name": "LayoutModel",
          "state": {
            "_view_name": "LayoutView",
            "grid_template_rows": null,
            "right": null,
            "justify_content": null,
            "_view_module": "@jupyter-widgets/base",
            "overflow": null,
            "_model_module_version": "1.2.0",
            "_view_count": null,
            "flex_flow": null,
            "width": null,
            "min_width": null,
            "border": null,
            "align_items": null,
            "bottom": null,
            "_model_module": "@jupyter-widgets/base",
            "top": null,
            "grid_column": null,
            "overflow_y": null,
            "overflow_x": null,
            "grid_auto_flow": null,
            "grid_area": null,
            "grid_template_columns": null,
            "flex": null,
            "_model_name": "LayoutModel",
            "justify_items": null,
            "grid_row": null,
            "max_height": null,
            "align_content": null,
            "visibility": null,
            "align_self": null,
            "height": null,
            "min_height": null,
            "padding": null,
            "grid_auto_rows": null,
            "grid_gap": null,
            "max_width": null,
            "order": null,
            "_view_module_version": "1.2.0",
            "grid_template_areas": null,
            "object_position": null,
            "object_fit": null,
            "grid_auto_columns": null,
            "margin": null,
            "display": null,
            "left": null
          }
        },
        "ad410ed63c524cabb23a54bd1be690fb": {
          "model_module": "@jupyter-widgets/controls",
          "model_name": "TabModel",
          "state": {
            "_view_name": "TabView",
            "_dom_classes": [],
            "_titles": {
              "0": "Youtube",
              "1": "Bilibili"
            },
            "_model_name": "TabModel",
            "_view_module": "@jupyter-widgets/controls",
            "selected_index": 0,
            "_model_module_version": "1.5.0",
            "_view_count": null,
            "_view_module_version": "1.5.0",
            "box_style": "",
            "layout": "IPY_MODEL_06be3ee65bd4452793f65d9918605888",
            "_model_module": "@jupyter-widgets/controls",
            "children": [
              "IPY_MODEL_08c28f984f814e83a4286178574f2f7b",
              "IPY_MODEL_8b4bfbdbd0ef4c378d74a191c2fca55f"
            ]
          }
        },
        "06be3ee65bd4452793f65d9918605888": {
          "model_module": "@jupyter-widgets/base",
          "model_name": "LayoutModel",
          "state": {
            "_view_name": "LayoutView",
            "grid_template_rows": null,
            "right": null,
            "justify_content": null,
            "_view_module": "@jupyter-widgets/base",
            "overflow": null,
            "_model_module_version": "1.2.0",
            "_view_count": null,
            "flex_flow": null,
            "width": null,
            "min_width": null,
            "border": null,
            "align_items": null,
            "bottom": null,
            "_model_module": "@jupyter-widgets/base",
            "top": null,
            "grid_column": null,
            "overflow_y": null,
            "overflow_x": null,
            "grid_auto_flow": null,
            "grid_area": null,
            "grid_template_columns": null,
            "flex": null,
            "_model_name": "LayoutModel",
            "justify_items": null,
            "grid_row": null,
            "max_height": null,
            "align_content": null,
            "visibility": null,
            "align_self": null,
            "height": null,
            "min_height": null,
            "padding": null,
            "grid_auto_rows": null,
            "grid_gap": null,
            "max_width": null,
            "order": null,
            "_view_module_version": "1.2.0",
            "grid_template_areas": null,
            "object_position": null,
            "object_fit": null,
            "grid_auto_columns": null,
            "margin": null,
            "display": null,
            "left": null
          }
        },
        "08c28f984f814e83a4286178574f2f7b": {
          "model_module": "@jupyter-widgets/output",
          "model_name": "OutputModel",
          "state": {
            "_view_name": "OutputView",
            "msg_id": "",
            "_dom_classes": [],
            "_model_name": "OutputModel",
            "outputs": [
              {
                "output_type": "stream",
                "metadata": {
                  "tags": []
                },
                "text": "Video available at https://youtube.com/watch?v=xvIVZrqF_5s\n",
                "stream": "stdout"
              },
              {
                "output_type": "display_data",
                "metadata": {
                  "tags": []
                },
                "text/html": "\n        <iframe\n            width=\"854\"\n            height=\"480\"\n            src=\"https://www.youtube.com/embed/xvIVZrqF_5s?fs=1&rel=0\"\n            frameborder=\"0\"\n            allowfullscreen\n        ></iframe>\n        ",
                "text/plain": "<IPython.lib.display.YouTubeVideo at 0x7f0d1eb6ac50>",
                "image/jpeg": "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\n"
              }
            ],
            "_view_module": "@jupyter-widgets/output",
            "_model_module_version": "1.0.0",
            "_view_count": null,
            "_view_module_version": "1.0.0",
            "layout": "IPY_MODEL_c33bf0f44fb84ec28c35c7ec1283c6ad",
            "_model_module": "@jupyter-widgets/output"
          }
        },
        "8b4bfbdbd0ef4c378d74a191c2fca55f": {
          "model_module": "@jupyter-widgets/output",
          "model_name": "OutputModel",
          "state": {
            "_view_name": "OutputView",
            "msg_id": "",
            "_dom_classes": [],
            "_model_name": "OutputModel",
            "outputs": [
              {
                "output_type": "stream",
                "metadata": {
                  "tags": []
                },
                "text": "Video available at https://www.bilibili.com/video/\n",
                "stream": "stdout"
              },
              {
                "output_type": "display_data",
                "metadata": {
                  "tags": []
                },
                "text/html": "\n        <iframe\n            width=\"854\"\n            height=\"480\"\n            src=\"https://player.bilibili.com/player.html?bvid=&page=1?fs=1\"\n            frameborder=\"0\"\n            allowfullscreen\n        ></iframe>\n        ",
                "text/plain": "<__main__.BiliVideo at 0x7f0d1ebb2050>"
              }
            ],
            "_view_module": "@jupyter-widgets/output",
            "_model_module_version": "1.0.0",
            "_view_count": null,
            "_view_module_version": "1.0.0",
            "layout": "IPY_MODEL_9d664405becb45fda371d6b215a5a377",
            "_model_module": "@jupyter-widgets/output"
          }
        },
        "c33bf0f44fb84ec28c35c7ec1283c6ad": {
          "model_module": "@jupyter-widgets/base",
          "model_name": "LayoutModel",
          "state": {
            "_view_name": "LayoutView",
            "grid_template_rows": null,
            "right": null,
            "justify_content": null,
            "_view_module": "@jupyter-widgets/base",
            "overflow": null,
            "_model_module_version": "1.2.0",
            "_view_count": null,
            "flex_flow": null,
            "width": null,
            "min_width": null,
            "border": null,
            "align_items": null,
            "bottom": null,
            "_model_module": "@jupyter-widgets/base",
            "top": null,
            "grid_column": null,
            "overflow_y": null,
            "overflow_x": null,
            "grid_auto_flow": null,
            "grid_area": null,
            "grid_template_columns": null,
            "flex": null,
            "_model_name": "LayoutModel",
            "justify_items": null,
            "grid_row": null,
            "max_height": null,
            "align_content": null,
            "visibility": null,
            "align_self": null,
            "height": null,
            "min_height": null,
            "padding": null,
            "grid_auto_rows": null,
            "grid_gap": null,
            "max_width": null,
            "order": null,
            "_view_module_version": "1.2.0",
            "grid_template_areas": null,
            "object_position": null,
            "object_fit": null,
            "grid_auto_columns": null,
            "margin": null,
            "display": null,
            "left": null
          }
        },
        "9d664405becb45fda371d6b215a5a377": {
          "model_module": "@jupyter-widgets/base",
          "model_name": "LayoutModel",
          "state": {
            "_view_name": "LayoutView",
            "grid_template_rows": null,
            "right": null,
            "justify_content": null,
            "_view_module": "@jupyter-widgets/base",
            "overflow": null,
            "_model_module_version": "1.2.0",
            "_view_count": null,
            "flex_flow": null,
            "width": null,
            "min_width": null,
            "border": null,
            "align_items": null,
            "bottom": null,
            "_model_module": "@jupyter-widgets/base",
            "top": null,
            "grid_column": null,
            "overflow_y": null,
            "overflow_x": null,
            "grid_auto_flow": null,
            "grid_area": null,
            "grid_template_columns": null,
            "flex": null,
            "_model_name": "LayoutModel",
            "justify_items": null,
            "grid_row": null,
            "max_height": null,
            "align_content": null,
            "visibility": null,
            "align_self": null,
            "height": null,
            "min_height": null,
            "padding": null,
            "grid_auto_rows": null,
            "grid_gap": null,
            "max_width": null,
            "order": null,
            "_view_module_version": "1.2.0",
            "grid_template_areas": null,
            "object_position": null,
            "object_fit": null,
            "grid_auto_columns": null,
            "margin": null,
            "display": null,
            "left": null
          }
        },
        "ef77d60c06254849bcd526c41ab4e3ee": {
          "model_module": "@jupyter-widgets/controls",
          "model_name": "VBoxModel",
          "state": {
            "_view_name": "VBoxView",
            "_dom_classes": [
              "widget-interact"
            ],
            "_model_name": "VBoxModel",
            "_view_module": "@jupyter-widgets/controls",
            "_model_module_version": "1.5.0",
            "_view_count": null,
            "_view_module_version": "1.5.0",
            "box_style": "",
            "layout": "IPY_MODEL_e32df6114b88451ba0e1c1d3bc17f54c",
            "_model_module": "@jupyter-widgets/controls",
            "children": [
              "IPY_MODEL_43bf826dce8f4d499bc07267c6308da6",
              "IPY_MODEL_0a5f0b364a484f99b755b5e34b2ba277"
            ]
          }
        },
        "e32df6114b88451ba0e1c1d3bc17f54c": {
          "model_module": "@jupyter-widgets/base",
          "model_name": "LayoutModel",
          "state": {
            "_view_name": "LayoutView",
            "grid_template_rows": null,
            "right": null,
            "justify_content": null,
            "_view_module": "@jupyter-widgets/base",
            "overflow": null,
            "_model_module_version": "1.2.0",
            "_view_count": null,
            "flex_flow": null,
            "width": null,
            "min_width": null,
            "border": null,
            "align_items": null,
            "bottom": null,
            "_model_module": "@jupyter-widgets/base",
            "top": null,
            "grid_column": null,
            "overflow_y": null,
            "overflow_x": null,
            "grid_auto_flow": null,
            "grid_area": null,
            "grid_template_columns": null,
            "flex": null,
            "_model_name": "LayoutModel",
            "justify_items": null,
            "grid_row": null,
            "max_height": null,
            "align_content": null,
            "visibility": null,
            "align_self": null,
            "height": null,
            "min_height": null,
            "padding": null,
            "grid_auto_rows": null,
            "grid_gap": null,
            "max_width": null,
            "order": null,
            "_view_module_version": "1.2.0",
            "grid_template_areas": null,
            "object_position": null,
            "object_fit": null,
            "grid_auto_columns": null,
            "margin": null,
            "display": null,
            "left": null
          }
        },
        "43bf826dce8f4d499bc07267c6308da6": {
          "model_module": "@jupyter-widgets/controls",
          "model_name": "FloatSliderModel",
          "state": {
            "_view_name": "FloatSliderView",
            "style": "IPY_MODEL_cd14fded6f604de885d436bde0038c57",
            "_dom_classes": [],
            "description": "p(s = left)",
            "step": 0.01,
            "_model_name": "FloatSliderModel",
            "orientation": "horizontal",
            "max": 1,
            "_view_module": "@jupyter-widgets/controls",
            "_model_module_version": "1.5.0",
            "value": 0.64,
            "_view_count": null,
            "disabled": false,
            "_view_module_version": "1.5.0",
            "min": 0,
            "continuous_update": true,
            "readout_format": ".2f",
            "description_tooltip": null,
            "readout": true,
            "_model_module": "@jupyter-widgets/controls",
            "layout": "IPY_MODEL_980f5087c2f74af08aefbc5acc6d2953"
          }
        },
        "0a5f0b364a484f99b755b5e34b2ba277": {
          "model_module": "@jupyter-widgets/output",
          "model_name": "OutputModel",
          "state": {
            "_view_name": "OutputView",
            "msg_id": "",
            "_dom_classes": [],
            "_model_name": "OutputModel",
            "outputs": [
              {
                "output_type": "display_data",
                "metadata": {
                  "tags": [],
                  "image/png": {
                    "width": 723,
                    "height": 277
                  },
                  "needs_background": "light"
                },
                "image/png": "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\n",
                "text/plain": "<Figure size 1224x216 with 3 Axes>"
              }
            ],
            "_view_module": "@jupyter-widgets/output",
            "_model_module_version": "1.0.0",
            "_view_count": null,
            "_view_module_version": "1.0.0",
            "layout": "IPY_MODEL_95a47f5a97c04302896717afbf407e88",
            "_model_module": "@jupyter-widgets/output"
          }
        },
        "cd14fded6f604de885d436bde0038c57": {
          "model_module": "@jupyter-widgets/controls",
          "model_name": "SliderStyleModel",
          "state": {
            "_view_name": "StyleView",
            "handle_color": null,
            "_model_name": "SliderStyleModel",
            "description_width": "",
            "_view_module": "@jupyter-widgets/base",
            "_model_module_version": "1.5.0",
            "_view_count": null,
            "_view_module_version": "1.2.0",
            "_model_module": "@jupyter-widgets/controls"
          }
        },
        "980f5087c2f74af08aefbc5acc6d2953": {
          "model_module": "@jupyter-widgets/base",
          "model_name": "LayoutModel",
          "state": {
            "_view_name": "LayoutView",
            "grid_template_rows": null,
            "right": null,
            "justify_content": null,
            "_view_module": "@jupyter-widgets/base",
            "overflow": null,
            "_model_module_version": "1.2.0",
            "_view_count": null,
            "flex_flow": null,
            "width": null,
            "min_width": null,
            "border": null,
            "align_items": null,
            "bottom": null,
            "_model_module": "@jupyter-widgets/base",
            "top": null,
            "grid_column": null,
            "overflow_y": null,
            "overflow_x": null,
            "grid_auto_flow": null,
            "grid_area": null,
            "grid_template_columns": null,
            "flex": null,
            "_model_name": "LayoutModel",
            "justify_items": null,
            "grid_row": null,
            "max_height": null,
            "align_content": null,
            "visibility": null,
            "align_self": null,
            "height": null,
            "min_height": null,
            "padding": null,
            "grid_auto_rows": null,
            "grid_gap": null,
            "max_width": null,
            "order": null,
            "_view_module_version": "1.2.0",
            "grid_template_areas": null,
            "object_position": null,
            "object_fit": null,
            "grid_auto_columns": null,
            "margin": null,
            "display": null,
            "left": null
          }
        },
        "95a47f5a97c04302896717afbf407e88": {
          "model_module": "@jupyter-widgets/base",
          "model_name": "LayoutModel",
          "state": {
            "_view_name": "LayoutView",
            "grid_template_rows": null,
            "right": null,
            "justify_content": null,
            "_view_module": "@jupyter-widgets/base",
            "overflow": null,
            "_model_module_version": "1.2.0",
            "_view_count": null,
            "flex_flow": null,
            "width": null,
            "min_width": null,
            "border": null,
            "align_items": null,
            "bottom": null,
            "_model_module": "@jupyter-widgets/base",
            "top": null,
            "grid_column": null,
            "overflow_y": null,
            "overflow_x": null,
            "grid_auto_flow": null,
            "grid_area": null,
            "grid_template_columns": null,
            "flex": null,
            "_model_name": "LayoutModel",
            "justify_items": null,
            "grid_row": null,
            "max_height": null,
            "align_content": null,
            "visibility": null,
            "align_self": null,
            "height": null,
            "min_height": null,
            "padding": null,
            "grid_auto_rows": null,
            "grid_gap": null,
            "max_width": null,
            "order": null,
            "_view_module_version": "1.2.0",
            "grid_template_areas": null,
            "object_position": null,
            "object_fit": null,
            "grid_auto_columns": null,
            "margin": null,
            "display": null,
            "left": null
          }
        },
        "c7e548844c96485581ebefd1a0b6cbf9": {
          "model_module": "@jupyter-widgets/controls",
          "model_name": "TabModel",
          "state": {
            "_view_name": "TabView",
            "_dom_classes": [],
            "_titles": {
              "0": "Youtube",
              "1": "Bilibili"
            },
            "_model_name": "TabModel",
            "_view_module": "@jupyter-widgets/controls",
            "selected_index": 0,
            "_model_module_version": "1.5.0",
            "_view_count": null,
            "_view_module_version": "1.5.0",
            "box_style": "",
            "layout": "IPY_MODEL_8ecae21d507e4cf09187a9d9ed29b88f",
            "_model_module": "@jupyter-widgets/controls",
            "children": [
              "IPY_MODEL_1ab856bb040346979db79866c854e23f",
              "IPY_MODEL_281c6660cd144cd6b7d77d52194e979b"
            ]
          }
        },
        "8ecae21d507e4cf09187a9d9ed29b88f": {
          "model_module": "@jupyter-widgets/base",
          "model_name": "LayoutModel",
          "state": {
            "_view_name": "LayoutView",
            "grid_template_rows": null,
            "right": null,
            "justify_content": null,
            "_view_module": "@jupyter-widgets/base",
            "overflow": null,
            "_model_module_version": "1.2.0",
            "_view_count": null,
            "flex_flow": null,
            "width": null,
            "min_width": null,
            "border": null,
            "align_items": null,
            "bottom": null,
            "_model_module": "@jupyter-widgets/base",
            "top": null,
            "grid_column": null,
            "overflow_y": null,
            "overflow_x": null,
            "grid_auto_flow": null,
            "grid_area": null,
            "grid_template_columns": null,
            "flex": null,
            "_model_name": "LayoutModel",
            "justify_items": null,
            "grid_row": null,
            "max_height": null,
            "align_content": null,
            "visibility": null,
            "align_self": null,
            "height": null,
            "min_height": null,
            "padding": null,
            "grid_auto_rows": null,
            "grid_gap": null,
            "max_width": null,
            "order": null,
            "_view_module_version": "1.2.0",
            "grid_template_areas": null,
            "object_position": null,
            "object_fit": null,
            "grid_auto_columns": null,
            "margin": null,
            "display": null,
            "left": null
          }
        },
        "1ab856bb040346979db79866c854e23f": {
          "model_module": "@jupyter-widgets/output",
          "model_name": "OutputModel",
          "state": {
            "_view_name": "OutputView",
            "msg_id": "",
            "_dom_classes": [],
            "_model_name": "OutputModel",
            "outputs": [
              {
                "output_type": "stream",
                "metadata": {
                  "tags": []
                },
                "text": "Video available at https://youtube.com/watch?v=l4m0JzMWGio\n",
                "stream": "stdout"
              },
              {
                "output_type": "display_data",
                "metadata": {
                  "tags": []
                },
                "text/html": "\n        <iframe\n            width=\"854\"\n            height=\"480\"\n            src=\"https://www.youtube.com/embed/l4m0JzMWGio?fs=1&rel=0\"\n            frameborder=\"0\"\n            allowfullscreen\n        ></iframe>\n        ",
                "text/plain": "<IPython.lib.display.YouTubeVideo at 0x7f0d1eb6a2d0>",
                "image/jpeg": "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\n"
              }
            ],
            "_view_module": "@jupyter-widgets/output",
            "_model_module_version": "1.0.0",
            "_view_count": null,
            "_view_module_version": "1.0.0",
            "layout": "IPY_MODEL_c75a78530c0c4a4294d7c3efa43b9228",
            "_model_module": "@jupyter-widgets/output"
          }
        },
        "281c6660cd144cd6b7d77d52194e979b": {
          "model_module": "@jupyter-widgets/output",
          "model_name": "OutputModel",
          "state": {
            "_view_name": "OutputView",
            "msg_id": "",
            "_dom_classes": [],
            "_model_name": "OutputModel",
            "outputs": [
              {
                "output_type": "stream",
                "metadata": {
                  "tags": []
                },
                "text": "Video available at https://www.bilibili.com/video/\n",
                "stream": "stdout"
              },
              {
                "output_type": "display_data",
                "metadata": {
                  "tags": []
                },
                "text/html": "\n        <iframe\n            width=\"854\"\n            height=\"480\"\n            src=\"https://player.bilibili.com/player.html?bvid=&page=1?fs=1\"\n            frameborder=\"0\"\n            allowfullscreen\n        ></iframe>\n        ",
                "text/plain": "<__main__.BiliVideo at 0x7f0d1eb3bed0>"
              }
            ],
            "_view_module": "@jupyter-widgets/output",
            "_model_module_version": "1.0.0",
            "_view_count": null,
            "_view_module_version": "1.0.0",
            "layout": "IPY_MODEL_795e596f2ac0484a8c487f6dc51ba3ee",
            "_model_module": "@jupyter-widgets/output"
          }
        },
        "c75a78530c0c4a4294d7c3efa43b9228": {
          "model_module": "@jupyter-widgets/base",
          "model_name": "LayoutModel",
          "state": {
            "_view_name": "LayoutView",
            "grid_template_rows": null,
            "right": null,
            "justify_content": null,
            "_view_module": "@jupyter-widgets/base",
            "overflow": null,
            "_model_module_version": "1.2.0",
            "_view_count": null,
            "flex_flow": null,
            "width": null,
            "min_width": null,
            "border": null,
            "align_items": null,
            "bottom": null,
            "_model_module": "@jupyter-widgets/base",
            "top": null,
            "grid_column": null,
            "overflow_y": null,
            "overflow_x": null,
            "grid_auto_flow": null,
            "grid_area": null,
            "grid_template_columns": null,
            "flex": null,
            "_model_name": "LayoutModel",
            "justify_items": null,
            "grid_row": null,
            "max_height": null,
            "align_content": null,
            "visibility": null,
            "align_self": null,
            "height": null,
            "min_height": null,
            "padding": null,
            "grid_auto_rows": null,
            "grid_gap": null,
            "max_width": null,
            "order": null,
            "_view_module_version": "1.2.0",
            "grid_template_areas": null,
            "object_position": null,
            "object_fit": null,
            "grid_auto_columns": null,
            "margin": null,
            "display": null,
            "left": null
          }
        },
        "795e596f2ac0484a8c487f6dc51ba3ee": {
          "model_module": "@jupyter-widgets/base",
          "model_name": "LayoutModel",
          "state": {
            "_view_name": "LayoutView",
            "grid_template_rows": null,
            "right": null,
            "justify_content": null,
            "_view_module": "@jupyter-widgets/base",
            "overflow": null,
            "_model_module_version": "1.2.0",
            "_view_count": null,
            "flex_flow": null,
            "width": null,
            "min_width": null,
            "border": null,
            "align_items": null,
            "bottom": null,
            "_model_module": "@jupyter-widgets/base",
            "top": null,
            "grid_column": null,
            "overflow_y": null,
            "overflow_x": null,
            "grid_auto_flow": null,
            "grid_area": null,
            "grid_template_columns": null,
            "flex": null,
            "_model_name": "LayoutModel",
            "justify_items": null,
            "grid_row": null,
            "max_height": null,
            "align_content": null,
            "visibility": null,
            "align_self": null,
            "height": null,
            "min_height": null,
            "padding": null,
            "grid_auto_rows": null,
            "grid_gap": null,
            "max_width": null,
            "order": null,
            "_view_module_version": "1.2.0",
            "grid_template_areas": null,
            "object_position": null,
            "object_fit": null,
            "grid_auto_columns": null,
            "margin": null,
            "display": null,
            "left": null
          }
        },
        "272d5927ca5d41b59aa1d4e79058bd22": {
          "model_module": "@jupyter-widgets/controls",
          "model_name": "TabModel",
          "state": {
            "_view_name": "TabView",
            "_dom_classes": [],
            "_titles": {
              "0": "Youtube",
              "1": "Bilibili"
            },
            "_model_name": "TabModel",
            "_view_module": "@jupyter-widgets/controls",
            "selected_index": 0,
            "_model_module_version": "1.5.0",
            "_view_count": null,
            "_view_module_version": "1.5.0",
            "box_style": "",
            "layout": "IPY_MODEL_2d03f66618464fc9a00ebe7955d2218d",
            "_model_module": "@jupyter-widgets/controls",
            "children": [
              "IPY_MODEL_c9cee7ba73b0485db2cdfd79177ba5a9",
              "IPY_MODEL_07ccf6ebefe04b34b60faffdcfbbefa9"
            ]
          }
        },
        "2d03f66618464fc9a00ebe7955d2218d": {
          "model_module": "@jupyter-widgets/base",
          "model_name": "LayoutModel",
          "state": {
            "_view_name": "LayoutView",
            "grid_template_rows": null,
            "right": null,
            "justify_content": null,
            "_view_module": "@jupyter-widgets/base",
            "overflow": null,
            "_model_module_version": "1.2.0",
            "_view_count": null,
            "flex_flow": null,
            "width": null,
            "min_width": null,
            "border": null,
            "align_items": null,
            "bottom": null,
            "_model_module": "@jupyter-widgets/base",
            "top": null,
            "grid_column": null,
            "overflow_y": null,
            "overflow_x": null,
            "grid_auto_flow": null,
            "grid_area": null,
            "grid_template_columns": null,
            "flex": null,
            "_model_name": "LayoutModel",
            "justify_items": null,
            "grid_row": null,
            "max_height": null,
            "align_content": null,
            "visibility": null,
            "align_self": null,
            "height": null,
            "min_height": null,
            "padding": null,
            "grid_auto_rows": null,
            "grid_gap": null,
            "max_width": null,
            "order": null,
            "_view_module_version": "1.2.0",
            "grid_template_areas": null,
            "object_position": null,
            "object_fit": null,
            "grid_auto_columns": null,
            "margin": null,
            "display": null,
            "left": null
          }
        },
        "c9cee7ba73b0485db2cdfd79177ba5a9": {
          "model_module": "@jupyter-widgets/output",
          "model_name": "OutputModel",
          "state": {
            "_view_name": "OutputView",
            "msg_id": "",
            "_dom_classes": [],
            "_model_name": "OutputModel",
            "outputs": [
              {
                "output_type": "stream",
                "metadata": {
                  "tags": []
                },
                "text": "Video available at https://youtube.com/watch?v=vsDjtWi-BVo\n",
                "stream": "stdout"
              },
              {
                "output_type": "display_data",
                "metadata": {
                  "tags": []
                },
                "text/html": "\n        <iframe\n            width=\"854\"\n            height=\"480\"\n            src=\"https://www.youtube.com/embed/vsDjtWi-BVo?fs=1&rel=0\"\n            frameborder=\"0\"\n            allowfullscreen\n        ></iframe>\n        ",
                "text/plain": "<IPython.lib.display.YouTubeVideo at 0x7f0d31503e90>",
                "image/jpeg": "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\n"
              }
            ],
            "_view_module": "@jupyter-widgets/output",
            "_model_module_version": "1.0.0",
            "_view_count": null,
            "_view_module_version": "1.0.0",
            "layout": "IPY_MODEL_722648fae9094aae91d4575cbbdb73b3",
            "_model_module": "@jupyter-widgets/output"
          }
        },
        "07ccf6ebefe04b34b60faffdcfbbefa9": {
          "model_module": "@jupyter-widgets/output",
          "model_name": "OutputModel",
          "state": {
            "_view_name": "OutputView",
            "msg_id": "",
            "_dom_classes": [],
            "_model_name": "OutputModel",
            "outputs": [
              {
                "output_type": "stream",
                "metadata": {
                  "tags": []
                },
                "text": "Video available at https://www.bilibili.com/video/\n",
                "stream": "stdout"
              },
              {
                "output_type": "display_data",
                "metadata": {
                  "tags": []
                },
                "text/html": "\n        <iframe\n            width=\"854\"\n            height=\"480\"\n            src=\"https://player.bilibili.com/player.html?bvid=&page=1?fs=1\"\n            frameborder=\"0\"\n            allowfullscreen\n        ></iframe>\n        ",
                "text/plain": "<__main__.BiliVideo at 0x7f0d1eb2db90>"
              }
            ],
            "_view_module": "@jupyter-widgets/output",
            "_model_module_version": "1.0.0",
            "_view_count": null,
            "_view_module_version": "1.0.0",
            "layout": "IPY_MODEL_61fd8252edb44303a20d121bb59bb208",
            "_model_module": "@jupyter-widgets/output"
          }
        },
        "722648fae9094aae91d4575cbbdb73b3": {
          "model_module": "@jupyter-widgets/base",
          "model_name": "LayoutModel",
          "state": {
            "_view_name": "LayoutView",
            "grid_template_rows": null,
            "right": null,
            "justify_content": null,
            "_view_module": "@jupyter-widgets/base",
            "overflow": null,
            "_model_module_version": "1.2.0",
            "_view_count": null,
            "flex_flow": null,
            "width": null,
            "min_width": null,
            "border": null,
            "align_items": null,
            "bottom": null,
            "_model_module": "@jupyter-widgets/base",
            "top": null,
            "grid_column": null,
            "overflow_y": null,
            "overflow_x": null,
            "grid_auto_flow": null,
            "grid_area": null,
            "grid_template_columns": null,
            "flex": null,
            "_model_name": "LayoutModel",
            "justify_items": null,
            "grid_row": null,
            "max_height": null,
            "align_content": null,
            "visibility": null,
            "align_self": null,
            "height": null,
            "min_height": null,
            "padding": null,
            "grid_auto_rows": null,
            "grid_gap": null,
            "max_width": null,
            "order": null,
            "_view_module_version": "1.2.0",
            "grid_template_areas": null,
            "object_position": null,
            "object_fit": null,
            "grid_auto_columns": null,
            "margin": null,
            "display": null,
            "left": null
          }
        },
        "61fd8252edb44303a20d121bb59bb208": {
          "model_module": "@jupyter-widgets/base",
          "model_name": "LayoutModel",
          "state": {
            "_view_name": "LayoutView",
            "grid_template_rows": null,
            "right": null,
            "justify_content": null,
            "_view_module": "@jupyter-widgets/base",
            "overflow": null,
            "_model_module_version": "1.2.0",
            "_view_count": null,
            "flex_flow": null,
            "width": null,
            "min_width": null,
            "border": null,
            "align_items": null,
            "bottom": null,
            "_model_module": "@jupyter-widgets/base",
            "top": null,
            "grid_column": null,
            "overflow_y": null,
            "overflow_x": null,
            "grid_auto_flow": null,
            "grid_area": null,
            "grid_template_columns": null,
            "flex": null,
            "_model_name": "LayoutModel",
            "justify_items": null,
            "grid_row": null,
            "max_height": null,
            "align_content": null,
            "visibility": null,
            "align_self": null,
            "height": null,
            "min_height": null,
            "padding": null,
            "grid_auto_rows": null,
            "grid_gap": null,
            "max_width": null,
            "order": null,
            "_view_module_version": "1.2.0",
            "grid_template_areas": null,
            "object_position": null,
            "object_fit": null,
            "grid_auto_columns": null,
            "margin": null,
            "display": null,
            "left": null
          }
        },
        "e0719a0906dc4184a4b8e2c2256defb9": {
          "model_module": "@jupyter-widgets/controls",
          "model_name": "VBoxModel",
          "state": {
            "_view_name": "VBoxView",
            "_dom_classes": [
              "widget-interact"
            ],
            "_model_name": "VBoxModel",
            "_view_module": "@jupyter-widgets/controls",
            "_model_module_version": "1.5.0",
            "_view_count": null,
            "_view_module_version": "1.5.0",
            "box_style": "",
            "layout": "IPY_MODEL_3993c5953292438981959706e30cd584",
            "_model_module": "@jupyter-widgets/controls",
            "children": [
              "IPY_MODEL_b0b7e9e1fa03430b9f8d2bca1aeee947",
              "IPY_MODEL_608f22f8cecc43cc8e7fbe41994133ca",
              "IPY_MODEL_ddb65518e3584b63b913011708d075ba",
              "IPY_MODEL_51997abd232f44cb825728f20c872dac"
            ]
          }
        },
        "3993c5953292438981959706e30cd584": {
          "model_module": "@jupyter-widgets/base",
          "model_name": "LayoutModel",
          "state": {
            "_view_name": "LayoutView",
            "grid_template_rows": null,
            "right": null,
            "justify_content": null,
            "_view_module": "@jupyter-widgets/base",
            "overflow": null,
            "_model_module_version": "1.2.0",
            "_view_count": null,
            "flex_flow": null,
            "width": null,
            "min_width": null,
            "border": null,
            "align_items": null,
            "bottom": null,
            "_model_module": "@jupyter-widgets/base",
            "top": null,
            "grid_column": null,
            "overflow_y": null,
            "overflow_x": null,
            "grid_auto_flow": null,
            "grid_area": null,
            "grid_template_columns": null,
            "flex": null,
            "_model_name": "LayoutModel",
            "justify_items": null,
            "grid_row": null,
            "max_height": null,
            "align_content": null,
            "visibility": null,
            "align_self": null,
            "height": null,
            "min_height": null,
            "padding": null,
            "grid_auto_rows": null,
            "grid_gap": null,
            "max_width": null,
            "order": null,
            "_view_module_version": "1.2.0",
            "grid_template_areas": null,
            "object_position": null,
            "object_fit": null,
            "grid_auto_columns": null,
            "margin": null,
            "display": null,
            "left": null
          }
        },
        "b0b7e9e1fa03430b9f8d2bca1aeee947": {
          "model_module": "@jupyter-widgets/controls",
          "model_name": "FloatSliderModel",
          "state": {
            "_view_name": "FloatSliderView",
            "style": "IPY_MODEL_f1d63890f4fa4e19aa115178ff9db905",
            "_dom_classes": [],
            "description": "p(color=golden)",
            "step": 0.01,
            "_model_name": "FloatSliderModel",
            "orientation": "horizontal",
            "max": 0.99,
            "_view_module": "@jupyter-widgets/controls",
            "_model_module_version": "1.5.0",
            "value": 0.65,
            "_view_count": null,
            "disabled": false,
            "_view_module_version": "1.5.0",
            "min": 0.01,
            "continuous_update": true,
            "readout_format": ".2f",
            "description_tooltip": null,
            "readout": true,
            "_model_module": "@jupyter-widgets/controls",
            "layout": "IPY_MODEL_ac692fcc569246a5b6c7c579366ac9cd"
          }
        },
        "608f22f8cecc43cc8e7fbe41994133ca": {
          "model_module": "@jupyter-widgets/controls",
          "model_name": "FloatSliderModel",
          "state": {
            "_view_name": "FloatSliderView",
            "style": "IPY_MODEL_a45ff668f26b4826ad957dc03f857729",
            "_dom_classes": [],
            "description": "p(size=large)",
            "step": 0.01,
            "_model_name": "FloatSliderModel",
            "orientation": "horizontal",
            "max": 0.99,
            "_view_module": "@jupyter-widgets/controls",
            "_model_module_version": "1.5.0",
            "value": 0.65,
            "_view_count": null,
            "disabled": false,
            "_view_module_version": "1.5.0",
            "min": 0.01,
            "continuous_update": true,
            "readout_format": ".2f",
            "description_tooltip": null,
            "readout": true,
            "_model_module": "@jupyter-widgets/controls",
            "layout": "IPY_MODEL_028b23951984419f8fb79a62729b3cb6"
          }
        },
        "ddb65518e3584b63b913011708d075ba": {
          "model_module": "@jupyter-widgets/controls",
          "model_name": "FloatSliderModel",
          "state": {
            "_view_name": "FloatSliderView",
            "style": "IPY_MODEL_f9e7c2a5ffed4a4e80887375175485b8",
            "_dom_classes": [],
            "description": "ρ",
            "step": 0.01,
            "_model_name": "FloatSliderModel",
            "orientation": "horizontal",
            "max": 0.99,
            "_view_module": "@jupyter-widgets/controls",
            "_model_module_version": "1.5.0",
            "value": 0.99,
            "_view_count": null,
            "disabled": false,
            "_view_module_version": "1.5.0",
            "min": -0.5284615384615384,
            "continuous_update": true,
            "readout_format": ".2f",
            "description_tooltip": null,
            "readout": true,
            "_model_module": "@jupyter-widgets/controls",
            "layout": "IPY_MODEL_3447e9b2c8924565b32b51115f0f173c"
          }
        },
        "51997abd232f44cb825728f20c872dac": {
          "model_module": "@jupyter-widgets/output",
          "model_name": "OutputModel",
          "state": {
            "_view_name": "OutputView",
            "msg_id": "",
            "_dom_classes": [],
            "_model_name": "OutputModel",
            "outputs": [
              {
                "output_type": "display_data",
                "metadata": {
                  "tags": [],
                  "image/png": {
                    "width": 390,
                    "height": 361
                  },
                  "needs_background": "light"
                },
                "image/png": "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\n",
                "text/plain": "<Figure size 360x360 with 3 Axes>"
              }
            ],
            "_view_module": "@jupyter-widgets/output",
            "_model_module_version": "1.0.0",
            "_view_count": null,
            "_view_module_version": "1.0.0",
            "layout": "IPY_MODEL_c00196add4fa409f8e8b00d0e4bb87fb",
            "_model_module": "@jupyter-widgets/output"
          }
        },
        "f1d63890f4fa4e19aa115178ff9db905": {
          "model_module": "@jupyter-widgets/controls",
          "model_name": "SliderStyleModel",
          "state": {
            "_view_name": "StyleView",
            "handle_color": null,
            "_model_name": "SliderStyleModel",
            "description_width": "initial",
            "_view_module": "@jupyter-widgets/base",
            "_model_module_version": "1.5.0",
            "_view_count": null,
            "_view_module_version": "1.2.0",
            "_model_module": "@jupyter-widgets/controls"
          }
        },
        "ac692fcc569246a5b6c7c579366ac9cd": {
          "model_module": "@jupyter-widgets/base",
          "model_name": "LayoutModel",
          "state": {
            "_view_name": "LayoutView",
            "grid_template_rows": null,
            "right": null,
            "justify_content": null,
            "_view_module": "@jupyter-widgets/base",
            "overflow": null,
            "_model_module_version": "1.2.0",
            "_view_count": null,
            "flex_flow": null,
            "width": null,
            "min_width": null,
            "border": null,
            "align_items": null,
            "bottom": null,
            "_model_module": "@jupyter-widgets/base",
            "top": null,
            "grid_column": null,
            "overflow_y": null,
            "overflow_x": null,
            "grid_auto_flow": null,
            "grid_area": "widget002",
            "grid_template_columns": null,
            "flex": null,
            "_model_name": "LayoutModel",
            "justify_items": null,
            "grid_row": null,
            "max_height": null,
            "align_content": null,
            "visibility": null,
            "align_self": null,
            "height": null,
            "min_height": null,
            "padding": null,
            "grid_auto_rows": null,
            "grid_gap": null,
            "max_width": null,
            "order": null,
            "_view_module_version": "1.2.0",
            "grid_template_areas": null,
            "object_position": null,
            "object_fit": null,
            "grid_auto_columns": null,
            "margin": null,
            "display": null,
            "left": null
          }
        },
        "a45ff668f26b4826ad957dc03f857729": {
          "model_module": "@jupyter-widgets/controls",
          "model_name": "SliderStyleModel",
          "state": {
            "_view_name": "StyleView",
            "handle_color": null,
            "_model_name": "SliderStyleModel",
            "description_width": "initial",
            "_view_module": "@jupyter-widgets/base",
            "_model_module_version": "1.5.0",
            "_view_count": null,
            "_view_module_version": "1.2.0",
            "_model_module": "@jupyter-widgets/controls"
          }
        },
        "028b23951984419f8fb79a62729b3cb6": {
          "model_module": "@jupyter-widgets/base",
          "model_name": "LayoutModel",
          "state": {
            "_view_name": "LayoutView",
            "grid_template_rows": null,
            "right": null,
            "justify_content": null,
            "_view_module": "@jupyter-widgets/base",
            "overflow": null,
            "_model_module_version": "1.2.0",
            "_view_count": null,
            "flex_flow": null,
            "width": null,
            "min_width": null,
            "border": null,
            "align_items": null,
            "bottom": null,
            "_model_module": "@jupyter-widgets/base",
            "top": null,
            "grid_column": null,
            "overflow_y": null,
            "overflow_x": null,
            "grid_auto_flow": null,
            "grid_area": "widget003",
            "grid_template_columns": null,
            "flex": null,
            "_model_name": "LayoutModel",
            "justify_items": null,
            "grid_row": null,
            "max_height": null,
            "align_content": null,
            "visibility": null,
            "align_self": null,
            "height": null,
            "min_height": null,
            "padding": null,
            "grid_auto_rows": null,
            "grid_gap": null,
            "max_width": null,
            "order": null,
            "_view_module_version": "1.2.0",
            "grid_template_areas": null,
            "object_position": null,
            "object_fit": null,
            "grid_auto_columns": null,
            "margin": null,
            "display": null,
            "left": null
          }
        },
        "f9e7c2a5ffed4a4e80887375175485b8": {
          "model_module": "@jupyter-widgets/controls",
          "model_name": "SliderStyleModel",
          "state": {
            "_view_name": "StyleView",
            "handle_color": null,
            "_model_name": "SliderStyleModel",
            "description_width": "",
            "_view_module": "@jupyter-widgets/base",
            "_model_module_version": "1.5.0",
            "_view_count": null,
            "_view_module_version": "1.2.0",
            "_model_module": "@jupyter-widgets/controls"
          }
        },
        "3447e9b2c8924565b32b51115f0f173c": {
          "model_module": "@jupyter-widgets/base",
          "model_name": "LayoutModel",
          "state": {
            "_view_name": "LayoutView",
            "grid_template_rows": null,
            "right": null,
            "justify_content": null,
            "_view_module": "@jupyter-widgets/base",
            "overflow": null,
            "_model_module_version": "1.2.0",
            "_view_count": null,
            "flex_flow": null,
            "width": null,
            "min_width": null,
            "border": null,
            "align_items": null,
            "bottom": null,
            "_model_module": "@jupyter-widgets/base",
            "top": null,
            "grid_column": null,
            "overflow_y": null,
            "overflow_x": null,
            "grid_auto_flow": null,
            "grid_area": "widget001",
            "grid_template_columns": null,
            "flex": null,
            "_model_name": "LayoutModel",
            "justify_items": null,
            "grid_row": null,
            "max_height": null,
            "align_content": null,
            "visibility": null,
            "align_self": null,
            "height": null,
            "min_height": null,
            "padding": null,
            "grid_auto_rows": null,
            "grid_gap": null,
            "max_width": null,
            "order": null,
            "_view_module_version": "1.2.0",
            "grid_template_areas": null,
            "object_position": null,
            "object_fit": null,
            "grid_auto_columns": null,
            "margin": null,
            "display": null,
            "left": null
          }
        },
        "c00196add4fa409f8e8b00d0e4bb87fb": {
          "model_module": "@jupyter-widgets/base",
          "model_name": "LayoutModel",
          "state": {
            "_view_name": "LayoutView",
            "grid_template_rows": null,
            "right": null,
            "justify_content": null,
            "_view_module": "@jupyter-widgets/base",
            "overflow": null,
            "_model_module_version": "1.2.0",
            "_view_count": null,
            "flex_flow": null,
            "width": null,
            "min_width": null,
            "border": null,
            "align_items": null,
            "bottom": null,
            "_model_module": "@jupyter-widgets/base",
            "top": null,
            "grid_column": null,
            "overflow_y": null,
            "overflow_x": null,
            "grid_auto_flow": null,
            "grid_area": null,
            "grid_template_columns": null,
            "flex": null,
            "_model_name": "LayoutModel",
            "justify_items": null,
            "grid_row": null,
            "max_height": null,
            "align_content": null,
            "visibility": null,
            "align_self": null,
            "height": null,
            "min_height": null,
            "padding": null,
            "grid_auto_rows": null,
            "grid_gap": null,
            "max_width": null,
            "order": null,
            "_view_module_version": "1.2.0",
            "grid_template_areas": null,
            "object_position": null,
            "object_fit": null,
            "grid_auto_columns": null,
            "margin": null,
            "display": null,
            "left": null
          }
        },
        "81fabec0178b40ecabbedb86b0a40463": {
          "model_module": "@jupyter-widgets/controls",
          "model_name": "VBoxModel",
          "state": {
            "_view_name": "VBoxView",
            "_dom_classes": [
              "widget-interact"
            ],
            "_model_name": "VBoxModel",
            "_view_module": "@jupyter-widgets/controls",
            "_model_module_version": "1.5.0",
            "_view_count": null,
            "_view_module_version": "1.5.0",
            "box_style": "",
            "layout": "IPY_MODEL_f153519ea32446ab939a113c6b753004",
            "_model_module": "@jupyter-widgets/controls",
            "children": [
              "IPY_MODEL_9256b5e8ebfc4ff091179226291959d0",
              "IPY_MODEL_97e75ed06d8049cd9e1ea96c74be3518",
              "IPY_MODEL_624697da75df4a3697f66e5884b518b4",
              "IPY_MODEL_8ae7a6d9c31344a4bc745297439da386",
              "IPY_MODEL_674b2054b5634363a70ea016870580ee"
            ]
          }
        },
        "f153519ea32446ab939a113c6b753004": {
          "model_module": "@jupyter-widgets/base",
          "model_name": "LayoutModel",
          "state": {
            "_view_name": "LayoutView",
            "grid_template_rows": null,
            "right": null,
            "justify_content": null,
            "_view_module": "@jupyter-widgets/base",
            "overflow": null,
            "_model_module_version": "1.2.0",
            "_view_count": null,
            "flex_flow": null,
            "width": null,
            "min_width": null,
            "border": null,
            "align_items": null,
            "bottom": null,
            "_model_module": "@jupyter-widgets/base",
            "top": null,
            "grid_column": null,
            "overflow_y": null,
            "overflow_x": null,
            "grid_auto_flow": null,
            "grid_area": null,
            "grid_template_columns": null,
            "flex": null,
            "_model_name": "LayoutModel",
            "justify_items": null,
            "grid_row": null,
            "max_height": null,
            "align_content": null,
            "visibility": null,
            "align_self": null,
            "height": null,
            "min_height": null,
            "padding": null,
            "grid_auto_rows": null,
            "grid_gap": null,
            "max_width": null,
            "order": null,
            "_view_module_version": "1.2.0",
            "grid_template_areas": null,
            "object_position": null,
            "object_fit": null,
            "grid_auto_columns": null,
            "margin": null,
            "display": null,
            "left": null
          }
        },
        "9256b5e8ebfc4ff091179226291959d0": {
          "model_module": "@jupyter-widgets/controls",
          "model_name": "FloatSliderModel",
          "state": {
            "_view_name": "FloatSliderView",
            "style": "IPY_MODEL_27347fe75de7407b9e1afc4c25e6daf0",
            "_dom_classes": [],
            "description": "p(s = left)",
            "step": 0.01,
            "_model_name": "FloatSliderModel",
            "orientation": "horizontal",
            "max": 0.99,
            "_view_module": "@jupyter-widgets/controls",
            "_model_module_version": "1.5.0",
            "value": 0.3,
            "_view_count": null,
            "disabled": false,
            "_view_module_version": "1.5.0",
            "min": 0.01,
            "continuous_update": true,
            "readout_format": ".2f",
            "description_tooltip": null,
            "readout": true,
            "_model_module": "@jupyter-widgets/controls",
            "layout": "IPY_MODEL_c803798103ca431f8951aeaa335cc52c"
          }
        },
        "97e75ed06d8049cd9e1ea96c74be3518": {
          "model_module": "@jupyter-widgets/controls",
          "model_name": "FloatSliderModel",
          "state": {
            "_view_name": "FloatSliderView",
            "style": "IPY_MODEL_2220923e88ff4ff78535043c29c432b1",
            "_dom_classes": [],
            "description": "p(fish | s = left)",
            "step": 0.01,
            "_model_name": "FloatSliderModel",
            "orientation": "horizontal",
            "max": 0.99,
            "_view_module": "@jupyter-widgets/controls",
            "_model_module_version": "1.5.0",
            "value": 0.5,
            "_view_count": null,
            "disabled": false,
            "_view_module_version": "1.5.0",
            "min": 0.01,
            "continuous_update": true,
            "readout_format": ".2f",
            "description_tooltip": null,
            "readout": true,
            "_model_module": "@jupyter-widgets/controls",
            "layout": "IPY_MODEL_079d24a404d64a18b0af170cbb17db8e"
          }
        },
        "624697da75df4a3697f66e5884b518b4": {
          "model_module": "@jupyter-widgets/controls",
          "model_name": "FloatSliderModel",
          "state": {
            "_view_name": "FloatSliderView",
            "style": "IPY_MODEL_d93e4783dceb4961bf054096987c4bf7",
            "_dom_classes": [],
            "description": "p(fish | s = right)",
            "step": 0.01,
            "_model_name": "FloatSliderModel",
            "orientation": "horizontal",
            "max": 0.99,
            "_view_module": "@jupyter-widgets/controls",
            "_model_module_version": "1.5.0",
            "value": 0.1,
            "_view_count": null,
            "disabled": false,
            "_view_module_version": "1.5.0",
            "min": 0.01,
            "continuous_update": true,
            "readout_format": ".2f",
            "description_tooltip": null,
            "readout": true,
            "_model_module": "@jupyter-widgets/controls",
            "layout": "IPY_MODEL_dfb1694edf854ab8bb781f4639285012"
          }
        },
        "8ae7a6d9c31344a4bc745297439da386": {
          "model_module": "@jupyter-widgets/controls",
          "model_name": "CheckboxModel",
          "state": {
            "_view_name": "CheckboxView",
            "style": "IPY_MODEL_0e229e5e5edc4e878dc7c54e1a95c2df",
            "_dom_classes": [],
            "description": "Observed fish (m)",
            "_model_name": "CheckboxModel",
            "_view_module": "@jupyter-widgets/controls",
            "_model_module_version": "1.5.0",
            "value": false,
            "_view_count": null,
            "disabled": false,
            "_view_module_version": "1.5.0",
            "indent": false,
            "description_tooltip": null,
            "_model_module": "@jupyter-widgets/controls",
            "layout": "IPY_MODEL_8e591891808644ada37f1fea12821391"
          }
        },
        "674b2054b5634363a70ea016870580ee": {
          "model_module": "@jupyter-widgets/output",
          "model_name": "OutputModel",
          "state": {
            "_view_name": "OutputView",
            "msg_id": "",
            "_dom_classes": [],
            "_model_name": "OutputModel",
            "outputs": [
              {
                "output_type": "display_data",
                "metadata": {
                  "tags": [],
                  "image/png": {
                    "width": 674,
                    "height": 310
                  },
                  "needs_background": "light"
                },
                "image/png": "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\n",
                "text/plain": "<Figure size 720x288 with 3 Axes>"
              }
            ],
            "_view_module": "@jupyter-widgets/output",
            "_model_module_version": "1.0.0",
            "_view_count": null,
            "_view_module_version": "1.0.0",
            "layout": "IPY_MODEL_acffa6d36cf248cbb2d3e7625eca035a",
            "_model_module": "@jupyter-widgets/output"
          }
        },
        "27347fe75de7407b9e1afc4c25e6daf0": {
          "model_module": "@jupyter-widgets/controls",
          "model_name": "SliderStyleModel",
          "state": {
            "_view_name": "StyleView",
            "handle_color": null,
            "_model_name": "SliderStyleModel",
            "description_width": "",
            "_view_module": "@jupyter-widgets/base",
            "_model_module_version": "1.5.0",
            "_view_count": null,
            "_view_module_version": "1.2.0",
            "_model_module": "@jupyter-widgets/controls"
          }
        },
        "c803798103ca431f8951aeaa335cc52c": {
          "model_module": "@jupyter-widgets/base",
          "model_name": "LayoutModel",
          "state": {
            "_view_name": "LayoutView",
            "grid_template_rows": null,
            "right": null,
            "justify_content": null,
            "_view_module": "@jupyter-widgets/base",
            "overflow": null,
            "_model_module_version": "1.2.0",
            "_view_count": null,
            "flex_flow": null,
            "width": null,
            "min_width": null,
            "border": null,
            "align_items": null,
            "bottom": null,
            "_model_module": "@jupyter-widgets/base",
            "top": null,
            "grid_column": null,
            "overflow_y": null,
            "overflow_x": null,
            "grid_auto_flow": null,
            "grid_area": null,
            "grid_template_columns": null,
            "flex": null,
            "_model_name": "LayoutModel",
            "justify_items": null,
            "grid_row": null,
            "max_height": null,
            "align_content": null,
            "visibility": null,
            "align_self": null,
            "height": null,
            "min_height": null,
            "padding": null,
            "grid_auto_rows": null,
            "grid_gap": null,
            "max_width": null,
            "order": null,
            "_view_module_version": "1.2.0",
            "grid_template_areas": null,
            "object_position": null,
            "object_fit": null,
            "grid_auto_columns": null,
            "margin": null,
            "display": null,
            "left": null
          }
        },
        "2220923e88ff4ff78535043c29c432b1": {
          "model_module": "@jupyter-widgets/controls",
          "model_name": "SliderStyleModel",
          "state": {
            "_view_name": "StyleView",
            "handle_color": null,
            "_model_name": "SliderStyleModel",
            "description_width": "initial",
            "_view_module": "@jupyter-widgets/base",
            "_model_module_version": "1.5.0",
            "_view_count": null,
            "_view_module_version": "1.2.0",
            "_model_module": "@jupyter-widgets/controls"
          }
        },
        "079d24a404d64a18b0af170cbb17db8e": {
          "model_module": "@jupyter-widgets/base",
          "model_name": "LayoutModel",
          "state": {
            "_view_name": "LayoutView",
            "grid_template_rows": null,
            "right": null,
            "justify_content": null,
            "_view_module": "@jupyter-widgets/base",
            "overflow": null,
            "_model_module_version": "1.2.0",
            "_view_count": null,
            "flex_flow": null,
            "width": null,
            "min_width": null,
            "border": null,
            "align_items": null,
            "bottom": null,
            "_model_module": "@jupyter-widgets/base",
            "top": null,
            "grid_column": null,
            "overflow_y": null,
            "overflow_x": null,
            "grid_auto_flow": null,
            "grid_area": null,
            "grid_template_columns": null,
            "flex": null,
            "_model_name": "LayoutModel",
            "justify_items": null,
            "grid_row": null,
            "max_height": null,
            "align_content": null,
            "visibility": null,
            "align_self": null,
            "height": null,
            "min_height": null,
            "padding": null,
            "grid_auto_rows": null,
            "grid_gap": null,
            "max_width": null,
            "order": null,
            "_view_module_version": "1.2.0",
            "grid_template_areas": null,
            "object_position": null,
            "object_fit": null,
            "grid_auto_columns": null,
            "margin": null,
            "display": null,
            "left": null
          }
        },
        "d93e4783dceb4961bf054096987c4bf7": {
          "model_module": "@jupyter-widgets/controls",
          "model_name": "SliderStyleModel",
          "state": {
            "_view_name": "StyleView",
            "handle_color": null,
            "_model_name": "SliderStyleModel",
            "description_width": "initial",
            "_view_module": "@jupyter-widgets/base",
            "_model_module_version": "1.5.0",
            "_view_count": null,
            "_view_module_version": "1.2.0",
            "_model_module": "@jupyter-widgets/controls"
          }
        },
        "dfb1694edf854ab8bb781f4639285012": {
          "model_module": "@jupyter-widgets/base",
          "model_name": "LayoutModel",
          "state": {
            "_view_name": "LayoutView",
            "grid_template_rows": null,
            "right": null,
            "justify_content": null,
            "_view_module": "@jupyter-widgets/base",
            "overflow": null,
            "_model_module_version": "1.2.0",
            "_view_count": null,
            "flex_flow": null,
            "width": null,
            "min_width": null,
            "border": null,
            "align_items": null,
            "bottom": null,
            "_model_module": "@jupyter-widgets/base",
            "top": null,
            "grid_column": null,
            "overflow_y": null,
            "overflow_x": null,
            "grid_auto_flow": null,
            "grid_area": null,
            "grid_template_columns": null,
            "flex": null,
            "_model_name": "LayoutModel",
            "justify_items": null,
            "grid_row": null,
            "max_height": null,
            "align_content": null,
            "visibility": null,
            "align_self": null,
            "height": null,
            "min_height": null,
            "padding": null,
            "grid_auto_rows": null,
            "grid_gap": null,
            "max_width": null,
            "order": null,
            "_view_module_version": "1.2.0",
            "grid_template_areas": null,
            "object_position": null,
            "object_fit": null,
            "grid_auto_columns": null,
            "margin": null,
            "display": null,
            "left": null
          }
        },
        "0e229e5e5edc4e878dc7c54e1a95c2df": {
          "model_module": "@jupyter-widgets/controls",
          "model_name": "DescriptionStyleModel",
          "state": {
            "_view_name": "StyleView",
            "_model_name": "DescriptionStyleModel",
            "description_width": "",
            "_view_module": "@jupyter-widgets/base",
            "_model_module_version": "1.5.0",
            "_view_count": null,
            "_view_module_version": "1.2.0",
            "_model_module": "@jupyter-widgets/controls"
          }
        },
        "8e591891808644ada37f1fea12821391": {
          "model_module": "@jupyter-widgets/base",
          "model_name": "LayoutModel",
          "state": {
            "_view_name": "LayoutView",
            "grid_template_rows": null,
            "right": null,
            "justify_content": null,
            "_view_module": "@jupyter-widgets/base",
            "overflow": null,
            "_model_module_version": "1.2.0",
            "_view_count": null,
            "flex_flow": null,
            "width": "max-content",
            "min_width": null,
            "border": null,
            "align_items": null,
            "bottom": null,
            "_model_module": "@jupyter-widgets/base",
            "top": null,
            "grid_column": null,
            "overflow_y": null,
            "overflow_x": null,
            "grid_auto_flow": null,
            "grid_area": null,
            "grid_template_columns": null,
            "flex": null,
            "_model_name": "LayoutModel",
            "justify_items": null,
            "grid_row": null,
            "max_height": null,
            "align_content": null,
            "visibility": null,
            "align_self": null,
            "height": null,
            "min_height": null,
            "padding": null,
            "grid_auto_rows": null,
            "grid_gap": null,
            "max_width": null,
            "order": null,
            "_view_module_version": "1.2.0",
            "grid_template_areas": null,
            "object_position": null,
            "object_fit": null,
            "grid_auto_columns": null,
            "margin": null,
            "display": null,
            "left": null
          }
        },
        "acffa6d36cf248cbb2d3e7625eca035a": {
          "model_module": "@jupyter-widgets/base",
          "model_name": "LayoutModel",
          "state": {
            "_view_name": "LayoutView",
            "grid_template_rows": null,
            "right": null,
            "justify_content": null,
            "_view_module": "@jupyter-widgets/base",
            "overflow": null,
            "_model_module_version": "1.2.0",
            "_view_count": null,
            "flex_flow": null,
            "width": null,
            "min_width": null,
            "border": null,
            "align_items": null,
            "bottom": null,
            "_model_module": "@jupyter-widgets/base",
            "top": null,
            "grid_column": null,
            "overflow_y": null,
            "overflow_x": null,
            "grid_auto_flow": null,
            "grid_area": null,
            "grid_template_columns": null,
            "flex": null,
            "_model_name": "LayoutModel",
            "justify_items": null,
            "grid_row": null,
            "max_height": null,
            "align_content": null,
            "visibility": null,
            "align_self": null,
            "height": null,
            "min_height": null,
            "padding": null,
            "grid_auto_rows": null,
            "grid_gap": null,
            "max_width": null,
            "order": null,
            "_view_module_version": "1.2.0",
            "grid_template_areas": null,
            "object_position": null,
            "object_fit": null,
            "grid_auto_columns": null,
            "margin": null,
            "display": null,
            "left": null
          }
        },
        "5511f40bac9d4721a99882997a7b801e": {
          "model_module": "@jupyter-widgets/controls",
          "model_name": "VBoxModel",
          "state": {
            "_view_name": "VBoxView",
            "_dom_classes": [
              "widget-interact"
            ],
            "_model_name": "VBoxModel",
            "_view_module": "@jupyter-widgets/controls",
            "_model_module_version": "1.5.0",
            "_view_count": null,
            "_view_module_version": "1.5.0",
            "box_style": "",
            "layout": "IPY_MODEL_6e47efd8f2a84e37877be1979eb32689",
            "_model_module": "@jupyter-widgets/controls",
            "children": [
              "IPY_MODEL_208122b6fe354bf7a8ef2d7523eb478b",
              "IPY_MODEL_7352c0db38264d62901a80110ad94d93",
              "IPY_MODEL_7d9051dda7aa4da9a14daa050d6c0c13",
              "IPY_MODEL_7f350ed10b684163b6e47d59cf5cff4a",
              "IPY_MODEL_e4ec2f61264b4def958e6089e7c9c109"
            ]
          }
        },
        "6e47efd8f2a84e37877be1979eb32689": {
          "model_module": "@jupyter-widgets/base",
          "model_name": "LayoutModel",
          "state": {
            "_view_name": "LayoutView",
            "grid_template_rows": null,
            "right": null,
            "justify_content": null,
            "_view_module": "@jupyter-widgets/base",
            "overflow": null,
            "_model_module_version": "1.2.0",
            "_view_count": null,
            "flex_flow": null,
            "width": null,
            "min_width": null,
            "border": null,
            "align_items": null,
            "bottom": null,
            "_model_module": "@jupyter-widgets/base",
            "top": null,
            "grid_column": null,
            "overflow_y": null,
            "overflow_x": null,
            "grid_auto_flow": null,
            "grid_area": null,
            "grid_template_columns": null,
            "flex": null,
            "_model_name": "LayoutModel",
            "justify_items": null,
            "grid_row": null,
            "max_height": null,
            "align_content": null,
            "visibility": null,
            "align_self": null,
            "height": null,
            "min_height": null,
            "padding": null,
            "grid_auto_rows": null,
            "grid_gap": null,
            "max_width": null,
            "order": null,
            "_view_module_version": "1.2.0",
            "grid_template_areas": null,
            "object_position": null,
            "object_fit": null,
            "grid_auto_columns": null,
            "margin": null,
            "display": null,
            "left": null
          }
        },
        "208122b6fe354bf7a8ef2d7523eb478b": {
          "model_module": "@jupyter-widgets/controls",
          "model_name": "FloatSliderModel",
          "state": {
            "_view_name": "FloatSliderView",
            "style": "IPY_MODEL_e25c9c4e65cc484682a7f26667e2d7b4",
            "_dom_classes": [],
            "description": "p(s)",
            "step": 0.01,
            "_model_name": "FloatSliderModel",
            "orientation": "horizontal",
            "max": 0.99,
            "_view_module": "@jupyter-widgets/controls",
            "_model_module_version": "1.5.0",
            "value": 0.5,
            "_view_count": null,
            "disabled": false,
            "_view_module_version": "1.5.0",
            "min": 0.01,
            "continuous_update": true,
            "readout_format": ".2f",
            "description_tooltip": null,
            "readout": true,
            "_model_module": "@jupyter-widgets/controls",
            "layout": "IPY_MODEL_243aa1d9016a4d4297d5233ae3ccb03b"
          }
        },
        "7352c0db38264d62901a80110ad94d93": {
          "model_module": "@jupyter-widgets/controls",
          "model_name": "FloatSliderModel",
          "state": {
            "_view_name": "FloatSliderView",
            "style": "IPY_MODEL_b886252ec2fa4c498debae823fbfb2c3",
            "_dom_classes": [],
            "description": "p(fish | s = left)",
            "step": 0.01,
            "_model_name": "FloatSliderModel",
            "orientation": "horizontal",
            "max": 0.99,
            "_view_module": "@jupyter-widgets/controls",
            "_model_module_version": "1.5.0",
            "value": 0.3,
            "_view_count": null,
            "disabled": false,
            "_view_module_version": "1.5.0",
            "min": 0.01,
            "continuous_update": true,
            "readout_format": ".2f",
            "description_tooltip": null,
            "readout": true,
            "_model_module": "@jupyter-widgets/controls",
            "layout": "IPY_MODEL_d3c991f81d98436c83c2969347ba401c"
          }
        },
        "7d9051dda7aa4da9a14daa050d6c0c13": {
          "model_module": "@jupyter-widgets/controls",
          "model_name": "FloatSliderModel",
          "state": {
            "_view_name": "FloatSliderView",
            "style": "IPY_MODEL_ce487d7b97e040bfad3c0a8a3dd8487f",
            "_dom_classes": [],
            "description": "p(fish | s = right)",
            "step": 0.01,
            "_model_name": "FloatSliderModel",
            "orientation": "horizontal",
            "max": 0.99,
            "_view_module": "@jupyter-widgets/controls",
            "_model_module_version": "1.5.0",
            "value": 0.83,
            "_view_count": null,
            "disabled": false,
            "_view_module_version": "1.5.0",
            "min": 0.01,
            "continuous_update": true,
            "readout_format": ".2f",
            "description_tooltip": null,
            "readout": true,
            "_model_module": "@jupyter-widgets/controls",
            "layout": "IPY_MODEL_56fd6138552f4b56920d8d04eac37026"
          }
        },
        "7f350ed10b684163b6e47d59cf5cff4a": {
          "model_module": "@jupyter-widgets/controls",
          "model_name": "CheckboxModel",
          "state": {
            "_view_name": "CheckboxView",
            "style": "IPY_MODEL_8acc0d5e441a44a4af9d483b4696dbb6",
            "_dom_classes": [],
            "description": "Observed fish (m)",
            "_model_name": "CheckboxModel",
            "_view_module": "@jupyter-widgets/controls",
            "_model_module_version": "1.5.0",
            "value": true,
            "_view_count": null,
            "disabled": false,
            "_view_module_version": "1.5.0",
            "indent": false,
            "description_tooltip": null,
            "_model_module": "@jupyter-widgets/controls",
            "layout": "IPY_MODEL_147cbaeeb4f74fe996171d1d9b46cd2b"
          }
        },
        "e4ec2f61264b4def958e6089e7c9c109": {
          "model_module": "@jupyter-widgets/output",
          "model_name": "OutputModel",
          "state": {
            "_view_name": "OutputView",
            "msg_id": "",
            "_dom_classes": [],
            "_model_name": "OutputModel",
            "outputs": [
              {
                "output_type": "display_data",
                "metadata": {
                  "tags": [],
                  "image/png": {
                    "width": 1079,
                    "height": 303
                  },
                  "needs_background": "light"
                },
                "image/png": "iVBORw0KGgoAAAANSUhEUgAACG4AAAJeCAYAAADvfdE6AAAABHNCSVQICAgIfAhkiAAAAAlwSFlzAAAWJQAAFiUBSVIk8AAAADh0RVh0U29mdHdhcmUAbWF0cGxvdGxpYiB2ZXJzaW9uMy4yLjIsIGh0dHA6Ly9tYXRwbG90bGliLm9yZy+WH4yJAAAgAElEQVR4nOzdd7wkRbn/8e+XnHMWYSUpSVAJBiQYEDEAgoJykUUUEPSqmJWrhCsXI4pKFFjCD1BRQEDFAEtQFBBJghIkiCSJklmW5/dH1Tg1sxN6ZuecmT3n83695rXdPdXV1RPOTlc/9ZQjQgAAAAAAAAAAAAAAABh/cw27AQAAAAAAAAAAAAAAAJMVgRsAAAAAAAAAAAAAAABDQuAGAAAAAAAAAAAAAADAkBC4AQAAAAAAAAAAAAAAMCQEbgAAAAAAAAAAAAAAAAwJgRsAAAAAAAAAAAAAAABDQuAGAAAAAAAAAAAAAADAkBC4AQAAAAAAAAAAAAAAMCQEbgAAAAAAAAAAAAAAAAwJgRsAAAAAAAAAAAAAAABDQuAGAAAAAAAAAAAAAADAkBC4AQAAAAAAAAAAAAAAMCQEbgAAAAAAAAAAAAAAAAwJgRtDYnua7ciPacNuz0Rh+5z8mj5ve+0xPtY8tm/Ox7vP9mJjeTwAAAAAAAAAAAAAs5os915tTy3O847xKoexN2kCN2wfWHzoWj1esP2Y7b/bPtv2J20vN+x2ozrb20p6Z149ISJuGsvjRcTzkr6QV5eXdNBYHg8AAABAd7a3LK/1ht2eicL2DsXreuiw29NK03X/gcNuz1iwvUVxjkcNuz0AAABAKxXuyVV5TBn2eQDAeJo0gRsVWNJikl4iaTtJ35D0D9sH2Z5nqC1DV7bnlvTNvDpD0iHjcdyIOFPStXn1I7ZXH4/jAgAAYOwQ9A00sr2gpMPz6oOSDhticya1iLhY0vl5dS/brxhmewAAAABMDLbvKPo9pg67PZNBU//T9GG3pxsyc4y9yRyQcEHT+lySlpK0nqT587b5JH1J0tq2d44IRmuNrvdLellePjUi/jGOxz5M0ulK36eDJe06jscGAADA+KsFfZeB34faPkzSITkz2xwld8qcmFfvjIgpw2sNRtD+klbNy9+MiH8PszHQlyS9Takf41uSthpucwAAAICumu/JVfH0wFsBACNs0gZuRMQ2rbbnkUT7SDpU0gJ587slXSzp+wM8/lRJUwdV32Rmey5JXyw2fXucm/BjpQwtL5K0i+0vR8St49wGAAAAjB2CvjFp2V5S0qfy6mOSjhxicyApIq62fYGkt0ja0vabI+LXw24XAAAA0E67e3IAehcR0yRNG9X60D+mSmkSEU9HxOGStpdUdrYekAMEMHq2k1SbouQPEXHdeB48ImaqPjpxLkkfH8/jAwAAYGxFxDZNj60jYiNJSyplInimKP5uSfsOpaGQJEXE9Ihw7THs9kwAH5W0RF4+gWwbI6McsPA/Q2sFAAAAAAAYCAIR2oiICySdW2xaQdKrhtQcdFZ2jJ88pDaUx93d9sJDagcAAADGCUHfmOhszy9pv2LTscNqC2bxK0l35uXX26a/AgAAAACAORidiZ2d27S+Qblie5rtyI9pxfbX2z7K9g22H8rP31Fl305sz2/7A7Z/Yvvvtp+w/aTt222fZfuDthfoXpNke3px/AOL7dvaPtn2X20/mp+fXqXONseZWhznjmL7mrYPs31Nfo2esn2L7eNsv7qH+leW9Ia8+oKkn/aw73q2v2b797b/Zfu5/HjY9vW2f2r7s7bX7lZXRNwi6dq8uoikd1VtBwAAAOZsBH1jAttJ0nJ5+YqI+OswG4O6iHhB0qnFpv3alQUAAAAmAtub5ns4tXtOx1fc7yfFPk/bfnmLMrPcM3PyNts/tn1rvo/1oO0rbH/B9jJ9nsfmtr9t+8+278/n9IDtK/N9s5f1We/6tg+2fantf+Rzfdr23bZ/Y/tA269o2mfL2nlLWrV46sTi9Wh4DOP8bE+xfajta/O9y8fzfcxptjfvtb4ej93P/dyW90aL5+/Ir+WXi81btHvNbU/tpf5eVWjv9NzeE4vNq3Zo74F5vx2LbTNtr9JDmxax/e9i/0kx2wGBG539o2m94x9h2wvbPlHSJZL2kbSu0tzXs832NpL+Jul4paCAl0haWNJCkqYojfI7TtLNtt/WR/3L2j5f0vmSdpP0UkmLD6LtLY61n6QbJH1WKRhmKUkLSlpD0gcl/d72kbbnqVDdjqp/jv8UEfdXOP48tr8v6TpJn5b0GqX3dt78WFJpvvIdJB0m6Ubb61Roy8+L5fdUKA8AAICJo2PQd8n2y3NnxVVNnRh/cgosfkW7fdvUt7ztT9v+Ve6Qecr2jHyBe4vtC2x/xfYWbsoE0u/Fd4e2LGn7I7bP86zB5mfafn+V3/ll51HZMWR7Jdufsf27fK4zcpktu+1b4Zivs32E7eucOuOetX2v7cttH2R7jYr1tAteXyPXc2Wu9/lcZkrVNrY4VvnebJm3LeQU1P9bp866Z2z/M38+9rQ9bw+H2L1Y/nEP7Vrc9odtn+vUIfVEPt/H82fhQtvfcBo40Et7hsKpk7B8rafk7Yvnz/sl+TV+zvZ9ts+2/eYOdX09f86ecOpIvc320VU/Y4Uzi+WdbC/U3xkCAAAAoy8i/ijpgGLTB2zv0mkf2/uqcaDtJyPium7Hsr2kpJ9JOk8poH11pftYS0vaWNJXJN1k+51V25+vCX8j6WJJH5O0oVKg/LySlpW0kdJ9sxtsf6fKtXOud3nbP1YaXPw/kjaTtLKkBfLjRZLeqBQkcHW36/p+jeH57SPpL5I+L+nlSvcuF1G6j7m7pIudBoVXGtiOcXWOpHvy8lxK94Crep+kRfPy05JOGmC7RlalL8Uk1tyB9FyHspb0/yRtl9efkHSTpKckrZKf74vt90s6QdLcxeZHc/2h9Mdp6bz9xZLOsf2hiDhR1cyvFLCxcV5/WNLNkmZIWq3fdrdiey9J38urzysFcDyq1O7Va8UkfVjSMrZ3ySOJ2imDVC6q2IyjJe3ZtO3vku5WOudFlQJjli2erxLkdJHSfxyS9AbbC0TEM512AAAAwITRNejbaTq970l6v2b9fblsfrxS0qdsnypp34h4otNBbX9Q0uFKnRbNFs2PNSRtLekLSqPyj+x2Mv2w/QlJX5K0RIunp+THjkpTyeyWO916qf99ko6StNjstXSWepeT9ANJ72jx9Ar58WpJn7f9XUmfjYjnezzG/pL+T9J8s9ncbsdZT+lm/kubnlopP94s6b9t79wte4btpVTPbig1Bqp32u+dSq/nsi2eXiQ/pkjaStInJX1d0meq1D1KbL9G0hlK1/ul5ZX6BbazfWhEfLHY5yOSvqF0DV5aTdLekqbm70alIJmIuMb2vZJWVPquv1XST/o5HwAAAGAO8XWl65S35PVjbF8REX9vLmh7fUnfLDadFRFVrofnVrrh/Pq8/rDS/bi5JL1MafCvlK77f2L73RFxdqcK8/XDuarfy5PSzegbJT2mNMB5PaX7tnNL+m9Ja9p+Z6frz3yO5yvdYyvdqXTP63mla5Q1Vb/HWF6zPyzpgry8hVKgh5Tu3f2z0zmN0/l9XKnPo3S/0j3M+ZQG0C+iFBCwoNL5zgkuVnpf1lD93ugjkq5oU77yezFGrpD0jFIQ0Hp52zNK59HKrZIUEc/bPk71zCJ72j64Yp/K3sXyjyLikd6bPechcKOz5ikyOmVz2EGpo+QhSZ+SdFpE/CfQo4+RM7X9NlDKpFH7g/qIpE/k+mfkMvMoZXg4QumP4txK/1ldExF/rnCY/XLb71SKgjsvImbObttbWFrSd/LysZIOiIh/FcfZUNIxkjbJm94t6XfFPg3yeW9WbGr3B63cZ0M1Bm2cJOl/IqK5o11OKXveLmmvbvW2OP5CSp270yvuCwAAgDlbx6Bv20sodYZs0lTuJqXrjGUlraMUxGylLHhr29663cWp7d2UrhVK90u6TSmAfGGlG7qrqh5I3hww0tfFd1M75lHKDPj+pqfulHRXXl5TKQCitnxR7qD5TZvjNB/jXUqB8lIKXq+9bkspdZz1Jf/m/61SZ0nNTKXRPA8rvS5r5u3zStpf6X3ZISKerXiM/VXvLJyp1AH2sNLIo77b3sKLJP1I9YCJOyXdodSJtb7qQSMvV3r9N89TPrazjerXoQ9ExI3dGmB7K6XAgbKv4WFJt0h6XKkjbXmlQIXaZ3FOzAS6nlLQxsJKU3beKOlfSu/pukW5L9i+NyK+Z/tTSp3MUvqO3aD0mqyuevDH/JJOs31LRFxTsS0XKY1EktLABgI3AAAAMGFFROTBztcqXWMuJukM26+r3TOTUiZCST9UPRDhLs06oLedvZWuqx5Rumd2eu1Gc84YuJtSMMFiStc+J9teJyLublWZ7ZWVsnfUghr+oZR54idN9xGXlPQ5pUzxVgrMPlCNWUbKepdWCpYogzamSTq0+VovDyR5q9Jr8J/MlDn7yDa5zB2qT5fyzYiY1uq443h+m6gx8OYepfuZP6sN+La9oNJA8EMl7ap0XTbyImJ3ScrZT2pBDddFxDZDa1QHEfEZKWUYVT1j6/0V23uspC8qfVdWUrrv2i3QaSOlgU01R/fY5DnWnNhBMi5sW/XOj5rLO+yyqKQnJW0ZEdPKP0aSFBGzdHBWdJTqHWxPSnpTRJxU/gcUEc9HxGlKqY4ez5vnVfoyVLGoUrTW6yLinDJoYzbb3mwRpf8kvx4Re5dBG/k41yhFSl5VbP5K/s+nlfWUOv5quqa3UvqDUPO7iJjaKmgjt+euiDgyIjZU6hjuKCIeU+oYrdm4TVEAAABMPN2Cvo9WY9DGzyStFhHrRMRWEbGeUhaC8qbrRmrzmz4HS5QdGFdI2iQiVoiI10XEmyPitRHxEqXRQDsrjcJpyGYXEZ/JF9plXfdHxDZtHqe2aM7/qjFo40RJa0bElIjYPD9WVPqtX/tdvaDSDeoVW51fC9Pyv8dJelFErBsRb8i/1VdStWuBBrbnlnS6GoM2fpDr3yC/L2sp3YgvA1neqpQWt4rlJH1V6XU/VNKyEbFhbvt6Sjfsu073WNHhSp2Lf5G0WX79t4yIjZSCJb6uegfdCkqv/9ytq5KUMmLUdA2Sz76letDGLUrXqMtExKvzZ3KziFhT6Rr0HUqv/4zWVY20aUpBGydIWjki1i/e0/WUpjmt+VKeNuWrkp5V6qRcOiI2zvusqjQQ5Klcvvm73U2ZueYNbUsBAAAAE0REPKAUPFG7vt1Y6XqrdITq1+kzJe3aw4j9ZZWyRWwdEaeU2QEiYkZEnKAUNF27lllU9SDtVo5TPSvn9ZI2jIjTW9xHfCQiPitpn2LzZ2y/qE29h6seaCFJe0bEHq0C9CPiyYg4MyLeqjSdyiCN1fl9T/X72A8r3X89u8zSHxFPR8S3JO2idL3bKvMjhigi7lHKYFOzd7uybcpcFxF/GGyrRheBG+0dpDT/Us2fWqVaanJIRNwwqAbkiKLXFJsOjoir25WPiGuVotNqNrL9uoqH+2REjEeqnVuUIqtaiognlSL+an94F1bjvMqldYrlFyTdXuH4ZeThZRXK19o1s3spSY0jENdrWwoAAAATRregb9tbKwVO1JwmafuIaPj9GhF3KWWdO7nYvJPtcnrAmler3iHxhKRtIuLKVu2LiMci4kcR8XalDHcDY/vVapzmYq+I+ECr4O+IuEjp+qYWvLGs2oysaWFRSQdFxF4RcW9TvQ9HxMO9t157SnptsX5YRHwoIhoCKXKmia2VMnPU7J9T0nazoNKN+D0j4ovNHYURcU9EPN1H21tZVilgYPOI+F3TcR7NI2Q+V2zeSJ3nly0D0avMAb2y6tfQIentEXFhRERz2Yh4KiLOi4j3qfpnYJQsrfR52bPF5/EvkrZXPUXvskrzYlvSDhHxjYh4qmmfs5Uya9ZsZbvsgO3k2mJ5Vdt0VAIAAGDk2I4eH9/uVF+k7I1fLTZ90nYtc8TOasyucVBEVL4flH0tIq5q92Su74hi0462l28ul7PA17ISzJD0nm7XrxFxrKQL8+q8anGj2/ZL1NgPcVQOKOkqukzJ2osxPL+N1XhN+sVWASlFnWcr9bVgNJVTFG1te0q7grYXVQrEqZk02TYkAjf+w8nStrexfb4aI85eUErr08lMpdFZg/SuYvkppewb3Ryj1HFbs0OFfR7U+KVTPSaKbCGtRErNVI5o27FN0ZcUy/dHtTmRyk7RV1Qo36syFdaUMagfAAAAo6db0PfHiuX7JX241c1sKaV9VUr9eU+x+eMtipYByX+pOnKoh4Dkqj6n+jQsp0RE89Qtzcd/TI2dMlPzRXk3f5F0SH9NbOu/i+Xr1WHUUR4ptIfqWRHctH8nv4yKKWYHYJ8unWRfl1QG+OzXqlAORiqncamShbH8TD4QETdX2GcsPpPj4WZ1/rz8VWkKk5r5JJ0YEb/oUOfJql/LW1LVQRjN7w0DCAAAADBZfEnS7/OyJZ1k+7VqzFw5XdUzJtbMVOON5na+q3pWw3klvbNFmanF8nn5WqGKk4rlN7V4fmfVp7acocFfL1c1tVge5PmV90cfVz0LZydHdC+CYYiICyXVPhtzSfpQh+K7Ks3gIKVr5FaZXyesSRu40Ry9pxSc8aCkX0jatij6gqT/jojftqqncGNEPDTgZpbZNi6OiMfblsxyxopynujXtCtbuLxi0MMgdOqoKp1fLL8yzxvWrBxJVHWEXdlJubXtb9tepm3p3pUd5ssNsF4AAACMiF6CvvO8ulsXzx8XEf/uVH8e/VJmxniD7cWaipUByWvl+WrHle2llKa7qPlGlf0i4lLVs+UtpGrXLD8Y5A1+27UpUGq+0+2aKNIUiz8sNm1f8XADzXLSwQ0RMb1TgRwY9L1i0/q212xRdCVJ8xfrVbIzlp/J5Tqku50ITqhwDd2cyrXjVKYR8Yyka4pN67Qr2+Q+pY7lmikV9wMAAADG0wU9PqpMX/+8UtaJR/Om5SRdKql2/fyg0hQpL7TYvZOr83Qs3Y5/p9Igg5pNWxTbolj+dQ9tKDPrvSoH17er97LmTIDjaKzOr3wtp+frpY4i4gql9xyjqUxO8IE8BXAr5WCf06vcG59I2r0oSK5QmkKkSgqlbtOo9KOca/natqVmdZ3qnYhrdCqYjUXbW5mhxrl+O7m+WF5AafRWczvLzumq6YXPlHSwpNXy+sck7Wv7EqURUZdL+mMOgOlHmfJ23DvPAQAAMHg50LuKVkHfG6vxuuvcinWdo5TJQ0oB95uqsRPkKqWRPZa0pKRzbH+kh9Etg/B61QcDPJAz51V1reoZ9DaS9Ksu5S/psW3dNAeL9PK+7JGXl7G9Zqd0rdmg295OP0HyUvpsNZ9D83QbVQLlb5L0pNJ1kCWdZ3uvdlP4zOEu715E9xXLz0n6U4V9ys7WJas0JCJm2v53UZ4BBAAAABg5EbFN91J91Xun7T1VzypfDlifGhH3tNitm+u7F2koW8t6t1b5RA5GKDPifdD2dhXrXbBYnk8pGOWxYtvaxXLbKV3G0hifX/la9vp+bNVDeYyfkyQdqtRnsIKk7dQ0G4TtTdSY0XZSTZMiTe7AjQua1l9QSrfzsFLgwyV5btqqOo6a61PZUfOvHvYry1bp7BmLtrfyaA+j5Jqzl3Q7j+ZovJYi4tk8R/h5klbPm+eV9Mb8kKQZti+XdIakk3sM4qjUDgAAAEw47YK+y0DqULrWqOJGSc+rfs22horAjYi42/bpqs9p+0ZJN9m+Jpf7vVJmvft7OovevLxYXsD2L3vYd/1iuTlIoJVBB5uX78t9VUZTZc3v3xqaNeih9Fi3+X0HqFJnVkQ8ZPteSSvmTWu1KNYchN41UD5fa31H0hfypg0lXWH7ZqXr798pfSbvqtLOEXdf9yINQf0PVcxyWe6zUA/teUr1a2YGEAAAAGBSiYif2p4uacti8/ER0Ry0XlUv2fXLss33sRZX433YV/bZnlpdZWDDUsVy1evZQRvL8ytfy37fD4yQiHjM9mmqT5Oyt5oCNyTtVSxfGRFXj0vjRsikDdwYg+i+XlMtVVGmpn2uh/2eLZbntT13l4CJsWh7K/2eg9T4WtSUARULtni+pYj4q+31lP4ofECNHc5SCuTYPD8OtL1PRJxVsfqyHf1m7QAAAMBomZ2g77Kz4Ykq6T0lKSJm2H5M0tIt6qnZJz//lmLbhipGJ9j+i1LWuR9ExN1Vjt2DpYvlxZra0YvFK5QZdLD5IILkm+tpZbyC5KXeO7NqgRtVgv2rBqh/WdKLJO1ebFsrPz4qSbZvk3SW0meyakbGUdPLtW0/5aXeBgUwgAAAAACTlu2t1ThlhyS92faSEfFIq3266PdeVvN9rEEGVc/VtL5AsVypn2EMjOX5zVcsz869RYyWI1UP3HiT7dUj4jZJylME71KUHa9pZ0dK8xcBo+XRYnnRHvYr579+fJBzQc+mfs9Baoy0qyk7TZdq8XxbEfFMRHwnIjZQ6lh8r9Jcz80d7stJOjNn6ahiFKIcAQAAMEARsU3TY9uI2DkiPhwRR3XJ1NdvMLbU2OGwQPOTEfF4Dkh/l6TfKGXoaLau0s30W21/2fYgrwEH1UnTtU19zEnczSCC5KUW70uT8QqSlwbXuSjNGoReKVA+Ip6PiKmS3qA0rUyrTrPVJX1K0o22v2+71fHRGwYQAAAAYFKyvbykkzVrMPMqko7rs9p+72U138d6tGn9XRHhPh93NNVVBqRUGQwxFsby/MpBELNzb3FY5h52A0ZRRFyj+tSjVj2IQ5L+S/V+pscknT6OTRsZBG6MtvLG/+ptS82qLDtKwQOL2a4aYLFa03qr87i9WF7O9rz9NCoi7omIMyLioxGxntLrd7jqnaxz5fUqVi6W7+inPQAAAJhQ+g3Glho7HJo7RP4jIs6KiDcrBRFvK+krki5TYyDH/JIOlPR/Pbahk7JN181GB83UAbapn7bPTidQ2/dlCAbVuSjNmlmk10D5iyJie6VsHm+U9CWl4KJyJNhckvZV6mRFn2zPrcb3c5T6AAAAAIAxY9uSTpG0fN70mKRDiyI72t67j6pf0kPZ8l5Ww1SlEfGkpCeKTctrcO4tll86wHorG+PzK1/Lft+PQSkHSVS9D1kls+VkdWSxvEdxb7ecJuWUiCinEp00CNwYbX8qll/bw35l2asG1JZB2bSPcndFRKv0xeXIxrk0oD/IEfH3iNhfjZ3aa9qu8p9DOVd2pTmmAQAAMKGVN1Hns71y25IF28tJWqRNPS3lDBy/iIgDIuL1StnjPqbGkTj7216lShsquK9YHmQHzXgoX89VbFedRrQ5oH6UbpJX6szK5/riYtP9LYrdo8ZsGZU+t80i4umIuDAiDsnBRctI2kNSOW3Pe2z3cr2LRiuqcTTXHUNqBwAAADDePiPpzcX6XhHxRaWpGWsOt71uj/VuXCVbZb62emWx6U8tiv2+WH5Nj+3o5PJieYscxDK7yoyRVesbq/MrX8tK9xVtL66xCWIps39UHdSwfsVy/bzmwzSI9v5Y9cEiy0nawfamkjYoykzKaVIkAjdG3cXF8tq2X9VtB9sbqPHDfXG7skPy3m4FbM8naadiU7tz+Iukp4v1l89Gu1r5SdP6Cp0K5/8UVi02XTng9gAAAGDO09xxU/UGdXO5ngOyI+KRiDhC0nuKzfMoZUBoNrsdNMtXDHQeFeX7soAaO9s6Kd+XmZKuGViLZl/VIPkN1DjFyyydixERkm4qNq3RXKYfEfFkREyTtLWkGcVTbxlE/ZNU83vDAAIAAABMePlG7/8Wm46PiB/l5T0l3ZWXF5R0hu1u01yWVpC0ZYVy26oxs0Kre1m/KJZ36CErfTe/LJZXyW2ZXeW0i5Wmy9TYnV/5Wr7c9joV9tlZqc9j0O4s29KtcP6svbVi3f285sM02+2NiGclnVBs2js/an4XETf0U/dEQODGaPuhGiO5vtEpai4/981i0xOSThujtvXrfTm4pJNPqDFI4vhWhSLieaUU0DVdOyp7jDpcpGn94S7ly+M/JemPPRwLAAAAE1BE/F2N2QV2q7jr7sXy/ZL+Nhtt+I0ap8NoFZDcz8X3lZIeKtY/2GPThukKNU7bUfV9eX+x/KeIeKJtyfH3NttV5vPdtVh+Wu0DzsvtAw2Sj4ib1BgY0jFIHh2V19d3RMSDQ2sJAAAAMA7yINrTVb9J/1dJ/117PiIeUbrumZk3rSfp8B4Pc2ielrBdG+ZVY+DI3yVd1KLo8arfW1pU0vd7bEc750m6rVj/bn5dZkc5/cqaFfcZq/P7kRr7Kb7aqbDtRST9z4CO3awcSLOS7c26lP+UpGUr1l2+5qsPKHPKWCrbu+xsfOaOVn0A0VaS3tf03KRF4MYIy52AZSDGlpKOKeb7+Y+ckulINY6e+3ZEtJqveJjmlnSO7ZYjtmzvpMb/7C6NiE5ZQ35eLG9V4fhn2D7A9oqdCtleSNLBxaZ/SrqlS93l8S+KiGfalgQAAMBkclyx/HbbHX+32t5c0vbl/jkDQlmm8sW87fnVOA9rq4Dkni++cyB12fn1cduvqNquYcrXWqcXm/ay/bJO+9jeTVJ5fseORdtmw8Lq0lGVs6LsU2z6YYfgk+nF8ibdPnN9dDCVgfLdguTRXjmAoFVHMQAAADDRHKv6VJHPStolIp4qC0TEZWq8x7OP7Xf1cIxNJR2XM8Q3yBkVTlHjdBiHNl+353Y8LukLxaZdbJ9ue4luDbC9se2Tbb+v+bmImKk0VUzNSyRNt71alzo3yffhWimzMe5cZarXMTy/f0v6brHp7ba/1moKmzyA4Sz1OcVnBX9U44Cc77YbNGH7A5K+3EPd5Wu+lNLUoqPsOjVmz9y/n0oi4g7Vs7VY0vx5+SFJZ/bbuIlgLFLGYLAOVUqp8+q8/iFJm9n+gVIK1JC0rtLotvWK/a5U439Ko+BuSbdLer2ka/M5XKg05/aLJb1b0nZF+SfUfdTeT5SCW+aS9ArbK0XEPR3KL6+UKvog27+TdKnS6/gvpRF3y0h6ldIIx3Lu70Mi4gV1VqY++lHbUgAAAJhsjpT0EdVHXPzY9hDJWg4AACAASURBVFsiYpYpKnLgQ3mR+pAaOytqPps7ZL4bEd2mRjhY0kLFequbu7WL71qAx/6q1tlwhNJv5zXzMX5te/eIOL/TTrkT572SdoiIrSscZyx8NbdhAUnzSTrP9tY5S0oD229W4xyrt0j6f+PSyt580vYtETFLUIntFymNyqplVHlO0tc61HWB0giYuZSuk9ZT52k4drX9dknfiYjLO5ST7X0llR2KBBz0b8ti+eftCgEAAADDZPuX3UvN4uiIOLupng+qcTrQT0fEtW32/19Jb5C0RV7/ge2rIuKuNuVrzpa0jdJN9FfbPk7pWshK2Qj3VmNGil9FRMvM8ZIUEcfka/3adBC7KAUi/FDSJUoDh5+TtLjSfalXSHqzpFVz+Qvb1PtT299S/eb5hpJusv1jSb+W9A+lrCPLK00P+jal67rvqPXN8dMkfTaf54qSbrN9tdL9s//cH4uIcqDJmJ2fpIOU7hmundc/LekNtk9QyrIyr6SN83FXzu28VtKb2tTXl4h4wfZXVe+b2VDpHucR+XiWtJbSeW8u6XlJp0r6rwp1/832VZI2ypuOt/15pT6H54qiR0REu9dp3ETEE7bPkVQL/vlSDla5USmjZ80ZEXFGl+qOVPpMlk6a7IPiCdwYcRHxvO1tJP1M6QsvpT9S32y/l34n6R0RMaNDmWGYqdQxeolSJ91/q0hf1eRJSW+LiJs7VRgR/7B9kVKmEUvaQdVSMc2lFEDy+gplvxYRx3QqkDOI1FLUPqkUUAIAAAAoIh60vaekc5R+sy4t6Q+2T1G60fqAUlDHNkpBELXgiZD0oYh4oEW1CygFdX/I9k2SfiPpz5LuUQqAXkTSOkodB5sU+53R6jd2vxffEfG47e2UrkGWzOd2nu0r8/lepxSovUB+bl2loPQt83mWc8WOq9xB8mnVO19Wl3Rd7gT6rVK7V1LKfvIepfdOSp0n/zWCnQmnK11vHZNHUJ2mFDi/qNJ1z16SylFPB+UpS1qKiIdsX6h6p9fb1DlwYx6lOYV3tn2n0pzLVyt1Fv5bKWBkLaVrtrIj7fdKn1/0yPaGSh2qUvreE7gBAACAUfWWPvZpCPawvbZS0EHNuRHRaqCDpP/ccN9V6eb60krXrP/P9pY5Y0U710r6qaQTlO7HfatD2ctVv47u5MNK10YHK92fWkTSnvnRt4j4pO3HJB2odM06n9I0Mbt22q9NXdfb/rLqg8LnU31QeTcDP7+IeCYPorhY6XpdSgOvX9Wi+JNK0210DZbo05FKwSbvzOtT1Ppz8bxSlsuZPbTlQ0rXxEvn9TXyo3S2RscnlAJNpuT1lTVrtpNrKtTzS6UphspBHR3vxU4GBG7MASLiMdtvVPryfk6NmSBKdyuNGjs6py0eORHxT9uvUhqZt7PSH/6GIkqRgPtFxK0Vqy2niNlNnQM3DlP6z+NN6jyPcihl4zioYhRb+Qf4lIh4sm1JAAAATDoRca7t90o6Wek38DxKo3fapcGcIWlqRJxVofq1VR+B0slvlW7et9PXxXdE3GR7E6WOhHXz5o3zY6RFxPfyVDJfV+rkWljSR/OjlceVsoRcMU5N7MWxSu3bS6lD6c0dyn4vIg6tUOdJqgdZ7Kh0PVXFqqqPturkWkk7VchuiNbKDuKfNKeHBgAAACaKPD3JGapnk7xHFaaVyPekPqA0sECSNlPKLvmlLvudYvt2pUD/DVsUeUJp6tCvRMSzFdoRkr5i+yylqUV2UGNmzGaPKF3Dn66UObFT3QfbPk8pQ8U2an/v9yml6SlO7VDXIXmw9B5K08W8WCkIY5YpSpr2G5PzK+4pHpbbNH+LYpdK2icibrQ9JoEbOQhoJ6XPzv6qZ7IsXS3pIxFxue2pPdR9je11la6h3yTpZUrZSWaZpmcURMTdtjdQmjFhW6VBQ0sqDdjppZ4XbF+neuDGRd0G808GbjHlEkZc/kJsKGm5vOlfkq6JiCoRTOMq/3E6Ma/eGRFTiueWUhppt7LSF/peSRdXSFPVfIy5JN2sesTdhh1SY5X7TVHqWF5FaeSZlUaC3SHpqoi4r+Lx5877rKwU8LF2RPytl3MAAADA6LB9oIppQiLC7Uv3XPdLlaZDfIfqmTVKz0s6X9LnO2VDyBf1H1LqlHlpl8P+VdK3JR3X7QZ5nqe108X3QRFxYJt951PqSPm4UkdDO6F0w/5nSkHPswRs295SxfQZvbwH/exre2NJ/ydpK7XukHpG0g8lHRARd7d4vqxrqtpcAw2a7fKCfquImG57L6XP70otdvmHpM9FxGkV619AKStK7dpznXafS9urKI2yeqvSXM+dOvbuknSUpMOrdHJW1fTdbftZ7aPeKUrZS2pekufk7bTPVPX4ObA9TSnrjpRSxE7tUNaSblN9bu9XR8Qfux0DAAAAwKxsT1d9SpWGawnb6yvdk1tJKSPlbZIujIin1ad8/bypUmaFZZT6B55Qmlbkr5Ju6ifA3XYt4+IqkpZS6mP4V67z6kFef3Vpx8DPz/biSoO4V5U0t1Lwzh8j4rYBNr1KOxZR6jtYTfV7m1dHxA3j2Y45ne1llD4PtQCVnSPiR0Ns0kggcANjarw6LW3voZS2SpKmRUTXSMsBHvs9Sp24Ukod/d7xOjYAAADmTDlAYgul0StLSHpM6ab6xRHxWI91La00z+5qSqk151NKE3qPpD8PY8SC7RcrpVRdTun8nlUaUXOrpOsj4uHxblMVtpdVmqJyJaUpRh5WCtK+ZBSzGbQK3Mjba1NDrqk0Dc/Dkm6Q9PvosRMgp8o9MK9+OyI+UWGfRZU6NlfLx19QaXTX/UpBOzf02o6KbT1QYxC4MYpsby3pgrz6+4h43TDbAwAAAMzJOgVuABg8259VPavnfZJWiYgZQ2zSSGCqFEwUJ0v6rNJow11tfyki/jFOx/58/vd5FSMzAUxeVUdLzikXBLbvUIpklqQ9ImLabJZreZMJ3fUz4nfU5PSGVyiNxD49It435CYNXNP7NKaj7ftlew1JNyqNePhlRLx1yE2adCLi35LOHVBdDyllmLioW9nxkn+Lj9fv8YGJiH9J+smw2zG78sili/Njdh2hNI3O4pL2sP3l/PntdPzHldLVXjqA46O1jxfLB7ctBQATUNXrokGXAwAAwOyzvbCkjxWbjiFoI+k4JxEwp4iImZI+mVfnlfQ/43Fc2zuqPr/Zkcy/BMyZbB9oO2qPYbcHmKhyWvfvK/0GfU7SF4fboskrT01xbF7dxvZ2w2wPgNEVEY9I+npeXVxpOhQMke0NlaakkaRLI+KCTuUBoB+27yiuk6f3sf/U8jo7T2UGAACAScz2gkpTp66YNz0u6bvDa9FoIXADE0ZEnK80T7YkfcD22mN5PNvzKM1PLkkPSPrSWB4PAIAJ4H1K81tK0okRcXunwhhzX1GavkKSvpF/2wBAK4dLujMvfypP9YPhOST/+4JSNhQAmCPZ3nJOGkRhe0pTMMqUYbcJAABg1Nn+X9tn2/61Ut/CbsXTh+RMshCBG5hgImK7iHBEzBMRN43xsZ6PiJfm4y3f61zkAABMJjko4KC8OlPS14bYHEiKiHslTcura0jaY3itATDKIuIp1QMElpH0uSE2Z1Kzvbmkt+fV4yLiT8NsDwAAAAAAXWwmaTtJb5K0bLH9fEnfGkqLRhSj6gAAGLCImCpp6pCbMe4iYsqw24CR9j5Jq+fln0XE34fZGPzHdyTtnZe/YPuEPAUdADSIiLMkedjtmOwi4hLxPgCY5CLiDg3wb+Gg6wMAAEBbT0q6SdLJko6kH7IRgRsYUxExTfWRnAAAYPLav1g+ZmitQIOIuMn2ZUqR71Mk7SDpzKE2CgAAAAAAYBxFxJbDbgMwUfH9qo6pUgAAADCmbL9O0gZ59T5Jvx5iczCrk4rlfYfWCgA9y9M21h7Th90eAAAAAAAA9IfADQAABsz2NNuRH9MGWO++tmcWdZ9te8E2ZeexvbPtk23/1fbDtp+1/U/bv7X9adtLDapt+Zh3FG2b2uO+89h+t+1zbd9u+xnbD9r+g+0DbC/eR3tebvsw21fZvt/2c7YfsP0n21+z/Ype6xyrep28x/Y5tu/K53+P7ctsf3zQ71WL48/y3tme1/Yuts8r3pP7bV+a27RwD4fYvVj+SUS8UKFNUTy2zNsWsD3V9q/y6/Ss7Yfy+rvb1LOs7QNtX2n733mfO22fYvtVPZzDSLG9te3jbV9n+xHbz9t+Or9HV9o+yfbetpevUN3ZkmppCbe0vcoYNh0AxtJ0SQflx/ShtgQA0FbtmlnSRU3bo81jWlO5KU3PT5nN9nSsL19PhKTbm3a9vU17p+f9VsjXi7Xtu/bYrouKfc+ejVMEAADAHICpUgAAmAPY/oqkLxSbjpG0X6s54Gy/RdJ3Ja3ZoqqV8uMNkr5g+5MRccIYNLky26tKOl3Sa5qeml/S0pI2lfRR22+LiKsq1LewpO9Jer9mDVJdNj9eKelTtk+VtG9EPDHEel+kdP6vb3pqxfx4naTP2N5F0l3d6hsE2y+W9CNJr256arn82EzSx2zvGhG/71LXXJLeVWz6eZ9tellu0/pNTy0l6c2S3mz7FElTa4EhtneSdLykxZr2WUXSf0l6X/4OfLufNg1DDsT4oaQtWjw9t6QFlN6jjZQ+q4fk9bYi4kHbVyh9By3p3ZK+OcBmA8C4yFlHpg+5GQAASJIi4r4ccFELMt9b0v+rsq/tl0rasth09GBbBwAAgFFD4AYAACPM9jySfqDGjAVfjoiD25T/sFLQxtzF5ock3SLpaUkrqx7QsYSk422vGBFfGXTbK1pOaZqG2gj/uyTdIWleSS+XtHBR7gLb60bEfe0qs72EpAskbdL01E2S7lcKrlhH6ea0Je0maW3bW0fEI0Ood3lJF0paq9g8U9INkh5Rer/WUArg+KWkndvVNUCLSPpN0ab7lD4/80taV/X3ZIrSe7J1RFzeob5XKwXgSOncLu2jTSsqBbeskNf/Jukepc/wBqoH0uwm6QGl4Jn35H3mkvS8pOuVXtMXq/4dmEvS4bZvjYjz+mjXuLI9v6TfKr0PNTOUXo9/5fUllc6v9j5VzbB3kerBU28TgRsAAAAYO9crXV8tJWnjYvsFHcoP061KbVtQ0ubF9kuUrrObXVcsH6l64Mbrba8dETdVOOZexfLtav/aAAAAYIIgcAMAgBGVMzycKWmbvGmmpH0i4gdtyr9V0veVAgck6TKlLB2XRUQU5daU9C1Jb8+bDrF9ZUT8avBn0dX3JS0j6WJJn4iIP9eesL2ApAMkfTFvWkope8CHOtR3tBqDK34m6eMR8Z+UtnkaiG9J2jFv2kjSsap3po1nvT9QY9DGNEmfL4NTbK+vlGHlNUrZI8bal5QCUf4h6cOSfl77/NheSNJHlN6H+ZSCPM6wvV5EPN6mvq2K5Zs6lOvku0rBH+dK2j8ibq09kV/30yW9Nm/6qO1zJZ2o9F34qqTDIuLRYp/NJP1E9UwUh9s+v/yejKh9VA/amKH0/Tiq+TW1baXApx3UmO2kkz8Wy6+zPV9EPDeb7QUAAABmERHflPTNPCXiRcX2bdruNEQRcaqkU/MUKuV0KbtHxB1d9p1u+0alQH8pZd34eKd9csB2OXjj2DngWgXA2OH7DwBzHncvMquqI/AAAMA4sr2cUqrvWsfVU5J26BC0sYhS5oraD4KTJW0ZEZc2d/BExC2S3ql6ilYrBRwMwzJKN+PfVAZtSFJEPBMRB6gxWGEX2wu2qsj21mrMSHGapO3L4Ipc711KwRQnF5t3sv22ca53W9WDZyTpuxGxR3NGkYi4XtIbJV2uFFAx1pZVylqxeUQ0BDNExFMR8TWlzBY1q6hxGp9m5Qi669qW6mxppdd9uzJoI7fpLknbSXosb5pP0q8kLSTpwxHxuTJoI+9zmRrPYQ3NOlXNKHpHsfz1iPhaq0CYSK6NiAMlvaJi3dcWy/MpZTIBAAAAMPuOKpbfnwcpdLKT6lkLZ0ga6vSmAAAAGB8EbgAAMGJsryHp90oZG6Q01ckbI+LcDrt9UPWb+rdJ2isiZrYrnG/G7yupdkN7XdtvmK2G9+dxSVMj4vkOZb5WLC+i9jeiP1Ys3690077lqIS8fT+l6TZq2o16Gqt69yuW75T0mTblFBFPS/qA0pQf4+GznUaORcSPlDJW1HzQ9nxtiq9TLN/apkw3j6rz6/6gpB8Vm+aTdGFEHNOuwpxhpmzPZn22bTy9uFiuNOVMp78DTe5S6hSuWa9qowAAAAB0dLKkJ/LykpLe06V8OU3KWRHxwJi0CgAAACOFwA0AAEaI7Y2VgjZWz5vulLRZRPyhy65Ti+UjIuLZbseKiH9LOqvY9KYemjooZ0TEw50KRMTNksosFOs2l8lTeGxdbDoun1+nep9QmoKk5g22FxuneheW9Jamep/pUu9fJf26U5kBeVj1bCydHFEsLyNpi+YCecqOVYtN/+yzTWd0e90lNX9Hjq1Qb7nPOm1LjY5y/uyqmTQqyUEx5fszZZD1AwAAAJNVvpYpr7H2blfW9sskbV5sOnqs2gUAAIDRQuAGAAAjwvZbleb3rWXOuFbSa/IN+077LSFp/WJTLzf3y+kRNmpbauz8rmK5u4vlJVo8v7GkeYr1TtlJSucUy3NJ2nSc6n2VpLmL9V9UrPf8iuVmx28jYkb3YrpUKWNKTfM5StLiStkvajoG6XRweYUy9zWtV9nn3mJ5yerNGZori+Uv2/5Qnv96UB4plpcbYL0AAADAZHdksfxa2+0y3JVBHTdHxEVj2CYAAACMkHm6FwEAAOPg7ZK+qPr/zRdJ2r5ClgEpBW2UwZhH2K46PcKLiuVl25YaO80329t5slheqMXzaxTLIem6ivXeqDT9SO11X0ONgS9jVe9aTfX+pWK911csNzsqHSMiwvYNkl6TN63VotjCTetPtyhTRZXPyVOzuU+rz9Wo+Y6k9ysFw8yvlFXkG7YvkHSJUgaRP/cwPUqz8vVofu8AAAAA9CkirrP9O0mvy5v2lvTRsoztBZR+79e0nfoRAAAAEw+BGwAAjIZXFcszJO1dMWhDkpZuWu93ypPF+9xvdnSd0qUFt9hWZkt4otu0IzURMcP2Y6q/hs1ZF8ar3qqvw0MVy82OXo5Rlq2SsaLVe1fFc73uEBG97tNv28ZNRNxgexelObIXyZsXk/Tu/JCkf9v+TS7zszwFSlUj/xoAAAAAc7AjVQ/c2M32ZyOiDJ7eSdJSefkZSdPGsW0AAAAYMqZKAQBgNFyoejaCeSX92vZLKu47qJHxc/LvgnK6iF5v2JdBEwuMU73l9CG91NtPoEuv+m1Pqyk7nmxaX7D35qAUEWcpZTf5uqR7WhRZTNK7JJ0t6Wrb6/RQffn+NL93AAAAmFzK6RP7mZ6v+Rqo52DsCehMSQ/k5cUl7dz0fDlNypkR0e9UkwAAAJgDzck3aAAAmEgulbSt6jdLV5V0se012u/yH482rS8VEe7jMWWA5zPeytdg0R73XaxNPWNZb5lNpZd6F+teZLb1257HWjz/mBo7aJdqUQY9ioh7I+IzEfEiSesqdfCeqlkDOTZU+juySsWqy/fngbalAAAAMBmU1zCLtC3VXvN1xSOz0ZYJIWcFPL7Y9J9AjRxwvVnx3NHj1S4AAACMBgI3AAAYERExXdI2kh7Pm16sdNP1pV12va9pffkBN21OUN5kns/2ylV2sr2cGjshm29Wj1W99zfVu1KVeiWtVrHc7Kia6UVqbM/9zU/maTruLDZVev1QXUTcGBHHRsRuSq/vayWdXxRZRtIB3eqxbUnl5/COQbYTAAAAc5wHi+VV8+/FXjRfVzzYstTkc4ykF/LyprY3yMtlto0bIuJ349ssAAAADBuBGwAAjJCIuEzS1qpnL1hJ0vQu0x1cp8ZpDV4zRs0bZX9qWn9txf2ay101pHo3rVhv1XKzo9IxbC+jxsCN5nOq+UuxXCWDDPoUyeWS3inpkuKpt1TYfVWlaZpqrh9k2wAAADDHKX/fL6ref8tvWCzfHRH/alHmhXKlj+CQ8fZC03rP7Y2IO9UYaL237QUk7VZsO6aPtgEAAGAOR+AGAAAjJiL+IOlNqqeSXUEpeOPlbcrPkPSbYtMHx7aFoyci/i7p7mLTbu3KNtm9WL5f0t/Gqd7bmup9b7cKbc8j6T0Vjz87NrG9eoVy71NjR+UlbcpdWSy3/AxjsCLiBUlnF5tWqLDbBsXyc0oBYQAAAJi8mn/f71R1x5yp8NXFpkvbFH2yaX3BqscYkkG198hieVdJH5C0ZHGMU/qsFwAAAHMwAjcAABhBEXGVpDeonk52WUkX2n5Fm12+Xiy/1vY+Y9m+EXVcsfx221t1Kmx7c0nbl/vnqT3Gq95pxfKOtjfuVK+k/SSt0qXMoBzW6Unbi0v6fLFpeg5GaWV6sfzSvC/60OMIxHKqnocrlC8zrfwuz78NAACAyeu3km4v1j9he+mK+x6ixiDvY9uUu7dpfc2K9Q/Lo5KeKdb7be8FkmrXT4tJ+kbx3BkR8disuwAAAGCiI3ADAIARFRHXSNpK0gN509KSftvqBn+e//aMYtP3bH82Z2loy/a8tt9p+yLbqw6q7UNypKQy/e6Pbb+qVcEcAHNmsekhSd8d53q/p9TxJ6XfZGfZflmberdTY3DOWNvJ9iGtAgVsLyHpHDVmcfjfDnX9UfXAgbklbT6wVk4+19meanvhToVsryZp32LTRRXqLgOSft5P4wAAADBxRMRMSV8pNi0r6Zc5m0ZLtuexfbCkqcXmSyJieptj3CPpvmLTx23P3Xejx1h+Ta4pNu2bpznptZ6QdHSxqczcwTQpAAAAk1THmzkAAExGtp/pXqrBtRGxafdivYuIG2xvqTTaaUWl9Km/tr1NnlKltKektSS9UukG+WFKHUk/lHSFUvCBJS2Ry20kaWtJtQwIoz6fcEcR8aDtPZWCCqwU6PIH26co3Yh+QKmzcRulqUzmre0q6UMR8cCstY5pvffb/rjqmTdeJOnPto9XmvrmYUkrS9pR0rtymdOUpigZSz9UmpLlAElb2z5RaaqX+SVtImlvSSsV5Y+LiN+2qywiZtr+qepT+LxN0rlj0fBJYD1JJ0r6vu1fKwXF3KR6YMxKSoExu6meceM5Sf/XqVLby0iqBYSFpB8PttkAAACYE0XE8bbfqPrUjhtJuiVfY05Xmv7xWaVrpI0k7SxpjaKKf6n79cupkj6Vl6dK2tb29ZKeKMpcGBFH9H8mA3Wq6tPAbC3pXtvXSPq30m9pSbohIg7oUs8JSplJysCPqyPiyjblAQAAMMERuAEAwKzmH+PyPYmIm3LwxoVKN/cXl/Qr29tGxGVFuadsb6EUCLBj3ryKpE+PZftGSUSca/u9kk6WNJ/Sb5098qOVGZKmRsRZQ6r3JNsrqn5jfQGlKVH2a1H855K+pLEP3PilpOuURtdtkh/tnK3GzA7tnKR64Mb2tveNiBdmq5WT20KStsuPTp6RtGtEXN+l3PZKwV5SGhF552y2DwAAABPH7kqBwrVrlAXytt277PcXSdtHxD+7lDtY0hsl1aYFXS6vlx7V6DhG0jskvSWvLyFpy6YyS3SrJCIezgEw5et4dLvyAAAAmPiYKgUAgDlARNysNJL+rrxpUaU0tVs2lXsiInaS9FalEVAzu1R9h6SjJG0WEXcMrsXDExE/lPRyST9VCqBo5XmlDBobRMRpQ673MKVsHX9rU+QhpewX71D393MgIuJQSTtIurVDmz4maceIeL5CfZcpBYNI0vJKI9PQu/2UAnge71LuGUmnS1o/In5aod7/KpaP6rNtAAAAmIAiYkZEfETS6yWdp/bXQjV/U/rdulFEtLueKOt/XNJrlDL7/UIpi8fTs9XoMZSvf7ZVCqg/S9Ltkp5UPdtGL/5cLD+u9BseAAAAk5TTlHoAAGAisr24pNcpTbmxtFJn0mNKARs3TvSR9bYXk7SFpBcrjXp6TNI/JF0cEY+NYL2vUhpptqzSqLbbJU2PiOf6rbPice+QtGpe3SMiphXPbSppHaWAi8eVOmKnVwnYaDrG7qpPC3N2ROwwe60eXbanKL13knRnREwZcP1zK70nayl9txdRCup5ROn9uSoinmhfQ0NdL5X017x6l6TV8tzdAAAAwCxsLyhpU0mrSVpKKSPhI0pTSP4xIu4eYvPmKLavVj3TyFERUSWbIYDJh5t4ADDn6WtaegI3AAAAJrlOgRsDPMY8SgECqysFGawVEX8f9HFGwVgHbgyS7SMlfTiv7hMRxwyzPQAAAMBkkAPk/1Bs2iAirmtXHsCkxk08AJjz9BW4wVQpAAAAGHM5Q8eX8+rckj49xOZAku0VJO2RV2+TdMIQmwMAAABMJl8sli8maAMAAAAEbgAAAGC8nCbpirz8gZyZAsPzRUkL5OVPR0S3+coBAAAAzCbb+0p6R7HpK8NqCwAAAEYHgRsAAAAYF5Hm6NtX0gtKc2EfOtwWTV62V5e0d169ICLOGmZ7AAAAgInK9i62z7Z9vu1bJX2/ePrnEfHrYbUNAAAAo2OeYTcAAAAAk0dE/ElpqhQMUUTcphQ8AwAAAGBsvUzSdi223y7pg+PcFgAAAIwoAjfQ1X5n3RTDbgPG3vd3WNvDbgMAAMBkdtl9v530v7s3W+GN/CYFAAAT2XOS7pD0M0n/FxEPD7c5AAAAGBUEbgAAAExyETFl2G0AAAAAgIkoIg6UdOCQmwEAAIARR+AGAAAAMFiPSjqoWAYAAAAAAAAAoC0CNwAAAIABiohHxYg6AAAAAAAAAEBFcw27AQAAAAAAAAAAAAAAAJMVgRsAAAAAAAAAAAAAAABDQuAGAAAAAAAAAAAAAADAkBC4AQAAAAAAAAAAAAAAMCQEbgAAAAAAAAAAAAAAAAwJgRsAAAAAAAAAAAAAAABDQuAGAAAAAAAAAAAAAADAkBC4rsy6agAAIABJREFUAQAAAAAAAAAAAAAAMCQEbgAAAAAAAAAAAAAAAAwJgRsAAAAAAAAAAAAAAABDQuAGAAAAAAAAAAAAAADAkBC4AQAAAAAAAAAAAAAAMCQEbgAAAAAAAAAAAAAAAAwJgRsAAAAAAAAAAAAAAABDQuAGAAAAAAAAAAAAAADAkBC4AQAAAAAAAAAAAAAAMCQEbgAAAAAAAAAAAAAAAAwJgRsAAAAAAAAAAAAAAABDQuAGAAAAAAAAAAAAAADAkBC4AQAAAAAAAAAAAAAAMCTzDLsBAAD0auaZh8ew2wCMlVu/8L1hNwEYMy+9+TYPuw0AAKCJxfUVJizz6cYEFhLXVwAATCBk3AAAAAAAAAAAAAAAABgSAjcAAAAAAAAAAAAAAACGhMANAAAAAAAAAAAAAACAISFwAwAAAAAAAAAAAAAAYEgI3AAAAAAAAAAAAAAAABgSAjcAAAAAAAAAAAAAAACGhMANAAAAAAAAAAAAAACAISFwAwAAAAAAAAAAAAAAYEgI3AAAAAAAAAAAAAAAABgSAjcAAAAAAAAAAAAAAACGhMANAAAAAAAAAAAAAACAISFwAwAAAAAAAAAAAAAAYEgI3AAAAAAAAAAAAAAAABgSAjcAAAAAAAAAAAAAAACGhMANAAAAAAAAAP+fvTuPr6o6Fz7+W0mYwyCTIAg4z/NUZ6tYQGtVHOrYKm2trfpate29Ha7yVlvfqr21vdoqTmgnKVqHWwsiarXOVRHFCRAZFZAxJAwhyXr/2IfkACcnMdNJTn5fP+dz1j577bWeyD5J9s5zniVJkiRJyhETNyRJkiRJkiRJkiRJknLExA1JkiRJkiRJkiRJkqQcMXFDkiRJkiRJkiRJkiQpR0zckCRJkiRJkiRJkiRJyhETNyRJkiRJkiRJkiRJknLExA1JkiRJkiRJkiRJkqQcMXFDkiRJkiRJkiRJkiQpR0zckCRJkiRJkiRJkiRJyhETNyRJkiRJkiRJkiRJknLExA1JkiRJkiRJkiRJkqQcMXFDkiRJkiRJkiRJkiQpR0zckCRJkiRJkiRJkiRJyhETNyRJkiRJkiRJkiRJknLExA1JkiRJkiRJkiRJkqQcMXFDkiRJkiRJkiRJkiQpR0zckCRJkiRJkiRJkiRJyhETNyRJkiRJkiRJkiRJknLExA1JkiRJkiRJkiRJkqQcMXFDkiRJkiRJkiRJkiQpR0zckCRJkiRJkiRJkiRJyhETNyRJkiRJkiRJkiRJknLExA1JkiRJkiRJkiRJkqQcMXFDkiRJkiRJkiRJkiQpR0zckCRJkiRJkiRJkiRJyhETNyRJkiRJkiRJkiRJknLExA1JkiRJkiRJkiRJkqQcMXFDkiRJkiRJkiRJkiQpR0zckCRJkiRJkiRJkiRJyhETNyRJkiRJkiRJkiRJknLExA1JkiRJkiRJkiRJkqQcMXFDkiRJkiRJkiRJkiQpR0zckCRJkiRJkiRJkiRJyhETNyRJkiRJkiRJkiRJknLExA1JkiRJkiRJkiRJkqQcMXFDkiRJkiRJkiRJkiQpR0zckCRJkiRJkiRJkiRJyhETNyRJkiRJkiRJkiRJknLExA1JkiRJkiRJkiRJkqQcMXFDkiRJkiRJkiRJkiQpR9pV4kZIfDWE8PcQwsIQwoYQwqchhKdDCN8MIRQ14VzxczzG13PMDiGEb6Xi/TQV/8IQwv+mvq7QVPFLkiRJUj5o4evAISGEb4cQ/hRCmBFCKAkhlIcQPgshvBBC+FkIYUg9xhn/Oa8pNz3GNtXXIkmSJEmSpJbTZDeoWrsQwjbAQ8DxW+wakHocD3wnhHB6jHF+S8dXlxDCMOBvwAFb7BqUenwZ+GYI4awY46qWjU6SJEmSWp+WvA4MITwKfAXIlFDfN/U4EvhhCOGnMcZbGjNfLeY0w5iSJEmSJElqZu0icSOE0BF4DDg69dICYBwwGxgMjAH2AA4EJoUQDo8xljTR9O8CP62jT9YbhCGEXsAkYPfUS+8D9wILgZ2BS4DtgeHA30IIX4oxVjQmaEmSJElqy3JwHbg3NUkb/waeBWYCJan5ziBJ3OgE3BxC6BRj/HktY/0WeLQec+4C3JRqryFJUpEkSZIkSVIb0y4SN4DvUHOz7k1geIxx5aadIYTbSG6KjQD2BP4L+EETzb0sxlifG27ZXEdN0sZk4PQY4/pNO0MIvwOmklTj+CLwbeD2Rs4pSZIkSW1ZS18Hrie5DvufGOOHGfb/OoRwFfDfqe2xIYSJMcaZW3aMMb6ZijmrEML/S9ucEGNc24C4JUmSJEmSlGMFuQ6guaXWK/5JajMCX0u/WQeQSoL4GlCWeumKEEKflouydiGE/sB3U5tlwNfTkzYAYowrSOKPqZd+GkIobLkoJUmSJKn1yNF14NExxstrSdrYNOevgYdTm0XA+Q2dLHXN97W0l+5r6FiSJEmSJEnKrbxP3CBZs7hfqv10jPHdTJ1ijEuBB1ObnYBTWyC2+jgN6Jhq/yUV51ZijDOAZ1KbA4BjWyA2SZIkSWqNWvw6cMvEkCwmprX3aeh8wEhgYKr9QYzxpUaMJUmSJEmSpBxqD4kbX0prT66jb/r+kc0QS0O09fglSZIkqaW15uuoNWntLo0YZ0xa22obkiRJkiRJbVh7SNzYO639Rh19X6/luMbYLYTwQghheQihPISwJITwfAjhuhDCgHocn+v4JUmSJKmtac3XUelzzGvIACGEvsApqc0K4IHGBiVJkiRJkqTcaQ+JG7umtefW0XchUJlq7xJCCE0w/wDgSKA30AHoDxwNjAXmhhCurO3AEEIBsFNqszIVXzbpN/12rbWXJEmSJOW3XF8HZhRCKAIuTnvpiQYOdQHJ9SXApBjj4kYFJkmSJEmSpJwqynUALaBXWntZto4xxooQQgmwDcn/m25AaSPm/giYArwNLCcpg7sXcCawI8kayreGEHrHGK/LcHwxNf9Gq2KMFXXMtzyt3avWXpIkSZKU33J5HZjN94HdU+23aXjiRnryx72NikiSJEmSJEk51x4SN4rT2uvr0X8dyQ07gO40/IbdsTHG5zPtCCH8mKTixk9TL10bQngqxvjCFl0bEvsm3esbqCRJkiTlmVxdB9YqhPBF4PrUZgVwaYyxqgHjHATsm9pcCvy9aSKUJEmSJElSrrSHpVJyorakjdS+yhjjfwF3pb38k+aPSpIkSZLU0kIIuwMTqfnwxI9jjC83cLj0aht/qEdlRkmSJEmSJLVy7SFxI/2TUp3r0b9LWntNE8eypbFATLW/GELossX+1hy7JEmSJLVWreZaKoSwAzAV6JN66dYY480NHKsTcF7aSy6TIkmSJEmSlAfaQ+LGqrR232wdQwhFQI/U5kagrLmCAogxfgLMTG12AnbYokspSQldgF6p+LLpk9ZeVWsvSZIkScpvreI6MISwPfAMMCj10h0xxqsaMeRp1Czp8mqM8b3GxCdJkiRJkqTWoT0kbsxMaw+ro+9goDDVnh1jjNk6N5Hlae1e6TtS6x1/lNosJIkvm6Fp7Zm19pIkSZKk/Jbz68AQwnYkSRub5r8X+G4jhx2T1rbahiRJkiRJUp5oD4kbM9LaB9XR9+BajmtOdVXJaO3xS5IkSVJrk9PrqBDCAJKkjZ1TL/0R+FZjkkJCCIOB4anNtcCDjQpSkiRJkiRJrUZ7SNx4Mq09oo6+I9Pak5shls2EEAYCu6Y2y4F5Gbq12vglSZIkqZXK2XVUCKEf8DSwW+qlCcBFqYqKjXERNdfwD8cYSxo5niRJkiRJklqJ9pC48SzwWao9PISwV6ZOIYT+wDmpzfXAYy0Q21ggpNrPxRgzraX8KElSB8C5qTi3EkLYGzg+tbkYeK4J45QkSZKktiQn14EhhN7AVGDP1Et/Ay6IMVY2ZtyUi9LaLpMiSZIkSZKUR/I+cSPGWAH8PLUZgAdCCNuk9wkhdAbuB7qlXrotxrg803ghhPEhhJh6jK2lz40hhCG1xRRCKAwh/Ay4JO3ln2fqG2P8DPhdarMYGJ+KN328bYAHqEkCuaGJbgxKkiRJUpuTo+vAnsAUYN/US48B56RiaZQQwrHATqnNjzBRX5IkSZIkKa8U5TqAFvJ74AzgaOBAYHoI4U5gNjAY+AawR6rve8ANjZzvO8B/hBBeAl4EZgKrgS4kn7w6G9gxrf/PY4zZbrz9X5LyvbsDo4A3Qwh3A4tI1kz+NrB9qu8/gXGNjF+SJEmS2rqWvg6cBByUan8C/Bk4OYRQ+xGwNsY4pR5jX5zWHh9jjA0LUZIkSZIkSa1Ru0jciDGWhxBOBR4iWU5kezLflHsTOD3GuLoJpg3AkalHbdYC/xFjvC3bQDHGVSGEUSRldg8gubn4qwxdpwJnxRg3NixkSZIkScoPObgOPDytvR0woR7HzAOGZesQQugOnJnarALGNyA2SZIkSZIktWLtInEDIMa4MoQwnKTaxYUkCRB9gZXAu8CDwH1NUcYWGEGSsHE4sCvQD+gDVALLgbeBp0k+KbWinvHPDSEcRrKu8TnAXsA2wDJgGvAH4K9+8kqSJEmSEi18HdhczqZmOZenYowLcxmMJEmSJEmSml67SdwASCU1TKB+n3yqbYyLSJInsvV5FXi1oXNkGXcjcFfqIUmSJEmqQwteB2ZdE6URc98D3NMcY0uSJEmSJKl1aFeJG5IktXUxRia+9BZ/fP4Nps9dxGclpfQu7soegwdwzlEH8PXjDqGosLDR86zdUM7z733E6x8t4PXZC/h46XKWlZSxonQtnToUMaBXdw7YYTBnHL4vpx+6L4WFBfUad2NFJff/8zUmvPgW7y9czIrStfTrUcz+Owzi/KMP4qwj9ieEZvm7l1q5GCOTSst4rKSUD8o3sKKykl4FhezUsQMndy/m9B7dKWqCc+PChZ/w73XrP/dxv9i2H6N7dK91f0vFL0mSpKaxmtU8yZM8y7O8yZvMZjYllFBMMUMYwpEcycVczCEc0qTzllHGndzJwzzMLGZRQgnbsi1f4AuMYQwjGFHvsTaykfGM50Ee5D3eYwUr6Ec/DuAALuACzuZsAv4O2u5t3Aj/+hf8+9/JY9YsWLYMli+HwkLo1w/23x9OPRXOOQe6dGna+T/7DO64Ax59FD7+GNavh4ED4dhj4ZJL4AtfqP9YZWVw553w8MPJ11FSAttum4wxZgyMqP/7R5IkqbUJrqyhulz2yPueJO3A7afv4ZW82ozKh37dLr8vrSxdy9m/up9nZ8yqtc+BOwzmoR9czJB+2zRqrsnT3ufLv6hfgad9hw7kz1d9jd0HbZu139ylKzjrlvuY9vGiWvucsM+uTLjm6/Tq1sQ3itqQ2T++LdchtLjVlZVc+ekSXsmSULFnp47cNnAA23VoXN5xQxM3/jB4IIfUcgOzJeNv63ab+ZG/b2TxwuKn2+XPt3RHDTjBc0SSWlqg3f38uYmbuJZr2cCGOvtewAXcyZ10pWuj553GNM7kTOYwp9Y+53M+93IvHemYday5zGU0o5nGtFr7DGc4E5lIL3o1OOa2LrS7szuDDz6APfaoX99hw+BPf4IjjmiauadOhfPPh6VLM+8PAa65Bm6+ue6xpk2DM8+EObW/fzj/fLj3XuiY/f2TLyJmZrUTfieTpLanQT+j2/edY0mS2ojyjRWcftO9vPB+coNi+z69+OaJh7PzgL4sXL6K8c+8xvuLlvDmxwv58i/G8cLPr6RH186NnnfPwdtyyM5D2G1Qfwb36UXnDkWsKlvHtI8XMeHFaawoXcvb8z7l+Otu582bv8+AbXpkHGdV2Tq+/ItxfLAouVmzx6Btuej4QxncpxezFy/j7qdeZsHyVTz9zkzOvPk+Jv/Xt5ukcohav/IYueyTJby+Pkl6GFhUyNk9ezCkQwcWV1Twt5I1fFS+kfc2lHPJJ5/y4OBBFNezwksm3+vTm5WVlXX2e3Pdeu5dtRqAIR2KOLhz5vdTS8cvSZKkxpvJzOqkjR3ZkeEMZ3/2py99WclKnuZpHuZhKqnkj/yRpSxlEpMooOG/x81jHqMYxRKWAHAoh3IBF9CXvrzDO4xjHMtZzp/4E4HAH/hDrWOtYhWjGMUHfADAHuzBGMYwmMHMZjbjGMcCFjCVqYxmNFOYQpG3gbXjjnDYYbDXXjBkCHTtCmvWwDvvwIQJsGgRzJ0LJ54Ir74Ke+/duPneeCOp4rF2bbJ94olwxhlQXAyvvQb33JNU0LjlFujUCW64ofax5s2DUaNgSfL+4dBD4YILoG/fJP5x45IKIn/6U5IM8ofa3z+SJEmtlRU3VCcrbrQPVtxQW9IeK2789onnuXr8o0BSVePJay9lm+KaT3ytL9/I6JvuZcr0DwG4+pTjuOlrX2nwfMvXlFFeUcnAWhIxAFasKePLN97Fa7PmA/DtE4/g9kvOzNj36vGP8tsnngdgxP678/APLqZzxw6bjTXi+juqq3H89huj+e7Ioxocf1vW3ipuPLByNb9YthxIqlLcN2ggPdOSdjZUVXHZp0t4Ye06AMb06skP+/Vp9riu/nQJ/ygtA+B7fbbh0t6Zq9i01vhbKytuZGfFDStuSFJOtMOKG9/iW3zKp/yAH3Asx2bs8y/+xUmcRCmlANzLvVzMxQ2e83RO51GSa7oxjOEu7tosEWQe8ziGY5hPcn31d/7OyZyccayruIpbuRWAkYzkER6hMzWJxitYwXCGV1fjuI3buIzLGhx7W2bFDZLkiKVLYYcdau+zbl2yTMrjjyfbI0fCpEkNnzNGOPhgePPNZHvsWLjuus37TJ8OxxyTLHdSUABvvQX77JN5vNNPT5ZagWRJlLvuSo7ZZN68ZKz5yfuHv/8dTs78/sknVtxoN/xOJkltT4N+RvtxP0nKQyGE8SGEGEIY3wxjHx1CeCKE8FkIoTI1z6NNPY9qVFRWcuPfpgIQQuC+K87bLGkDoHPHDoy/4jy6dUrKgd4++QWWrylr8Jx9unfLmrQB0Lt7N27/Vk2ixj/efC9jv6Wr13DHky8C0K1TR+67/NzNkjY2jXXf5ecRQvL7zC8eforKyqoGx6+2oSJG7li5Ekh+k/3ltv03S3oA6FRQwC+37U/X1Lnxx9Ul9aqY0RirKyuZWpZ8KqwAOK1794z9Wmv8kiSp6XmNlV9u4ib+zt9rTdoAOJqjuZEbq7fHM77B801nenXSxhCGcDu3b1W9YyhD+T2/r94ey9iMYy1lKb/jdwB0oxv3c/9mSRsAvenNAzxASN0vvoEbqMTfQdutbt2yJ20AdOkCd98Nm65npk6F8vKGz/n44zVJG4cdBtdeu3Wf/faDG1Pvsaoq+NnPMo81fXpN0saQIXD77ZsnbQAMHQq/r3n/MHZsw2OXJEnKERM3JEn1FkL4AvAMcBLQB1gBLAFWpvaPTT2G5SrGfPTMjNl8VpJ8yuv4vXdhr+0HZOzXv2d3vnrkAQBs2FjB4/+e0eyx7Tm4JpbFq9Zk7PPYazMor0huEp5z1AH075n5j+B7DxnIF/feuXqs5977qImjVWvzytp1rEgl6BzepQu7dMq8DnGfokJO6l4MJEuTPFPa8KSk+vj7mlLKU1XpjujahQEdMpeVbq3xS5KktsNrrNzYhszV1LZ0FmdVt9/hnQbPN4EJ1e1LuGSrRItNRjGKnUmuiV7ndeYwZ6s+j/Io5SR/UD+Xc+lP/4xj7c3eHM/xACxmMc/xXIPjVzvRr1/yAKiogGXLGj7WhJpzniuuSJYvyeSii6BH6kMjTzyRVAfJNtYll0Aty1gyahTsnLx/eP11mLP1+0eSJKk1M3FDkvR5fA8oAl4E+sYY+8UYB8QYN9WLvS71GJaj+PLSU6nlTwBGHLB71r4j9q/Z/+RbHzRbTJt8tLjmRs6AXpkTMjaLf//WFb9y68XU8iEAR3XrkrXvUV1r9v8r7bjm8HBJTRLSGT0yn9fQeuOXJEltitdYrVh3an4XXEfDf4ebwpTq9khG1tovEBjBiOrtyUxu8Fhb7s80lrSZ1athebIMJB06QO/eDR9rSs15yogRtffr2hWOPjppr1sHz2VIMEofa2SWcz6Ezeea7DkvSZLaFhM3JEmfx6bFRh+MMa7IaSTtyLvzP61uH7jj4Kx9D9pp+7TjFjdbTABl6zfwvfseqd4+/bDMa9G+u6AmjgN33D5jn002i3/Bp1l6Kh/MSiu9u1enTln77t25Zv+sxpTsrcOHGzbw3oZk/J4FBZzQrVutfVtj/JIkqc3xGqsVm0FNFcOhDG3QGFVU8R7JspJFFLEf+2XtfzAHZ5w/02sHcVCjxpKqVVTA5ZfDxo3J9kkn1V7Zoi6LF9ckgAwdCn37Zu9/cM15yowtztOqKngvtSxrUVGyvEpDx5IkSWrlMtd9liQps66p59KcRtHOzPr0s+r2sH7ZP/EyuE9PCgsKqKyqYtbiz4gxEmorSVpPpes28PQ7MwGIMVKybgNvz/uECS9O49OVJQDsP2wQ15699Sdfqqqq+GhJUpWjsKCAwX16Zp1raN+aksWzPvksS0/lg7nlG6vbg2pZjmSTAUVFFAKVwLzyjU1ybmeSXm3jlO7FdCyofY7WGL8kSWpzvMZqxcYxrrp9Mic3aIyFLKyu1jGIQRTVcTs2PUFkJjM321dFFR+RLClZSCGDyZ7Yn20stVNVVfD44zXbpaXw/vvJciQfpZYrHTYMfvObhs8xM+1cGzas7v5D05KiZm5xni5cmFTiABg0KEneaOhYkiRJrZyJG5LUDqXWR/4ecCIwlKQC03zgSeBXMcb5W/SPWwxxXwjhvrTt+4Gvp20/u8UfJOfFGIc1Rezt0aqympK8fbvX/ul/gKLCQnp06cTKsnVUVFZRtr6c4i7ZKwHUZeGKVZxx830Z9/Uu7sqFxx7C9eeOomunjlvtL11fTkVlFQC9unWhqLAw61x90r6+VWvXNyJqtQVrqqqq29vUcW4UhUBxQQGrq6qoANbGSLcmTnzYGCP/u6bmbyZn9Kx9mRRoffFLkqTc8Ror/7zES9xH8k/Smc5cxVUNGmcVq6rbfamj8gDQhz4ZjwUopZQKKgDoRa86k0CyjaV2qrwcTj89877iYjj7bPjlL+uukpHNqrRzrT7j9Kk5Tzc7tqnHkiRJauVM3JCkdiaEcD5wD7Dpr/kbgCpgt9Tj4hDCmTHGtEVEWZJ67kdyA7IENlvgtzLVZ9vU9kogfS0ASyc0Qun6mv+VnTvW/aO7S8cOrEwle6xZv6HRiRvZHL7bMI7daye6dOyQcX/p+g3V7c51VCQANhtnzToTN/Ld2rTEh071SGJI71NWVUW3gqZd9e+Z0jJWphKN9uzUkT3qWP6ktcUvSZJyw2us/LOYxZzN2VSR/L53PdfXWd2iNqVpxVQ6U/fSE13oUt1ew5rN9jXlWNJW9t8fjj8eemavlFmn0rQCQvVZbqVLzXnKmi3O06YcS5IkqZUzcUOS2pEQwonAAyQ3EW8Cfg/MS+3eFbgeOAuYGELYZ9OnwmKMA1LHzyX59NiVMcbxGcbf9Kmx0THGfzbbF6IWtfugbamY+N8AVFZWsby0jNdmz+d3k17giTfe44k33uOML+zHvZedQ7fOzZckIjW3v5XU3BQc3SN7tQ1JkiTwGisflVHGqZzKIhYByRIp13BNjqOSmkjnzhBT31ZihJUr4a234O674S9/gRdegHHj4KGHoF+/3MYqSZLUzpi4IUntRAihALid5NNc34kxjtuiy4fA2SGEx4CvAFeTlPptyRjfqE+/TUkE7UVx547VFTTWl1dQ3CX7kgzryjdWt7s3cSJFYWEB/Xt258sH7cWXD9qLax+cxC8efoqHX5lOCPDg1V/frH9x2vzrN1bUOf5msXepx6dp1KZ1TS0dArAhRorqqFqxIdZUFG/qahVLKyp4Ye1aADqGwCndi+s8pjXFL0mSWl5rv8aq7/VVZMtVW9qv9aznK3yF13gNgCM5kglMINDwJe6Kqfm9cj11VxVcl1Z4pTubJxM35Vhq4z74IHnU5sADYciQ7GOEAL17J1U2Nj2+9S14/nk45RR4+eWkz+dVnHYttb4elTTXpRUb6r7FedqUY0mSJLVy3jGWpPbjGGAXYBlwd5Z+D6SeRzR7RKqXXt1qSn0uW1OWtW9FZSUl65LlSToUFtKtc8dmjW3s2SPYdWDyKZyHXp7OewsWb7a/uHNHigqTXzdWla2jorIy63jL076+Xl1N3Mh33dOSF1bWcW5UxEhpKkmiA9C1ITcQs3ispJRNEQzv1pWehdkTpKB1xS9JknLCa6w8Uk45oxnNMzwDwKEcyj/4B93o1qhxe9Grur2MZXX2X87yjMdCkrhRlPoc3ipWUUH25PhsY6mNe/BBOP302h/PPPP5x/zmN+GEE5L2q6/C5MkNi61X2rm2rO5znuU15+lmxzb1WJIkSa2cFTckqf04MvXcE/gk1P5Hw01/6R/a7BFtIcZ4UH36VT7063b1kbBdBvbj46UrAJj72QqG9e9da9+Fy1dTmfrj8M4D+pLl37lJFBQUMHzfXZn5abLE9vPvfcSe2w/YbP9O2/blw0+WUllVxcLlq7PGP2/Zyur2LttZljXfDevYgYUVyc3mRRsrGNyhQ619F1dUVCdWDOnYocnP7b+V1Kx/XN9lUlpT/JIkKSda9TVWfa+vCJbc2MhGzuIsJjEJgAM4gMlMpgc9Gj32YAbThS6sYx2LWEQFFdXJF5nMq15pB3Zl1832FVDATuzEh3xIJZUsZCHDGNagsaSMRo6Ep59O2v/8J4wa9fnH2DXtXJs7t+7+82rO082OBRg8GLp0SSppLFoEFRVQlOVPGtnGkiRJauWsuCFJ7cd2qecOwLZZHtuk+nXZcgDlxl5DBla335yzMGvfNz5akHbcgCw9m05xl5rlUFatXbfV/r3SEjnenLNgq/3pNot/+4FZeiof7NKxpiLMuxs2ZO07Y33N/vTjmsKb69bz8cZkmZ7wKzZ+AAAgAElEQVTtioo4omv9vv21lvglSVLOeI2VByqo4FzO5XEeB2Af9uEpnmKb6n+2ximggD3Zs3qu6UzP2v91Xq9u783eW+1Pf+0Nsq+GU9dYasPGjoUYa39cdFHDxk1fXmTVqoaNMWAA9OmTtOfPr7tSxus15yl7b3GeFhTAnsn7h4oKmJ79/ZN1LEmSpFbOxA1Jaj821f1/NcYY6vPIabSq9qX9dqtuT3kryxq2wJNp+0fsv3uzxZTuo8U1pUj7dt+6jPCX9k+P/8OsY+UifuXOUWkJEi9kSPpJl77/6HomVtRXerWN03oUU1DPahitJX5JkpQzXmO1cZVUcgEX8DAPA7AnezKVqfShT5POMyJtlZwnebLWfpG42f6RjGzwWACTqVnqItNY0lZmz65p9+3b8HFGpM7TGGHKlNr7rV0L//pX0u7SBY49tvaxAJ7Mcs7HuPn+kZ7zkiSpbTFxQ5Laj8Wp5xZfAkWN88W9d6Zfj2IAnn5nFu8uWJyx39LVa5jw4jQAOnco4iuHNP+nSxYuX8Wkae9Xbx++2w5b9Tn1kH3oWJTc037wxWksXb1mqz4AM+Z/yrMzkptEA3p159g9d2qGiNWaHNa1C70Lk19HX167jlkbyjP2W15RyT/WlALQKQSOL27cOuPp1lVVMak0GTtQ/2VSoHXEL0mScsprrDasiirGMIYJTABgN3bjaZ6mP/2bfK6zObu6fSd3sp71GftNYhKzSa6JDuZgdmTHrfqcxml0TK2+8xf+wlKWZhxrBjN4hmcAGMAAjiXDH8SldKWl8Oc/12wfcUTDx/rqV2vav/1tklSRyfjxUFKStE8+GbpluFY6u+b9w513wvrM7x8mTapJPDn4YNhx6/ePJElSa2bihiS1Hy+mngeEEA5upjk2XYn7SbImVFRYyI9GDwcgxsjF//NnVpau3azP+vKNXHzbXyhL/eH4uyOPok+G6hcAY277C0VnXU3RWVfzf/86OWOf//zj/zLvsxVZ4/po8TJOvfFu1qbmPGbPnTZbFmWTfj2LuXREsvx36foNjLn9L6wv37hZn5Wla7n4tj8TUzdzfnzGiRQW+mtKvisKgUu3SUpQR+A/lixldWXlZn02VFXxn0uWsjZ1bpzfswfbFBZuORQA/7l4KbvPmsPus+bwP8uzn7+bTC4to6wqGfvQLp0Z3KFDzuKXJEltjtdYbVQk8m2+zQM8AMDO7MwzPMMAPv9ykxdxESH131jGZuyzH/txGqcBMJ/5XM7lVFG1WZ/5zOc7fKd6u7ax+tGP7/JdAEop5SIu2ioRZCUr+RpfI6ZOn5/yUwrxd9B26/rr4d13s/dZsgROOw0++STZ3mUXOPHEzH2POw5CSB7jx2fuc8opcOCBSfvVV5MYtvT22/DjHyftggK49trMY+23XxIbJEuvXH45VG3+/mH+fPhOzfuHsWMzjyVJktSKFeU6AElSi3kWmA3sDPw6hHBCjDHzx8OBEELvGGP9/vJZowToCfRqeJjK5NIvHcHfXn2bF96fw5sfL+TA79/Ct048nJ0H9GXhitXc9/SrvL9oCQB7Dt6Wn5xRyw2WerrrqZf51eP/5LBdhnL4bsPYbbt+9OrWhYrKKj5ZWcKL789h0rT3Ka9I/kg9oFd3xl16dq3jXXvWCKa89QEfLFrK5GkfcMgP/5sxJxzGoN49mb14GXc99TILlifr5x671058a/jhjYpfbcc5vXowpbSM19ev570N5Zw2fyFf7dmDIR06sLiigodL1vBRKtFn544d+E7vpllrfJP0ZVLO+BzVNjbJdfySJCmnvMZqo37CT7ibuwHoQAeu5Epe47U6j/sSX6IrXRs0563cysu8zBKWcA/3MIMZXMiF9KEP7/AOd3Iny0mWoTyf8zmZk2sd6zquYzKT+YAPmMQkDuRAvsk3GcQgZjObO7mTBSwA4DiO4xIuaVDMyhMPP5wkRey3HxxzDOy5J/TunVTBWLIkSax47DEoK0v6FxfD/fdDx44NnzMEGDcumW/tWrjuOnjxRTjzzKSqxmuvwd1318z5ox/BPvvUPt6tt8LLLyfx3nMPzJgBF14IffrAO+8klTiWp5ZxPf/8pHqHJElSG2PihiS1EzHGihDCpcBk4Cjg+RDCT4DnY4wbAUIIOwJfAr4BPAbc8DmnmQEcCZwfQngyxri2rgNUPx07FPHID8dw9q/u59kZs1iwfBXXPjhpq34H7jCYh35wMT27dWn0nDFGXpk5l1dmzs3a79i9dmLcpV9lpwG1r3/bq1sX/v7jSzjrlvuY9vEi3l+0hB888PhW/U7YZ1cmXPN1OhT5abD2omMI3L7dtlz56RJeWbeeTysquXX5yq367dmpI7cNHED3JqzEMr98I6+vSz6d2L2ggC81YAmTXMYvSZJyy2ustuslXqpub2QjV3BFvY77mI8ZxrAGzTmUoUxiEmdyJnOYw6up/7Z0HudxL/dmHasXvZjEJEYzmmlM433e5xqu2arfcIYzkYl0oP5V5ZTHpk9PHtnsv3+SGLGpWkZjHHRQkhBy3nnw2WcwZUrySBcCXH115ooc6YYOTZZCOfNMmDMnSTZ5dev3D+edB/dmf/9IkiS1ViZuSFI7EmN8OoRwFvAAcBgwFdgYQigBioFOad0fbcAUd5DcVDwD+EoIYSlQASyMMR7VqODFNsVdmXLtpUx86S3++PwbvPXxQpatKWObbl3Zc/sBfPXI/bnoi4dS1ATLMLxx8/eZMv0DXv5wLjPmf8r8ZatYvXYdhQUF9OzamR237cshO23PmUfsz5G771CvMYf1781Lv/ge9//zNSa8+BbvLVjMyrK19O3ejf13GMwFxxzEWUfsTwhWgW5vehYWct+ggUwqLeOxklLe37CBlVWV9CwoZOeOHTipezGje3SnqInPjUfWrKmuPX5ScTc6FzQsqSJX8UuSpNzzGkufxwEcwNu8zZ3cyUM8xCxmsYY19Kc/X+ALjGEMIxlZr7GGMYxXeZXxjOdBHuRd3mUlK+lLXw7gAC7kQs7mbIKr7GjyZHjyyaTixfTp8PHHsGpVkjTRo0eSFHHQQXDGGTB8eLJsSVMZPjxZpuX3v0+SOObMgfXrYbvtkmocl1wCh9ez4uYBByTLq9x5Jzz0EMyaBWvWQP/+8IUvwJgxMLJ+7x9JkqTWKGxaS16qzWWPvO9J0g7cfvoeXsnnkRDCeODrwP0xxosy7O8PfBcYBewC9ADKgI+BfwNPAP/YssxvCGEuMBS4OMY4vpa5LwC+DewDdAcKgHkxxmGN/sJSKh/6td+XlLdm//i2XIcgNZvdZn7k7xtZvLD46Xb/8+2oASd4jkhqlfL6GivQ7n/+KH8Fz27lsYiZWe2E38kkqe1p0M9oEzdUJxM32gcTN9SWmLihfGbihvKZiRvZmbhh4oYk5YSJG8pjJm4on5m40W74nUyS2p4G/Yx2kW1JkiRJkiRJkiRJkqQcMXFDkiRJkiRJkiRJkiQpR0zckCRJkiRJkiRJkiRJyhETNyRJkiRJkiRJkiRJknLExA1JkiRJkiRJkiRJkqQcMXFDkiRJkiRJkiRJkiQpR0zckCRJkiRJkiRJkiRJyhETNyRJkiRJkiRJkiRJknLExA1JkiRJkiRJkiRJkqQcMXFDkiRJkiRJkiRJkiQpR0zckCRJkiRJkiRJkiRJyhETNyRJkiRJkiRJkiRJknLExA1JkiRJkiRJkiRJkqQcMXFDkiRJkiRJkiRJkiQpR0zckCRJkiRJkiRJkiRJyhETNyRJkiRJkiRJkiRJknLExA1JkiRJkiRJkiRJkqQcMXFDkiRJkiRJkiRJkiQpR0zckCRJkiRJkiRJkiRJyhETNyRJkiRJkiRJkiRJknLExA1JkiRJkiRJkiRJkqQcMXFDkiRJkiRJkiRJkiQpR0zckCRJkiRJkiRJkiRJypGiXAcgSa1FCGEbYDhwGLAvMBTYBugCrANWAPOAt4FXgakxxlW5iVaSJEmSJEmSJElSPjBxQ1K7FkLoApwLXAgcxdaViELquRvQB9iFJLkDoCqE8DzwB2BCjHFd80csSZIkSZIkSZIkKZ+4VIqkdimE0DuE8AtgAXAXcAxQSJKokf5YAywCSjPsKwSOA+4BFoQQfh5C6N2yX4kkSZIkSZIkSZKktsyKG5LalRBCR+AHqUd3aipqfAa8ALxCsgzK+8DKGGNF2rFFQG9gD5LlVA4jqdLRL/X6fwKXhRBuAm6JMZa3xNckSZIkSZIkSZIkqe0ycUNSe/MesANJwkYZ8BjwJ2BKjLEy24GpJI6lqcdzACGEQuBE4ALgVKAHcD1wMcmyKpIkSZIkSZIkSZJUKxM3JLU3OwIrgV8Dv4kxrmnMYKlkj8nA5BBCd+BK4KrUPJIkSZIkSZIkSZKUVUGuA5CkFvZfwLAY4w2NTdrYUoxxTYzxBmAYcG1Tji1JkiRJkiRJkiQpP1lxQ1K7EmP8eQvMsQZo9nkkSZIkSZIkSZIktX1W3JAkSZIkSZIkSZIkScoREzckSZIkSZIkSZIkSZJyxKVSJOlzCCHsBRxJ8v1zeozxxRyHJEmSJEmSJEmSJKkNM3FDkoAQwnbA91Ob42OMb2focwfwrS1eex4YHWNc2fxRSpIkSZIkSZIkSco3LpUiSYlzge+RJGbM2XJnCOH/AJcAYYvHMcBfWy5MSZIkSZIkSZIkSfnExA1JShyTen42xliaviOEUAT8OLW5AbgFuBz4N0nyxvEhhJNaKlBJkiRJkiRJkiRJ+cPEDUlK7AhE4NUM+44H+qf2Xxpj/GGM8XfAF4FFqT7ntUiUkiRJkiRJkiRJkvKKiRuSlOibep6bYd/xqecS4E+bXowxrgX+TFJ14+DmDE6SJEmSJEmSJElSfjJxQ5ISvVPPazPsO5Kk2sYzMcaKLfZ9mHoe1FyBSZIkSZIkSZIkScpfJm5IUqI89dwz/cUQQmdqqmm8kOG41annTs0UlyRJkiRJkiRJkqQ8ZuKGJCUWpZ4P2OL14dQkZbyU4bheqefS5ghKkiRJkiRJkiRJUn4zcUOSEq8AAbgghLATQAihEPh+av8q4PUMx+2Rep7f7BFKkiRJkiRJkiRJyjsmbkhS4r7Ucy/g3yGER4DpwDFABP4YY6zMcNzRqf3vtEiUkiRJkiRJkiRJkvKKiRuSBMQYnwPuIam60Qv4CjXVND4Brt/ymBDCMOCQ1OaLzR6kJEmSJEmSJEmSpLxj4oYk1bgEuAp4FygnWR7lr8BRMcZlGfpfltZ+svnDkyRJkiRJkiRJkpRvinIdgCS1FjHGCPwm9aiPXwG3pQ6d32yBSZIkSZIkSZIkScpbJm5IUgPFGBfnOgZJkiRJkiRJkiRJbZtLpUiSJEmSJEmSJEmSJOWIiRuSJEmSJEmSJEmSJEk5YuKGpHYlhPCbEMK2zTzHgBDCb5pzDkmSJEmSJEmSJEn5wcQNSe3NFcCcEMJ/hxAGNuXAIYTtQgi3AnOAy5tybEmSJEmSJEmSJEn5ycQNSe3NNKALcCUwL4QwKYRwfgiha0MGCyF0TR0/GZhLkhjSOTWPJEmSJEmSJEmSJGVVlOsAJKmFHQx8G7gWGAB8KfVYF0L4N/Aa8CrwIbACWBFj3BBC6Az0Tj12Aw4DDk2N1yU1dgAWA2OBu1ro65EkSZIkSZIkSZLUhpm4IaldiTFG4I4Qwv3AZSQVMrYHugLHpB6bCSFUAoW1DBlSz/OBW4E7YozrmzpuSZIkSZIkSZIkSfnJpVIktUsxxnUxxluAHYHTgb8B60gSMbZ8FNXy+lrgYeA0YMcY460mbUiSJEmSJEmSJEn6PKy4IaldizFWAo8Bj4UQOgJHkiyDsjcwlGRplE7ABpKlU+YCM0iWU3kpxlieg7AlSZIkSZIkSZIk5QkTNyQpJZWE8WzqIUmSJEmSJEmSJEnNzsQN1en20/cIuY5BkiRJyndHDTjB37slSZIkSZKkdqgg1wFIkiRJkiRJkiRJkiS1VyZuSJIkSZIkSZIkSZIk5YiJG5IkSZIkSZIkSZIkSTli4oYkSZIkSZIkSZIkSVKOmLghSZIkSZIkSZIkSZKUIyZuSJIkSZIkSZIkSZIk5YiJG5IkSZIkSZIkSZIkSTli4oYkSZIkSZIkSZIkSVKOmLghSZIkSZIkSZIkSZKUIyZuSJIkSZIkSZIkSZIk5YiJG5IkSZIkSZIkSZIkSTlSlOsAJKm1CiEMAfYAtgE6xhgfyHFIkiRJkiRJkiRJkvKMiRuStIUQwiXA1cAuW+x6YIt+PwGOBRbGGMe0UHiSJEmSJEmSJEmS8ohLpUhSSgihOITwFPB7kqSNkPbI5BVgOPD1EMJeLROlJEmSJEmSJEmSpHxi4oYk1fgLcAJJosbHwI3AHVn6PwMsTrW/3LyhSZIkSZIkSZIkScpHJm5IEhBCOAk4GYjA/cDuMcafAE/WdkyMMQJPkSR6HNUScUqSJEmSJEmSJEnKLyZuSFLia6nnmcA3Y4wV9Txueup5j6YPSZIkSZIkSZIkSe3Bxo0bueuuuzjhhBMYOHAgnTp1YvDgwZxyyilMmDCB5PPETeuzzz7j+uuv56CDDqJ379507dqVnXbaiTFjxvDKK6987vEqKyuZOHEi55xzDjvvvDPFxcX06NGDXXbZhVGjRnHTTTcxa9asJv868kFojn9gSWprQgjzgMHAT2OMN6a9firwCEmBjcIMx50H/BEoizF2b6l427vKh37tDy/lrdk/vi3XIUjNZreZH4VcxyBJkrYQ8PpKeSt4diuPxaQKsPKf38mkdmLu3LmMHj2aadOm1dpn+PDhTJw4kV69ejXJnFOnTuX8889n6dKlGfeHELjmmmu4+eab6zXetGnT+MY3vpH1awC48sorufXWWz93vG1Ig35GFzV1FJLURvVPPc/+nMeVp547NmEskiRJkiRJkiRJagdWrVrFqFGj+OCDDwDYY489GDNmDIMHD2b27NmMGzeOBQsWMHXqVEaPHs2UKVMoKmrcn/nfeOMNTj31VNauXQvAiSeeyBlnnEFxcTGvvfYa99xzD2VlZdxyyy106tSJG264Iet4L774IieddBIlJSUAHHfccYwYMYIhQ4ZQWFjI4sWLeeONN/jHP/7RqLjzmRU3JAkIIawEegAXxhj/nPZ6XRU3vgPcDiyNMQ5oqXjbOytuKJ9ZcUP5zIobkiS1QlbcUB6z4obymRU32g2/k0ntwFVXXVVdgWLkyJE88sgjdO7cuXr/ihUrGD58eHUli9tuu43LLruswfPFGDn44IN58803ARg7dizXXXfdZn2mT5/OMcccQ0lJCQUFBbz11lvss88+GcdbsmQJe+21F8uXL6dv375MnDiR4447LmPfyspKli5dysCBAxscfxvQoJ/RBU0dhSS1UZ+knvf4nMcdnnqe04SxSJIkSZIkSZIkKc8tXbqU3/3udwB069aN+++/f7OkDYDevXvzwAMPEEKSD3DDDTdQWVnZ4Dkff/zx6qSNww47jGuvvXarPvvttx833ngjAFVVVfzsZz+rdbwrr7yS5cuXU1RUxKRJk2pN2gAoLCzM96SNBjNxQ5ISz5FkwH01hFCv740hhG2BM0iynp9txtgkSZIkSZIkSZKUZx599FHKy8sBOPfcc+nfv3/GfnvvvTfHH388AIsXL+a5555r8JwTJkyobl9xxRXVCSFbuuiii+jRowcATzzxBGVlZVv1mTdvHhMnTgTgwgsv5OCDD25wXO1d4xa/kaT88QBwKbAT8HPgR9k6hxC6AH8GugAVwD3NHaBq/OPbv8x1CFKzOfm5CXV3kiRJkpqIS0kon0UXklA+8/u36mkRP8l1CMojg/h5rkPYSls/xx+b8nB1+5CRK7J+PYePjDz9dNKeOPkn7JZK5Pi8Jk95tLq974jXWcR7mTt2hUOO7s/TT5Swbt06Hn5uDCectPNmXf7n/n9RVVUFwMgLNrT5f49cnuNW3JAkIMb4CvBXkqobPwwh/DWEcBjQIb1fCGFQCOFiYBpwHMkl0u9jjC6VIkmSJEmSJEmSpHr7cMZn1e19DxqQte++B9csMZJ+3OexdHEpK5evA2Dw0J707tu1jjlrYso056vPLwAgBNjvkIGUrF7Pb254gRP3u5vdut/Cbt1v4Yt73slPLpvM7A+WNSjm9sKKG5JUYwwwFDiMZAmUM1KvR4AQQgVJYscmAZgKXNOCMUqSJEmSJEmSJKmNq6qKzPtoFQCFhYGBg3tk7T94aM/q9pyZKxo0Z/pxg4f1zNKzfnO+/fqnAPTo2Zm5s1cy5tSH+GRByWZ9Zr2/nFnvL+ePd07jBzccy+X/eUSDYs93Jm5IUkqMcW0I4Vjgl8B3gI7pu9m8SlE58D/Aj2KMFS0XpSRJkiRJkiRJktq6stJyKiqSZUZ69OpMUVH2xTK26dOlul2yan2D5kw/rnffLll61j3n+vUVlKzeACRJKF87aQJLF5exwy69+erF+zJ0p16sXL6OJx+bxXNPzqGyMvL/fvRPOnYs5JKrD2tQ/PnMxA1JShNjLP//7N15nFdV/fjx15kNhmEZBATFhUDNBTXRNHND0oCvmhtiaiqa4ldbvqa/7KupQGbWtyyz0kBTNHczxRYQlTDTwhBSEVERAbWUfZmBYbbz++N+mPkAM59ZYbbXcx73cc+999xz3gP3MTP3ft73HOBbIYQfAaOBY4ABQA+gCPgIeAF4JMb4YUvFKUmSJEmSJEmSpLaruKi0qtypc90f23fOr65TvL40Q81MfZY1sM/cWvtMT+RYv24T69dtYvip+3DnY6eTl5dddeyCyw/lt7+ew7WXTwPglv/9CyeftR+77p55hJGOJnPajiR1UDHGj2OMt8cYz4oxfjbGuE+McUiM8ZQY409M2pAkSZIkSZIkSVJHVVkZt9ju2Sufn9138hZJG5ud/99D+K8zPw1AWVkl9985Z4fE2JY44oYkSZIkSZIkSZIkSc1g4YIVLFywstbjBw7pR/89elDQNa9q36aS8jrbLdlYXaegW16GmrUr6Fo9gkb9+qweoWPrPrtutf2ls/eje4/OtbZ13thD+PMTbwPwt+cX1yfcDsXEDUkCQggzgAjcEGN8uQHnfRb4ERBjjF/YXvFJkiRJkiRJkiRpS/25uaVD2MZdj4xnwoRJtR6/9957OXzMGCq7VpKT83PKy8tZt6aUvuUTyMmp/eP791e+D9wKwE6Fuzbqex9U+FfgdwAUr+hXdxsr762qv0vh0VvUj11jVfwAxx76Nfpzca1NDT90JfAIAB+8t6lV/t+1JKdKkaTE0NTSu4Hn7ZR2riRJkiRJkiRJklSnrKwsBg0aBEBFRQUffvhhxvpLliypKu+zzz6N6jP9vMWLF9dZP1OfIQT23nvvqu0ePXpkbCv9+Nq1a+vsu6MxcUOSJEmSJEmSJEmSpGYwfvx4Yoy1LmPGjKmqO3jw4Kryq6++mrHd2bNn13heQ/Tr149evXoBsHTpUlasWNGkPg866KCqcl3JGOnH60ry6IhM3JCkpumUWpe2aBSSJEmSJEmSJElqU4YPH15VfuaZZzLWnTZtWlV5xIgRTe4zxsj06dNrrbdhwwZefPFFAPLz8znuuOO2qTNy5Miqcl2JJ+nHGztiSHtm4oYkNc3mVMJVLRqFJEmSJEmSJEmS2pTTTjuNvLw8AB5++GGWLVtWY7158+YxY8YMIBk1o6Ykivo6++yzq8q33347McYa602ePJl169YBcNJJJ1FQULBNnVNPPZUuXboA8Oijj2YcdWPSpElV5aYknrRXJm5I6nBCCHuEEI5NX9IOD976WA3LcSGE/wohXA9cA0TgXy3z3UiSJEmSJEmSJKkt6tOnD1dccQUARUVFjBkzhpKSki3qrF69mgsuuKAqweL6668nOzu7xvaGDh1KCIEQApMnT66xzimnnMKQIUMAmDVrFjfddNM2dV5//XWuu+46ALKysrjxxhtrbKuwsJCrr74agJUrV3LhhRdSWrrtIPUTJ07kiSeeAKCgoIDLL7+8xvY6spyWDkCSWsBFQE2/YQKw7W+nzAJJ4sZ9TQ1KkiRJkiRJkiRJHcu4ceOYNm0aCxYsYOrUqQwZMoRLLrmE/v37s3DhQiZOnMgHH3wAJIkZY8eObVJ/IQQmTZrEsccey4YNGxg3bhwvvfQSo0aNoqCggFdeeYW7776b4uJiAK699loOPPDAWtv73//9X6ZOncrs2bOZMmUKgwcP5uKLL2bgwIGsXr2ap556aotpXiZOnEifPn2a9D20RyZuSOqoQgP316YM+EmM8bEmxiNJkiRJkiRJkqQOprCwkKlTp3LGGWcwd+5c3nrrrapRLNKdcMIJPP744+Tm5ja5z0MPPZQpU6Zw7rnnsnz5cqZPn8706dO3qBNC4KqrrqpxRI50Xbp04c9//jOjR49m5syZvPvuu1x77bXb1MvPz+fOO+/kvPPOa3L87ZGJG5I6opk17BtHMnLGY8CCOs6vBIqA94EXY4wrmzU6SZIkSZIkSZIkdRgDBgxg1qxZTJ48mUceeYQ333yT1atX07t3bw455BDOP/98Ro8eTQgNff+4dieccAJvvvkmd955J1OmTGHRokWUlJSw6667cuyxxzJ27FiOPPLIerXVp08fZsyYweOPP85DDz3EnDlz+OSTT8jPz2fgwIGMGDGCr3/96+y6667NFn97EzbPhSNJHVkIoZIkceP0GOPTLR2PMvtDr37+8lK7ddILj7Z0CNJ2kzX4uOa7s5QkSc0iJPfCUrsU/etT7Vls8MjBapua/Hv6I77bHHFIAPTn5pYOQWoLGvU72hE3JCkxIbWua7QNSZIkSZIkSZIkSWo2Jm5IEhBjnFB3LUmSJEmSJEmSJElqXlktHYAkSZIkSZIkSZIkSVJHZeKGJEmSJEmSJEmSJElSC3GqFEnaSgjhGOB84AhgN6A7dSe6xRijP1MlSZIkSZIkSZIkNYgfMkpSSvu4wwUAACAASURBVAihK3A/cOrmXS0YjiRJkiRJkiRJkqQOwMQN1elrT74VWzoGbX+/On0/kxTgMWA4ScJGMfAG8DkgAvOBjcCeQJ9U/Qi8mqorSZLUJJ/+2Qj/7la78fa3pnl/IUmSJEmSVE91Df0vSR1CCOFkYERq83Fglxjj59OqfDfGeHiMsS9wKDCFJMEjH/hqjPH4HRqwJEmSJEmSJEmSpHbBxA1JSpyXWq8CxsQYi2qrGGOcG2M8HbgZOACYEkLovANilCRJkiRJkiRJktTOmLghSYkjSKY++W2McWMNx7cZ6jnGeAPwL2B/YOz2DU+SJEmSJEmSJElSe2TihiQldk6t39lq/+a55msbUeNBkqSOs7ZHUJIkSZIkSZIkSZLaNxM3JCmRk1ov32r/5ilT+tRy3gep9V7NHpEkSZIkSZIkSZKkds/EDUlKrEytC7ba/0lqvW8t5/VLrXs2e0SSJEmSJEmSJEmS2j0TNyQpsSC1HrTV/tdIpkI5OYRQ08/MM1LrlTUckyRJkiRJkiRJkqSMTNyQpMTfSRI0Dt9q/5TUenfgrhBCd4AQQkEI4WfAsUAEXtxRgUqSJEmSJEmSJElqP0zckKTEtNT6uM3JGSmPAQtT5THA8hDCv4G1wDdT+yuBn+6IICVJkiRJkiRJkiS1LyZuSBIQY/wbcB/JCBsHpu0vBc4EVpCMyJEL9CP5+RmACuAbMcZXdnTMkiRJkiRJkiRJktq+nJYOQJJaixjjRbXsfyOEsC/wDeALQF9gA/BP4I4Y42s7LkpJkiRJkiRJkiRJ7YmJG5JUDzHG1cD3UoskSZIkSZIkSZIkNQunSpEkSZIkSZIkSZIkSWohJm5IEhBCuCe1fKaB5w1Onfeb7RWbJEmSJEmSJEmSpPbLxA1JSowBLgT2aOB5/VPnjmnecCRJkiRJkiRJkiR1BCZuSJIkSZIkSZIkSZIktRATNySpaXJS6/IWjUKSJEmSJEmSJElSm2TihiQ1zadT6zUtGoUkSZIkSZIkSZKkNimn7iqS1L6EELoDhbUc3jmEsEddTQAFwBDg20AE5jVfhJIkSZIkSZIkSZI6ChM3JHVE3wJurGF/ACY2sK1AkrjxaFODkiRJkiRJkiRJktTxmLghqaMKDdyfySPAXU2IRZIkSZIkSZIkSVIHZeKGpI7oX8B9W+27kGTkjJnA0jrOrwSKgPeB52OMbzR3gJIkSZIkSZIkSZI6BhM3JHU4McYpwJT0fSGEC1PFn8cYn97xUUmSJEmSJEmSJEnqiEzckKTE/SQjbtQ12oYkSZIkSZIkSZIkNRsTNyQJiDGOaekYJEmSJEmSJEmSJHU8Jm5IUgOEEAKwN8nPz/dijJtaOCRJkiRJkiRJkiRJbVhWSwcgSa1BCKFLCOFLqWX3WuqcA/wbeAt4A1gWQhi/A8OUJEmSJEmSJEmS1M444oYkJUYBk4EKYODWB0MIw4EHNm+m1t2AG0II3WKMV++IICVJkiRJkiRJkiS1L464IUmJE1PrWTHGD2o4/mOShI0AzAZ+B6xNbf9PCOHgHRKlJEmSJEmSJEmSpHbFxA1JSuwPROCvWx8IIQwBBqeO/zTGeHiMcTTwWaCYJHnj4h0YqyRJkiRJkiRJkqR2wsQNSUr0Sa3fruHY8NS6DLh5884Y40LgMZLEjaO3a3SSJEmSJEmSJEmS2iUTNyQp0Tu1XlfDsc1JGS/HGFdvdeyfqfWntktUkiRJkiRJkiRJkto1EzckKRFS6/wtdoYQgCOpZRoVYEVq3XX7hSZJkiRJkiRJkiSpvTJxQ5ISy1PrfbbafzhQmCq/XMN5XVLrku0RlCRJkiRJkiRJkqT2zcQNSUr8i2TUjXNCCOmjblyaWpcBL9Vw3sDU+j/bMTZJkiRJkiRJkiRJ7VROSwcgSa3E48DJwF7AzBDCQ8ABwMUk06T8KcZYXMN5R6TWb+2QKCVJkiRJkiRJkiS1KyZuSFLiQeAbwGFpy2alwPitTwghdAeOJ0ns+Mf2D1GSJEmSJEmSJElSe+NUKZIExBgrgZHAlNSukFr+DYyKMb5Rw2ljgLxU+bntHaMkSZIkSZIkSZKk9scRNyQpJca4Ejg9hNAHGAhsAN5MJXXUZAFwUXJqnL2DwpQkSZIkSZIkSZLUjpi4IUlbiTEuB5bXo970HRCOJEmSJEmSJEmSpHbMqVIkSZIkSZIkSZIkSZJaiIkbkiRJkiRJkiRJkiRJLcTEDUmSJEmSJEmSJEmSpBZi4oYkSZIkSZIkSZIkSVILMXFDkiRJkiRJkiRJkiSphZi4IUmSJEmSJEmSJEmS1EJM3JAkSZIkSZIkSZIkSWohJm5IkiRJkiRJkiRJkiS1EBM3JEmSJEmSJEmSJEmSWoiJG5IkSZIkSZIkSZIkSS3ExA1JkiRJkiRJkiRJkqQWYuKGJEmSJEmSJEmSJElSCzFxQ5IkSZIkSZIkSZIkqYWYuCFJkiRJkiRJkiRJktRCTNyQJEmSJEmSJEmSJElqITktHYAkSaq/GCN/K93EX0o38n55OWtjJd1CFrtn53BsXie+0Cmf7BCatb/ZZaW8UFrCu+VlrK6spIxIlxDon53D4JxcTuyUzy7Ztf9JsSlG5pWV8m5FGQvLy/i4soJ1lZGiWEkugcKsLAbl5PD5vM4cmdupWeNX2xFj5LFn/sIDf5jOawsWsnz1Wnbq0Y39Bw3g7JHDGHPqCHJymudP1w0bS3jt7fd49c23eXV+six4fykVFZUAPH/Pzxj62UPqbOei797C/U8/0+D+b7z8QsZdcVGDz5MkSdJ2tmwZTJsGM2fC3Lnw/vtQXAzdu8PAgXDssXDJJbDffs3f9/Ll8Otfw1NPJf2WlMAuu8Bxx8HYsfC5z9W/reJimDgRnngC3n0X1q2Dvn2TNi6+GIYPb/741apUUMFbvMVsZvMqrzKb2bzGa2xkIwDjGMd4xjd7v8UUM5GJPMETvMu7rGMdfenL5/gcF3Mxw6n/tVdGGZOZzCM8wnzms4pV9KEPh3AIX+ErjGY0AZ8fSJKk9sPEDUmS2oiiykp+WLSW18tLt9i/OlayuryU18tLmbppI9d1LaRPdnaT+1tXWcmPitbwRnnZNsfWx8iC8jIWlJfxVMkGzsvvypn5BTW2M6+slAlFa2o8Vk5kY2UF/ymt4G+lmxiQncM1XXuwW4ZEELU/q9euZ/TV45gxa84W+z9esYqPV6xixqw5THz0aZ74+U3ssUvfJve354mjWbV2XZPbaaxP7bZri/UtSZKkWnzzm3DHHVBRse2xVauSZfZsuO02+Na34Ec/gma47wLguefgvPOSxJF0ixYly+TJcPXV8OMf193W3LkwalRyXrqlS5PlsceSvu65B/Lymid+tTqjGc3v+f0O7XMucxnFKBax5bW3NPX1GI9xHudxD/eQR+ZrbzGLOYMzmMvcLfZ/lPr6I3/kbu7mcR6nkMJm/14kSZJagp+KSJLUBpTFyPeL1jA/lUTROyuL4Z3y2SUrh5WVFTy3aSMfVFbwXkU544tW8+PuO9ElNH5GtIoYGb9+NQsrygHIA47vlM+nsnMoCIEVlZX8s2wT88vLKAfu21hEfgj8V+cutba5e3Y2+2Tnslt2Dr2yssgLgaIYWVRexoulJayPkcUV5Vy7bjW399iJnlnN9BBUrVppWRmnf/O7vDjndQB277czl446mUF79OejT5Zz75NTeWvREua89Q4nXf4dXnrgV3TvWnOSUH1VVG75MH6PXfpSWlbGxytWNaidb5x3JqcOO7rOeguXfsR3fvprALoVdGHUicc1qB9JkiTtAPPnVydtHHAADBsGBx4IhYVJQsWf/gRTp0JlJdx6K6xdC3fd1fR+X30VTj0VNmxItk88Ec48E7p2hVdegd/8JhlB4yc/gU6d4Pvfr72tJUtg5Ej45JNk+/DD4Stfgd694Y03YNIkWLkSHnwQQoDf/rbp8atVqmDLe56d2Ile9OJd3t0u/S1hCSMZySck197hHM5X+Aq96c0bvMEkJrGSlTzIgwQCv6X2a28NaxjJSBawAID92I+LuZjd2I2FLGQSk/iAD3iO5ziDM5jOdHL8mEOSJLUD/kUjSVIbMHXTxqqkjUHZOdzUrSdds6oTM07q3IWbi9Ywt6yUDyoqeHRjMRd16dbo/v5aWlKVtNE7K4sfdtuJnbd6m+zM/AKeKdnArzasB+ChjUUMr2Gqlr1zcplc2JudakvE6JTPefldmbB+De9UlLE2VvLwxmKuKOje6PjVdvz60SlVSRtD9tuH6XfdSs8e1dfu1845ndP/53qmv/RP5r+3mO9PvJ//u/ryJvX5peOP5tMDdmfI/vtw6P770LtnYaOmPRmy/z4M2X+fOutd+7OJVeXRI46nS37nBscsSZKk7Sw7OxmJ4lvfgkMP3fb4174Gv/sdnHMOlJfD3Xcn5WHDGt9njMk0KJuTNsaPh3Hjqo+fd14ytcmxxybTndxyC5x9dpJQUpMrr6xO2rj44iSxZPN94znnwGWXJW0tXQoPPABf/jKcdFLj41erdTiHsx/7cWjq61N8islM5iK2z5SNV3JlVdLGxVzMXdxFFsm1dw7ncBmXcSzHspSlPMADfJkvcxI1X3sTmFCVtDGCETzJk3Sm+h7qCq7gBE5gLnP5C39hIhP5Gl/bLt+XJEnSjtT4V3ElSS0ihDA0hBBDCHE7tD0+1fbM5m5bjVcRI49vLAIgAN8q6LFF0gZAXgh8q6AHnVPzu/6xZAPrKisb3eecsurpWEZ1LtgmaWOz4Z27sFdqWpN1MfJBKtkjXfesrNqTNlK6ZWVxeUH1h/WzyzY1Jmy1MeXl5fzgrgcACCEw+QfXbpG0AdC5Uyfuu/k6ClLJDr986PesXLO2Sf1Ovvlarr30Kww/6nB699y+w+pWVFTw2z9Mr9oec9rI7dqfJElqOO+xBMAjjyTJDDUlbWw2ahT8z/9Ub993X9P6fPppmJOaLvCII+DGG7etc/DBScIGJKN9fO97Nbf12mvw1FNJeY894Fe/qk7a2GzPPeHOO6u3x49vUvhqva7jOm7hFkYxik/xqe3a12u8xlMk194e7MGv+FVV0sZme7Ind1J97Y1nfI1tLWMZd3AHAAUUcB/3bZG0AcnoIfdzPyH1/OP7fH+bEUYkSZLaIhM3JEnNJoRwWurB5GktHUt78np5KWtj8gz5oJw89sipecCswqwsjunUCYAyYFYTkh/WpiV97FLHvM27ZlfHU0Ljn3XvkdbOmiYknajtmPHKXJavWgPAsCOGcMBeNT9Q3LlXT84embzJuKm0jCl/eWmHxdhU0156hf8sXwnAvp/ag89/ZnALRyRJktoS77F2oJ4961fvrLOqy2+80bQ+H320uvyNbyTTl9RkzBjonhqR8E9/SqZOydTW2LHQuZZR3kaOhL32SsqzZ8OiRQ0OW0r3KNXX3ljGbpNosdlIRrIXybU3m9ksYttr7ymeopTkRZJzOIed2bnGtgYzmGEk94gf8zEv8EKTvgdJkqTWwMQNSWp7NgBvp5bW5jRgXGqtZjI3bfSLIbl5GesOye1UVZ7ThMSNwrQ3s/5TkfnNlX+nRtnIAvpnNX4Wtv9UVvdTuPWbYWqXnn35n1XlEUcfnrHu8KOqjz/zt1e2W0zN7d4np1aVHW1DkqRWy3ss1V+3tBHiNm5sWlvTq0dmY/jw2ut16QLHHFPd5ws1fEid3taIEbW3FcKWfU2bVr9YpVpMp/raG0Ht114gMJzqa28a21579W1r6+M1tSVJktTW+KmIJLUxMcZXYoz7xhj3belYtGMsSZt+ZK+c3Ix198quPr60fNtpS+rriLzqBJDflRSzrJbkjWdKNrAwFd/xeZ3p1siEi5IYuat4fdX2kbm1vB2mdmXewverykP23ydj3cMO+HRV+c2081qzFavX8MeZLwOQk5PN+V/6YgtHJEmSauI9lhpk3rzq8p57Nr6djz+GlSur2+ndO3P9ww6rOQZIplCZPz8p5+Qk06s0ti2pASqpZD7JtZdDDgeT+do7jOprbx7bXnvp+w4lw7RF9WhLkiSprWn8a7GSJGmH+Hda0sTOWZmnLemdlcwkWwn8u7KCGCOhtuF2M/h8bic+l9uJf5RtYkVlJVesXcHxnfL5VHYOXUMWKyoreKVsE/PLywD4XG4nxhZ0q6NV2BgreS01gkgENsTI4opyXtxUwqqYTI/yqewczskvaHDManveXfxhVXnArv0y1t2tbx+ys7OoqKjk3aUfNvra3pEe/OOzlKUSqEYcfQT9evdq4YgkSZLUZJMmVZdPOqnx7bzzTnV5wIC666cniaSfC/Dhh9Wjf/TvnyRvNLYtqQE+5EM2klx7/elPTh0fN+xJ9bX3Dltee5VU8h7vAZBNNruxW6PbkiRJaosccUOSWpEQwswQQkzNYZwbQrg6hDA7hLAmtX9oaokhhJihnQNDCI+GED4OIZSEEBaFEH4RQti5PuentfOFEMKfQgjLU+28FUIYF0LovFW9oan2LkztunBzH2nL0Cb943RgxamEBoDuWZk/qM4OgS6pD7MrgBLq/G+uUQiB73TtwVmdC8gnUAo8s2kjv96wnp8Ur2XyxiLml5cxKDuHG7oWcm3XHuSHuv+sWFlZyQ+K1vKDorXcUrSWnxevY0rJBlbFSrqFwKmduvB/3Xeiq1OldAhr1hdVlXv37JGxbk5ODt0LkoSe8vIKips6LPUOMPmp6uF6L3KaFEmSWoT3WGpWjzwCzz+flPv2hYsvbnxba9ZUl+sabQOgV1oScPq5zd2W1ABrqL5+elP3tdeL6msv/VyAIoooJ0l8L6SwziSQTG1JkiS1RX4qIkmtU2dgJvAT4GCSARTq9Ql8COF04FVgNNAXKAN2Ab4O/AsYUM92vg08C4wkGaEpD9gXGA/8OYSQPvRDKfAJUJLaLkltpy+l9elX2yqJ1f/1edQ9wkB6nY2xcYkbkCSBnN65C1/OL6C2CVreqyjniZJiFqRG3miKfXNyOSA3l7wmt6S2omhDdfJF57y6/+fzO1dP4bO+uHUnbrz65tu8/k7yttjOO/Xk5OOObOGIJEnq8LzHUtPMnw9jx1Zv/+IXUNCEkQKLqpOY6VyPqSLz86vL69dveaw525IaoIjqa68zdV97+VRfe+vZ8tprzrYkSZLaIhM3JKl1+hpwEHAR0D3GuBPQB3g900khhIHAA0AuMAc4LMbYDegCnEjyYO+n9ej/YOCHqWXnGGNPoBD4Xur48VS/+UWM8eUYYz/g0dSuR2OM/bZaXq5Hv2pFXi3dxKVrV3DvxiL2zcllQrdCHi7swxM9d+bXPXpxfn5XOhOYX17GDetX84/Skjrb3C07h6d36svTO/XlyZ47c39hH27oWsghuXn8s6yUHxSt5UdFa7dIVpHaoslPTa0qf+WUE8mpa7hqSZK0vXmPpcb7+GM45ZTqJIcrroCzzmrZmCRJkiS1Kz5BlqTWqSvwpRjjHzbviDGuhGQKiwyuI3mAuAw4Mca4KnVuBJ4LIQwHXqtH/4XAhBjj+LT+1wHjQgiDgTOAc4B7GvA91SmE8Gp96j29U9/m7LbV6xwCRalEhlIi+XWMulGa9uJgfubrpVavlm7ipqI1VAKfz+3ENV17kJXW1q7ZOZyVn8PBuXlcu24VpcDPitbx68JcemZl19puuuwQKAyBz+Z14rN5nXhgQxGPlRTzctkmQvFavtO1sFGxq+3o2iWf1euSh98lpaV0rSO5YWPJpqpyt4L8DDVb1qbSUh7+8/NV2xed/l8tGI0kSUrpcPdY9b2/oj0nTS9YkCy1GTIE9tgjcxurVsEXvwiLFiXbo0bB7bc3PbauXavLJXUnwZM+VWC3btuvLakBulJ97ZVQ97W3keprrxtbXnvN2ZYkSVJb5IgbktQ6vZn+QLE+QvK08czU5p2bHyimizG+DTxWj+Y2kQwhXJMpqfVBDYlPjVcQqn9dr6vM/FC1IkY2pB685gCd6zG1Sk3u2bieSpI/FC4t6LZF0ka6fXJy+UKn5AP0jUSe31SPh4S1ODe/gP6ppI+XSjextKK80W2pbSjsVv1gbsXqtRnrlpeXs664GIDcnBwK8ltv4sZTM/5WlZByxEH7sf+gAS0bkCRJAu+xOqZHHoHTT699mTEj8/lr1yZJG2+8kWyfcgo89BBk1y9ZPaPCtET1FSvqrr9yZc3nNndbUgMUUn39rKDua28l1dde+rmQJG7kpN4zXcMaysn8TCBTW5IkSW2RI25IUuv0UiPOGQhVd6ovZKg3Ezi/jrbejDEW1XLs36n1TvUPrX5ijIfWp94fevVrx6+EbWvX7Gw+qawAYFllBX0zPCRcUVlJZaq8S1Z2XW8P1ujjigo+qEj62z07h151jKBxcG4e0zYlb7q8U17W4P42ywqBg3Pz+CjV1ryyUvbI9k+V9mzvAbvx/kf/AWDxvz9mQP9daq374SfLqahIru699ujfqGt7R7n3yeppUsac5mgbkiS1Eh3uHqu+91cBOtT9Vb2tXw/Dh8OrqYFLhg+Hxx+H3NzmaX+ffarLixfXXX/JkprPBdhtN8jPT0bS+OgjKC+HTKPZZWpLaoDd2I188tnIRj7iI8opr0q+qMkSqq+9fdjy2ssii0EM4m3epoIKPuRDBjCgUW1JkiS1RY64IUmt07JGnNMnrfzvWmvBR/Voa32GY5tfefAT9R1kz7TkhYV1JEYsrKg+vkcd007UZlUqSQTqN9VKl7Q6m5o4zHJ6f8XtechmATB4r09VlefMfydj3dlvvl1VPiDtvNbmw4+X8fw/kof7XfI78+WRw1o4IkmSlOI9Vkc0fnwyFUxty5gxNZ9XVAQjR8KsWcn2sGHw1FPQqVPzxdavH/TqlZSXLq17pIzZs6vLgwdveSwrC/bfPymXl8Nrdczek6ktqQGyyGJ/kmuvnHJeq2PmqNlUX3uD2fbaS9/3Kplne6qrLUmSpLbGxA1Jap0q6q6SkZ94tyOH5OZVleeWlWasO6dsU1V5SG7jHiqmJ2KsqKz7UlxeUV2nW1bT/rT4T1pb3VvxiApqHl/8/OFV5Wde+mfGus+89EpVefjRh2eo2bLumzKNyspkZJAzTjiW7l0LWjgiSZKU4j2W6mfDBjj5ZHgpNUjLscfCH/4AnTs3f1/DhyfrGGH69MwxvfhiUs7Ph+OOq70tgGeeqb2tGLc8PmJE/eOVajCc6mvvGWq/9iJxi+Mj2Pbaq29bANOYlrEtSe1PWVkFD941l7O/8CBDdvk5Azv9iMN2+wVjTnmMpx+dT2zml8AqKir5/YPz+Oppv+Ow3X7BwE4/4oCdfsoXP3M3/3f9TD5amnna37qsWb2RQ/r9nN3CD6qWDxavaaboJbVFJm5IUvuxPK28a4Z6/bd3IGpeB+Xk0SOVxPBaeSlLy2ue53VNZSUvbkoSN/KAIxqZuLFLdg6bU0VWVFbyVh3JIi+WVieL7NWEqU1WVFbwalriyX45eRlqqz04/vDP0GenZPTx5//xKm8ufL/GestWrubRqcn845075XHq8UftsBgb6r4p1Q8PLzp9ZAtGIkmSmoH3WB1NSQmceiq8kJoZ56ij4E9/gi5dtk9/Z59dXb799iSpoiaTJ8O6dUn5pJOgoIbk4NGjq8sTJybfS02mToWFC5PyYYfBwIENDltKN5rqa28iEymh5mtvKlNZSHLtHcZhDGTba+80TiMv9UTiYR5mWS2DJc1jHjNI7hH70Y/jqCGZSVK78sHiNZxyxGS+M3YqL81YwrKPiyktreDjj9bz3B8XcsWXn+LcLz7M2jW1/P5roMXvrWbkoffwza88zTNT3uHjj9ZTWlrB2tUlzH9tGbff/DLDDriL3/32jUb38b2rnmf5J8XNEq+k9sHEDUlqPxYBm1Nyh2aol+lYU1Wm1g6V0IyyQ+Cs/K5A8prfz4rXUlRZuUWd0hi5rXgtJakXAU/q3IXutYx+cVvRWr606hO+tOoTHtqw7TTbnULgiLzqpI/bitdtMapGusc2FvNaeZLYkQsc3Wnbt9Amb1jPslrO3+w/FeXctH4Nm9M2BufkNnqqF7UdOTk5XHfpVwCIMTLmultYvXbLUcRLNm1izHdvoXhjcuP9tXNOp1dhjxrbu+i7t5B94FCyDxzKhDvu3b7B1+CFf/6L9z5IRlEftPuuHHfYZ3Z4DJIkqVl5j9WRlJbCmWfCc88l20ccAX/+M3Tt2rj2hg6FEJJl8uSa65xyCgwZkpRnzYKbbtq2zuuvw3XXJeWsLLjxxprbOvhgOO20pLx0KXz967DVfSNLl8Lll1dvjx9fz29GHdUYxhBSX+MZX2OdgzmY00iuvaUs5et8nUq2vPaWspTLqb72amurD324gisAKKKIMYzZJhFkNau5gAuIqecf13M92WQ35tuT1EasXVPC+SMfZd7cTwDYe79eXP/jYfzq4VP59k3Hsuvu3QF48bnFXHrGE5SXV2Zqrk6f/KeIs4Y+wPzXkuSx/nt056rxx3DHI6dx6z0nceb5g8nJyaK4qJSrxvyRPz2xoMF9/PXZ93ls8utkZQU6dfYZqKSEPw0kqZ2IMcYQwu+Bi4H/DiH8PMa4Or1OCGFvSHsVovmlXgGicDv20SGN7JTPy6UlzC8v472Kcr65biUjOuWzS1YOKyoreG7TRj5ITWuye3Y2ozs3bXqG8/O78q+yUtbHyH8qK/j62pUM7dSZT+fkkhcCyysqeKl0E+9UlFWd8+X8rvTO2vZhyTObNvJkyQY+nZPLvjm59M/KpiAri4oYWVVZyVvlZcwu21Q1sXfPkMXXC7o3KX61Hf999qn8/tm/8uKc15nz1jscMuqrjD3rFAbt0Z+PPlnOPb//M28tWgLA/oMG8N2x5ze5zxmz5vCXWXO22PevBQuryvf8/s88//ct51O+eszZFHbvlrHdyU9NrSpfeOoIgtP9SJLUpnmP1cGMGZMkagB065YkYFgJ/wAAIABJREFUOMyYUfd5m5MlGiMEmDQpmY5lwwYYNy6ZomXUqGRUjVdegbvvhuLU27jXXgsHHlh7e7fdBn//O3zyCfzmNzBvHpx/PvTqBW+8kYzEsXJlUve885LRO9Quvc/7/IbfbLHvdV6vKs9gBuVsOZrnmZzJIRzSqP5u4zb+zt/5hE/4Db9hHvM4n/PpRS/e4A0mMpGVJNfeeZzHSdR+7Y1jHNOYxgIWMJWpDGEIl3AJ/enPQhYykYl8wAcADGUoYxnbqJgltR0/m/AiCxckP0OGjhjI3U+OonNassMFVxzKOSc8xLy5n/DyX5bwwMQ5jPnaYY3ub/yVz/KfD5MXi47+wgDumTKKLgXVIwOffdHBfOWyQzj3i4+wcUMZ/3vZVI7+wgB6FNZvWrXN5wBc+LVDefbpd/lwSdOmXZHUPpi4IUntyy3AOUBfYHoIYWyMcW5IPj08Hrgb2AA0bg6Nus1LrY8JIewbY2x4urFqlBsC13ct5IdFa3m9vJQVlZU8sHHbofQGZedwXddCCmoZbaO++mXn8L1uPflx0Vr+XVnBRiJTN21k6qaN29TNBs7JL+Cs/NqTRSKwoLyMBeVltdYBODAnl68XdGeXJky5orYlLzeXJ2+/mdFXj2PGrDl88PEybvjFb7apN2S/fXji5zfRo1sj33hM8+Krr/GDux6o9fiDf3x2m31fPfOkjIkb64s38MSzyZDaWVlZXHiqcyxLktROeI/VUbz8cnV5/fokkaM+apvepL4OPRSmTIFzz4Xly2H69GRJFwJcdVXNI3Kk23PPZCqUUaNg0aJkFI9Zs7atd+65cM89TYtbrdoSlnAzN9d6/MXUV7q92KvRiRt7sidTmcooRrGIRcxKfW3tXM7lHjJfe4UUMpWpnMEZzGUub/EWV3P1NvVO4AQe53FyyW1UzJLahhXLirn/juTlmy4Fudx23ylbJG0A9Nwpn9vuP4UTD7qbGOH277/E+f89hOzshj8f/eQ/Rfzx8bcA6Jyfwy8fOnWLpI3NPnvU7lw1/hhuvmYGq1duZNKts/j2TfWbtun/rn+Bpe+voV//bnzn5uN49ul3GxynpPbJqVIkqR2JMS4ELgDKgcOAOSGEdUAR8DyQB1yVqr6pxkaa5gmSeaB7Am+FEJaHEBanls9th/46lK5ZWdzUrZBvF/TgsNw8dgpZ5ACFIYuDcvL4Wpdu/KT7TvTJbp4hQgfl5HJ7j15cWdCdz+V2YuesLDqRJGp0C4FPZ+dyZucu3NmjF6Pza/8w/bbuvbiiSzeOz+vMwOwcuoVANsnUKj1CFvvm5HJKp3x+2K0nN3ffyaSNDqhnj25Mv+tWHvrxjfzXsZ9j1517k5ebS99ePRl2xBB+Pe7/8feH7mCPXfq2dKi1euyZv1RN53LCkYeyW7+dWzgiSZLUHLzH0g5xwgnw5pswYUIydUphIXTuDAMHJgkkL70EP/lJksBRl0MOSaZXufVWOPJI6N0bOnWC3XeHs85KEjsefBDytv0QSmqKQziE13mdW7mVIzmS3vSmE53Ynd05i7OYylQe5EHyqPvaG8AAZjGLSUxiGMPoS1/yyGNXduUkTuIRHmE60yl0MCKp3Zv21DuUliajDJ96zgH03rnmF8f2HbwzRw0bAMCyj4v5xwtLG9Xf32cuqcrJPG74wFr7Axh1weCq8lMPz69X+3Nf+Te/+fk/AbjpF1+ka7ftlfsrqS3ykxFJamdijL8LIbwLfJdkruUewEfA08DNwNGpqmtqbKBpfa8OIRwLjAOOAXYGeqcO12+sOGUUQuCYTp05plPj/zmv7NqDK+lRr7p5ITCsUz7DOuU3ur++2dmMyO6C4w8okxACZ48YxtkjhjW6jXtvvpZ7b762znrjrriIcVdc1Oh+avLVM07iq2c41LQkSe2R91gdxOLFzdvezJkNq9+nD9x4Y7I0VUFBMkLHVVfVXVft0lCGEmniaDDA5NRXfRVQwFWpr6bKJZdLU1+SOq6/Tl9UVR46YmDGukNHDORvzy8G4C/TFlUlcjTE5ilSAAZ9ulfGun36dqVb906sX7eJJe+t5r23V2Y8p6ysgm9f8icqKyPDT92Hkad/usHxSWrfOlTiRmoYy9HA+cBngD7AKmA+8DAwOcZYXnsLDeqrIX8Z3xdjHFOPNnOBMcCXgf2BnUjeupgLPAA8FmNTx2eU1JJijEPrUWcmkPE1mxjja9Qyz3IIYfMEf2/WcN54YHxT+k8N3XtOpjYkSZKkhthR9/MhhJlA/cY43tJFMcbJW7UVgM8Dn00t+5HE3ZtkJrlVwBvAn4AHYozN/qG/vMeSJElqy96et7yqfNCh/TLWPeiwXWo8ryGa8hHbW28sy5i48asf/p0Fbyyna7c8bvrlFxvdj6T2q8MkboQQegK/A7Z+jbNfahkGXB5COD3G2LgxlLajEMIA4PewzUSD/VPLycAlIYSzfNgjqTYhhD7AJanNaS0ZiyRJklQfbeR+flEN+zoBf8twzub7+RHAjSGES2OMU7ZHcNp+vMeSJEnaPiorI0veSz7uys4O7LJb94z1d9uzeoThRe+salSfO/erng560TsrM9Zd/kkR69dVz5S36O3a+3z3rRX84uaXAPj2949j1zq+F0kdU4dI3Agh5AFTSIaUBPgAmAQsBHYDLiZ582UIMDWEcGSMcV0zdf8mcH0ddTI+WAohFAJTgX1Tu94C7gE+BPYCxgK7AycAvw8hfLG5Rg6R1PaEEL4JdCF5uL04xlgeQugEfAG4lWRo3eUkP0ckSZKkVqsF7uevp3oaikyOAv5fqvwe8GKGuh8Bs4DXgSXAepK/1/cFzgL2JhmJ44kQwsgY47ONC13bi/dYkiRJO15xUSnl5ZUAdC/sTE5OVsb6PXtVT/W8bk1Jo/o87KjdqsovPPM+K5cX06tPQY11n/jtvC2219bSZ2Vl5NuX/JlNmyo4+LBduOjrh9VYT5I6ROIGcDnVD3nmACfEGFdvPhhC+CXwFDCcZAqSG4BvN1PfK2KMTzWxjXFUJ21MA06PMVb9Bggh3AE8RzIax/HAZcCvmtinpLZrIPA/wC1ARQhhLdCd6p/5a4HRMcbMKcOSJElSy9uh9/MxxkwjZFQJIXw5bfPeWqYtLQUOiDHOz9DOjcAvSL7PbOB2kkQUtS7eY0mSJO1gxUWlVeVOnev+OLNzfnWd4vWlGWrWbsCgnnz++D15+S9L2LihjG+c9zS/eWoU+V1yt6j36j8+4qfjt8zdLkobfSPdfXe8yuyXPyQ7O/CjSSPJyso4Q5+kDixzelo7EELIAb6b2ozABekPeQBSSRAXAMWpXd8IIdQ+EdUOFELYGbgitVkMXJietAEQY1xFEv/mB0XXhxCyd1yUklqZ+4CfArOBZUBXYCPJG34/Jnl4PLPFopMkSZLqobXez6embjkttVlJ8vf3NmKMlZmSNlJ1KkgSAjZ/4L9vCGFgc8WqZuM9liRJUgfxvdtPpEtBkqjx12ffZ9gBk7jtpr/xh8fm89jk1/nWmD8w6tjfsqG4jD0HFladV1NCxkdL1/LDa2cCcMmVhzP4kH475HuQ1DZ1hBE3hpEMOQrwfIzxzZoqxRiXhRAeAb5KMg/tqbSOIS5PA/JS5YdjjMtqqhRjnBdCmEEyTGc/4Dhgxo4JUVJrEmOcC8xt6TgkSZKkJmqt9/PnpvoBeDbG+GFTGosxloUQ3gU2J5z0AxY1pU01L++xJEmSms/CBStYuKD2gcoOHNKP/nv0oKBrXtW+TSXldbZbsrG6TkG3vAw1M9t38M78durZXDbq96xYtoEPFq/lJzf+dYs6IcCVNx5N8fpS7vrZKwD06Jm/TVvXXj6N4qJSdtuzB1dPOGab45KUriMkbnwxrTytjrrTSB70AIygdSRuNDT+L6TKIzBxQ5IkSZLUdrXW+/mL08pN7ieEkAUMSNv1cVPblCRJkjbrz80tHcIW7npkPBMmTKr1+L333svhY8ZQ2bWSnJyfU15ezro1pfQtn0BOTu0fa76/8n3gVgB2Kty1Sd/3GcfAF975JRMnTuQPf/gD8+fPZ/369fTp04djjjmGb3zjGxx11FFceOGFQJK4sXe/s+nPN6vaePDBB5nx5/cAmHjHQ+xd8F819pXNgyQz70E/vk3/LW4NJHUkHSFxY3Ba+dU66s6u5bym+HQI4W8kc9R2A1YDbwPPAxNjjHU9kGnp+CVJkiRJagmt7n44hHAQMCS1uQqY0sT2AvB9klE2AP4VY3S0DUmSJHV4WVlZDBo0iLfffpuKigo+/PBDBgwYUGv9JUuWVJX32WefJvffo0cPrrnmGq655ppa68yfXz0z4mc/+9ktjt19990A9OvXjzlz5jBnzpwa21i7dm1V+Ze//CWFhcn0K5deeil9+/ZtdPyS2p6OkLiR/tN5cR11PwQqgGxg7xBCiDHGJvbfj+oHMAA7p5ZjgGtDCN+JMf68phNTb90MSm1WpOLLZElauem/lSRJkiRJajktfT9fk/TRNh6MMW6q74khhBFA59RmF2Av4Azg4NS+lVSPGiJJkiS1S+PHj2f8+PH1qjt48GDefvttAF599dWMiRuzZ1fncg8evP3fbV69ejWvv/46AAUFBRxyyCFbHN98O/Lxxx9zww031KvNW2+9tap88sknm7ghdTAdIXGjMK28IlPFGGN5CGEd0JPk36YAKGpC3+8B04HXSR7A5AMHAKOAgSRz4t4WQtgpxjiuhvO7Uv1/tCbGWNckXumTghXWWkuSJEmSpNavJe/ntxFCyAXOS9vV0GlSJgM1PXktBZ4Grokxvt+46CRJkqT2Z/jw4TzxxBMAPPPMM5x55pm11p02rXp2xREjRmz32B566CFKS0sBOO+88+jcuXMdZ0hSZlktHcAO0DWtXFKP+hvTyt2a0O9xMca9YoxXxBh/HWN8PMZ4f4zxOyRvDX0/re6NIYSja2ijpWKXJEmSJKmltbZ74i8BvVPluTHGfzVTuwuA54BlzdSeJEmS1C6cdtpp5OXlAfDwww+zbFnNfzLPmzePGTNmAMnUJMcdd9x2jWvZsmVMmDABgNzcXK688spt6sycOZMYY53LnnvuWXXO+++/X7X/M5/5zHb9HiS1Ph0hcaNFxBj/muFYRYzxBuCutN3f3f5RSZIkSZKkRroordzQ0TaIMfaLMQaSZzE9gKOAO0lG5vw1MCuEMChDE5IkSVKH0qdPH6644goAioqKGDNmDCUlW+Z0r169mgsuuKBqapLrr7+e7OzsGtsbOnQoIQRCCEyePLnGOhs3buSVV16pNab33nuPE088keXLlwPw3e9+l/3226+h35okbaMjTJVSRDJUKiRzydY1VGp+Wnn9domo2njgEiAAx4cQ8mOM6W8IpcdanzGWdmTskiRJkiRtT63mfj6EsAuwebzlTcCDjW0rJk+U1wEvAy+HEKYAfyJJ4Hg2hHBgjLG4iSFLkiRJ7cK4ceOYNm0aCxYsYOrUqQwZMoRLLrmE/v37s3DhQiZOnMgHH3wAJIkZY8eObVJ/xcXFHHHEERxwwAGMGDGCAw44gG7durFixQr++te/8uSTT1Ylj5xzzjlcf/31Tf4eJQk6RuLGGqof9PQmw4OeEEIO0D21WQZs1wclMcZ/hxDeAT4NdAI+BcxPq1IElJP8PxWGEHJijOUZmuyVVl7T3PFKkiRJkrQDtab7+QuAza/tPRVjXN1cDccYnwkhTAa+SvJc4AKSkTgkSZKkDq+wsJCpU6dyxhlnMHfuXN566y2uvvrqbeqdcMIJPP744+Tm5jZLv2+++SZvvvlmjcfy8vK45pprmDBhAllZTm4gqXl0hJ8m76SVB9RRdzeqH8QsjJvHVdq+VqaVC9MPxBgrgfdSm9kk8WWyZ1r5nVprSZIkSZLU+rWm+/kmTZNSD9PSykO3Q/uSJElSmzVgwABmzZrFpEmTGDZsGH379iUvL49dd92Vk046iUceeYTp06dTWFhYd2N16NmzJ48++iiXXXYZn/nMZ+jbty+5ubn06dOHww47jBtuuIH58+dz0003mbQhqVl1hBE35gHDU+VDgZkZ6h621Xk7Ql2jZMwjGZEDkvgXZ2irJeKXJEmSJGl7aBX38yGEz1N9X74UeK45209Jn9ql6U+bJUmSpHYmNzeXSy+9lEsvvbTRbcycObPOOtnZ2YwePZrRo0c3up+GWLx48Q7pR1Lr1xFSwZ5JKw+vtVZiRFp5Wq21mklqjtx9UpulwJIaqrXa+CVJkiRJ2o5ay/3wxWnl+1KjYza3vdLKK7ZD+5IkSZIkqRXrCIkbfwGWp8onhBAOqKlSCGFn4MupzRJgyg6IbTwQUuUXYow1zcH7FElSB8A5qTi3EUIYDAxLbX4MvNCMcUqSJEmStKO1+P18CKELsPlVuwjc21xtp/WRBXw1bdfLzd2HJEmSJElq3dp94kaMsRy4ObUZgPtDCD3T64QQOgP3AQWpXb+MMa6sqb0QwuQQQkwt42upc0sIYY/aYgohZIcQvgeMTdt9c011Y4zLgTtSm12Byal409vrCdxPdRLI92OMFbX1L0mSJElSa9cS9/M1OAvolirPjDG+X9/4QwhXhhA+V0edbsBvgUNSu1YBj9S3D0mSJEmS1D7ktHQAO8idwJnAMcAQ4LUQwkRgIbAbyZst+6Xqzge+38T+Lge+E0J4GXgJeAdYC+QD+5O8rTMwrf7NMcZMI2RMIBn2dV9gJDAnhHA38BHJcKqXAbun6s4EJjUxfkmSJEmSWoMdfT+/tYvSyvc08NyhwM9CCO8CM4B5JNOgVAB9SL6f04GdUvXLgUtqSzyRJEmSJEntV4dI3IgxloYQTgV+RzKdyO7U/DBnDnB6jHFtM3QbgKNSS202AN+JMf4yU0MxxjUhhJHA70newtkPuLWGqs8BZ8UYyxoXsiRJkiRJrUcL3c8DEEIYBByb2lwLPNHIpvZOLZksAi6LMT7XyD4kSZIkSVIb1iESNwBijKtDCCeQjHZxPkkCRG9gNfAmyVCk96aGYm2q4SQJG0cC+5C8SdOL5K2alcDrwPPA5BjjqnrG///Zu/d4a+s5/+Ovd+eiIyWSEpFDJmpkjEhJDDrIOaP6mRmHnMaMcdZtMBO/IQbjTPkxhKaIyKGiHBJhCCHdodJJdXc+fn5/XN9tr1Zr7dO99l73vffr+Xisx3X6Xt/rs6691n1f32t9ru93eZJdgYPpxu59ALAp3dM6P6LrWvUzVVUjiF+SJEmSpFXCArfnex3M5JCkn66q62a5/yHAXnTJHzvR9bx5J7pha68Cfk/Xnv8C8MWqunEEMUuSJEmSpNVQ/J1f0zn02F/4IVkC3rv//TJ9KWnVcPydtvTfJS1aT/jm0eMOQZo3azzwUV5vTOG+RzzO/9+0aJz9j1/x+y6tJgL+/6NFq/zfSItZ4Sd8afD/aUla/czp/+g1Rh2FJEmSJEmSJEmSJEmSZsbEDUmSJEmSJEmSJEmSpDExcUOSJEmSJEmSJEmSJGlMTNyQJEmSJEmSJEmSJEkaExM3JEmSJEmSJEmSJEmSxsTEDUmSJEmSJEmSJEmSpDExcUOSJEmSJEmSJEmSJGlMTNyQJEmSJEmSJEmSJEkaExM3JEmSJEmSJEmSJEmSxsTEDUmSJEmSJEmSJEmSpDExcUOSJEmSJEmSJEmSJGlMTNyQJEmSJEmSJEmSJEkaExM3JEmSJEmSJEmSJEmSxsTEDUmSJEmSJEmSJEmSpDExcUOSJEmSJEmSJEmSJGlMTNyQJEmSJEmSJEmSJEkaExM3JEmSJEmSJEmSJEmSxsTEDUmSJEmSJEmSJEmSpDExcUOSJEmSJEmSJEmSJGlMTNyQJEmSJEmSJEmSJEkaExM3JEmSJEmSJEmSJEmSxsTEDUmSJEmSJEmSJEmSpDExcUOSJEmSJEmSJEmSJGlMTNyQJEmSJEmSJEmSJEkaExM3JEmSJEmSJEmSJEmSxsTEDUmSJEmSJEmSJEmSpDExcUOSJEmSJEmSJEmSJGlMTNyQJEmSJEmSJEmSJEkaExM3JEmSJEmSJEmSJEmSxsTEDUmSJEmSJEmSJEmSpDExcUOSJEmSJEmSJEmSJGlMTNyQJEmSJEmSJEmSJEkaExM3JEmSJEmSJEmSJEmSxsTEDUmSJEmSJEmSJEmSpDExcUOSJEmSJEmSJEmSJGlMTNyQJEmSJEmSJEmSJEkaExM3JEmSJEmSJEmSJEmSxsTEDUmSJEmSJEmSJEmSpDExcUOSJEmSJEmSJEmSJGlMTNyQJEmSJEmSJEmSJEkaExM3JEmSJEmSJEmSJEmSxsTEDUmSJEmSJEmSJEmSpDExcUOSJEmSJEmSJEmSJGlMTNyQJEmSJEmSJEmSJEkaExM3JEmSJEmSJEmSJEmSxsTEDUmSJEmSJEmSJEmSpDExcUOSJEmSJEmSJEmSJGlMTNyQJEmSJEmSJEmSJEkaExM3JEmSJEmSJEmSJEmSxsTEDUmSJEmSJEmSJEmSpDExcUOSJEmSJEmSJEmSJGlMTNyQJEmSJEmSJEmSJEkaExM3JEmSJEmSJEmSJEmSxsTEDUmSJEmSJEmSJEmSpDExcUOSJEmSJEmSJEmSJGlMTNyQJEmSJEmSJEmSJEkaExM3JEmSJEmSJEmSJEmSxsTEDUmSJEmSJEmSJEmSpDExcUOSJEmSJEmSJEmSJGlM1hp3AJIkzdaTLvtjxh3DUpDkhwBVtfO4Y5FGzc+3JElSp8D21QLxGnQMatwBLB1+viVJklaOPW5IkiRJkiRJkiRJkiSNiYkbkiRJkiRJkiRJkiRJY2LihiRJkiRJkiRJkiRJ0piYuCFJkiRJkiRJkiRJkjQmJm5IkiRJkiRJkiRJkiSNiYkbkiRJkiRJkiRJkiRJY2LihiRJkiRJkiRJkiRJ0piYuCFJkiRJkiRJkiRJkjQmJm5IkiRJkiRJkiRJkiSNyVrjDkCSJK2aqmrncccgzRc/35IkSVpoXoNqMfPzLUmStHLscUOSJEmSJEmSJEmSJGlMTNyQJEmSJEmSJEmSJEkaExM3JEmSJEmSJEmSJEmSxsTEDUmSJEmSJEmSJEmSpDExcUOSJEmSJEmSJEmSJGlMTNyQJEmSJEmSJEmSJEkaExM3JElahJKsmeTlSX6U5Jok1V77JTmlzS8b0bFGWp+0kJIckuS7SVb0fE9e1rYd2ZaPHNGxRlqfJEmSFs58Xssl2S3Jl5JckuSWdpzjRn0caZgku0+0h+ah7mWt7lNGXbckSdJista4A5AkSfPincCL2vyNwEVt/vrxhCOtepL8E/AfbfFm4GKggGvGFpQkSZKWlCQPA06iu09bwGXALcDlbfuyVvTIqlo+hhClsUqyH7AT8OOqMqFJkiQtWiZuSJK0yCTZEHheW/wX4D+qqnq2Pws4G7h0DOFJq5JXtOl/Av9cVTf1bb+Q7rty4YJGJUmSpKXkZXT3aL8N7FNVf+rbflibngIsX7iwtMRcS9f2WRXtBxwEHAWYuCFJkhYtEzckSVp8dgDWbvPv603aAKiq5yx8SNKqJcnmwF3a4ocGJG1QVa8GXr2ggUmSJGmp2bFNPz0gaUNaEFX1fbp7CZIkSRqTNcYdgCRJGrkNJmaq6upxBiKtwjbomfd7IkmSpHGZuC71mlSSJElawkzckCRpkUhycJKi60J3Yl31vE5p605py8sG1LFWkn9oZS5NclOSy5KcneToJM+dJoYk+fskpydZkeSqJN9N8uzRvlutDno/ayvz2Ujy5CRfTHJRkhvb9ItJ9p9DTLu378nyntXn9nxPlveUPbKtO3JIXU9P8uUWz01Jrkjy6yRfSHJokvWmieUp7Rz9Kcm1SX6c5KVJvEaXJElazSTZNsk7k5yV5Op2fffLJO9Kco8B5atdl27bVn2sr/12ZNs+4eS+7csX4G1pEehrl62d5J+S/KC1X6q1kXbv+UwOq2fHdl/gj0muT/LbJO9OssVM9u+pZ88kX0pySavnF0kO628/9bTdDmqrDur7DlSS3Vfq5EiSJK1CHCpFkqTF4zrgImAdYNO27qKe7VN2u5tkTeAEYK+e1VcCdwA2A+4DPA34yJAq1gSOBfYFbqYbI3dD4GHAw5JsX1WHDdlXi9ucPhtJ1gE+Djy9rbqV7jN5Z+AJwBOSfAo4aNBQJ0PcSPe9WLPVA3ApcEubv2QmlST5KHBIz6qr6YYound7PQn4EkPGIU/yHuDQ9p5WAOsDfwG8E3gIkzcnJUmStIpLciBdO2ndtuoGuuu8+7bXIUmeUlVf7dltoq22Od3DdSvo2nQTbmllJob3u5zuWnbCjK5bpR7r0T3o8XC6dtlVwLSJFgAtaf5oJodlvRq4K/Ai4ADgNTOs5xXAW9vilXT3L3YAlgGPSrJXVU20zSbabhu32K9v+/S6EUmSpEXCxA1N67373y/jjkGSNL2qOho4uj1xcnJbt+UsqngmXdLG9XQ3X46uqquThO5m4l8Dz5pi/0PpbjgeDHymqq5Lcnfgv+h+xH5dkk9U1a9n9ca0GMz1s/FvdEkbBbwZeEdVXZFkU+Cf6W4OPhP4HfCqmQRSVd8BtkyyLXBuW/2XVbV8pm8mySPokjZuBV4NfHhiPPIkdwJ2pvuuDLuJuA9dQtTLgY9U1Yq23+HA3wHPSXJUVZ0005i0OJz9j1/xuluSpNVMkr3oko1vBd4GvA84r22+D/Am4KnAZ5PsWFW/g8m2Wus5YxvgpVV15ID6J35Yf3JVnTJvb0RLwaFteghde/+61g4p4EHDdkqyHfAJuqSNM4F/qKoftnsFewIfBt4xg+P/BbAbXbvnHVV1aZKNgH8C3gA8mi6B/aNwm7bbkW390VV18KzesSRJ0mrEbpglSdKEh7fpx6vqI1V1NUB1Lq6qY6vqqVPsvymwf1UdVVXXtX3/QHeT8gK6646nzWP8WnXN+rORZCvgpW3x8Kp6Q1Vd0fa9vKpey+TNwZcnueteBD+vAAAgAElEQVQCvI8JE9+Vr1fV2yaSNlpsl1XVV6vq4Kq6YMj+mwLPq6ojqmpFz35/D/ywlXnmvEUvSZKkkWhD3L2X7nr20Kp6ZVUtr0lnV9XTgC8AG9El7krjckfgWVV1ZE+77LLe9swQrwE2AC4G9qqqH7Z9q6q+Duzdtk9nE+BNVfWaqrq01bGi9b74P62M7SBJkrRkmbghSZImXNGms+mlo9e3q+rk/pVVdQNwYlsc+hSPFrW5fDYOoOsd7nq6J7IGeTNdN9RrA08ZTagzMvFd2bwNMTRbvweOGrLtC23qd0WSJGnV90hge7qh9z48RbmPt+ne8x6RNNxZVXX8bHZovWoc0BbfNyjJo6rOBj4zg+puAP5jyLbPt6ntIEmStGSZuCFJkiacQNdF6j5JvpzkmUnuNov9T59i20TPA5vNOTqtzuby2dilTc+Y6JWiX1VdDvygr/xC+AZdQsmDgVOTPDfJPWex/xlVNWwsab8rkiRJq4+/btONgQuS/HHQC/hQK7fNeMKUAPj2HPbZjq6nDIBvTlHulBnUddZEz54D2A6SJElLnokbkiQJgKo6DXglcCPwOOC/gfOT/D7Jx5I8epoqrppi281tuvbKR6rV0Fw+G1u06fnT1P2HvvLzrqrOAf4OuBr4K7qnK3+b5OIkRyfZtz2ZNozfFUmSpMVhItF9beAuU7w2beXWX+gApR4Xz2GfzXvmhw0FCdO322Bm7aC1ZlCPJEnSomTihiRJ+rOq+r/APYF/BI6ju7Fzd+Bg4KQkn03iD8pa8qrqk3RPTD4fOJpu+JPNgafRfXe+mWSj8UUoSZKkBTAxbN7pVZWZvMYarZa6W1Zy/2G9BkqSJGkETNyQJEm3UVUXVNU7q2r/qroL3RizE+M1PwV4wfii0xIy8TTY3acpN7F9Lk+PrZSq+lNVfaCqnlFV9wDuDRxOd0NzN2DZQsckSZKkBfXHNnUIFC1Wl/TMTzWU6lbzHYgkSdJiZ+KGJEmaUlX9tKr+nsnxcPcaZzxaMn7Qprsk2XhQgSSbALu0xTMWJKopVNU5VfVqumGGwO+KJEnSYjfRRtoyyS5Tlpy7iV4O7K1D4/Bb4Io2v/sU5abatrJubVO/A5IkaVEzcUOSJAGQZN1pilzXprdOWUoajWPoxjleD3jlkDKvAdYFbmrlF4TfFUmSJDUnA79p80ckWWeqwkk2m8MxVrTpJnPYV1opVVXA/7TF5yfZtL9Mku3phoycL34HJEnSkmDihiRJmnBcko8meXzryQDobi4meR2wZ1v1pfGEp6Wkqs4H3tUWX5XkjROfyySbJHkT8Iq2/R1VdeEChveeJJ9JckCSLSZWJrljkucDz2mr/K5IkiQtYlV1M/B8uoTjRwDfSrJnkrUnyiTZLsnzk5wBvHAOh/lZmx6YZIOVDlqavX+nS06/C/DVJA8GSGcP4ETg2nk8/sR3YLckO8zjcSRJksbKxA1JkjRhfeAQ4ATg8iRXJrkSuAx4E123pJ8DPjy+ELXEvAb4DN1n7w3AZUn+RPeZfF0r8yng9Qsc19rAU+m+DxcluSrJ5cBVwPuAdYDTgLcscFySJElaYFX1Dbprw6uAXYGvA9ckuTTJ9cA5dNeIuzA57MlsvL9NDwCuSPKHJMuTnLby0UvTq6rf0CWn30z3OT4zyQrgauAbdO2fl7fiN8xDCMcAlwCbAr9Ickn7DixP8rB5OJ4kSdJYrDXuACRJ0irjxcDjgUcB2wNb0g1TcQHwA+Coqvqf4btLo1VVNwJPT/IZ4Ll0Nwk3pUvc+AHwoao6dgyhvQn4IfBo4H5035U7AhcDP6FLJvl4Vd0yhtgkSZK0wKrquCT3putR4/F07alNgGuAXwJn0PXGdsIc6v5EEoDnATsCd8WH8bTAqupzSX4NvBbYHdgYOB/4Al3C+iNa0Svm4diXJ3kkcBiwG7AFcOe2eb1RH0+SJGlc0g1TJ0mSJEmSJEmSNDtJ3kLXY+JJVbXndOUlzYo/4knS6idz2cnsbEmSJEmSJEmSNGtJNgf+ri1+ZZyxSJIkrc7scUOSJEmSJEmSJA2U5CXABsDngOVVdXOSdYE9gbcDOwCXAPerqsvGF6m0KPkjniStfubU48Zao45CkiRJkiRJkiQtGtsBLwX+HbglyZXARkz+vnAl8DSTNiRJkubOxA1JkiRJkiRJkjTMUcAtwCOBrYA7AdcB5wInAu+qqvPHF54kSdLqz6FSJEmSJEmSJEmSpFWPP+JJ0upnTkOlrDHqKCRJkiRJkiRJkiRJkjQzJm5IkiRJkiRJkiRJkiSNiYkbkiRJkiRJkiRJkiRJY2LihiRJkiRJkiRJkiRJ0pisNe4AJEmSJEmSJEmSJE1K8smHPOQh4w5DkjRLZ5555ier6sDZ7mfihiRJkiRJkiRJkrSKOfPMM88cdwxLxA5t+suxRiHNHz/jq4FU1bhjkCRJkiRJkiRJkqQFl+SHAFW187hjkeaDn/HVwxrjDkCSJElaKEl2TnJLkkqyy7jjAUjyiBbPTUkeMO54JEmSpIWUZFm7Hq4ku487nvmUZL/2Pq9PstU8Hsc2hiRJ0mrGxA1JkiStEpLs1G7aLkuy0zwd5j1018DHV9UP5ukYs1JVpwEn0Q1j+J9jDkeSJElaKQt0Xb/aSbIecERb/GBVnT9fx7KNIUmStPoxcUOSJEmrip2Aw9pr5Dd4kzwZeFhbXDbq+lfSsjbdI8ne4wxEkiRJWknzel2/GnshsC1wPXD4AhxvWZvaxpAkSVoNmLghSZKkpeKNbfqVqjpzrJH0qapTgdPa4hunKitJkiQtJlW1rKrSXqeMO575kGR94FVt8ciqumC+j2kbQ5IkafVi4oYkSZIWvfaE2QPb4sfHGcsUJuLaNcnDxxqJJEmSpFF6DrB5m1/I9ohtDEmSpNWEiRuSJElaCl7QplcBnx9nIFP4HHBDm3/hOAORJEmSNFIT7ZFzquq7C3hc2xiSJEmrCRM3JEkagyS7J6n2WtbW3SfJe5P8Osm1SS5IcnySvx6w/xOSfDHJ75Ncn+S8JP+VZMsZHn+NJE9LcnSSc9vxrkryyyTvS7LjDOq4R5IXJflskrOTXJ3kxiQXJzklySuTbDzDePZN8pkkv22xXJ/k/CQ/afW/MMmdBux3ysR5nMExpiybZFnP32T3tm7PJJ9q5+j6tm3bAfs+IMk7kvw4yZ+S3NDi/0KSA5MMveZKsm3PcY9s67ZK8tYkP2/n9eIk30jyhAH7P6Ln73h9+9x8PMm9pzsnPXU8LsmR7bN3VfsbnNPWPWKafQ/uif/gtu7+ST7Q6rguyWUt/mcmybA6gI/1rP5YT70Tr+UzfU999d8J+Ju2eFxVXTvL97NLkqPaOb6ufd8+leSBffuumeRZSU5KcmH7e/wqyeFJNpouzqq6HPhyW9w/yR3n8n4lSZK0NCXZqLU/PpLkR0muSHJTa6OcmeTtSe41yzr3SPLBJL/oqe+SJKcmeXOS+/eUndN1/aC22BTxbN2ur8/sa3sd346/5jT7365dmOQZSb6W5I+tvvNaW2iH2ZyrKY65I/AXbfG/Z1B+ZG1t2xiSJEmrj7XGHYAkSYIkB9B1YbpBz+r1gScCT0jy3Kr6WJK1gQ8Ah/RVcQ+6J3j2T7JbVf1mimPdi+6pm50GbL5ve/1DkrdU1RuG1LE7cBJwux/h6bp/fVR7/VOSJ1fVaQPKTYzz+1ngdgkJwN3a60HAU4B1gHcOe18jliTvAQ6dptBawNuBF3H7hNiJ+J8EvDjJflX1xxkceDfgf4A796y+A7AHsEeSN1bVspYA8a/A6/qquCvwt3Sfhb2q6ntTHGtz4NOt7n7btddBST4CvKCqbppB/AcD7wfW7Vm93kT8wN7AwdPVM2J/A6zd5k+ezY5JXgQcwW2vm+/RXvsn2beqTkyyIXA08Pi+KrYHXgnsm+SRVXXJNIc8GdiP7t+CxwDHzSZeSZIkLU1J1gEu5rbX4RM2ba8HAy9J8rKqeu809W1Ol2TwmAGb7ww8or1ey+B24cgleR7dtfn6fZsm2l5PBF6eZJ+qWj6D+tYDPkV3/d3rHsBBwDOS7F9VX77dzrPTW/+U7ZFRtbX72MaQJElaDZi4IUnS+O0MvAq4kS4x4Qd0SQCPA55Jd8PmQ0lOA15Cl7Txv8AngPOAuwD/ADwQ2BI4ku4G2u20pI3vMZkUcBrwxVbPmi2Wg+lu6r0+ya1VtWxAVeu1uM6iuwn0C+Cytn5ruptCO9PdWPpikp2G3Dj7NyaTNi5s7+ks4GrgjsC9gb8CHjno/cyjV9D9AP9HuvP5M7rrpofSupltiROfAfZv+1xIlwTxE+BaYBvgGXTnYVfgG0n+cqreHuhuEB4LbAh8GDgVuInu/T+XLvngsCTfBB5Cl7Tx2xbjr4BN6JI2/pru/H0yyf2r6gb6JNkM+C4w8cTdT+gSRn4D3Er3eToY2Kodey2mT7h4PF2SzZXAe4EfAdXiP6TFf1CSb1XVR3v2O4nuPO4BvLite3db32uqczeVvXrmvz+L/Z4IPBm4hO7v8TO6m8RPpvvcrgscneSewFF07//bdMlIF9J9Bg5t0x3objI/e5pj9iba7I03VSVJkjQza9Bdn14AfI2uzXgR3bX91sDDgX3oruvfk+SCqjp2UEUtaeN04J5t1ZV0CQ5nACuAO9E9CPBE4O49u87bdX1L2nh/z6rjgS8BVwD3oWtv3BPYETgtyYNnkDT9Ubq26w/p2nK/o2srH0h3vtYFPpHkvlV16Wxj7jHRHrmVrr0/lVG1tXvZxpCkaVTVzuOOQZpPfsZXD6matmdxSZI0Yu0pmt4nbc4B9qiq3/WVew3wlrZ4Jt0TUu8HXlRVt/aU24DuZszEECe7VtX3++pag+5G20Pokg/+tqo+OyC2uwBfobsRdyvwoKo6q6/MNsBGVfXTKd7jM+kSMdYAjqyqQ/q2r0l3A2pjusSRh1bVxUPq2hy4U1X9sm/9KXRPG1FVUz7lNV3ZdEPWHNaz6jTgCVW1Ykh9L2WyB5BPAM/rT8poyR1vBl7TVr21ql7VV2Zb4NyeVZcCj6mqn/SVexbwybZ4Fl1Sy4nA03oTM9p5/TKTNwefXlWfGRD/sXQ3/Qr4x6p614AydwSOAR7bVj2+qr7SV+ZgbtsV8o+Bvfv/lkn2p0sMAfhFVd2fPn11HVJVR/aXmYskZ9PdzL0K2KT3uzNNDNAlejyudTHcW+6DwN+3xR/S3Tx9dVUd3lduC7pzclfgFmDrqrpwiuOvQ3czfF3gR1X1kJm8R0mSJC1trR2wF3BiDbnhm+RBdG2ILekSwLcfdG2c5AQme5L7Bl2b408DygXYt6qO61t/MLO4ru9riz26qk7p274t8HO6JOpbgGf1t3EG9Ob4uap66oBjnUJrFzZvAV7fe85a2/kYJnvKeGVVvW2q9zBM+7usoOvt4qyqeuA05Ve6rT2gvG0MSZKk1cDQ8dYlSdKCenZ/0kbzdrofm6FLuPgZ8OL+m2stYaD3B+O9B9S1X6sD4BWDkjZaXRcBT6e7IbYG8NIBZc6b6kZSK/MpuptJAE9vw7z02pwuaQPg88OSNlpdl/Qnbcyza+gSHoYlbazHZDLGGcBBg3rSqM5r6XrOAHhB23cqL+5P2mh1/TddrxoAD6B7suzZ/b1pVNUtwLKeVbf7LCR5CJM3IY8YlLTR6rqarteQK9uql08T+03AUwb9LdvTfN9ui/dLsvU0dY1EknXphisB+PVUSRsD3Eh3k/ryAdveSJf0Al3Sxpf7kzYA2rl4T1tck8FdTfeWv5HuJjrAA9pNY0mSJGlKVXVLVX1lWNJGK/O/TLZjtqPrVeI2kjycyaSN39AlZtwuaaPVV/1JG/PkJUwOj/L2QYnpVXUd8Cy6nu8ADkiyfX+5PidV1ev6z1lrM7yiZ9Wg9vVMbcfkkKhnT1d4RG3t/vK2MSRJklYDXqRJkjR+P6yq7w3a0H6U7+1K9QPth/lBese2vV1vBnRDaED3pM2Hpgqoqn7F5JASj52q7DS+06brAw/q23Zdz/ygeMfpmKq6YIrtewNbtPkjZpAMMHFTbSPgYVOUu5hu+JVhvt0z//+q6qoh5b5Pl0QBU38Wii45aKiWtHBCW3xkS4QY5otVdc4U23u7SF6ov/nWTI4PPfCG8xSOr6rzBm2oqvOB5T2rphojfLrvZr+JRJF16HrqkCRJkkblOz3zuw7YfmDP/Jur6pp5jmcmntymNzNF+6Ul3v9XWwyTw1oOMzCBvdX1G+D3bXFl2i7b9MzPtj0ylana2oPYxpAkSVrFrTXuACRJEqdPs/2invnvDy1123KbDti+W5teCDyu69V2ShMJItskWb89wXQbSXYFnk2XjLAdsCEw7Gmfu9MNKQFAVV2Z5PvAQ4HHtKE73g2cWlU3DaljoZw6zfbdeuY3TbLf0JKdrXrm7wecMqTcD6ZJApnRZ6Gqbk5yGV0XyFN9Fq4AHjqDz8K6PdPt6MZZHmRgAlKP83vmB8U1HzbrmZ/tjdKZfDcnxv1eme9mv8v6yp8/rKAkSZLUqw0rchCwO7ADsAkwrNe/uw9Y94g2LeD40UY3e23owYnkh59M1VNj81XgTW1+UGJKr5m0X7Zm5douc2qPrExbewjbGJIkSas4EzckSRq/y6bZ3jsUxtCyVXVDzw/wt7kxl+SOwJ3a4n2BY2cZ46b09JDRxsj9MJM9N8zERgPWHUo3ZvJGdEN37Adck+R0ul4Kvg58e5bDW4zCdDextu2Zn6qnhUGmuuk3ks9CX9lBN2m37YllLp+FYS6dYUww/ObxqPX2EDKsh5JhRvX3mO377h2iZ/2hpSRJkqQeSV5GN4TmVL3k9RrURptI5rh42BApC6y3d4hfDS01uMx0PUvMtP0y0/M5yKzaIyNsa/ezjSFJkrSKM3FDkqTxm01SwlwTGDae434T1ulbfi+TN5JuoBtK4wy6hIdrmOytYw/gxW1+zf5Kq+oHSXYClgFPpbuBdIe23x7AG4DlSV5XVZ9cyfcwG7frXaTPypzP/nPZayE+C7BqxL9QepMmZnJDs9eM38+Ik4t6/z7TfRYlSZIkkhwIHNGz6lTgm3TD+10F3NjWbwF8oM3fro3G5DXz1aOPck427JmfybAtvXFvOLQUI7+GH2a27ZGRtLUHsI0hSZK0ijNxQ5KkpaH35tW3qupRc62odb373Lb4B+BRVfXbIWW3GrS+V1WdCxyU5HnAXwEPp+ue91F0iRzbAp9Isk1V/dtc4wbWWIl9+/Wez+3ae1idXE3XZfLvqmqb6Qqv5nqfEtxsaKlVy8oM7yJJkqSlaWJ4kJuBfarqy4MKJXnANPWsoLseveMIY1sZvb1U3GEG5Xvjnm2Pe/Nhxu2RUbe1+9jGkLRoJTmSbpiwo6rq4BHXvRvwKrqhnjeju7/4+aqabthkaWSS7A6cDFBV0455Pcu6lwGHAd+sqt1HWbdmb5Q/YEiSpFVUVV3JZLLBoHGMZ2MPYOIC8fBhN5KaGScFVNX1VXVyVb2lqh5P9yTYK+nGVgZ4Q5I79e3256eXWpeyU7nzTGOZgd6hVFb2fI7DRPxbJBk2TvJi8Tsme85Y3RI3bgQuHGcgkiRJWvUl2Q64Z1s8bljSRjNdG+0PbbpFklXh+rn3enj7GZTvLXPBiGOZi+U989Odz3lpa/cd2zaGJM1QkocBJwF/QzcE9Z+Ai4DL2/Zl7bXtuGKUxi3Jfu17YDLTCJi4IUnS0vGtNt0uyb1Xop679MyfM03Zved6kKq6uqreBhzTVq0L/GVfsSt65u82rK4kmwL3mWssA3yzZ/6xI6x3oUzEvx7wyHEG0qe3q+KRZI9X1Y3Ar9vivZOs0te/SdYFtmuLP6uqmqq8JEmSxGjbaKe2aYAnzTGekV3XV9XFwHltcackm0+zS2/77Psrc+wROZfJIV7uO03ZeWlr28aQpDl7Gd3IBd8G7lxVm1fVllV1SNt+WHttO6b4tHRcC5zdXqua/ei+ByZujMAqfeNakiSN1FE98/+6EvVc2zN/r2GFkuwLPGgljjNhec98/zBvP++Z32OKOl7IzMb9nakTgEsn6k5y1xHWvRA+3jN/WJJRnpuV0TsEzUy6QZ6p09t0Q+D+I6x3PuwETPQec/pUBSVJkqRmpm20rYFDhm1vPtEz/9okc7kuH/V1/UQy/1p0P6INlGRDurYfdD03HjuCY6+UqroF+GFb3CHJRlMUn6+2tm0MSZqbHdv001XlMFMam6r6flXtUFU7jDsWzS8TNyRJWjo+B5zR5p+Z5J1TDS+SZP0kByd5Rt+mM3rm/7n1ZtG/767AR6cKJsmDk7w+yV2mKHNn4KltsYD/7SvylZ75Vw+J5W+A108Vy2xV1TXAG9viZsBXkkzZbW+SXZO8bZRxzFVVnc7kzc/dgE9OdQMxyVpJnpzk0HkO7dye+YeMsN6v9cw/dIT1zodde+ZPHFsUkiRJWp38gsleHfZNcrtr3tbuOo4umXmoqvoeXaI6dMOOHDdsyJR09hmwadTX9e8Grmvz/5LkgAGxrEeXdDLRE+MxVfXr/nJjMtEeWQPYZYpyI2lrD2AbQ5LmZoM2vXrKUpI0Iv1PrUqSpEWqqm5tN7i+C2wFvBR4WpLPAj8BrgTuCNyD7mbSnnRPR/UnPXyX7omhnem6AvxlkvfTddW2Pl3PF09vZT8JHDgkpI3pev44LMm3ge8AvwKuokuG2BF4FpNj8X6yqn7X955OT3IqXfLBvYEzWyy/bfs9Dti31Xst8OAZnKoZqar3JPlL4Dl0Tzv9PMkX6IakuZCuh4/N2/vYk27M6XOAfxlVDCvp/9ANH7Mj3d9r7ySfAX5AN1bn+nSfkwcDewGbAh+Z55h+ClwMbAE8O8klwPeYvEl7XVV9c9jOUziBbizndYDdmf2NzoX06Da9Bvj6OAORJEnS6qGqbkzyAeDlwNrAt5J8lC4R4Ca65IlDgE3oet97zjRVHkQ3zMg9gccA5yT5dKtvBV3b4EHAE+nahP3DoYz0ur6qlif5R+D9dPezP5fk83TX+VfQJZj8HyaHAzmfyZ43VgXHAW9q87sDJw0pN6q2dj/bGJKWtCTb0vXYtBewDV0i3e/oktne3n+/MUn/kFIfS/KxnuWj6P6vnHBycpv/Cs+rqm1HEbsWvySnAI+ie0jwLcBLgGfS3evemMn/x08GqKqBw9Al2RF4XatrE+AC4Et01yD3n27/nnr2pLumfChdwu+5wKeBt1bV9T3ldp+oszkoSe/3AuDRVXXKVMfTbZm4IUnSElJVv2/JBv+PLpngrnQXg8PcAvyxr45qvXCcBGxNdzPuDX37XQ8cSje28bCbSRONoDWBR7bXMEcD/zBk20F0F4nb0N3cOrxv+9l0YzN/aIr65+pg4Nd0F8XrAk9ur2H+MA8xzElVrUjyCOCDdDf/NqE7x8POM3QX/PMZ081JXg98gO6Gc3+Sy3nMYdzQqvpTkhPoxlrcP8kGVXXtdPsttCSbAI9vi8e2nl0kSZKkmXgtXdL1o+naJi9or14fAN7GNIkbVXVpkr+ia4dN3Px/fnvdrviA/Ud+XV9VH0j3q9gRwHp0Cfr7Dij6M+BJVXXJbOqfT1X1syQ/phuy5Fncvv08UW5Ube0/s40haalLciDdg0jrtlU30P0bet/2OiTJU6rqqz27XdSmm9MleaxgMvkQuvulFwETvQhfTvfA0IRV5v8grVbWA04BHg7cTPdw4+2uswZJsj/dddvabdXVdPf9XwQcALxmhvW8AnhrW7yS7iG4HYBlwKOS7NWGgYPuM38RXXLJenTXKFf2VXkjmhWHSpEkaYmpqgur6jF0T/p8ADiL7imlW+gaIj+nu9B7AbB1VX14QB2/obsp+O903fJeT3dBeDbwHmDnqpqyV4P2hNWOwD/TDdvxy1bHrW36c7qeER5VVc+oquuG1HNui+Xf2j7XtffxI+DVwC7z1UVudd5M9yTaG4Bv0iW63Eh3Tv5A90TTm4C/qqrd5yOOuaqqFVX1DLon8N5Jd84uo2scXE2XlHIcXZb1vapq4A3GEcf0QbqeUo6jO383jKjq/2rTO9IlcKyKnsrkjYT3jTMQSZIkrV7aE5CPpetp4rt0N/tvoEuS+Aywd1U9n669NZP6Lmrtl7+hS/z/LV2PDTfR9abxTbqb+Pcdsv/Ir+ur6v10vQa+FfgxXTv2RroeD0+g61Vkp6pavrLHmgcT7ZF7JXn4sEKjaGv3sY0haclKshddT1Nr0iUu3pOuB6M70P0Y/Vm6HgU+m+QeE/tV1ZZVtSXw+7bqpRPr2uu5bfuEJ/dt/8sFeHtafA6l69HsEGCjqtqMLnmof+jw20iyHd1wcWsDZ9LdC9+Qbqifveiuld4xg+P/Bd0DkYcDW1TVpnTJu//atj+anp5mquo77XtwdFt1dN/3YMuq+s4MjqseqZpRso4kSZK0WkvyE7oG0Ferau9xx9Mvybfohv05vaoeNu54JEmSJI1GkvXokmi2AD5YVc9boOPaxpC06CU5ku4H5aOq6uC2bg26h8S2B57XEgoH7ft5YB/gXVX1sr5ty+l6+D2kqo4csO/ED6wOB6E56xkqBWCfqjp+QJndGTLUSZIPA8+lS6y9X1X9qW/7femGSV93yP7LgMPa4huratmA4x9D18v016tqr75tR9L3/dPc2eOGJEmSloplbfrYJDuPM5B+bdia3driYVOVlSRJkrR6aT2iTAzr+Zwkd5vvY9rGkLTEPZIuaeNS4Ha9Cff4eJuucg/4aMk5a1DSxlTaMHIHtMX39SdtAFTV2XS9r03nBuA/hmz7fJs+aDbxafZM3JAkSdKSUFXH0nUbDZNJHKuKZW16UlWdOM5AJEmSJM2L9wHn0o0D/+oFON6yNrWNIWkp+us23Ri4IMkfB72AD7Vy24wnTOnPvj2HfbajG84EumHshjllBnWdVVVXD9l2QZtuNiV1s4cAAA8QSURBVMO4NEcmbkiSJGkpeRHduN5PTLLLuIOBPz8JtydwM/CSMYcjSZIkaR60Xjde3hb/PslW83Us2xiSxETPRmsDd5nitWkrt/5CByj1uXgO+2zeM3/B0FJw/gzqumqKbTe36VozqEcrwRMsSZKkJaOqzgTWHHccvarqNCDTFpQkSZK0Wquq41iAa3/bGJL053s/p1fVw8YaiTQzt6zk/jWSKDRW9rghSZIkSZIkSZIkabH4Y5s6BIoWs0t65u82tBTMWy9fGi0TNyRJkiRJkiRJkiQtFt9u0y3ncajciR4O7OFI4/Jb4Io2v/sU5abatrJubVO/ByNg4oYkSZIkSZIkSZKkxeJk4Ddt/ogk60xVOMlmczjGijbdZA77Siutqgr4n7b4/CSb9pdJsj3wtHkMw+/BCJm4IUmSJEmSJEmSJGlRqKqbgecDNwOPAL6VZM8ka0+USbJdkucnOQN44RwO87M2PTDJBisdtDQ3/w5cB9wF+GqSBwOkswdwInDtPB5/4nuwW5Id5vE4S4KJG5IkSZIkSZIkSZIWjar6BvBU4CpgV+DrwDVJLk1yPXAO8D5gFyaHPZmN97fpAcAVSf6QZHmS01Y+emlmquo3wHPokpR2Ac5MsgK4GvgGsA7w8lb8hnkI4RjgEmBT4BdJLmnfg+VJHjYPx1vUTNyQJEmSJEmSJEmStKhU1XHAvYE3At+n+zF7E7ofsH8CfBjYH/i/c6j7E8DfAqfR9WhwV2Ab4O6jiF2aqar6HF3SxmfpkijWBS4C3gU8GLiyFb1iHo59OfBI4NPA+cDGdN+DbYD1Rn28xS7d8DeSJEmSJEmSJEmSJGmxSPIW4DXASVW157jj0XD2uCFJkiRJkiRJkiRJ0iKSZHPg79riV8YZi6ZnjxuSJEmSJEmSJEmSJK1mkrwE2AD4HLC8qm5Osi6wJ/B2YAe6IVTuV1WXjS9STcfEDUmSJEmSJEmSJEmSVjNJ3gm8tC3eAlwJbASs1dZdCexXVacsfHSajbWmLyJJkiRJkiRJkiRJklYxR9ElbDwS2Aq4E3AdcC5wIvCuqjp/fOFppuxxQ5IkSZIkSZIkSZIkaUzWGHcAkiRJkiRJkiRJkiRJS5WJG5IkSZIkSZIkSZIkSWNi4oYkSZIkSZIkSZIkSdKYmLghSZIkSZIkSZIkSZI0JiZuSJIkSZIkSZIkSZIkjYmJG5IkSZIkSZIkSZIkSWNi4oYkSZIkSZIkSZIkSdKYmLghSZIkSZIkSZIkSbqNJMuSVHvtPu545lOS/dr7vD7JVvN4nEe049yU5AHzdRytfkzckCRJkiRJkiRJkqRFLslOLRljWZKdxh3PqiLJesARbfGDVXX+fB2rqk4DTgLWAv5zvo6j1Y+JG5IkSZIkSZIkSZK0+O0EHNZeJm5MeiGwLXA9cPgCHG9Zm+6RZO8FOJ5WAyZuSJIkSZIkSZIkSZJuo6qWVVXa65RxxzMfkqwPvKotHllVF8z3MavqVOC0tvjG+T6eVg8mbkiSJEmSJEmSJEmSlqLnAJu3+Y8v4HEnjrVrkocv4HG1ijJxQ5IkSZIkSZIkSZK0FL2gTc+pqu8u4HE/B9zQ5l+4gMfVKsrEDUmSJEmSJEmSJEmaJ0k2SnJgko8k+VGSK5LclORPSc5M8vYk95plnXsk+WCSX/TUd0mSU5O8Ocn9e8oenKSAj/VU8bEk1fda3neMZT3bdp8mnq2THN7ez5+S3JDk/CTHt+OvOc3+p0wcq2fdM5J8LckfW33nJTkyyQ6zOVdTHHNH4C/a4n/PoPw9krwoyWeTnJ3k6iQ3Jrm4xf/KJBvP5NhVdTnw5ba4f5I7zu1daLFIVU1fSpIkSZIkSZIkSZI0K0nWAVYA605T9GbgZVX13mnq25wuyeAx0x27qtL2OZjbJm0Mc15VbdtzrGXAYW3x0VV1ypCYngccAaw/Rd0/BfapquVD6jgFeFRbXB/4FLDfkLpuAPavqi8P2T4jSV4P/Gtb3KOqTp6i7O7ASUCmqfYS4MlVddoMjv8S4F1tcf+qOm7aoLVorTXuACRJkiRJkiRJkiRpkVqDLmnjAuBrwP8CFwG3AlsDDwf2ofvd9j1JLqiqYwdV1JI2Tgfu2VZdSZfgcAZdcsidgJ2AJwJ379n1JGB/YA/gxW3du9v6XtfO9s21pI3396w6HvgScAVwH+CQFu+OwGlJHlxVl0xT7UfpkjZ+CHwa+B1wZ+BAuvO1LvCJJPetqktnG3OPvdr0VuAH05Rdjy5p4yzgZOAXwGVt/dYt3p2BzYEvJtlpWJJKj+/1zO8NmLixhNnjhiRJkiRJkiRJkiTNgzZEyF7AiTXkh9kkDwJOBLYEfgtsX1W3Dih3AvD4tvgN4GlV9acB5QLs29+DQ1/PG4dU1ZHTxL6MKXrcSLIt8HO6HjJuAZ5VVZ/pK7M+8FngCW3V56rqqQOOdQqTPW4AvAV4fe85S7IGcAyTPXG8sqreNtV7GKb9XVYAGwBnVdUDpym/DbBRVf10ijLPBD5Bl6xzZFUdMk2dvb2x/KiqHjK7d6HFZI1xByBJkiRJkiRJkiRJi1FV3VJVXxmWtNHK/C/wmra4HV2vEreR5OFMJm38hi4x43ZJG62+WqBhN17C5PAob+9P2mixXAc8C7iwrTogyfbT1HtSVb2u/5y1ZJZX9Kzae25hA9153qDNnz1d4ao6b6qkjVbmU3SJGwBPT7L2NOVvpEvUAXhAS0zREuUfX5IkSZIkSZIkSZLG6zs987sO2H5gz/ybq+qaeY5nJp7cpjcDbx9WqKpWAP/VFkM3bMtU3jVFXb8Bft8W7z+zMAfapmd+YALMHE38HdcHHjSD8pe36TrAXUcYh1YzJm5IkiRJkiRJkiRJ0jxKsm2Sw5KcnOTCJNclqYkX8Mue4ncfUMUj2rSA4+c94Gkk2YLJ5IefVNXF0+zy1Z75QYkpvb43zfbz23TTacpNZbOe+RknbiTZNcm7k5yR5LIkN/b9Hd/fU3zQ37HfZT3zK/N+tJpba9wBSJIkSZIkSZIkSdJileRlwOHAujPcZaMB6yaSAC4eNkTKAuvtHeJXMyjfW2a6niUunWb7DW060/M5SO++V01XOMk6wIeBv53FMQb9Hfut6Jlff2gpLXombkiSJEmSJEmSJEnSPEhyIHBEz6pTgW8Cy+kSBm5s67cAPtDm1xxQ1UQSwNWjj3JONuyZn8mwLb1xbzi0FFBVt84potm5oWd+JgkW72UyaeMG4ATgDLreP64Bbmnb9gBe3OYH/R37bdwzf90MymuRMnFDkiRJkiRJkiRJkubHm9r0ZmCfqvryoEJJHjBNPSvohve44whjWxm9vVTcYQble+OetoeLBdDba8lmQ0vRDXMDPLct/gF4VFX9dkjZrWYZx5yGbNHis8a4A5AkSZIkSZIkSZKkxSbJdsA92+Jxw5I2mm2mqe4PbbpFkikTDRbIhT3z28+gfG+ZC0Ycy1ws75mf7nzuAaTNHz4saaOZ7u/Yb+LYN3Lbc6olxsQNSZIkSZIkSZIkSRq9u/TMnzNN2b2n2X5qmwZ40hzj6R2CJENLzUBVXQyc1xZ3SrL5NLs8tmf++ytz7BE5l8khXu47TdlR/h3/LMm6wHZt8WdVVTPdV4uPiRuSJEmSJEmSJEmSNHrX9szfa1ihJFsDh0xT1yd65l+bZCbDk/S7umd+Lvv3O6ZN1wJeNqxQkg2BF7bFAo4dwbFXSlXdAvywLe6QZKMpis/077gv8KBZhLETsE6bP30W+2kRMnFDkiRJkiRJkiRJkkbvF0z26rBvkof2F0hyF+A4YMOpKqqq7wEntMXtgeOGDZmSzj4DNp3bM/+QaWKfiXcD17X5f0lywIBY1qNLOrlbW3VMVf16BMceha+16RrALlOUO6Nn/p+TbNpfIMmuwEdnefxde+ZPnOW+WmTWGncAkiRJkiRJkiRJkrTYVNWNST4AvBxYG/hWko/SJQLcRJc8cQiwCfBx4DnTVHkQ3TAj9wQeA5yT5NOtvhXApnQ9PjwR2JbbD4fyU+D/t3f3IHZUYRiA31MZOyuFgCAkaLuSRiRiYqESENKIRTQYCw1YWVq5YOFPYyNmTaNiLBQh2ghCCEksopUWCgpGs2DwrxFU3Kj4WZyBKyaTZKO7k+x9nmbuXM4935nbzsv3/ZDk+iQPttZ+TPJhZuGL36rq+Cqe73Rr7YkkS+nvnd9urb2bHjD5KT1g8khm40DOZNZ540rwTpKnh887khwdWXcyvTvHtvT/9fPW2lKSL5Jcm+SuJA8Ma99IsucS6+8crr8mObKKc7MBNaNyAAAAAAAAAP5/Q8eJ9zJ7SX8+Lyd5Psmp4f61qnp4ZL8bkryZ5M6LlK6qOmf6Qmvt0aHe+SxX1U3/WLuY5KnhdmdVHRs50/4kLyTZdIHzfJrkvqo6PbLHsQzPVFX/Dpxc9tqLaa19nD6y5FRVbb3Auq3pwY4bR5asJHk8yV9JXhm+21dVr47sd12S75Jck+RQVT10WQ/AhmFUCgAAAAAAAMAaqKqVJHend5o4meTnJGeTLCd5K8k9VbU//YX/pez3fVXtSLIryetJvkrv2PBHejeN40kWk9wy8vuDSe5N7zbxzXCW/6SqlpLcnOS5JJ+kd9v4Pcm36aGVfUkWxkIbE3tpuG5prd0+tqiqvkxya5Jn0kfgrCT5Jb3rxotJtlXVakal3J8e2kiSA6s9NBuPjhsAAAAAAAAAzJ2hI8py+viYg1X12DrVPZHkjiQfVdVt61GTK5uOGwAAAAAAAADMnaEjyrPD7d7W2ua1rtla254e2khmo2iYc4IbAAAAAAAAAMyrA0m+TrIpyZPrUG9xuB6tqvfXoR5XAaNSAAAAAAAAAJhbrbXdSQ4nOZtkS1WdWaM625N8kOTPJAtV9dla1OHqI7gBAAAAAAAAADARo1IAAAAAAAAAACYiuAEAAAAAAAAAMBHBDQAAAAAAAACAiQhuAAAAAAAAAABMRHADAAAAAAAAAGAighsAAAAAAAAAABMR3AAAAAAAAAAAmIjgBgAAAAAAAADARAQ3AAAAAAAAAAAmIrgBAAAAAAAAADARwQ0AAAAAAAAAgIkIbgAAAAAAAAAATERwAwAAAAAAAABgIoIbAAAAAAAAAAATEdwAAAAAAAAAAJjI3yX4jbplOWmNAAAAAElFTkSuQmCC\n",
                "text/plain": "<Figure size 1224x288 with 5 Axes>"
              }
            ],
            "_view_module": "@jupyter-widgets/output",
            "_model_module_version": "1.0.0",
            "_view_count": null,
            "_view_module_version": "1.0.0",
            "layout": "IPY_MODEL_ab99380bd1724b57a3c4d1f306a94043",
            "_model_module": "@jupyter-widgets/output"
          }
        },
        "e25c9c4e65cc484682a7f26667e2d7b4": {
          "model_module": "@jupyter-widgets/controls",
          "model_name": "SliderStyleModel",
          "state": {
            "_view_name": "StyleView",
            "handle_color": null,
            "_model_name": "SliderStyleModel",
            "description_width": "",
            "_view_module": "@jupyter-widgets/base",
            "_model_module_version": "1.5.0",
            "_view_count": null,
            "_view_module_version": "1.2.0",
            "_model_module": "@jupyter-widgets/controls"
          }
        },
        "243aa1d9016a4d4297d5233ae3ccb03b": {
          "model_module": "@jupyter-widgets/base",
          "model_name": "LayoutModel",
          "state": {
            "_view_name": "LayoutView",
            "grid_template_rows": null,
            "right": null,
            "justify_content": null,
            "_view_module": "@jupyter-widgets/base",
            "overflow": null,
            "_model_module_version": "1.2.0",
            "_view_count": null,
            "flex_flow": null,
            "width": null,
            "min_width": null,
            "border": null,
            "align_items": null,
            "bottom": null,
            "_model_module": "@jupyter-widgets/base",
            "top": null,
            "grid_column": null,
            "overflow_y": null,
            "overflow_x": null,
            "grid_auto_flow": null,
            "grid_area": null,
            "grid_template_columns": null,
            "flex": null,
            "_model_name": "LayoutModel",
            "justify_items": null,
            "grid_row": null,
            "max_height": null,
            "align_content": null,
            "visibility": null,
            "align_self": null,
            "height": null,
            "min_height": null,
            "padding": null,
            "grid_auto_rows": null,
            "grid_gap": null,
            "max_width": null,
            "order": null,
            "_view_module_version": "1.2.0",
            "grid_template_areas": null,
            "object_position": null,
            "object_fit": null,
            "grid_auto_columns": null,
            "margin": null,
            "display": null,
            "left": null
          }
        },
        "b886252ec2fa4c498debae823fbfb2c3": {
          "model_module": "@jupyter-widgets/controls",
          "model_name": "SliderStyleModel",
          "state": {
            "_view_name": "StyleView",
            "handle_color": null,
            "_model_name": "SliderStyleModel",
            "description_width": "initial",
            "_view_module": "@jupyter-widgets/base",
            "_model_module_version": "1.5.0",
            "_view_count": null,
            "_view_module_version": "1.2.0",
            "_model_module": "@jupyter-widgets/controls"
          }
        },
        "d3c991f81d98436c83c2969347ba401c": {
          "model_module": "@jupyter-widgets/base",
          "model_name": "LayoutModel",
          "state": {
            "_view_name": "LayoutView",
            "grid_template_rows": null,
            "right": null,
            "justify_content": null,
            "_view_module": "@jupyter-widgets/base",
            "overflow": null,
            "_model_module_version": "1.2.0",
            "_view_count": null,
            "flex_flow": null,
            "width": null,
            "min_width": null,
            "border": null,
            "align_items": null,
            "bottom": null,
            "_model_module": "@jupyter-widgets/base",
            "top": null,
            "grid_column": null,
            "overflow_y": null,
            "overflow_x": null,
            "grid_auto_flow": null,
            "grid_area": null,
            "grid_template_columns": null,
            "flex": null,
            "_model_name": "LayoutModel",
            "justify_items": null,
            "grid_row": null,
            "max_height": null,
            "align_content": null,
            "visibility": null,
            "align_self": null,
            "height": null,
            "min_height": null,
            "padding": null,
            "grid_auto_rows": null,
            "grid_gap": null,
            "max_width": null,
            "order": null,
            "_view_module_version": "1.2.0",
            "grid_template_areas": null,
            "object_position": null,
            "object_fit": null,
            "grid_auto_columns": null,
            "margin": null,
            "display": null,
            "left": null
          }
        },
        "ce487d7b97e040bfad3c0a8a3dd8487f": {
          "model_module": "@jupyter-widgets/controls",
          "model_name": "SliderStyleModel",
          "state": {
            "_view_name": "StyleView",
            "handle_color": null,
            "_model_name": "SliderStyleModel",
            "description_width": "initial",
            "_view_module": "@jupyter-widgets/base",
            "_model_module_version": "1.5.0",
            "_view_count": null,
            "_view_module_version": "1.2.0",
            "_model_module": "@jupyter-widgets/controls"
          }
        },
        "56fd6138552f4b56920d8d04eac37026": {
          "model_module": "@jupyter-widgets/base",
          "model_name": "LayoutModel",
          "state": {
            "_view_name": "LayoutView",
            "grid_template_rows": null,
            "right": null,
            "justify_content": null,
            "_view_module": "@jupyter-widgets/base",
            "overflow": null,
            "_model_module_version": "1.2.0",
            "_view_count": null,
            "flex_flow": null,
            "width": null,
            "min_width": null,
            "border": null,
            "align_items": null,
            "bottom": null,
            "_model_module": "@jupyter-widgets/base",
            "top": null,
            "grid_column": null,
            "overflow_y": null,
            "overflow_x": null,
            "grid_auto_flow": null,
            "grid_area": null,
            "grid_template_columns": null,
            "flex": null,
            "_model_name": "LayoutModel",
            "justify_items": null,
            "grid_row": null,
            "max_height": null,
            "align_content": null,
            "visibility": null,
            "align_self": null,
            "height": null,
            "min_height": null,
            "padding": null,
            "grid_auto_rows": null,
            "grid_gap": null,
            "max_width": null,
            "order": null,
            "_view_module_version": "1.2.0",
            "grid_template_areas": null,
            "object_position": null,
            "object_fit": null,
            "grid_auto_columns": null,
            "margin": null,
            "display": null,
            "left": null
          }
        },
        "8acc0d5e441a44a4af9d483b4696dbb6": {
          "model_module": "@jupyter-widgets/controls",
          "model_name": "DescriptionStyleModel",
          "state": {
            "_view_name": "StyleView",
            "_model_name": "DescriptionStyleModel",
            "description_width": "",
            "_view_module": "@jupyter-widgets/base",
            "_model_module_version": "1.5.0",
            "_view_count": null,
            "_view_module_version": "1.2.0",
            "_model_module": "@jupyter-widgets/controls"
          }
        },
        "147cbaeeb4f74fe996171d1d9b46cd2b": {
          "model_module": "@jupyter-widgets/base",
          "model_name": "LayoutModel",
          "state": {
            "_view_name": "LayoutView",
            "grid_template_rows": null,
            "right": null,
            "justify_content": null,
            "_view_module": "@jupyter-widgets/base",
            "overflow": null,
            "_model_module_version": "1.2.0",
            "_view_count": null,
            "flex_flow": null,
            "width": "max-content",
            "min_width": null,
            "border": null,
            "align_items": null,
            "bottom": null,
            "_model_module": "@jupyter-widgets/base",
            "top": null,
            "grid_column": null,
            "overflow_y": null,
            "overflow_x": null,
            "grid_auto_flow": null,
            "grid_area": null,
            "grid_template_columns": null,
            "flex": null,
            "_model_name": "LayoutModel",
            "justify_items": null,
            "grid_row": null,
            "max_height": null,
            "align_content": null,
            "visibility": null,
            "align_self": null,
            "height": null,
            "min_height": null,
            "padding": null,
            "grid_auto_rows": null,
            "grid_gap": null,
            "max_width": null,
            "order": null,
            "_view_module_version": "1.2.0",
            "grid_template_areas": null,
            "object_position": null,
            "object_fit": null,
            "grid_auto_columns": null,
            "margin": null,
            "display": null,
            "left": null
          }
        },
        "ab99380bd1724b57a3c4d1f306a94043": {
          "model_module": "@jupyter-widgets/base",
          "model_name": "LayoutModel",
          "state": {
            "_view_name": "LayoutView",
            "grid_template_rows": null,
            "right": null,
            "justify_content": null,
            "_view_module": "@jupyter-widgets/base",
            "overflow": null,
            "_model_module_version": "1.2.0",
            "_view_count": null,
            "flex_flow": null,
            "width": null,
            "min_width": null,
            "border": null,
            "align_items": null,
            "bottom": null,
            "_model_module": "@jupyter-widgets/base",
            "top": null,
            "grid_column": null,
            "overflow_y": null,
            "overflow_x": null,
            "grid_auto_flow": null,
            "grid_area": null,
            "grid_template_columns": null,
            "flex": null,
            "_model_name": "LayoutModel",
            "justify_items": null,
            "grid_row": null,
            "max_height": null,
            "align_content": null,
            "visibility": null,
            "align_self": null,
            "height": null,
            "min_height": null,
            "padding": null,
            "grid_auto_rows": null,
            "grid_gap": null,
            "max_width": null,
            "order": null,
            "_view_module_version": "1.2.0",
            "grid_template_areas": null,
            "object_position": null,
            "object_fit": null,
            "grid_auto_columns": null,
            "margin": null,
            "display": null,
            "left": null
          }
        }
      }
    }
  },
  "cells": [
    {
      "cell_type": "markdown",
      "metadata": {
        "id": "eVZvy50lkTbQ"
      },
      "source": [
        "# Tutorial 1: Bayes with a binary hidden state\n",
        "**Week 3, Day 1: Bayesian Decisions**\n",
        "\n",
        "**By Neuromatch Academy**\n",
        "\n",
        "__Content creators:__ [insert your name here]\n",
        "\n",
        "__Content reviewers:__ "
      ]
    },
    {
      "cell_type": "markdown",
      "metadata": {
        "id": "SYa8tNuTkTbW"
      },
      "source": [
        "**Our 2021 Sponsors, including Presenting Sponsor Facebook Reality Labs**\n",
        "\n",
        "<p align='center'><img src='https://github.com/NeuromatchAcademy/widgets/blob/master/sponsors.png?raw=True'/></p>"
      ]
    },
    {
      "cell_type": "markdown",
      "metadata": {
        "id": "30K5YA6rkTbX"
      },
      "source": [
        "# Tutorial Objectives\n",
        "This is the first in a series of two core tutorials on Bayesian statistics. In these tutorials, we will explore the fundemental concepts of the Bayesian approach from two perspectives. This tutorial will work through an example of Bayesian inference and decision making using a binary hidden state. The second main tutorial extends these concepts to a continuous hidden state. In the next days, each of these basic ideas will be extended--first through time as we consider what happens when we infere a hidden state using multiple observations and when the hidden state changes across time. In the third day, we will introduce the notion of how to use inference and decisions to select actions for optimal control. For this tutorial, you will be introduced to our binary state fishing problem!\n",
        "\n",
        "This notebook will introduce the fundamental building blocks for Bayesian statistics: \n",
        "\n",
        "1. How do we use probability distributions to represent hidden states?\n",
        "2. How does marginalization work and how can we use it?\n",
        "3. How do we combine new information with our prior knowledge?\n",
        "4. How do we combine the possible loss (or gain) for making a decision with our probabilitic knowledge?\n"
      ]
    },
    {
      "cell_type": "code",
      "metadata": {
        "cellView": "form",
        "execution": {
          "iopub.execute_input": "2021-06-25T15:15:26.250647Z",
          "iopub.status.busy": "2021-06-25T15:15:26.250126Z",
          "iopub.status.idle": "2021-06-25T15:15:26.382494Z",
          "shell.execute_reply": "2021-06-25T15:15:26.381532Z"
        },
        "id": "YIu3vMlykTbY",
        "outputId": "2c1c2fe0-40b2-4f36-d940-aa7cd511e1db",
        "colab": {
          "base_uri": "https://localhost:8080/",
          "height": 580,
          "referenced_widgets": [
            "2fef00b7831c42cbb1ead64507c02332",
            "a0ed18d60c944b9d93a79b322d9868a7",
            "35f13a16dfb24f24a9d38a1617f37194",
            "04fed379fecf4310968b2a5d248c653d",
            "6b629ae79c27405b83e3daf1cb1200d2",
            "0e4d6f8a37ac4525ad3d8bfdbef1dff5"
          ]
        }
      },
      "source": [
        "# @title Video 1: Introduction to Bayesian Statistics\n",
        "from ipywidgets import widgets\n",
        "\n",
        "out2 = widgets.Output()\n",
        "with out2:\n",
        "  from IPython.display import IFrame\n",
        "  class BiliVideo(IFrame):\n",
        "      def __init__(self, id, page=1, width=400, height=300, **kwargs):\n",
        "          self.id=id\n",
        "          src = 'https://player.bilibili.com/player.html?bvid={0}&page={1}'.format(id, page)\n",
        "          super(BiliVideo, self).__init__(src, width, height, **kwargs)\n",
        "\n",
        "  video = BiliVideo(id=\"\", width=854, height=480, fs=1)\n",
        "  print('Video available at https://www.bilibili.com/video/{0}'.format(video.id))\n",
        "  display(video)\n",
        "\n",
        "out1 = widgets.Output()\n",
        "with out1:\n",
        "  from IPython.display import YouTubeVideo\n",
        "  video = YouTubeVideo(id=\"JiEIn9QsrFg\", width=854, height=480, fs=1, rel=0)\n",
        "  print('Video available at https://youtube.com/watch?v=' + video.id)\n",
        "  display(video)\n",
        "\n",
        "out = widgets.Tab([out1, out2])\n",
        "out.set_title(0, 'Youtube')\n",
        "out.set_title(1, 'Bilibili')\n",
        "\n",
        "display(out)"
      ],
      "execution_count": 1,
      "outputs": [
        {
          "output_type": "display_data",
          "data": {
            "application/vnd.jupyter.widget-view+json": {
              "model_id": "2fef00b7831c42cbb1ead64507c02332",
              "version_minor": 0,
              "version_major": 2
            },
            "text/plain": [
              "Tab(children=(Output(), Output()), _titles={'0': 'Youtube', '1': 'Bilibili'})"
            ]
          },
          "metadata": {
            "tags": []
          }
        }
      ]
    },
    {
      "cell_type": "markdown",
      "metadata": {
        "id": "W-rwqdDMkTba"
      },
      "source": [
        "## Setup  \n",
        "Please execute the cells below to initialize the notebook environment."
      ]
    },
    {
      "cell_type": "code",
      "metadata": {
        "execution": {
          "iopub.execute_input": "2021-06-25T15:15:26.396114Z",
          "iopub.status.busy": "2021-06-25T15:15:26.395542Z",
          "iopub.status.idle": "2021-06-25T15:15:26.779072Z",
          "shell.execute_reply": "2021-06-25T15:15:26.779955Z"
        },
        "id": "6k97-M_GkTba"
      },
      "source": [
        "import numpy as np\n",
        "import matplotlib.pyplot as plt\n",
        "from matplotlib import patches\n",
        "from matplotlib import transforms\n",
        "from matplotlib import gridspec\n",
        "from scipy.optimize import fsolve\n",
        "\n",
        "from collections import namedtuple"
      ],
      "execution_count": 2,
      "outputs": []
    },
    {
      "cell_type": "code",
      "metadata": {
        "cellView": "form",
        "execution": {
          "iopub.execute_input": "2021-06-25T15:15:26.783374Z",
          "iopub.status.busy": "2021-06-25T15:15:26.782267Z",
          "iopub.status.idle": "2021-06-25T15:15:26.826729Z",
          "shell.execute_reply": "2021-06-25T15:15:26.827529Z"
        },
        "id": "vjM4G4SUkTbb"
      },
      "source": [
        "#@title Figure Settings\n",
        "import ipywidgets as widgets       # interactive display\n",
        "from ipywidgets import GridspecLayout\n",
        "from IPython.display import clear_output\n",
        "%config InlineBackend.figure_format = 'retina'\n",
        "plt.style.use(\"https://raw.githubusercontent.com/NeuromatchAcademy/course-content/master/nma.mplstyle\")\n",
        "\n",
        "import warnings\n",
        "warnings.filterwarnings(\"ignore\")"
      ],
      "execution_count": 3,
      "outputs": []
    },
    {
      "cell_type": "code",
      "metadata": {
        "cellView": "form",
        "execution": {
          "iopub.execute_input": "2021-06-25T15:15:26.831991Z",
          "iopub.status.busy": "2021-06-25T15:15:26.830372Z",
          "iopub.status.idle": "2021-06-25T15:15:26.901682Z",
          "shell.execute_reply": "2021-06-25T15:15:26.901183Z"
        },
        "id": "-Zud0jg1kTbc"
      },
      "source": [
        "# @title Plotting Functions\n",
        "\n",
        "def plot_joint_probs(P, ):\n",
        "    assert np.all(P >= 0), \"probabilities should be >= 0\"\n",
        "    # normalize if not\n",
        "    P = P / np.sum(P)\n",
        "    marginal_y = np.sum(P,axis=1)\n",
        "    marginal_x = np.sum(P,axis=0)\n",
        "\n",
        "    # definitions for the axes\n",
        "    left, width = 0.1, 0.65\n",
        "    bottom, height = 0.1, 0.65\n",
        "    spacing = 0.005\n",
        "\n",
        "    # start with a square Figure\n",
        "    fig = plt.figure(figsize=(5, 5))\n",
        "\n",
        "    joint_prob = [left, bottom, width, height]\n",
        "    rect_histx = [left, bottom + height + spacing, width, 0.2]\n",
        "    rect_histy = [left + width + spacing, bottom, 0.2, height]\n",
        "\n",
        "    rect_x_cmap = plt.cm.Blues\n",
        "    rect_y_cmap = plt.cm.Reds\n",
        "\n",
        "    # Show joint probs and marginals\n",
        "    ax = fig.add_axes(joint_prob)\n",
        "    ax_x = fig.add_axes(rect_histx, sharex=ax)\n",
        "    ax_y = fig.add_axes(rect_histy, sharey=ax)\n",
        "\n",
        "    # Show joint probs and marginals\n",
        "    ax.matshow(P,vmin=0., vmax=1., cmap='Greys')\n",
        "    ax_x.bar(0, marginal_x[0], facecolor=rect_x_cmap(marginal_x[0]))\n",
        "    ax_x.bar(1, marginal_x[1], facecolor=rect_x_cmap(marginal_x[1]))\n",
        "    ax_y.barh(0, marginal_y[0], facecolor=rect_y_cmap(marginal_y[0]))\n",
        "    ax_y.barh(1, marginal_y[1], facecolor=rect_y_cmap(marginal_y[1]))\n",
        "    # set limits\n",
        "    ax_x.set_ylim([0,1])\n",
        "    ax_y.set_xlim([0,1])\n",
        "\n",
        "    # show values\n",
        "    ind = np.arange(2)\n",
        "    x,y = np.meshgrid(ind,ind)\n",
        "    for i,j in zip(x.flatten(), y.flatten()):\n",
        "        c = f\"{P[i,j]:.2f}\"\n",
        "        ax.text(j,i, c, va='center', ha='center', color='black')\n",
        "    for i in ind:\n",
        "        v = marginal_x[i]\n",
        "        c = f\"{v:.2f}\"\n",
        "        ax_x.text(i, v +0.1, c, va='center', ha='center', color='black')\n",
        "        v = marginal_y[i]\n",
        "        c = f\"{v:.2f}\"\n",
        "        ax_y.text(v+0.2, i, c, va='center', ha='center', color='black')\n",
        "\n",
        "    # set up labels\n",
        "    ax.xaxis.tick_bottom()\n",
        "    ax.yaxis.tick_left()\n",
        "    ax.set_xticks([0,1])\n",
        "    ax.set_yticks([0,1])\n",
        "    ax.set_xticklabels(['Silver','Gold'])\n",
        "    ax.set_yticklabels(['Small', 'Large'])\n",
        "    ax.set_xlabel('color')\n",
        "    ax.set_ylabel('size')\n",
        "    ax_x.axis('off')\n",
        "    ax_y.axis('off')\n",
        "    return fig\n",
        "# test\n",
        "# P = np.random.rand(2,2)\n",
        "# P = np.asarray([[0.9, 0.8], [0.4, 0.1]])\n",
        "# P = P / np.sum(P)\n",
        "# fig = plot_joint_probs(P)\n",
        "# plt.show(fig)\n",
        "# plt.close(fig)\n",
        "\n",
        "\n",
        "# fig = plot_prior_likelihood(0.5, 0.3)\n",
        "# plt.show(fig)\n",
        "# plt.close(fig)\n",
        "\n",
        "\n",
        "def plot_prior_likelihood_posterior(prior, likelihood, posterior):\n",
        "\n",
        "    # definitions for the axes\n",
        "    left, width = 0.05, 0.3\n",
        "    bottom, height = 0.05, 0.9\n",
        "    padding = 0.1\n",
        "    small_width = 0.1\n",
        "    left_space = left + small_width + padding\n",
        "    added_space = padding + width\n",
        "\n",
        "    fig = plt.figure(figsize=(10, 4))\n",
        "\n",
        "    rect_prior = [left, bottom, small_width, height]\n",
        "    rect_likelihood = [left_space , bottom , width, height]\n",
        "    rect_posterior = [left_space +  added_space, bottom , width, height]\n",
        "\n",
        "    ax_prior = fig.add_axes(rect_prior)\n",
        "    ax_likelihood = fig.add_axes(rect_likelihood, sharey=ax_prior)\n",
        "    ax_posterior = fig.add_axes(rect_posterior, sharey = ax_prior)\n",
        "\n",
        "    rect_colormap = plt.cm.Blues\n",
        "\n",
        "    # Show posterior probs and marginals\n",
        "    ax_prior.barh(0, prior[0], facecolor = rect_colormap(prior[0, 0]))\n",
        "    ax_prior.barh(1, prior[1], facecolor = rect_colormap(prior[1, 0]))\n",
        "    ax_likelihood.matshow(likelihood, vmin=0., vmax=1., cmap='Reds')\n",
        "    ax_posterior.matshow(posterior, vmin=0., vmax=1., cmap='Greens')\n",
        "\n",
        "\n",
        "    # Probabilities plot details\n",
        "    ax_prior.set(xlim = [1, 0], yticks = [0, 1], yticklabels = ['left', 'right'],\n",
        "                 ylabel = 'state (s)', title = \"Prior p(s)\")\n",
        "    ax_prior.axis('off')\n",
        "\n",
        "    # Likelihood plot details\n",
        "    ax_likelihood.set(xticks = [0, 1], xticklabels = ['fish', 'no fish'],\n",
        "                  yticks = [0, 1], yticklabels = ['left', 'right'],\n",
        "                   ylabel = 'state (s)', xlabel = 'measurement (m)',\n",
        "                   title = 'Likelihood p(m (right) | s)')\n",
        "    ax_likelihood.xaxis.set_ticks_position('bottom')\n",
        "    ax_likelihood.spines['left'].set_visible(False)\n",
        "    ax_likelihood.spines['bottom'].set_visible(False)\n",
        "\n",
        "    # Posterior plot details\n",
        "\n",
        "    ax_posterior.set(xticks = [0, 1], xticklabels = ['fish', 'no fish'],\n",
        "                  yticks = [0, 1], yticklabels = ['left', 'right'],\n",
        "                   ylabel = 'state (s)', xlabel = 'measurement (m)',\n",
        "                   title = 'Posterior p(s | m)')\n",
        "    ax_posterior.xaxis.set_ticks_position('bottom')\n",
        "    ax_posterior.spines['left'].set_visible(False)\n",
        "    ax_posterior.spines['bottom'].set_visible(False)\n",
        "\n",
        "\n",
        "    # show values\n",
        "    ind = np.arange(2)\n",
        "    x,y = np.meshgrid(ind,ind)\n",
        "    for i,j in zip(x.flatten(), y.flatten()):\n",
        "        c = f\"{posterior[i,j]:.2f}\"\n",
        "        ax_posterior.text(j,i, c, va='center', ha='center', color='black')\n",
        "    for i,j in zip(x.flatten(), y.flatten()):\n",
        "        c = f\"{likelihood[i,j]:.2f}\"\n",
        "        ax_likelihood.text(j,i, c, va='center', ha='center', color='black')\n",
        "    for i in ind:\n",
        "        v = prior[i, 0]\n",
        "        c = f\"{v:.2f}\"\n",
        "        ax_prior.text(v+0.2, i, c, va='center', ha='center', color='black')\n",
        "\n",
        "\n",
        "def plot_prior_likelihood(ps, p_a_s1, p_a_s0, measurement):\n",
        "    likelihood = np.asarray([[p_a_s1, 1-p_a_s1],[p_a_s0, 1-p_a_s0]])\n",
        "    assert 0.0 <= ps <= 1.0\n",
        "    prior = np.asarray([ps, 1 - ps])\n",
        "    if measurement:\n",
        "        posterior = likelihood[:, 0] * prior\n",
        "    else:\n",
        "        posterior = (likelihood[:, 1] * prior).reshape(-1)\n",
        "    posterior /= np.sum(posterior)\n",
        "\n",
        "    # definitions for the axes\n",
        "    left, width = 0.05, 0.3\n",
        "    bottom, height = 0.05, 0.9\n",
        "    padding = 0.1\n",
        "    small_width = 0.22\n",
        "    left_space = left + small_width + padding\n",
        "    small_padding = 0.05\n",
        "\n",
        "    fig = plt.figure(figsize=(10, 4))\n",
        "\n",
        "    rect_prior = [left, bottom, small_width, height]\n",
        "    rect_likelihood = [left_space , bottom , width, height]\n",
        "    rect_posterior = [left_space + width + small_padding, bottom , small_width, height]\n",
        "\n",
        "    ax_prior = fig.add_axes(rect_prior)\n",
        "    ax_likelihood = fig.add_axes(rect_likelihood, sharey=ax_prior)\n",
        "    ax_posterior = fig.add_axes(rect_posterior, sharey=ax_prior)\n",
        "\n",
        "    prior_colormap = plt.cm.Blues\n",
        "    posterior_colormap = plt.cm.Greens\n",
        "\n",
        "    # Show posterior probs and marginals\n",
        "    ax_prior.barh(0, prior[0], facecolor = prior_colormap(prior[0]))\n",
        "    ax_prior.barh(1, prior[1], facecolor = prior_colormap(prior[1]))\n",
        "    ax_likelihood.matshow(likelihood, vmin=0., vmax=1., cmap='Reds')\n",
        "    # ax_posterior.matshow(posterior, vmin=0., vmax=1., cmap='')\n",
        "    ax_posterior.barh(0, posterior[0], facecolor = posterior_colormap(posterior[0]))\n",
        "    ax_posterior.barh(1, posterior[1], facecolor = posterior_colormap(posterior[1]))\n",
        "\n",
        "    # Probabilities plot details\n",
        "    ax_prior.set(xlim = [1, 0], yticks = [0, 1], yticklabels = ['left', 'right'],\n",
        "                 ylabel = 'state (s)', title = \"Prior p(s)\")\n",
        "    ax_prior.axis('off')\n",
        "\n",
        "    # Likelihood plot details\n",
        "    ax_likelihood.set(xticks = [0, 1], xticklabels = ['fish', 'no fish'],\n",
        "                  yticks = [0, 1], yticklabels = ['left', 'right'],\n",
        "                   ylabel = 'state (s)', xlabel = 'measurement (m)',\n",
        "                   title = 'Likelihood p(m | s)')\n",
        "    ax_likelihood.xaxis.set_ticks_position('bottom')\n",
        "    ax_likelihood.spines['left'].set_visible(False)\n",
        "    ax_likelihood.spines['bottom'].set_visible(False)\n",
        "\n",
        "    # Posterior plot details\n",
        "    ax_posterior.set(xlim = [0, 1], yticks = [0, 1], yticklabels = ['left', 'right'],\n",
        "                 ylabel = 'state (s)', title = \"Posterior p(s | m)\")\n",
        "    ax_posterior.axis('off')\n",
        "    # ax_posterior.set(xticks = [0, 1], xticklabels = ['fish', 'no fish'],\n",
        "    #               yticks = [0, 1], yticklabels = ['left', 'right'],\n",
        "    #                ylabel = 'state (s)', xlabel = 'measurement (m)',\n",
        "    #                title = 'Posterior p(s | m)')\n",
        "    # ax_posterior.xaxis.set_ticks_position('bottom')\n",
        "    # ax_posterior.spines['left'].set_visible(False)\n",
        "    # ax_posterior.spines['bottom'].set_visible(False)\n",
        "\n",
        "\n",
        "    # show values\n",
        "    ind = np.arange(2)\n",
        "    x,y = np.meshgrid(ind,ind)\n",
        "    # for i,j in zip(x.flatten(), y.flatten()):\n",
        "    #     c = f\"{posterior[i,j]:.2f}\"\n",
        "    #     ax_posterior.text(j,i, c, va='center', ha='center', color='black')\n",
        "    for i in ind:\n",
        "        v = posterior[i]\n",
        "        c = f\"{v:.2f}\"\n",
        "        ax_posterior.text(v+0.2, i, c, va='center', ha='center', color='black')\n",
        "    for i,j in zip(x.flatten(), y.flatten()):\n",
        "        c = f\"{likelihood[i,j]:.2f}\"\n",
        "        ax_likelihood.text(j,i, c, va='center', ha='center', color='black')\n",
        "    for i in ind:\n",
        "        v = prior[i]\n",
        "        c = f\"{v:.2f}\"\n",
        "        ax_prior.text(v+0.2, i, c, va='center', ha='center', color='black')\n",
        "    return fig\n",
        "\n",
        "# fig = plot_prior_likelihood(0.5, 0.3)\n",
        "# plt.show(fig)\n",
        "# plt.close(fig)\n",
        "\n",
        "\n",
        "from matplotlib import colors\n",
        "def plot_utility(ps):\n",
        "    prior = np.asarray([ps, 1 - ps])\n",
        "\n",
        "    utility = np.array([[2, -3], [-2, 1]])\n",
        "\n",
        "    expected = prior @ utility\n",
        "\n",
        "    # definitions for the axes\n",
        "    left, width = 0.05, 0.16\n",
        "    bottom, height = 0.05, 0.9\n",
        "    padding = 0.04\n",
        "    small_width = 0.1\n",
        "    left_space = left + small_width + padding\n",
        "    added_space = padding + width\n",
        "\n",
        "    fig = plt.figure(figsize=(17, 3))\n",
        "\n",
        "    rect_prior = [left, bottom, small_width, height]\n",
        "    rect_utility = [left + added_space , bottom , width, height]\n",
        "    rect_expected = [left + 2* added_space, bottom , width, height]\n",
        "\n",
        "    ax_prior = fig.add_axes(rect_prior)\n",
        "    ax_utility = fig.add_axes(rect_utility, sharey=ax_prior)\n",
        "    ax_expected = fig.add_axes(rect_expected)\n",
        "\n",
        "    rect_colormap = plt.cm.Blues\n",
        "\n",
        "    # Data of plots\n",
        "    ax_prior.barh(0, prior[0], facecolor = rect_colormap(prior[0]))\n",
        "    ax_prior.barh(1, prior[1], facecolor = rect_colormap(prior[1]))\n",
        "    ax_utility.matshow(utility, cmap='cool')\n",
        "    norm = colors.Normalize(vmin=-3, vmax=3)\n",
        "    ax_expected.bar(0, expected[0], facecolor = rect_colormap(norm(expected[0])))\n",
        "    ax_expected.bar(1, expected[1], facecolor = rect_colormap(norm(expected[1])))\n",
        "\n",
        "    # Probabilities plot details\n",
        "    ax_prior.set(xlim = [1, 0], yticks = [0, 1], yticklabels = ['left', 'right'],\n",
        "                 ylabel = 'state (s)', title = \"Probability of state\")\n",
        "    ax_prior.axis('off')\n",
        "\n",
        "    # Utility plot details\n",
        "    ax_utility.set(xticks = [0, 1], xticklabels = ['left', 'right'],\n",
        "                  yticks = [0, 1], yticklabels = ['left', 'right'],\n",
        "                   ylabel = 'state (s)', xlabel = 'action (a)',\n",
        "                   title = 'Utility')\n",
        "    ax_utility.xaxis.set_ticks_position('bottom')\n",
        "    ax_utility.spines['left'].set_visible(False)\n",
        "    ax_utility.spines['bottom'].set_visible(False)\n",
        "\n",
        "    # Expected utility plot details\n",
        "    ax_expected.set(title = 'Expected utility', ylim = [-3, 3],\n",
        "                    xticks = [0, 1], xticklabels = ['left', 'right'],\n",
        "                    xlabel = 'action (a)',\n",
        "                    yticks = [])\n",
        "    ax_expected.xaxis.set_ticks_position('bottom')\n",
        "    ax_expected.spines['left'].set_visible(False)\n",
        "    ax_expected.spines['bottom'].set_visible(False)\n",
        "\n",
        "    # show values\n",
        "    ind = np.arange(2)\n",
        "    x,y = np.meshgrid(ind,ind)\n",
        "\n",
        "    for i,j in zip(x.flatten(), y.flatten()):\n",
        "        c = f\"{utility[i,j]:.2f}\"\n",
        "        ax_utility.text(j,i, c, va='center', ha='center', color='black')\n",
        "    for i in ind:\n",
        "        v = prior[i]\n",
        "        c = f\"{v:.2f}\"\n",
        "        ax_prior.text(v+0.2, i, c, va='center', ha='center', color='black')\n",
        "    for i in ind:\n",
        "        v = expected[i]\n",
        "        c = f\"{v:.2f}\"\n",
        "        ax_expected.text(i, 2.5, c, va='center', ha='center', color='black')\n",
        "\n",
        "    return fig\n",
        "\n",
        "\n",
        "def plot_prior_likelihood_utility(ps, p_a_s1, p_a_s0,measurement):\n",
        "    assert 0.0 <= ps <= 1.0\n",
        "    assert 0.0 <= p_a_s1 <= 1.0\n",
        "    assert 0.0 <= p_a_s0 <= 1.0\n",
        "    prior = np.asarray([ps, 1 - ps])\n",
        "    likelihood = np.asarray([[p_a_s1, 1-p_a_s1],[p_a_s0, 1-p_a_s0]])\n",
        "    utility = np.array([[2.0, -3.0], [-2.0, 1.0]])\n",
        "    # expected = np.zeros_like(utility)\n",
        "\n",
        "    if measurement:\n",
        "        posterior = likelihood[:, 0] * prior\n",
        "    else:\n",
        "        posterior = (likelihood[:, 1] * prior).reshape(-1)\n",
        "    posterior /= np.sum(posterior)\n",
        "    # expected[:, 0] = utility[:, 0] * posterior\n",
        "    # expected[:, 1] = utility[:, 1] * posterior\n",
        "    expected = posterior @ utility\n",
        "\n",
        "    # definitions for the axes\n",
        "    left, width = 0.05, 0.15\n",
        "    bottom, height = 0.05, 0.9\n",
        "    padding = 0.05\n",
        "    small_width = 0.1\n",
        "    large_padding = 0.07\n",
        "    left_space = left + small_width + large_padding\n",
        "\n",
        "    fig = plt.figure(figsize=(17, 4))\n",
        "\n",
        "    rect_prior = [left, bottom+0.05, small_width, height-0.1]\n",
        "    rect_likelihood = [left_space, bottom , width, height]\n",
        "    rect_posterior = [left_space + padding + width - 0.02, bottom+0.05 , small_width, height-0.1]\n",
        "    rect_utility = [left_space + padding + width + padding + small_width, bottom , width, height]\n",
        "    rect_expected = [left_space + padding + width + padding + small_width + padding + width, bottom+0.05 , width, height-0.1]\n",
        "\n",
        "    ax_likelihood = fig.add_axes(rect_likelihood)\n",
        "    ax_prior = fig.add_axes(rect_prior, sharey=ax_likelihood)\n",
        "    ax_posterior = fig.add_axes(rect_posterior, sharey=ax_likelihood)\n",
        "    ax_utility = fig.add_axes(rect_utility, sharey=ax_posterior)\n",
        "    ax_expected = fig.add_axes(rect_expected)\n",
        "\n",
        "\n",
        "    prior_colormap = plt.cm.Blues\n",
        "    posterior_colormap = plt.cm.Greens\n",
        "    expected_colormap = plt.cm.Wistia\n",
        "\n",
        "    # Show posterior probs and marginals\n",
        "    ax_prior.barh(0, prior[0], facecolor = prior_colormap(prior[0]))\n",
        "    ax_prior.barh(1, prior[1], facecolor = prior_colormap(prior[1]))\n",
        "    ax_likelihood.matshow(likelihood, vmin=0., vmax=1., cmap='Reds')\n",
        "    ax_posterior.barh(0, posterior[0], facecolor = posterior_colormap(posterior[0]))\n",
        "    ax_posterior.barh(1, posterior[1], facecolor = posterior_colormap(posterior[1]))\n",
        "    ax_utility.matshow(utility, vmin=0., vmax=1., cmap='cool')\n",
        "    # ax_expected.matshow(expected, vmin=0., vmax=1., cmap='Wistia')\n",
        "    ax_expected.bar(0, expected[0], facecolor = expected_colormap(expected[0]))\n",
        "    ax_expected.bar(1, expected[1], facecolor = expected_colormap(expected[1]))\n",
        "\n",
        "    # Probabilities plot details\n",
        "    ax_prior.set(xlim = [1, 0], yticks = [0, 1], yticklabels = ['left', 'right'],\n",
        "                 ylabel = 'state (s)', title = \"Prior p(s)\")\n",
        "    ax_prior.axis('off')\n",
        "\n",
        "    # Likelihood plot details\n",
        "    ax_likelihood.set(xticks = [0, 1], xticklabels = ['fish', 'no fish'],\n",
        "                  yticks = [0, 1], yticklabels = ['left', 'right'],\n",
        "                   ylabel = 'state (s)', xlabel = 'measurement (m)',\n",
        "                   title = 'Likelihood p(m | s)')\n",
        "    ax_likelihood.xaxis.set_ticks_position('bottom')\n",
        "    ax_likelihood.spines['left'].set_visible(False)\n",
        "    ax_likelihood.spines['bottom'].set_visible(False)\n",
        "\n",
        "    # Posterior plot details\n",
        "    ax_posterior.set(xlim = [0, 1], yticks = [0, 1], yticklabels = ['left', 'right'],\n",
        "                 ylabel = 'state (s)', title = \"Posterior p(s | m)\")\n",
        "    ax_posterior.axis('off')\n",
        "\n",
        "    # Utility plot details\n",
        "    ax_utility.set(xticks = [0, 1], xticklabels = ['left', 'right'],\n",
        "                   xlabel = 'action (a)',\n",
        "                   title = 'Utility')\n",
        "    ax_utility.xaxis.set_ticks_position('bottom')\n",
        "    ax_utility.spines['left'].set_visible(False)\n",
        "    ax_utility.spines['bottom'].set_visible(False)\n",
        "\n",
        "    # Expected Utility plot details\n",
        "    ax_expected.set(ylim = [-2, 2], xticks = [0, 1], xticklabels = ['left', 'right'],\n",
        "                 xlabel = 'action (a)', title = 'Expected utility', yticks=[])\n",
        "    # ax_expected.axis('off')\n",
        "    ax_expected.spines['left'].set_visible(False)\n",
        "    # ax_expected.set(xticks = [0, 1], xticklabels = ['left', 'right'],\n",
        "    #                 xlabel = 'action (a)',\n",
        "    #                title = 'Expected utility')\n",
        "    # ax_expected.xaxis.set_ticks_position('bottom')\n",
        "    # ax_expected.spines['left'].set_visible(False)\n",
        "    # ax_expected.spines['bottom'].set_visible(False)\n",
        "\n",
        "    # show values\n",
        "    ind = np.arange(2)\n",
        "    x,y = np.meshgrid(ind,ind)\n",
        "    for i in ind:\n",
        "        v = posterior[i]\n",
        "        c = f\"{v:.2f}\"\n",
        "        ax_posterior.text(v+0.2, i, c, va='center', ha='center', color='black')\n",
        "    for i,j in zip(x.flatten(), y.flatten()):\n",
        "        c = f\"{likelihood[i,j]:.2f}\"\n",
        "        ax_likelihood.text(j,i, c, va='center', ha='center', color='black')\n",
        "    for i,j in zip(x.flatten(), y.flatten()):\n",
        "        c = f\"{utility[i,j]:.2f}\"\n",
        "        ax_utility.text(j,i, c, va='center', ha='center', color='black')\n",
        "    # for i,j in zip(x.flatten(), y.flatten()):\n",
        "    #     c = f\"{expected[i,j]:.2f}\"\n",
        "    #     ax_expected.text(j,i, c, va='center', ha='center', color='black')\n",
        "    for i in ind:\n",
        "        v = prior[i]\n",
        "        c = f\"{v:.2f}\"\n",
        "        ax_prior.text(v+0.2, i, c, va='center', ha='center', color='black')\n",
        "    for i in ind:\n",
        "        v = expected[i]\n",
        "        c = f\"{v:.2f}\"\n",
        "        ax_expected.text(i, v, c, va='center', ha='center', color='black')\n",
        "\n",
        "    # # show values\n",
        "    # ind = np.arange(2)\n",
        "    # x,y = np.meshgrid(ind,ind)\n",
        "    # for i,j in zip(x.flatten(), y.flatten()):\n",
        "    #     c = f\"{P[i,j]:.2f}\"\n",
        "    #     ax.text(j,i, c, va='center', ha='center', color='white')\n",
        "    # for i in ind:\n",
        "    #     v = marginal_x[i]\n",
        "    #     c = f\"{v:.2f}\"\n",
        "    #     ax_x.text(i, v +0.2, c, va='center', ha='center', color='black')\n",
        "    #     v = marginal_y[i]\n",
        "    #     c = f\"{v:.2f}\"\n",
        "    #     ax_y.text(v+0.2, i, c, va='center', ha='center', color='black')\n",
        "\n",
        "    return fig"
      ],
      "execution_count": 4,
      "outputs": []
    },
    {
      "cell_type": "code",
      "metadata": {
        "cellView": "form",
        "execution": {
          "iopub.execute_input": "2021-06-25T15:15:26.909876Z",
          "iopub.status.busy": "2021-06-25T15:15:26.909310Z",
          "iopub.status.idle": "2021-06-25T15:15:26.913133Z",
          "shell.execute_reply": "2021-06-25T15:15:26.912415Z"
        },
        "id": "_yXkMZAVkTbp"
      },
      "source": [
        "# @title Helper Functions\n",
        "\n",
        "def compute_marginal(px, py, cor):\n",
        "    # calculate 2x2 joint probabilities given marginals p(x=1), p(y=1) and correlation\n",
        "    p11 = px*py + cor*np.sqrt(px*py*(1-px)*(1-py))\n",
        "    p01 = px - p11\n",
        "    p10 = py - p11\n",
        "    p00 = 1.0 - p11 - p01 - p10\n",
        "    return np.asarray([[p00, p01], [p10, p11]])\n",
        "# test\n",
        "# print(compute_marginal(0.4, 0.6, -0.8))\n",
        "\n",
        "\n",
        "def compute_cor_range(px,py):\n",
        "    # Calculate the allowed range of correlation values given marginals p(x=1) and p(y=1)\n",
        "    def p11(corr):\n",
        "        return px*py + corr*np.sqrt(px*py*(1-px)*(1-py))\n",
        "    def p01(corr):\n",
        "        return px - p11(corr)\n",
        "    def p10(corr):\n",
        "        return py - p11(corr)\n",
        "    def p00(corr):\n",
        "        return 1.0 - p11(corr) - p01(corr) - p10(corr)\n",
        "    Cmax = min(fsolve(p01, 0.0), fsolve(p10, 0.0))\n",
        "    Cmin = max(fsolve(p11, 0.0), fsolve(p00, 0.0))\n",
        "    return Cmin, Cmax"
      ],
      "execution_count": 5,
      "outputs": []
    },
    {
      "cell_type": "markdown",
      "metadata": {
        "id": "T7v_neOikTbt"
      },
      "source": [
        "---\n",
        "# Section 1: Gone Fishin'\n"
      ]
    },
    {
      "cell_type": "code",
      "metadata": {
        "cellView": "form",
        "execution": {
          "iopub.execute_input": "2021-06-25T15:15:26.924621Z",
          "iopub.status.busy": "2021-06-25T15:15:26.924066Z",
          "iopub.status.idle": "2021-06-25T15:15:27.002207Z",
          "shell.execute_reply": "2021-06-25T15:15:27.001495Z"
        },
        "id": "X1UHUiPJkTbu",
        "outputId": "61ecda11-4621-4b99-c599-fee6dcbfbde4",
        "colab": {
          "base_uri": "https://localhost:8080/",
          "height": 580,
          "referenced_widgets": [
            "7f106a352e98482bb2207e07dd3cd44e",
            "f4a3fef32faf451eba7723306a120453",
            "f05accaddd2f47e6adbe69461d89488e",
            "caa79ef2271b4afbab28c07ff9ff2cba",
            "660e8570ff74430bbe4ab15c40433ce7",
            "b3f8f8fb8d144a59a17a8bc4cafa786c"
          ]
        }
      },
      "source": [
        "# @title Video 2: Gone Fishin'\n",
        "from ipywidgets import widgets\n",
        "\n",
        "out2 = widgets.Output()\n",
        "with out2:\n",
        "  from IPython.display import IFrame\n",
        "  class BiliVideo(IFrame):\n",
        "      def __init__(self, id, page=1, width=400, height=300, **kwargs):\n",
        "          self.id=id\n",
        "          src = 'https://player.bilibili.com/player.html?bvid={0}&page={1}'.format(id, page)\n",
        "          super(BiliVideo, self).__init__(src, width, height, **kwargs)\n",
        "\n",
        "  video = BiliVideo(id=\"\", width=854, height=480, fs=1)\n",
        "  print('Video available at https://www.bilibili.com/video/{0}'.format(video.id))\n",
        "  display(video)\n",
        "\n",
        "out1 = widgets.Output()\n",
        "with out1:\n",
        "  from IPython.display import YouTubeVideo\n",
        "  video = YouTubeVideo(id=\"McALsTzb494\", width=854, height=480, fs=1, rel=0)\n",
        "  print('Video available at https://youtube.com/watch?v=' + video.id)\n",
        "  display(video)\n",
        "\n",
        "out = widgets.Tab([out1, out2])\n",
        "out.set_title(0, 'Youtube')\n",
        "out.set_title(1, 'Bilibili')\n",
        "\n",
        "display(out)"
      ],
      "execution_count": 6,
      "outputs": [
        {
          "output_type": "display_data",
          "data": {
            "application/vnd.jupyter.widget-view+json": {
              "model_id": "7f106a352e98482bb2207e07dd3cd44e",
              "version_minor": 0,
              "version_major": 2
            },
            "text/plain": [
              "Tab(children=(Output(), Output()), _titles={'0': 'Youtube', '1': 'Bilibili'})"
            ]
          },
          "metadata": {
            "tags": []
          }
        }
      ]
    },
    {
      "cell_type": "markdown",
      "metadata": {
        "id": "Xb1g77JdkTbu"
      },
      "source": [
        "You were just introduced to the **binary hidden state problem** we are going to explore. You need to decide which side to fish on. We know fish like to school together. On different days the school of fish is either on the left or right side, but we don’t know what the case is today. We will represent our knowledge probabilistically, asking how to make a decision (where to decide the fish are or where to fish) and what to expect in terms of gains or losses. In the next two sections we will consider just the probability of where the fish might be and what you gain or lose by choosing where to fish.\n",
        "\n",
        "Remember, you can either think of your self as a scientist conducting an experiment or as a brain trying to make a decision. The Bayesian approach is the same!\n"
      ]
    },
    {
      "cell_type": "markdown",
      "metadata": {
        "id": "kt5mWJMfkTbv"
      },
      "source": [
        "---\n",
        "# Section 2: Deciding where to fish \n",
        "\n"
      ]
    },
    {
      "cell_type": "code",
      "metadata": {
        "cellView": "form",
        "execution": {
          "iopub.execute_input": "2021-06-25T15:15:27.027109Z",
          "iopub.status.busy": "2021-06-25T15:15:27.026597Z",
          "iopub.status.idle": "2021-06-25T15:15:27.095976Z",
          "shell.execute_reply": "2021-06-25T15:15:27.095432Z"
        },
        "id": "1FUH5axnkTbw",
        "outputId": "cae6a7d5-c35d-4da4-dea7-c962f0d718ad",
        "colab": {
          "base_uri": "https://localhost:8080/",
          "height": 580,
          "referenced_widgets": [
            "ad410ed63c524cabb23a54bd1be690fb",
            "06be3ee65bd4452793f65d9918605888",
            "08c28f984f814e83a4286178574f2f7b",
            "8b4bfbdbd0ef4c378d74a191c2fca55f",
            "c33bf0f44fb84ec28c35c7ec1283c6ad",
            "9d664405becb45fda371d6b215a5a377"
          ]
        }
      },
      "source": [
        "# @title Video 3: Utility\n",
        "from ipywidgets import widgets\n",
        "\n",
        "out2 = widgets.Output()\n",
        "with out2:\n",
        "  from IPython.display import IFrame\n",
        "  class BiliVideo(IFrame):\n",
        "      def __init__(self, id, page=1, width=400, height=300, **kwargs):\n",
        "          self.id=id\n",
        "          src = 'https://player.bilibili.com/player.html?bvid={0}&page={1}'.format(id, page)\n",
        "          super(BiliVideo, self).__init__(src, width, height, **kwargs)\n",
        "\n",
        "  video = BiliVideo(id=\"\", width=854, height=480, fs=1)\n",
        "  print('Video available at https://www.bilibili.com/video/{0}'.format(video.id))\n",
        "  display(video)\n",
        "\n",
        "out1 = widgets.Output()\n",
        "with out1:\n",
        "  from IPython.display import YouTubeVideo\n",
        "  video = YouTubeVideo(id=\"xvIVZrqF_5s\", width=854, height=480, fs=1, rel=0)\n",
        "  print('Video available at https://youtube.com/watch?v=' + video.id)\n",
        "  display(video)\n",
        "\n",
        "out = widgets.Tab([out1, out2])\n",
        "out.set_title(0, 'Youtube')\n",
        "out.set_title(1, 'Bilibili')\n",
        "\n",
        "display(out)"
      ],
      "execution_count": 7,
      "outputs": [
        {
          "output_type": "display_data",
          "data": {
            "application/vnd.jupyter.widget-view+json": {
              "model_id": "ad410ed63c524cabb23a54bd1be690fb",
              "version_minor": 0,
              "version_major": 2
            },
            "text/plain": [
              "Tab(children=(Output(), Output()), _titles={'0': 'Youtube', '1': 'Bilibili'})"
            ]
          },
          "metadata": {
            "tags": []
          }
        }
      ]
    },
    {
      "cell_type": "markdown",
      "metadata": {
        "id": "IJN5NleXkTbw"
      },
      "source": [
        "You know the probability that the school of fish is on the left side of the dock today, $P(s = left)$. You also know the probability that it is on the right, $P(s = right)$, because these two probabilities must add up to 1. You need to decide where to fish. It may seem obvious - you could just fish on the side where the probability of the fish being is higher! Unfortunately, decisions and actions are always a little more complicated. Deciding to fish may be influenced by more than just the probability of the school of fish being there as we saw by the potential issues of submarines and sunburn. \n",
        "\n",
        "We quantify these factors numerically using **utility**, which describes the consequences of your actions: how much value you gain (or if negative, lose) given the state of the world ($s$) and the action you take ($a$). In our example, our utility can be summarized as:\n",
        "\n",
        "| Utility: U(s,a)   | a = left   | a = right  |\n",
        "| ----------------- |----------|----------|\n",
        "| s = Left          | 2          | -3         |\n",
        "| s = right         | -2         |  1         |\n",
        "\n",
        "To use utility to choose an action, we calculate the **expected utility** of that action by weighing these utilities with the probability of that state occuring. This allows us to choose actions by taking probabilities of events into account: we don't care if the outcome of an action-state pair is a loss if the probability of that state is very low. We can formalize this as:\n",
        "\n",
        "$$\\text{Expected utility of action a} = \\sum_{s}U(s,a)P(s) $$\n",
        "\n",
        "In other words, the expected utility of an action a is the sum over possible states of the utility of that action and state times the probability of that state.\n"
      ]
    },
    {
      "cell_type": "markdown",
      "metadata": {
        "id": "0R80s28CkTbx"
      },
      "source": [
        "## Interactive Demo 2: Exploring the decision\n",
        "\n",
        "Let's start to get a sense of how all this works. \n",
        "\n",
        "Take a look at the interactive demo below. You can change the probability that the school of fish is on the left side ($p(s = left)$ using the slider. You will see the utility matrix and the corresponding expected utility of each action.\n",
        "\n",
        "First, make sure you understand how the expected utility of each action is being computed from the probabilities and the utility values. In the initial state: the probability of the fish being on the left is 0.9 and on the right is 0.1. The expected utility of the action of fishing on the left is then $U(s = left,a = left)p(s = left) + U(s = right,a = left)p(s = right) = 2(0.9) + -2(0.1) = 1.6$.\n",
        "\n",
        "For each of these scenarios, think and discuss first. Then use the demo to try out each and see if your action would have been correct (that is, if the expected value of that action is the highest).\n",
        "\n",
        "\n",
        "1.  You just arrived at the dock for the first time and have no sense of where the fish might be. So you guess that the probability of the school being on the left side is 0.5 (so the probability on the right side is also 0.5). Which side would you choose to fish on given our utility values?\n",
        "2.  You think that the probability of the school being on the left side is very low (0.1) and correspondingly high on the right side (0.9). Which side would you choose to fish on given our utility values?\n",
        "3.  What would you choose if the probability of the school being on the left side is slightly lower than on the right side (0. 4 vs 0.6)?"
      ]
    },
    {
      "cell_type": "code",
      "metadata": {
        "cellView": "form",
        "execution": {
          "iopub.execute_input": "2021-06-25T15:15:27.125816Z",
          "iopub.status.busy": "2021-06-25T15:15:27.125160Z",
          "iopub.status.idle": "2021-06-25T15:15:27.363022Z",
          "shell.execute_reply": "2021-06-25T15:15:27.362492Z"
        },
        "id": "2uY-BHhnkTbx",
        "outputId": "8f254e6a-0dc9-4d37-ac7c-2a55945f376a",
        "colab": {
          "base_uri": "https://localhost:8080/",
          "height": 326,
          "referenced_widgets": [
            "ef77d60c06254849bcd526c41ab4e3ee",
            "e32df6114b88451ba0e1c1d3bc17f54c",
            "43bf826dce8f4d499bc07267c6308da6",
            "0a5f0b364a484f99b755b5e34b2ba277",
            "cd14fded6f604de885d436bde0038c57",
            "980f5087c2f74af08aefbc5acc6d2953",
            "95a47f5a97c04302896717afbf407e88"
          ]
        }
      },
      "source": [
        "# @markdown Execute this cell to use the widget\n",
        "ps_widget = widgets.FloatSlider(0.9, description='p(s = left)', min=0.0, max=1.0, step=0.01)\n",
        "\n",
        "@widgets.interact(\n",
        "    ps = ps_widget,\n",
        ")\n",
        "def make_utility_plot(ps):\n",
        "    fig = plot_utility(ps)\n",
        "    plt.show(fig)\n",
        "    plt.close(fig)\n",
        "    return None"
      ],
      "execution_count": 11,
      "outputs": [
        {
          "output_type": "display_data",
          "data": {
            "application/vnd.jupyter.widget-view+json": {
              "model_id": "ef77d60c06254849bcd526c41ab4e3ee",
              "version_minor": 0,
              "version_major": 2
            },
            "text/plain": [
              "interactive(children=(FloatSlider(value=0.9, description='p(s = left)', max=1.0, step=0.01), Output()), _dom_c…"
            ]
          },
          "metadata": {
            "tags": []
          }
        }
      ]
    },
    {
      "cell_type": "markdown",
      "metadata": {
        "execution": {
          "iopub.execute_input": "2021-06-25T15:15:27.368248Z",
          "iopub.status.busy": "2021-06-25T15:15:27.367081Z",
          "iopub.status.idle": "2021-06-25T15:15:27.368872Z",
          "shell.execute_reply": "2021-06-25T15:15:27.369319Z"
        },
        "id": "CPM3ho7KkTby"
      },
      "source": [
        "[*Click for solution*](https://github.com/NeuromatchAcademy/course-content/tree/master//tutorials/W3D1_BayesianDecisions/solutions/W3D1_Tutorial1_Solution_459cbf35.py)\n",
        "\n"
      ]
    },
    {
      "cell_type": "markdown",
      "metadata": {
        "id": "elpV_aMHkTby"
      },
      "source": [
        "In this section, you have seen that both the utility of various state and action pairs and our knowledge of the probability of each state affects your decision. Importantly, we want our knowledge of the probability of each state to be as accurate as possible! \n",
        "\n",
        "So how do we know these probabilities? We may have prior knowledge from years of fishing at the same dock. Over those years, we may have learned that the fish are more likely to be on the left side for example. We want to make sure this knowledge is as accurate as possible though. To do this, we want to collect more data, or take some more measurements! For the next few sections, we will focus on making our knowledge of the probability as accurate as possible, before coming back to using utility to make decisions."
      ]
    },
    {
      "cell_type": "markdown",
      "metadata": {
        "id": "msuPlsR2kTby"
      },
      "source": [
        "---\n",
        "# Section 3: Likelihood of the fish being on either side\n",
        " \n"
      ]
    },
    {
      "cell_type": "code",
      "metadata": {
        "cellView": "form",
        "execution": {
          "iopub.execute_input": "2021-06-25T15:15:27.382108Z",
          "iopub.status.busy": "2021-06-25T15:15:27.380574Z",
          "iopub.status.idle": "2021-06-25T15:15:27.447741Z",
          "shell.execute_reply": "2021-06-25T15:15:27.448200Z"
        },
        "id": "QcmA0qxDkTbz",
        "outputId": "5d5ed11f-2135-4dc7-a251-00e100b6b8c0",
        "colab": {
          "base_uri": "https://localhost:8080/",
          "height": 580,
          "referenced_widgets": [
            "c7e548844c96485581ebefd1a0b6cbf9",
            "8ecae21d507e4cf09187a9d9ed29b88f",
            "1ab856bb040346979db79866c854e23f",
            "281c6660cd144cd6b7d77d52194e979b",
            "c75a78530c0c4a4294d7c3efa43b9228",
            "795e596f2ac0484a8c487f6dc51ba3ee"
          ]
        }
      },
      "source": [
        "# @title Video 4: Likelihood\n",
        "from ipywidgets import widgets\n",
        "\n",
        "out2 = widgets.Output()\n",
        "with out2:\n",
        "  from IPython.display import IFrame\n",
        "  class BiliVideo(IFrame):\n",
        "      def __init__(self, id, page=1, width=400, height=300, **kwargs):\n",
        "          self.id=id\n",
        "          src = 'https://player.bilibili.com/player.html?bvid={0}&page={1}'.format(id, page)\n",
        "          super(BiliVideo, self).__init__(src, width, height, **kwargs)\n",
        "\n",
        "  video = BiliVideo(id=\"\", width=854, height=480, fs=1)\n",
        "  print('Video available at https://www.bilibili.com/video/{0}'.format(video.id))\n",
        "  display(video)\n",
        "\n",
        "out1 = widgets.Output()\n",
        "with out1:\n",
        "  from IPython.display import YouTubeVideo\n",
        "  video = YouTubeVideo(id=\"l4m0JzMWGio\", width=854, height=480, fs=1, rel=0)\n",
        "  print('Video available at https://youtube.com/watch?v=' + video.id)\n",
        "  display(video)\n",
        "\n",
        "out = widgets.Tab([out1, out2])\n",
        "out.set_title(0, 'Youtube')\n",
        "out.set_title(1, 'Bilibili')\n",
        "\n",
        "display(out)"
      ],
      "execution_count": 10,
      "outputs": [
        {
          "output_type": "display_data",
          "data": {
            "application/vnd.jupyter.widget-view+json": {
              "model_id": "c7e548844c96485581ebefd1a0b6cbf9",
              "version_minor": 0,
              "version_major": 2
            },
            "text/plain": [
              "Tab(children=(Output(), Output()), _titles={'0': 'Youtube', '1': 'Bilibili'})"
            ]
          },
          "metadata": {
            "tags": []
          }
        }
      ]
    },
    {
      "cell_type": "markdown",
      "metadata": {
        "id": "hGAMBQSAkTbz"
      },
      "source": [
        "First, we'll think about what it means to take a measurement (also often called an observation or just data) and what it tells you about what the hidden state may be. Specifically, we'll be looking at the **likelihood**, which is the probability of your measurement ($m$) given the hidden state ($s$): $P(m | s)$. Remember that in this case, the hidden state is which side of the dock the school of fish is on.\n",
        "\n",
        "We will watch someone fish (for let's say 10 minutes) and our measurement is whether they catch a fish or not. We know something about what catching a fish means for the likelihood of the fish being on one side or the other. "
      ]
    },
    {
      "cell_type": "markdown",
      "metadata": {
        "id": "-QLeEvrCkTb0"
      },
      "source": [
        "## Think! 3: Guessing the location of the fish\n",
        "\n",
        "Let's say we go to different dock from the one in the video. Here, there are different probabilities of catching fish given the state of the world. In this case, if they fish on the side of the dock where the fish are, they have a 70% chance of catching a fish. Otherwise, they catch a fish with only 20% probability. \n",
        "\n",
        "The fisherperson is fishing on the left side. \n",
        "\n",
        "1) Figure out each of the following:\n",
        "- probability of catching a fish given that the school of fish is on the left side, $P(m = catch\\text{ } fish | s = left )$\n",
        "- probability of not catching a fish given that the school of fish is on the left side, $P(m = no \\text{ } fish | s = left)$\n",
        "- probability of catching a fish given that the school of fish is on the right side, $P(m = catch  \\text{ } fish | s = right)$\n",
        "- probability of not catching a fish given that the school of fish is on the right side, $P(m = no \\text{ } fish | s = right)$\n",
        "\n",
        "2) If the fisherperson catches a fish, which side would you guess the school is on? Why?\n",
        "\n",
        "3) If the fisherperson does not catch a fish, which side would you guess the school is on? Why?\n"
      ]
    },
    {
      "cell_type": "markdown",
      "metadata": {
        "execution": {
          "iopub.execute_input": "2021-06-25T15:15:27.459236Z",
          "iopub.status.busy": "2021-06-25T15:15:27.458560Z",
          "iopub.status.idle": "2021-06-25T15:15:27.460258Z",
          "shell.execute_reply": "2021-06-25T15:15:27.459756Z"
        },
        "id": "E_5ixi-gkTb0"
      },
      "source": [
        "[*Click for solution*](https://github.com/NeuromatchAcademy/course-content/tree/master//tutorials/W3D1_BayesianDecisions/solutions/W3D1_Tutorial1_Solution_2284aaf4.py)\n",
        "\n"
      ]
    },
    {
      "cell_type": "markdown",
      "metadata": {
        "id": "L006sETikTb1"
      },
      "source": [
        "In the prior exercise, you guessed where the school of fish was based on the measurement you took (watching someone fish). You did this by choosing the state (side of school) that maximized the probability of the measurement. In other words, you estimated the state by maximizing the likelihood (had the highest probability of measurement given state $P(m|s$)). This is called maximum likelihood estimation (MLE) and you've encountered it before during this course, in W1D3!\n",
        "\n",
        "What if you had been going to this river for years and you knew that the fish were almost always on the left side? This would probably affect how you make your estimate - you would rely less on the single new measurement and more on your prior knowledge. This is the idea behind Bayesian inference, as we will see later in this tutorial!"
      ]
    },
    {
      "cell_type": "markdown",
      "metadata": {
        "id": "PbeUZYcZkTb1"
      },
      "source": [
        "---\n",
        "# Section 4: Correlation and marginalization\n"
      ]
    },
    {
      "cell_type": "code",
      "metadata": {
        "cellView": "form",
        "execution": {
          "iopub.execute_input": "2021-06-25T15:15:27.507590Z",
          "iopub.status.busy": "2021-06-25T15:15:27.505019Z",
          "iopub.status.idle": "2021-06-25T15:15:27.573883Z",
          "shell.execute_reply": "2021-06-25T15:15:27.572166Z"
        },
        "id": "a-szDtM0kTb1",
        "outputId": "983d11bf-8118-4796-9593-b793be5e3394",
        "colab": {
          "base_uri": "https://localhost:8080/",
          "height": 580,
          "referenced_widgets": [
            "272d5927ca5d41b59aa1d4e79058bd22",
            "2d03f66618464fc9a00ebe7955d2218d",
            "c9cee7ba73b0485db2cdfd79177ba5a9",
            "07ccf6ebefe04b34b60faffdcfbbefa9",
            "722648fae9094aae91d4575cbbdb73b3",
            "61fd8252edb44303a20d121bb59bb208"
          ]
        }
      },
      "source": [
        "# @title Video 5: Correlation and marginalization\n",
        "from ipywidgets import widgets\n",
        "\n",
        "out2 = widgets.Output()\n",
        "with out2:\n",
        "  from IPython.display import IFrame\n",
        "  class BiliVideo(IFrame):\n",
        "      def __init__(self, id, page=1, width=400, height=300, **kwargs):\n",
        "          self.id=id\n",
        "          src = 'https://player.bilibili.com/player.html?bvid={0}&page={1}'.format(id, page)\n",
        "          super(BiliVideo, self).__init__(src, width, height, **kwargs)\n",
        "\n",
        "  video = BiliVideo(id=\"\", width=854, height=480, fs=1)\n",
        "  print('Video available at https://www.bilibili.com/video/{0}'.format(video.id))\n",
        "  display(video)\n",
        "\n",
        "out1 = widgets.Output()\n",
        "with out1:\n",
        "  from IPython.display import YouTubeVideo\n",
        "  video = YouTubeVideo(id=\"vsDjtWi-BVo\", width=854, height=480, fs=1, rel=0)\n",
        "  print('Video available at https://youtube.com/watch?v=' + video.id)\n",
        "  display(video)\n",
        "\n",
        "out = widgets.Tab([out1, out2])\n",
        "out.set_title(0, 'Youtube')\n",
        "out.set_title(1, 'Bilibili')\n",
        "\n",
        "display(out)"
      ],
      "execution_count": 8,
      "outputs": [
        {
          "output_type": "display_data",
          "data": {
            "application/vnd.jupyter.widget-view+json": {
              "model_id": "272d5927ca5d41b59aa1d4e79058bd22",
              "version_minor": 0,
              "version_major": 2
            },
            "text/plain": [
              "Tab(children=(Output(), Output()), _titles={'0': 'Youtube', '1': 'Bilibili'})"
            ]
          },
          "metadata": {
            "tags": []
          }
        }
      ]
    },
    {
      "cell_type": "markdown",
      "metadata": {
        "id": "HAhu_pzTkTb2"
      },
      "source": [
        "In this section, we are going to take a step back for a bit and think more generally about the amount of information shared between two random variables. We want to know how much information you gain when you observe one variable (take a measurement) if you know something about another. We will see that the fundamental concept is the same if we think about two attributes, for example the size and color of the fish, or the prior information and the likelihood."
      ]
    },
    {
      "cell_type": "markdown",
      "metadata": {
        "id": "lnKNtXXSkTb2"
      },
      "source": [
        "## Math Exercise 4: Computing marginal likelihoods\n",
        "\n",
        "To understand the information between two variables, let's first consider the size and color of the fish.\n",
        "\n",
        "| P(X, Y)   | Y = silver   | Y = gold  |\n",
        "| ----------------- |----------|----------|\n",
        "| X = small          | 0.4          | 0.2         |\n",
        "| X = large         | 0.1         |  0.3         |\n",
        "\n",
        "The table above shows us the **joint probabilities**: the probability of both specific attributes occuring together. For example, the probability of a fish being small and silver ($P(X = small, Y = silver$) is 0.4.\n",
        "\n",
        "We want to know what the probability of a fish being small  regardless of color. Since the fish are either silver or gold, this would be the probability of a fish being small and silver plus the probability of a fish being small and gold. This is an example of marginalizing, or averaging out, the variable we are not interested in across the rows or columns.. In math speak: $P(X = small) = \\sum_y{P(X = small, Y)}$. This gives us a **marginal probability**, a probability of a variable outcome (in this case size), regardless of the other variables (in this case color).\n",
        "\n",
        "Please complete the following math problems to further practice thinking through probabilities:\n",
        "\n",
        "1. Calculate the probability of a fish being silver.\n",
        "2. Calculate the probability of a fish being small, large, silver, or gold.\n",
        "3. Calculate the probability of a fish being small OR gold. (Hint: $P(A\\ \\textrm{or}\\ B) = P(A) + P(B) - P(A\\ \\textrm{and}\\ B)$)\n",
        "\n",
        "\n"
      ]
    },
    {
      "cell_type": "markdown",
      "metadata": {
        "execution": {
          "iopub.execute_input": "2021-06-25T15:15:27.584366Z",
          "iopub.status.busy": "2021-06-25T15:15:27.583666Z",
          "iopub.status.idle": "2021-06-25T15:15:27.585405Z",
          "shell.execute_reply": "2021-06-25T15:15:27.584927Z"
        },
        "id": "MyZ8_FM3kTb3"
      },
      "source": [
        "[*Click for solution*](https://github.com/NeuromatchAcademy/course-content/tree/master//tutorials/W3D1_BayesianDecisions/solutions/W3D1_Tutorial1_Solution_65e69cd1.py)\n",
        "\n"
      ]
    },
    {
      "cell_type": "markdown",
      "metadata": {
        "id": "rPreu3adkTb3"
      },
      "source": [
        "## Think! 4: Covarying probability distributions\n",
        "\n",
        "The relationship between the marginal probabilities and the joint probabilities is determined by the correlation between the two random variables - a normalized measure of how much the variables covary. We can also think of this as gaining some information about one of the variables when we observe a measurement from the other. We will think about this more formally in Tutorial 2. \n",
        "\n",
        "Here, we want to think about how the correlation between size and color of these fish changes how much information we gain about one attribute based on the other. See Bonus Section 1 for the formula for correlation.\n",
        "\n",
        "Use the widget below and answer the following questions:\n",
        "\n",
        "1. When the correlation is zero, $\\rho = 0$, what does the distribution of size tell you about color?\n",
        "2. Set $\\rho$ to something small. As you change the probability of golden fish, what happens to the ratio of size probabilities? Set $\\rho$ larger (can be negative). Can you explain the pattern of changes in the probabilities of size as you change the probability of golden fish?\n",
        "3. Set the probability of golden fish and of large fish to around 65%. As the correlation goes towards 1, how often will you see silver large fish?\n",
        "4. What is increasing the (absolute) correlation telling you about how likely you are to see one of the properties if you see a fish with the other?\n"
      ]
    },
    {
      "cell_type": "code",
      "metadata": {
        "execution": {
          "iopub.execute_input": "2021-06-25T15:15:27.641822Z",
          "iopub.status.busy": "2021-06-25T15:15:27.640659Z",
          "iopub.status.idle": "2021-06-25T15:15:27.846348Z",
          "shell.execute_reply": "2021-06-25T15:15:27.845374Z"
        },
        "cellView": "form",
        "id": "SKMWi-uykTb3",
        "outputId": "33348351-170c-44c6-cfa9-6aa06f24818c",
        "colab": {
          "base_uri": "https://localhost:8080/",
          "height": 474,
          "referenced_widgets": [
            "e0719a0906dc4184a4b8e2c2256defb9",
            "3993c5953292438981959706e30cd584",
            "b0b7e9e1fa03430b9f8d2bca1aeee947",
            "608f22f8cecc43cc8e7fbe41994133ca",
            "ddb65518e3584b63b913011708d075ba",
            "51997abd232f44cb825728f20c872dac",
            "f1d63890f4fa4e19aa115178ff9db905",
            "ac692fcc569246a5b6c7c579366ac9cd",
            "a45ff668f26b4826ad957dc03f857729",
            "028b23951984419f8fb79a62729b3cb6",
            "f9e7c2a5ffed4a4e80887375175485b8",
            "3447e9b2c8924565b32b51115f0f173c",
            "c00196add4fa409f8e8b00d0e4bb87fb"
          ]
        }
      },
      "source": [
        "# @markdown Execute this cell to enable the widget\n",
        "style = {'description_width': 'initial'}\n",
        "gs = GridspecLayout(2,2)\n",
        "\n",
        "cor_widget = widgets.FloatSlider(0.0, description='ρ', min=-1, max=1, step=0.01)\n",
        "px_widget = widgets.FloatSlider(0.5, description='p(color=golden)', min=0.01, max=0.99, step=0.01, style=style)\n",
        "py_widget = widgets.FloatSlider(0.5, description='p(size=large)', min=0.01, max=0.99, step=0.01, style=style)\n",
        "gs[0,0] = cor_widget\n",
        "gs[0,1] = px_widget\n",
        "gs[1,0] = py_widget\n",
        "\n",
        "\n",
        "@widgets.interact(\n",
        "    px=px_widget,\n",
        "    py=py_widget,\n",
        "    cor=cor_widget,\n",
        ")\n",
        "def make_corr_plot(px, py, cor):\n",
        "    Cmin, Cmax = compute_cor_range(px, py) #allow correlation values\n",
        "    cor_widget.min, cor_widget.max = Cmin+0.01, Cmax-0.01\n",
        "    if cor_widget.value > Cmax:\n",
        "        cor_widget.value = Cmax\n",
        "    if cor_widget.value < Cmin:\n",
        "        cor_widget.value = Cmin\n",
        "    cor = cor_widget.value\n",
        "    P = compute_marginal(px,py,cor)\n",
        "    # print(P)\n",
        "    fig = plot_joint_probs(P)\n",
        "    plt.show(fig)\n",
        "    plt.close(fig)\n",
        "    return None\n",
        "\n",
        "# gs[1,1] = make_corr_plot()"
      ],
      "execution_count": 13,
      "outputs": [
        {
          "output_type": "display_data",
          "data": {
            "application/vnd.jupyter.widget-view+json": {
              "model_id": "e0719a0906dc4184a4b8e2c2256defb9",
              "version_minor": 0,
              "version_major": 2
            },
            "text/plain": [
              "interactive(children=(FloatSlider(value=0.5, description='p(color=golden)', layout=Layout(grid_area='widget002…"
            ]
          },
          "metadata": {
            "tags": []
          }
        }
      ]
    },
    {
      "cell_type": "markdown",
      "metadata": {
        "execution": {
          "iopub.execute_input": "2021-06-25T15:15:27.850935Z",
          "iopub.status.busy": "2021-06-25T15:15:27.849827Z",
          "iopub.status.idle": "2021-06-25T15:15:27.851764Z",
          "shell.execute_reply": "2021-06-25T15:15:27.852245Z"
        },
        "id": "2RWD-MVlkTb4"
      },
      "source": [
        "[*Click for solution*](https://github.com/NeuromatchAcademy/course-content/tree/master//tutorials/W3D1_BayesianDecisions/solutions/W3D1_Tutorial1_Solution_9727d8f3.py)\n",
        "\n"
      ]
    },
    {
      "cell_type": "markdown",
      "metadata": {
        "id": "5qV4oTbxkTb4"
      },
      "source": [
        "We have just seen how two random variables can be more or less independent. The more correlated, the less independent, and the more shared information. We also learned that we can marginalize to determine the marginal likelihood of a hidden state or to find the marginal probability distribution of two random variables. We are going to now complete our journey towards being fully Bayesian!"
      ]
    },
    {
      "cell_type": "markdown",
      "metadata": {
        "id": "abwclo94kTb5"
      },
      "source": [
        "---\n",
        "# Section 5: Bayes' Rule and the Posterior"
      ]
    },
    {
      "cell_type": "markdown",
      "metadata": {
        "id": "JsBg5sVQkTb5"
      },
      "source": [
        "Marginalization is going to be used to combine our prior knowlege, which we call the **prior**, and our new information from a measurement, the **likelihood**. Only in this case, the information we gain about the hidden state we are interested in, where the fish are, is based on the relationship between the probabilities of the measurement and our prior. \n",
        "\n",
        "We can now calculate the full posterior distribution for the hidden state ($s$) using Bayes' Rule. As we've seen, the posterior is proportional the the prior times the likelihood. This means that the posterior probability of the hidden state ($s$) given a measurement ($m$) is proportional to the likelihood of the measurement given the state times the prior probability of that state (the marginal likelihood):\n",
        "\n",
        "$$ P(s | m) \\propto P(m | s) P(s)  $$\n",
        "\n",
        "We say proportional to instead of equal because we need to normalize to produce a full probability distribution:\n",
        "\n",
        "$$ P(s | m) = \\frac{P(m | s) P(s)}{P(m)}  $$\n",
        "\n",
        "Normalizing by this $P(m)$ means that our posterior is a complete probability distribution that sums or integrates to 1 appropriately. We now can use this new, complete probability distribution for any future inference or decisions we like! In fact, as we will see tomorrow, we can use it as a new prior! Finally, we often call this probability distribution our beliefs over the hidden states, to emphasize that it is our subjective knowlege about the hidden state.\n",
        "\n",
        "For many complicated cases, like those we might be using to model behavioral or brain inferences, the normalization term can be intractable or extremely complex to calculate. We can be careful to choose probability distributions were we can analytically calculate the posterior probability or numerical approximation is reliable. Better yet, we sometimes don't need to bother with this normalization! The normalization term, $P(m)$, is the probability of the measurement. This does not depend on state so is essentially a constant we can often ignore. We can compare the unnormalized posterior distribution values for different states because how they relate to each other is unchanged when divided by the same constant. We will see how to do this to compare evidence for different hypotheses tomorrow. (It's also used to compare the likelihood of models fit using maximum likelihood estimation, as you did in W1D5.)\n",
        "\n",
        "In this relatively simple example, we can compute the marginal probability $P(m)$ easily by using:\n",
        "$$P(m) = \\sum_s P(m | s) P(s)$$\n",
        "We can then normalize so that we deal with the full posterior distribution.\n"
      ]
    },
    {
      "cell_type": "markdown",
      "metadata": {
        "id": "GTNgZVJjkTb5"
      },
      "source": [
        "## Math Exercise 5: Calculating a posterior probability\n",
        "\n",
        "Our prior is $p(s = left) = 0.3$ and $p(s = right) = 0.7$. In the video, we learned that the chance of catching a fish given they fish on the same side as the school was 50%. Otherwise, it was 10%. We observe a person fishing on the left side. Our likelihood is: \n",
        "\n",
        "\n",
        "| Likelihood: p(m \\| s) | m = catch fish   | m = no fish  |\n",
        "| ----------------- |----------|----------|\n",
        "| s = left          | 0.5          | 0.5         |\n",
        "| s = right         | 0.1        |  0.9       |\n",
        "\n",
        "\n",
        "Calculate the posterior probability (on paper) that:\n",
        "\n",
        "1. The school is on the left if the fisherperson catches a fish: $p(s = left | m = catch fish)$ (hint: normalize by compute $p(m = catch fish)$)\n",
        "2. The school is on the right if the fisherperson does not catch a fish: $p(s = right | m = no fish)$"
      ]
    },
    {
      "cell_type": "markdown",
      "metadata": {
        "execution": {
          "iopub.execute_input": "2021-06-25T15:15:27.856837Z",
          "iopub.status.busy": "2021-06-25T15:15:27.855645Z",
          "iopub.status.idle": "2021-06-25T15:15:27.857534Z",
          "shell.execute_reply": "2021-06-25T15:15:27.857980Z"
        },
        "id": "MJZNcT4QkTb6"
      },
      "source": [
        "[*Click for solution*](https://github.com/NeuromatchAcademy/course-content/tree/master//tutorials/W3D1_BayesianDecisions/solutions/W3D1_Tutorial1_Solution_46a5b352.py)\n",
        "\n"
      ]
    },
    {
      "cell_type": "markdown",
      "metadata": {
        "id": "tfBB1ibwkTb6"
      },
      "source": [
        "## Coding Exercise 5: Computing Posteriors\n",
        "\n",
        "Let's implement our above math to be able to compute posteriors for different priors and likelihood.s\n",
        "\n",
        "As before, our prior is $p(s = left) = 0.3$ and $p(s = right) = 0.7$. In the video, we learned that the chance of catching a fish given they fish on the same side as the school was 50%. Otherwise, it was 10%. We observe a person fishing on the left side. Our likelihood is: \n",
        "\n",
        "\n",
        "| Likelihood: p(m \\| s) | m = catch fish   | m = no fish  |\n",
        "| ----------------- |----------|----------|\n",
        "| s = left          | 0.5          | 0.5         |\n",
        "| s = right         | 0.1        |  0.9       |\n",
        "\n",
        "\n",
        "We want our full posterior to take the same 2 by 2 form. Make sure the outputs match your math answers!\n",
        "\n"
      ]
    },
    {
      "cell_type": "code",
      "metadata": {
        "execution": {
          "iopub.execute_input": "2021-06-25T15:15:27.865944Z",
          "iopub.status.busy": "2021-06-25T15:15:27.865375Z",
          "iopub.status.idle": "2021-06-25T15:15:27.960980Z",
          "shell.execute_reply": "2021-06-25T15:15:27.961872Z"
        },
        "id": "dwcmBxmdkTb7",
        "outputId": "9079f081-ea55-4ef1-e363-c043d2542064",
        "colab": {
          "base_uri": "https://localhost:8080/",
          "height": 322
        }
      },
      "source": [
        "def compute_posterior(likelihood, prior):\n",
        "  \"\"\" Use Bayes' Rule to compute posterior from likelihood and prior\n",
        "\n",
        "  Args:\n",
        "    likelihood (ndarray): i x j array with likelihood probabilities where i is\n",
        "                    number of state options, j is number of measurement options\n",
        "    prior (ndarray): i x 1 array with prior probability of each state\n",
        "\n",
        "  Returns:\n",
        "    ndarray: i x j array with posterior probabilities where i is\n",
        "            number of state options, j is number of measurement options\n",
        "\n",
        "  \"\"\"\n",
        "\n",
        "  #################################################\n",
        "  ## TODO for students ##\n",
        "  # Fill out function and remove\n",
        "  #raise NotImplementedError(\"Student exercise: implement compute_posterior\")\n",
        "  #################################################\n",
        "\n",
        "  # Compute unnormalized posterior (likelihood times prior)\n",
        "  posterior = likelihood*prior  # first row is s = left, second row is s = right\n",
        "\n",
        "  # Compute p(m)\n",
        "  p_m = np.sum(posterior, axis = 0)\n",
        "\n",
        "  # Normalize posterior (divide elements by p_m)\n",
        "  posterior /= p_m\n",
        "\n",
        "  return posterior\n",
        "\n",
        "# Make prior\n",
        "prior = np.array([0.3, 0.7]).reshape((2, 1)) # first row is s = left, second row is s = right\n",
        "\n",
        "# Make likelihood\n",
        "likelihood = np.array([[0.5, 0.5], [0.1, 0.9]]) # first row is s = left, second row is s = right\n",
        "\n",
        "# Compute posterior\n",
        "posterior = compute_posterior(likelihood, prior)\n",
        "\n",
        "# Visualize\n",
        "with plt.xkcd():\n",
        "  plot_prior_likelihood_posterior(prior, likelihood, posterior)"
      ],
      "execution_count": 14,
      "outputs": [
        {
          "output_type": "display_data",
          "data": {
            "image/png": "[encoded data removed]",
            "text/plain": [
              "<Figure size 720x288 with 3 Axes>"
            ]
          },
          "metadata": {
            "tags": [],
            "image/png": {
              "width": 670,
              "height": 305
            }
          }
        }
      ]
    },
    {
      "cell_type": "markdown",
      "metadata": {
        "execution": {
          "iopub.execute_input": "2021-06-25T15:15:27.968291Z",
          "iopub.status.busy": "2021-06-25T15:15:27.967743Z",
          "iopub.status.idle": "2021-06-25T15:15:28.290753Z",
          "shell.execute_reply": "2021-06-25T15:15:28.290286Z"
        },
        "id": "_bUb5z1SkTb7"
      },
      "source": [
        "[*Click for solution*](https://github.com/NeuromatchAcademy/course-content/tree/master//tutorials/W3D1_BayesianDecisions/solutions/W3D1_Tutorial1_Solution_042b00b7.py)\n",
        "\n",
        "*Example output:*\n",
        "\n",
        "<img alt='Solution hint' align='left' width=669 height=314 src=https://raw.githubusercontent.com/NeuromatchAcademy/course-content/master/tutorials/W3D1_BayesianDecisions/static/W3D1_Tutorial1_Solution_042b00b7_0.png>\n",
        "\n"
      ]
    },
    {
      "cell_type": "markdown",
      "metadata": {
        "id": "czTQlIERkTb7"
      },
      "source": [
        "## Interactive Demo 5: What affects the posterior?\n",
        "\n",
        "Now that we can understand the implementation of *Bayes rule*, let's vary the parameters of the prior and likelihood to see how changing the prior and likelihood affect the posterior. \n",
        "\n",
        "In the demo below, you can change the prior by playing with the slider for $p( s = left)$. You can also change the likelihood by changing the probability of catching a fish given that the school is on the left and the probability of catching a fish given that the school is on the right. The fisherperson you are observing is fishing on the left.\n",
        " \n",
        "\n",
        "1.   Keeping the likelihood constant, when does the prior have the strongest influence over the posterior? Meaning, when does the posterior look most like the prior no matter whether a fish was caught or not?\n",
        "2.   Keeping the likelihood constant, when does the prior exert the weakest influence?  Meaning, when does the posterior look least like the prior and depend most on whether a fish was caught or not?\n",
        "3.  Set the prior probability of the state = left to 0.6 and play with the likelihood. When does the likelihood exert the most influence over the posterior?"
      ]
    },
    {
      "cell_type": "code",
      "metadata": {
        "execution": {
          "iopub.execute_input": "2021-06-25T15:15:28.333682Z",
          "iopub.status.busy": "2021-06-25T15:15:28.333070Z",
          "iopub.status.idle": "2021-06-25T15:15:28.570340Z",
          "shell.execute_reply": "2021-06-25T15:15:28.570771Z"
        },
        "cellView": "form",
        "id": "RVYa10gWkTb8",
        "outputId": "242ecea2-24de-4f62-e03a-57a09878721b",
        "colab": {
          "base_uri": "https://localhost:8080/",
          "height": 455,
          "referenced_widgets": [
            "81fabec0178b40ecabbedb86b0a40463",
            "f153519ea32446ab939a113c6b753004",
            "9256b5e8ebfc4ff091179226291959d0",
            "97e75ed06d8049cd9e1ea96c74be3518",
            "624697da75df4a3697f66e5884b518b4",
            "8ae7a6d9c31344a4bc745297439da386",
            "674b2054b5634363a70ea016870580ee",
            "27347fe75de7407b9e1afc4c25e6daf0",
            "c803798103ca431f8951aeaa335cc52c",
            "2220923e88ff4ff78535043c29c432b1",
            "079d24a404d64a18b0af170cbb17db8e",
            "d93e4783dceb4961bf054096987c4bf7",
            "dfb1694edf854ab8bb781f4639285012",
            "0e229e5e5edc4e878dc7c54e1a95c2df",
            "8e591891808644ada37f1fea12821391",
            "acffa6d36cf248cbb2d3e7625eca035a"
          ]
        }
      },
      "source": [
        "# @markdown Execute this cell to enable the widget\n",
        "style = {'description_width': 'initial'}\n",
        "ps_widget = widgets.FloatSlider(0.3, description='p(s = left)',\n",
        "                                min=0.01, max=0.99, step=0.01)\n",
        "p_a_s1_widget = widgets.FloatSlider(0.5, description='p(fish | s = left)',\n",
        "                                    min=0.01, max=0.99, step=0.01, style=style)\n",
        "p_a_s0_widget = widgets.FloatSlider(0.1, description='p(fish | s = right)',\n",
        "                                    min=0.01, max=0.99, step=0.01, style=style)\n",
        "observed_widget = widgets.Checkbox(value=False, description='Observed fish (m)',\n",
        "                                 disabled=False, indent=False, layout={'width': 'max-content'})\n",
        "\n",
        "@widgets.interact(\n",
        "    ps=ps_widget,\n",
        "    p_a_s1=p_a_s1_widget,\n",
        "    p_a_s0=p_a_s0_widget,\n",
        "    m_right=observed_widget\n",
        ")\n",
        "def make_prior_likelihood_plot(ps,p_a_s1,p_a_s0,m_right):\n",
        "    fig = plot_prior_likelihood(ps,p_a_s1,p_a_s0,m_right)\n",
        "    plt.show(fig)\n",
        "    plt.close(fig)\n",
        "    return None"
      ],
      "execution_count": 18,
      "outputs": [
        {
          "output_type": "display_data",
          "data": {
            "application/vnd.jupyter.widget-view+json": {
              "model_id": "81fabec0178b40ecabbedb86b0a40463",
              "version_minor": 0,
              "version_major": 2
            },
            "text/plain": [
              "interactive(children=(FloatSlider(value=0.3, description='p(s = left)', max=0.99, min=0.01, step=0.01), FloatS…"
            ]
          },
          "metadata": {
            "tags": []
          }
        }
      ]
    },
    {
      "cell_type": "markdown",
      "metadata": {
        "execution": {
          "iopub.execute_input": "2021-06-25T15:15:28.577224Z",
          "iopub.status.busy": "2021-06-25T15:15:28.576677Z",
          "iopub.status.idle": "2021-06-25T15:15:28.580420Z",
          "shell.execute_reply": "2021-06-25T15:15:28.579966Z"
        },
        "id": "NE4gugs1kTb8"
      },
      "source": [
        "[*Click for solution*](https://github.com/NeuromatchAcademy/course-content/tree/master//tutorials/W3D1_BayesianDecisions/solutions/W3D1_Tutorial1_Solution_a004d68d.py)\n",
        "\n"
      ]
    },
    {
      "cell_type": "markdown",
      "metadata": {
        "id": "DSDatIsVkTb9"
      },
      "source": [
        "# Section 6: Making Bayesian fishing decisions\n",
        "\n",
        "We will explore how to consider the expected utility of an action based on our belief (the posterior distribution) about where we think the fish are. Now we have all the components of a Bayesian decision: our prior information, the likelihood given a measurement, the posterior distribution (belief) and our utility (the gains and losses). This allows us to consider the relationship between the true value of the hidden state, $s$, and what we *expect* to get if we take action, $a$, based on our belief!\n",
        "\n",
        "Let's use the following widget to think about the relationship between these probability distributions and utility function."
      ]
    },
    {
      "cell_type": "markdown",
      "metadata": {
        "id": "7tLNtxmIkTb9"
      },
      "source": [
        "## Think! 6: What is more important, the probabilities or the utilities?\n",
        "\n",
        "We are now going to put everything we've learned together to gain some intuitions for how each of the elements that goes into a Bayesian decision comes together. Remember, the common assumption in neuroscience, psychology, economics, ecology, etc. is that we (humans and animals) are tying to maximize our expected utility.\n",
        "\n",
        "1. Can you find a situation where the expected utility is the same for both actions?\n",
        "2. What is more important for determining the expected utility: the prior or a new measurement (the likelihood)?\n",
        "3. Why is this a normative model?\n",
        "4. Can you think of ways in which this model would need to be extended to describe human or animal behavior?"
      ]
    },
    {
      "cell_type": "code",
      "metadata": {
        "cellView": "form",
        "execution": {
          "iopub.execute_input": "2021-06-25T15:15:28.632070Z",
          "iopub.status.busy": "2021-06-25T15:15:28.628105Z",
          "iopub.status.idle": "2021-06-25T15:15:29.020824Z",
          "shell.execute_reply": "2021-06-25T15:15:29.020317Z"
        },
        "id": "VysQfyJIkTb9",
        "outputId": "7b81ae0d-8e22-4ea5-9b7d-eb7ab983fa1d",
        "colab": {
          "base_uri": "https://localhost:8080/",
          "height": 448,
          "referenced_widgets": [
            "5511f40bac9d4721a99882997a7b801e",
            "6e47efd8f2a84e37877be1979eb32689",
            "208122b6fe354bf7a8ef2d7523eb478b",
            "7352c0db38264d62901a80110ad94d93",
            "7d9051dda7aa4da9a14daa050d6c0c13",
            "7f350ed10b684163b6e47d59cf5cff4a",
            "e4ec2f61264b4def958e6089e7c9c109",
            "e25c9c4e65cc484682a7f26667e2d7b4",
            "243aa1d9016a4d4297d5233ae3ccb03b",
            "b886252ec2fa4c498debae823fbfb2c3",
            "d3c991f81d98436c83c2969347ba401c",
            "ce487d7b97e040bfad3c0a8a3dd8487f",
            "56fd6138552f4b56920d8d04eac37026",
            "8acc0d5e441a44a4af9d483b4696dbb6",
            "147cbaeeb4f74fe996171d1d9b46cd2b",
            "ab99380bd1724b57a3c4d1f306a94043"
          ]
        }
      },
      "source": [
        "# @markdown Execute this cell to enable the widget\n",
        "style = {'description_width': 'initial'}\n",
        "ps_widget = widgets.FloatSlider(0.3, description='p(s)',\n",
        "                                min=0.01, max=0.99, step=0.01)\n",
        "p_a_s1_widget = widgets.FloatSlider(0.5, description='p(fish | s = left)',\n",
        "                                    min=0.01, max=0.99, step=0.01, style=style)\n",
        "p_a_s0_widget = widgets.FloatSlider(0.1, description='p(fish | s = right)',\n",
        "                                    min=0.01, max=0.99, step=0.01, style=style)\n",
        "observed_widget = widgets.Checkbox(value=False, description='Observed fish (m)',\n",
        "                                 disabled=False, indent=False, layout={'width': 'max-content'})\n",
        "\n",
        "@widgets.interact(\n",
        "    ps=ps_widget,\n",
        "    p_a_s1=p_a_s1_widget,\n",
        "    p_a_s0=p_a_s0_widget,\n",
        "    m_right=observed_widget\n",
        ")\n",
        "def make_prior_likelihood_utility_plot(ps, p_a_s1, p_a_s0,m_right):\n",
        "    fig = plot_prior_likelihood_utility(ps, p_a_s1, p_a_s0,m_right)\n",
        "    plt.show(fig)\n",
        "    plt.close(fig)\n",
        "    return None"
      ],
      "execution_count": 16,
      "outputs": [
        {
          "output_type": "display_data",
          "data": {
            "application/vnd.jupyter.widget-view+json": {
              "model_id": "5511f40bac9d4721a99882997a7b801e",
              "version_minor": 0,
              "version_major": 2
            },
            "text/plain": [
              "interactive(children=(FloatSlider(value=0.3, description='p(s)', max=0.99, min=0.01, step=0.01), FloatSlider(v…"
            ]
          },
          "metadata": {
            "tags": []
          }
        }
      ]
    },
    {
      "cell_type": "markdown",
      "metadata": {
        "execution": {
          "iopub.execute_input": "2021-06-25T15:15:29.026803Z",
          "iopub.status.busy": "2021-06-25T15:15:29.025580Z",
          "iopub.status.idle": "2021-06-25T15:15:29.027429Z",
          "shell.execute_reply": "2021-06-25T15:15:29.027901Z"
        },
        "id": "DgOcqE1NkTb-"
      },
      "source": [
        "[*Click for solution*](https://github.com/NeuromatchAcademy/course-content/tree/master//tutorials/W3D1_BayesianDecisions/solutions/W3D1_Tutorial1_Solution_3a230382.py)\n",
        "\n"
      ]
    },
    {
      "cell_type": "markdown",
      "metadata": {
        "id": "2JLElil6kTb-"
      },
      "source": [
        "---\n",
        "# Summary\n",
        "\n",
        "In this tutorial, you learned about combining prior information with new measurements to update your knowledge using Bayes Rulem, in the context of a fishing problem. \n",
        "\n",
        "Specifically, we covered:\n",
        "\n",
        "* That the likelihood is the probability of the measurement given some hidden state\n",
        "\n",
        "* That how the prior and likelihood interact to create the posterior, the probability of the hidden state given a measurement, depends on how they covary\n",
        "\n",
        "* That utility is the gain from each action and state pair, and the expected utility for an action is the sum of the utility for all state pairs, weighted by the probability of that state happening. You can then choose the action with highest expected utility.\n"
      ]
    },
    {
      "cell_type": "markdown",
      "metadata": {
        "id": "OdVJX3v8kTb_"
      },
      "source": [
        "---\n",
        "# Bonus"
      ]
    },
    {
      "cell_type": "markdown",
      "metadata": {
        "id": "j4sFtz6ykTb_"
      },
      "source": [
        "## Bonus Section 1: Correlation Formula\n",
        "To understand the way we calculate the correlation, we need to review the definition of covariance and correlation.\n",
        "\n",
        "Covariance:\n",
        "\n",
        "$$\n",
        "cov(X,Y) = \\sigma_{XY} = E[(X - \\mu_{x})(Y - \\mu_{y})] = E[X]E[Y] - \\mu_{x}\\mu_{y}\n",
        "$$\n",
        "\n",
        "Correlation:\n",
        "\n",
        "$$\n",
        "\\rho_{XY} = \\frac{cov(Y,Y)}{\\sqrt{V(X)V(Y)}} = \\frac{\\sigma_{XY}}{\\sigma_{X}\\sigma_{Y}}\n",
        "$$"
      ]
    }
  ]
}