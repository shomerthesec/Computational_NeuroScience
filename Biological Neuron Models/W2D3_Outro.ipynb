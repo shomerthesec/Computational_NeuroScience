{
  "nbformat": 4,
  "nbformat_minor": 0,
  "metadata": {
    "colab": {
      "name": "W2D3_Outro",
      "provenance": [],
      "collapsed_sections": [],
      "toc_visible": true
    },
    "kernel": {
      "display_name": "Python 3",
      "language": "python",
      "name": "python3"
    },
    "kernelspec": {
      "display_name": "Python 3",
      "language": "python",
      "name": "python3"
    },
    "language_info": {
      "codemirror_mode": {
        "name": "ipython",
        "version": 3
      },
      "file_extension": ".py",
      "mimetype": "text/x-python",
      "name": "python",
      "nbconvert_exporter": "python",
      "pygments_lexer": "ipython3",
      "version": "3.7.10"
    },
    "widgets": {
      "application/vnd.jupyter.widget-state+json": {
        "1c55fbe04d9540e88c50cb978496ecf4": {
          "model_module": "@jupyter-widgets/controls",
          "model_name": "TabModel",
          "state": {
            "_view_name": "TabView",
            "_dom_classes": [],
            "_titles": {
              "0": "Youtube",
              "1": "Bilibili"
            },
            "_model_name": "TabModel",
            "_view_module": "@jupyter-widgets/controls",
            "selected_index": 0,
            "_model_module_version": "1.5.0",
            "_view_count": null,
            "_view_module_version": "1.5.0",
            "box_style": "",
            "layout": "IPY_MODEL_583526dd282b448ba943523ccb567d4a",
            "_model_module": "@jupyter-widgets/controls",
            "children": [
              "IPY_MODEL_5f555a87e54f47618dfee6fe292337b2",
              "IPY_MODEL_179c0174a97b418c8eeaa581d8712985"
            ]
          }
        },
        "583526dd282b448ba943523ccb567d4a": {
          "model_module": "@jupyter-widgets/base",
          "model_name": "LayoutModel",
          "state": {
            "_view_name": "LayoutView",
            "grid_template_rows": null,
            "right": null,
            "justify_content": null,
            "_view_module": "@jupyter-widgets/base",
            "overflow": null,
            "_model_module_version": "1.2.0",
            "_view_count": null,
            "flex_flow": null,
            "width": null,
            "min_width": null,
            "border": null,
            "align_items": null,
            "bottom": null,
            "_model_module": "@jupyter-widgets/base",
            "top": null,
            "grid_column": null,
            "overflow_y": null,
            "overflow_x": null,
            "grid_auto_flow": null,
            "grid_area": null,
            "grid_template_columns": null,
            "flex": null,
            "_model_name": "LayoutModel",
            "justify_items": null,
            "grid_row": null,
            "max_height": null,
            "align_content": null,
            "visibility": null,
            "align_self": null,
            "height": null,
            "min_height": null,
            "padding": null,
            "grid_auto_rows": null,
            "grid_gap": null,
            "max_width": null,
            "order": null,
            "_view_module_version": "1.2.0",
            "grid_template_areas": null,
            "object_position": null,
            "object_fit": null,
            "grid_auto_columns": null,
            "margin": null,
            "display": null,
            "left": null
          }
        },
        "5f555a87e54f47618dfee6fe292337b2": {
          "model_module": "@jupyter-widgets/output",
          "model_name": "OutputModel",
          "state": {
            "_view_name": "OutputView",
            "msg_id": "",
            "_dom_classes": [],
            "_model_name": "OutputModel",
            "outputs": [
              {
                "output_type": "stream",
                "metadata": {
                  "tags": []
                },
                "text": "Video available at https://youtube.com/watch?v=pMxb9vA-_4U\n",
                "stream": "stdout"
              },
              {
                "output_type": "display_data",
                "metadata": {
                  "tags": []
                },
                "text/html": "\n        <iframe\n            width=\"854\"\n            height=\"480\"\n            src=\"https://www.youtube.com/embed/pMxb9vA-_4U?fs=1&rel=0\"\n            frameborder=\"0\"\n            allowfullscreen\n        ></iframe>\n        ",
                "text/plain": "<IPython.lib.display.YouTubeVideo at 0x7fd3d4ec6610>",
                "image/jpeg": "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\n"
              }
            ],
            "_view_module": "@jupyter-widgets/output",
            "_model_module_version": "1.0.0",
            "_view_count": null,
            "_view_module_version": "1.0.0",
            "layout": "IPY_MODEL_961a1378773e47b0ba4a3e8dd2e451e2",
            "_model_module": "@jupyter-widgets/output"
          }
        },
        "179c0174a97b418c8eeaa581d8712985": {
          "model_module": "@jupyter-widgets/output",
          "model_name": "OutputModel",
          "state": {
            "_view_name": "OutputView",
            "msg_id": "",
            "_dom_classes": [],
            "_model_name": "OutputModel",
            "outputs": [
              {
                "output_type": "stream",
                "metadata": {
                  "tags": []
                },
                "text": "Video available at https://www.bilibili.com/video/BV1uK411J7pF\n",
                "stream": "stdout"
              },
              {
                "output_type": "display_data",
                "metadata": {
                  "tags": []
                },
                "text/html": "\n        <iframe\n            width=\"854\"\n            height=\"480\"\n            src=\"https://player.bilibili.com/player.html?bvid=BV1uK411J7pF&page=1?fs=1\"\n            frameborder=\"0\"\n            allowfullscreen\n        ></iframe>\n        ",
                "text/plain": "<__main__.BiliVideo at 0x7fd3d9fbfc50>"
              }
            ],
            "_view_module": "@jupyter-widgets/output",
            "_model_module_version": "1.0.0",
            "_view_count": null,
            "_view_module_version": "1.0.0",
            "layout": "IPY_MODEL_9a62a1dcf565417c92c219efd3f05ff6",
            "_model_module": "@jupyter-widgets/output"
          }
        },
        "961a1378773e47b0ba4a3e8dd2e451e2": {
          "model_module": "@jupyter-widgets/base",
          "model_name": "LayoutModel",
          "state": {
            "_view_name": "LayoutView",
            "grid_template_rows": null,
            "right": null,
            "justify_content": null,
            "_view_module": "@jupyter-widgets/base",
            "overflow": null,
            "_model_module_version": "1.2.0",
            "_view_count": null,
            "flex_flow": null,
            "width": null,
            "min_width": null,
            "border": null,
            "align_items": null,
            "bottom": null,
            "_model_module": "@jupyter-widgets/base",
            "top": null,
            "grid_column": null,
            "overflow_y": null,
            "overflow_x": null,
            "grid_auto_flow": null,
            "grid_area": null,
            "grid_template_columns": null,
            "flex": null,
            "_model_name": "LayoutModel",
            "justify_items": null,
            "grid_row": null,
            "max_height": null,
            "align_content": null,
            "visibility": null,
            "align_self": null,
            "height": null,
            "min_height": null,
            "padding": null,
            "grid_auto_rows": null,
            "grid_gap": null,
            "max_width": null,
            "order": null,
            "_view_module_version": "1.2.0",
            "grid_template_areas": null,
            "object_position": null,
            "object_fit": null,
            "grid_auto_columns": null,
            "margin": null,
            "display": null,
            "left": null
          }
        },
        "9a62a1dcf565417c92c219efd3f05ff6": {
          "model_module": "@jupyter-widgets/base",
          "model_name": "LayoutModel",
          "state": {
            "_view_name": "LayoutView",
            "grid_template_rows": null,
            "right": null,
            "justify_content": null,
            "_view_module": "@jupyter-widgets/base",
            "overflow": null,
            "_model_module_version": "1.2.0",
            "_view_count": null,
            "flex_flow": null,
            "width": null,
            "min_width": null,
            "border": null,
            "align_items": null,
            "bottom": null,
            "_model_module": "@jupyter-widgets/base",
            "top": null,
            "grid_column": null,
            "overflow_y": null,
            "overflow_x": null,
            "grid_auto_flow": null,
            "grid_area": null,
            "grid_template_columns": null,
            "flex": null,
            "_model_name": "LayoutModel",
            "justify_items": null,
            "grid_row": null,
            "max_height": null,
            "align_content": null,
            "visibility": null,
            "align_self": null,
            "height": null,
            "min_height": null,
            "padding": null,
            "grid_auto_rows": null,
            "grid_gap": null,
            "max_width": null,
            "order": null,
            "_view_module_version": "1.2.0",
            "grid_template_areas": null,
            "object_position": null,
            "object_fit": null,
            "grid_auto_columns": null,
            "margin": null,
            "display": null,
            "left": null
          }
        }
      }
    }
  },
  "cells": [
    {
      "cell_type": "markdown",
      "metadata": {
        "execution": {},
        "pycharm": {
          "name": "#%% md\n"
        },
        "id": "7-CulobiJcgd"
      },
      "source": [
        "# Outro\n"
      ]
    },
    {
      "cell_type": "markdown",
      "metadata": {
        "execution": {},
        "id": "LTJ_40bCJcgj"
      },
      "source": [
        "**Our 2021 Sponsors, including Presenting Sponsor Facebook Reality Labs**\n",
        "\n",
        "<p align='center'><img src='https://github.com/NeuromatchAcademy/widgets/blob/master/sponsors.png?raw=True'/></p>"
      ]
    },
    {
      "cell_type": "markdown",
      "metadata": {
        "execution": {},
        "pycharm": {
          "name": "#%% md\n"
        },
        "id": "ujO0xfWQJcgl"
      },
      "source": [
        "## Video"
      ]
    },
    {
      "cell_type": "code",
      "metadata": {
        "cellView": "form",
        "execution": {},
        "pycharm": {
          "name": "#%%\n"
        },
        "id": "9BISiQUnJcgm",
        "outputId": "635b9453-430f-4c37-d1d8-0ef1401df94f",
        "colab": {
          "base_uri": "https://localhost:8080/",
          "height": 580,
          "referenced_widgets": [
            "1c55fbe04d9540e88c50cb978496ecf4",
            "583526dd282b448ba943523ccb567d4a",
            "5f555a87e54f47618dfee6fe292337b2",
            "179c0174a97b418c8eeaa581d8712985",
            "961a1378773e47b0ba4a3e8dd2e451e2",
            "9a62a1dcf565417c92c219efd3f05ff6"
          ]
        }
      },
      "source": [
        "# @markdown\n",
        "from ipywidgets import widgets\n",
        "\n",
        "out2 = widgets.Output()\n",
        "with out2:\n",
        "  from IPython.display import IFrame\n",
        "  class BiliVideo(IFrame):\n",
        "      def __init__(self, id, page=1, width=400, height=300, **kwargs):\n",
        "          self.id=id\n",
        "          src = \"https://player.bilibili.com/player.html?bvid={0}&page={1}\".format(id, page)\n",
        "          super(BiliVideo, self).__init__(src, width, height, **kwargs)\n",
        "\n",
        "  video = BiliVideo(id=f\"BV1uK411J7pF\", width=854, height=480, fs=1)\n",
        "  print(\"Video available at https://www.bilibili.com/video/{0}\".format(video.id))\n",
        "  display(video)\n",
        "\n",
        "out1 = widgets.Output()\n",
        "with out1:\n",
        "  from IPython.display import YouTubeVideo\n",
        "  video = YouTubeVideo(id=f\"pMxb9vA-_4U\", width=854, height=480, fs=1, rel=0)\n",
        "  print(\"Video available at https://youtube.com/watch?v=\" + video.id)\n",
        "  display(video)\n",
        "\n",
        "out = widgets.Tab([out1, out2])\n",
        "out.set_title(0, 'Youtube')\n",
        "out.set_title(1, 'Bilibili')\n",
        "\n",
        "display(out)"
      ],
      "execution_count": 1,
      "outputs": [
        {
          "output_type": "display_data",
          "data": {
            "application/vnd.jupyter.widget-view+json": {
              "model_id": "1c55fbe04d9540e88c50cb978496ecf4",
              "version_minor": 0,
              "version_major": 2
            },
            "text/plain": [
              "Tab(children=(Output(), Output()), _titles={'0': 'Youtube', '1': 'Bilibili'})"
            ]
          },
          "metadata": {
            "tags": []
          }
        }
      ]
    },
    {
      "cell_type": "markdown",
      "metadata": {
        "execution": {},
        "id": "F-pH1PMWJcgo"
      },
      "source": [
        "## Daily survey\n",
        "\n",
        "Don't forget to complete your reflections and content check in the daily survey! Please be patient after logging in as there is\n",
        "a small delay before you will be redirected to the survey.\n",
        "\n",
        "<a href=\"https://portal.neuromatchacademy.org/api/redirect/to/d1e14fac-f6f5-4383-8c5a-4b6f43355188\"><img src=\"https://github.com/NeuromatchAcademy/course-content/blob/master/tutorials/static/button.png?raw=1\" alt=\"button link to survey\" style=\"width:410px\"></a>"
      ]
    },
    {
      "cell_type": "markdown",
      "metadata": {
        "execution": {},
        "pycharm": {
          "name": "#%% md\n"
        },
        "id": "JAk5WF0TJcgp"
      },
      "source": [
        "## Slides"
      ]
    },
    {
      "cell_type": "code",
      "metadata": {
        "cellView": "form",
        "execution": {},
        "pycharm": {
          "name": "#%%\n"
        },
        "id": "Z2IZuCmgJcgq",
        "outputId": "ca8c937d-ba2d-4795-be22-7476279a3eae",
        "colab": {
          "base_uri": "https://localhost:8080/",
          "height": 500
        }
      },
      "source": [
        "# @markdown\n",
        "from IPython.display import IFrame\n",
        "IFrame(src=f\"https://mfr.ca-1.osf.io/render?url=https://osf.io/agpmt/?direct%26mode=render%26action=download%26mode=render\", width=854, height=480)"
      ],
      "execution_count": 2,
      "outputs": [
        {
          "output_type": "execute_result",
          "data": {
            "text/html": [
              "\n",
              "        <iframe\n",
              "            width=\"854\"\n",
              "            height=\"480\"\n",
              "            src=\"https://mfr.ca-1.osf.io/render?url=https://osf.io/agpmt/?direct%26mode=render%26action=download%26mode=render\"\n",
              "            frameborder=\"0\"\n",
              "            allowfullscreen\n",
              "        ></iframe>\n",
              "        "
            ],
            "text/plain": [
              "<IPython.lib.display.IFrame at 0x7fd3d4ebbd50>"
            ]
          },
          "metadata": {
            "tags": []
          },
          "execution_count": 2
        }
      ]
    }
  ]
}